{
 "cells": [
  {
   "cell_type": "markdown",
   "source": [
    "# NLP Project - EFR in English conversations\n",
    "\n",
    "You can find the ppt with details and requirements of the project <a href=\"https://docs.google.com/presentation/d/1TTN1H3GdnaswGXW63SuSvD4CsI7HB9lkYuwXRMQp2ks/edit?usp=sharing\"> here</a>. The ppt is equivalent to the <a href=\"https://virtuale.unibo.it/mod/page/view.php?id=1405067\"> FAQ page</a>\n",
    "\n",
    "You can find the official webpage of the challenge <a href=\"https://lcs2.in/SemEval2024-EDiReF/\"> here</a>"
   ],
   "metadata": {
    "collapsed": false
   },
   "id": "85bc3873332d289a"
  },
  {
   "cell_type": "markdown",
   "source": [
    "**EFR: Given a dialogue, EFR aims to identify the trigger utterance(s) for an emotion-flip in a multi-party conversation dialogue.** \n",
    "\n",
    "For example: \n",
    "<center>\n",
    "    <img src=\"./images/example_EFR.jpeg\" alt=\"EFR\" />\n",
    "</center>"
   ],
   "metadata": {
    "collapsed": false
   },
   "id": "8c1385f3bde50c1e"
  },
  {
   "cell_type": "code",
   "outputs": [
    {
     "name": "stdout",
     "output_type": "stream",
     "text": [
      "The autoreload extension is already loaded. To reload it, use:\n",
      "  %reload_ext autoreload\n"
     ]
    }
   ],
   "source": [
    "import numpy as np\n",
    "%load_ext autoreload\n",
    "%autoreload 2\n",
    "\n",
    "import pandas as pd\n",
    "import numpy\n",
    "import os\n",
    "import torch\n",
    "from sys import platform\n",
    "from utilities import *\n",
    "\n",
    "from models.randomClassifier import RandomClassifier\n",
    "from models.majorityClassifier import MajorityClassifier\n",
    "\n",
    "from DrTorch.metrics import F1_Score_Multi_Labels\n",
    "from models.bertFull import BertFull\n"
   ],
   "metadata": {
    "collapsed": false,
    "ExecuteTime": {
     "end_time": "2024-02-22T15:15:03.168902200Z",
     "start_time": "2024-02-22T15:15:03.068962700Z"
    }
   },
   "id": "2ece32ffd62b0215",
   "execution_count": 26
  },
  {
   "cell_type": "markdown",
   "source": [
    "## Setting the device"
   ],
   "metadata": {
    "collapsed": false
   },
   "id": "34d937b7e13fb772"
  },
  {
   "cell_type": "code",
   "outputs": [
    {
     "name": "stdout",
     "output_type": "stream",
     "text": [
      "PyTorch version: 2.2.0+cu121\n",
      "Using device: cuda\n"
     ]
    }
   ],
   "source": [
    "print(f\"PyTorch version: {torch.__version__}\")\n",
    "\n",
    "if platform == \"darwin\":    #Run on macOS\n",
    "    \n",
    "    print(f\"Is MPS (Metal Performance Shader) built? {torch.backends.mps.is_built()}\")\n",
    "    print(f\"Is MPS available? {torch.backends.mps.is_available()}\")\n",
    "    device = \"mps\" if torch.backends.mps.is_available() else \"cpu\"    \n",
    "else:\n",
    "    device = torch.device('cuda' if torch.cuda.is_available() else 'cpu') \n",
    "\n",
    "print(f\"Using device: {device}\")\n"
   ],
   "metadata": {
    "collapsed": false,
    "ExecuteTime": {
     "end_time": "2024-02-22T15:15:05.184553100Z",
     "start_time": "2024-02-22T15:15:05.079945200Z"
    }
   },
   "id": "78a08b1656d020fe",
   "execution_count": 27
  },
  {
   "cell_type": "code",
   "outputs": [
    {
     "name": "stdout",
     "output_type": "stream",
     "text": [
      "Thu Feb 22 16:15:06 2024       \n",
      "+---------------------------------------------------------------------------------------+\n",
      "| NVIDIA-SMI 537.70                 Driver Version: 537.70       CUDA Version: 12.2     |\n",
      "|-----------------------------------------+----------------------+----------------------+\n",
      "| GPU  Name                     TCC/WDDM  | Bus-Id        Disp.A | Volatile Uncorr. ECC |\n",
      "| Fan  Temp   Perf          Pwr:Usage/Cap |         Memory-Usage | GPU-Util  Compute M. |\n",
      "|                                         |                      |               MIG M. |\n",
      "|=========================================+======================+======================|\n",
      "|   0  NVIDIA GeForce RTX 4060 ...  WDDM  | 00000000:01:00.0  On |                  N/A |\n",
      "| N/A   44C    P8               4W /  75W |    405MiB /  8188MiB |      3%      Default |\n",
      "|                                         |                      |                  N/A |\n",
      "+-----------------------------------------+----------------------+----------------------+\n",
      "                                                                                         \n",
      "+---------------------------------------------------------------------------------------+\n",
      "| Processes:                                                                            |\n",
      "|  GPU   GI   CI        PID   Type   Process name                            GPU Memory |\n",
      "|        ID   ID                                                             Usage      |\n",
      "|=======================================================================================|\n",
      "|    0   N/A  N/A      9760    C+G   ...werToys\\PowerToys.ColorPickerUI.exe    N/A      |\n",
      "|    0   N/A  N/A     26880    C+G   ...werToys\\PowerToys.PowerLauncher.exe    N/A      |\n",
      "|    0   N/A  N/A     28868    C+G   ...inaries\\Win64\\EpicGamesLauncher.exe    N/A      |\n",
      "|    0   N/A  N/A     36520    C+G   ...070_x64__8wekyb3d8bbwe\\ms-teams.exe    N/A      |\n",
      "|    0   N/A  N/A     37704    C+G   ...ft Office\\root\\Office16\\ONENOTE.EXE    N/A      |\n",
      "+---------------------------------------------------------------------------------------+\n"
     ]
    }
   ],
   "source": [
    "if device != 'mps':\n",
    "    !nvidia-smi\n"
   ],
   "metadata": {
    "collapsed": false,
    "ExecuteTime": {
     "end_time": "2024-02-22T15:15:06.983137300Z",
     "start_time": "2024-02-22T15:15:06.719512400Z"
    }
   },
   "id": "67a906779c9ec397",
   "execution_count": 28
  },
  {
   "cell_type": "markdown",
   "source": [
    "## Defining flags and variables"
   ],
   "metadata": {
    "collapsed": false
   },
   "id": "f5fa2f7278bc9000"
  },
  {
   "cell_type": "code",
   "outputs": [],
   "source": [
    "DATA_DIRECTORY = 'Data'             # Directory containing the dataset\n",
    "DATASET = 'MELD_efr.json'           # Name of dataset file\n",
    "\n",
    "BERT_DIRECTORY = \"local-bert\"\n",
    "\n",
    "DATASET_PATH = os.path.join(DATA_DIRECTORY, DATASET)    # Path of dataset in JSON format \n"
   ],
   "metadata": {
    "collapsed": false,
    "ExecuteTime": {
     "end_time": "2024-02-22T15:15:08.979279400Z",
     "start_time": "2024-02-22T15:15:08.877082Z"
    }
   },
   "id": "335f829731d15ffd",
   "execution_count": 29
  },
  {
   "cell_type": "markdown",
   "source": [
    "## Dataset Creation and Exploration"
   ],
   "metadata": {
    "collapsed": false
   },
   "id": "94ef05c4366b7e6a"
  },
  {
   "cell_type": "code",
   "outputs": [
    {
     "data": {
      "text/plain": "                                                         speakers  \\\nepisode                                                             \nutterance_0     [Chandler, The Interviewer, Chandler, The Inte...   \nutterance_1     [Chandler, The Interviewer, Chandler, The Inte...   \nutterance_2     [Chandler, The Interviewer, Chandler, The Inte...   \nutterance_3     [Chandler, The Interviewer, Chandler, The Inte...   \nutterance_4                          [Joey, Rachel, Joey, Rachel]   \n...                                                           ...   \nutterance_3995  [Chandler, All, Monica, Chandler, Ross, Chandl...   \nutterance_3996  [Chandler, All, Monica, Chandler, Ross, Chandl...   \nutterance_3997  [Chandler, All, Monica, Chandler, Ross, Chandl...   \nutterance_3998  [Chandler, All, Monica, Chandler, Ross, Chandl...   \nutterance_3999  [Chandler, All, Monica, Chandler, Ross, Chandl...   \n\n                                                         emotions  \\\nepisode                                                             \nutterance_0        [neutral, neutral, neutral, neutral, surprise]   \nutterance_1     [neutral, neutral, neutral, neutral, surprise,...   \nutterance_2     [neutral, neutral, neutral, neutral, surprise,...   \nutterance_3     [neutral, neutral, neutral, neutral, surprise,...   \nutterance_4                   [surprise, sadness, surprise, fear]   \n...                                                           ...   \nutterance_3995  [neutral, joy, neutral, neutral, surprise, dis...   \nutterance_3996  [neutral, joy, neutral, neutral, surprise, dis...   \nutterance_3997  [neutral, joy, neutral, neutral, surprise, dis...   \nutterance_3998  [neutral, joy, neutral, neutral, surprise, dis...   \nutterance_3999  [neutral, joy, neutral, neutral, surprise, dis...   \n\n                                                       utterances  \\\nepisode                                                             \nutterance_0     [also I was the point person on my company's t...   \nutterance_1     [also I was the point person on my company's t...   \nutterance_2     [also I was the point person on my company's t...   \nutterance_3     [also I was the point person on my company's t...   \nutterance_4     [But then who? The waitress I went out with la...   \n...                                                           ...   \nutterance_3995  [Hey., Hey!, So how was Joan?, I broke up with...   \nutterance_3996  [Hey., Hey!, So how was Joan?, I broke up with...   \nutterance_3997  [Hey., Hey!, So how was Joan?, I broke up with...   \nutterance_3998  [Hey., Hey!, So how was Joan?, I broke up with...   \nutterance_3999  [Hey., Hey!, So how was Joan?, I broke up with...   \n\n                                                         triggers  \nepisode                                                            \nutterance_0                             [0.0, 0.0, 0.0, 1.0, 0.0]  \nutterance_1                   [0.0, 0.0, 0.0, 0.0, 0.0, 1.0, 0.0]  \nutterance_2     [0.0, 0.0, 0.0, 0.0, 0.0, 0.0, 0.0, 1.0, 0.0, ...  \nutterance_3     [0.0, 0.0, 0.0, 0.0, 0.0, 0.0, 0.0, 0.0, 0.0, ...  \nutterance_4                                  [0.0, 0.0, 1.0, 0.0]  \n...                                                           ...  \nutterance_3995  [0.0, 0.0, 0.0, 0.0, 0.0, 0.0, 0.0, 0.0, 0.0, ...  \nutterance_3996  [0.0, 0.0, 0.0, 0.0, 0.0, 0.0, 0.0, 0.0, 0.0, ...  \nutterance_3997  [0.0, 0.0, 0.0, 0.0, 0.0, 0.0, 0.0, 0.0, 0.0, ...  \nutterance_3998  [0.0, 0.0, 0.0, 0.0, 0.0, 0.0, 0.0, 0.0, 0.0, ...  \nutterance_3999  [0.0, 0.0, 0.0, 0.0, 0.0, 0.0, 0.0, 0.0, 0.0, ...  \n\n[4000 rows x 4 columns]",
      "text/html": "<div>\n<style scoped>\n    .dataframe tbody tr th:only-of-type {\n        vertical-align: middle;\n    }\n\n    .dataframe tbody tr th {\n        vertical-align: top;\n    }\n\n    .dataframe thead th {\n        text-align: right;\n    }\n</style>\n<table border=\"1\" class=\"dataframe\">\n  <thead>\n    <tr style=\"text-align: right;\">\n      <th></th>\n      <th>speakers</th>\n      <th>emotions</th>\n      <th>utterances</th>\n      <th>triggers</th>\n    </tr>\n    <tr>\n      <th>episode</th>\n      <th></th>\n      <th></th>\n      <th></th>\n      <th></th>\n    </tr>\n  </thead>\n  <tbody>\n    <tr>\n      <th>utterance_0</th>\n      <td>[Chandler, The Interviewer, Chandler, The Inte...</td>\n      <td>[neutral, neutral, neutral, neutral, surprise]</td>\n      <td>[also I was the point person on my company's t...</td>\n      <td>[0.0, 0.0, 0.0, 1.0, 0.0]</td>\n    </tr>\n    <tr>\n      <th>utterance_1</th>\n      <td>[Chandler, The Interviewer, Chandler, The Inte...</td>\n      <td>[neutral, neutral, neutral, neutral, surprise,...</td>\n      <td>[also I was the point person on my company's t...</td>\n      <td>[0.0, 0.0, 0.0, 0.0, 0.0, 1.0, 0.0]</td>\n    </tr>\n    <tr>\n      <th>utterance_2</th>\n      <td>[Chandler, The Interviewer, Chandler, The Inte...</td>\n      <td>[neutral, neutral, neutral, neutral, surprise,...</td>\n      <td>[also I was the point person on my company's t...</td>\n      <td>[0.0, 0.0, 0.0, 0.0, 0.0, 0.0, 0.0, 1.0, 0.0, ...</td>\n    </tr>\n    <tr>\n      <th>utterance_3</th>\n      <td>[Chandler, The Interviewer, Chandler, The Inte...</td>\n      <td>[neutral, neutral, neutral, neutral, surprise,...</td>\n      <td>[also I was the point person on my company's t...</td>\n      <td>[0.0, 0.0, 0.0, 0.0, 0.0, 0.0, 0.0, 0.0, 0.0, ...</td>\n    </tr>\n    <tr>\n      <th>utterance_4</th>\n      <td>[Joey, Rachel, Joey, Rachel]</td>\n      <td>[surprise, sadness, surprise, fear]</td>\n      <td>[But then who? The waitress I went out with la...</td>\n      <td>[0.0, 0.0, 1.0, 0.0]</td>\n    </tr>\n    <tr>\n      <th>...</th>\n      <td>...</td>\n      <td>...</td>\n      <td>...</td>\n      <td>...</td>\n    </tr>\n    <tr>\n      <th>utterance_3995</th>\n      <td>[Chandler, All, Monica, Chandler, Ross, Chandl...</td>\n      <td>[neutral, joy, neutral, neutral, surprise, dis...</td>\n      <td>[Hey., Hey!, So how was Joan?, I broke up with...</td>\n      <td>[0.0, 0.0, 0.0, 0.0, 0.0, 0.0, 0.0, 0.0, 0.0, ...</td>\n    </tr>\n    <tr>\n      <th>utterance_3996</th>\n      <td>[Chandler, All, Monica, Chandler, Ross, Chandl...</td>\n      <td>[neutral, joy, neutral, neutral, surprise, dis...</td>\n      <td>[Hey., Hey!, So how was Joan?, I broke up with...</td>\n      <td>[0.0, 0.0, 0.0, 0.0, 0.0, 0.0, 0.0, 0.0, 0.0, ...</td>\n    </tr>\n    <tr>\n      <th>utterance_3997</th>\n      <td>[Chandler, All, Monica, Chandler, Ross, Chandl...</td>\n      <td>[neutral, joy, neutral, neutral, surprise, dis...</td>\n      <td>[Hey., Hey!, So how was Joan?, I broke up with...</td>\n      <td>[0.0, 0.0, 0.0, 0.0, 0.0, 0.0, 0.0, 0.0, 0.0, ...</td>\n    </tr>\n    <tr>\n      <th>utterance_3998</th>\n      <td>[Chandler, All, Monica, Chandler, Ross, Chandl...</td>\n      <td>[neutral, joy, neutral, neutral, surprise, dis...</td>\n      <td>[Hey., Hey!, So how was Joan?, I broke up with...</td>\n      <td>[0.0, 0.0, 0.0, 0.0, 0.0, 0.0, 0.0, 0.0, 0.0, ...</td>\n    </tr>\n    <tr>\n      <th>utterance_3999</th>\n      <td>[Chandler, All, Monica, Chandler, Ross, Chandl...</td>\n      <td>[neutral, joy, neutral, neutral, surprise, dis...</td>\n      <td>[Hey., Hey!, So how was Joan?, I broke up with...</td>\n      <td>[0.0, 0.0, 0.0, 0.0, 0.0, 0.0, 0.0, 0.0, 0.0, ...</td>\n    </tr>\n  </tbody>\n</table>\n<p>4000 rows × 4 columns</p>\n</div>"
     },
     "execution_count": 30,
     "metadata": {},
     "output_type": "execute_result"
    }
   ],
   "source": [
    "df = pd.read_json(DATASET_PATH)\n",
    "df.set_index(\"episode\", inplace=True)\n",
    "\n",
    "df\n"
   ],
   "metadata": {
    "collapsed": false,
    "ExecuteTime": {
     "end_time": "2024-02-22T15:15:10.623233700Z",
     "start_time": "2024-02-22T15:15:10.471640500Z"
    }
   },
   "id": "204c1960d2293b56",
   "execution_count": 30
  },
  {
   "cell_type": "markdown",
   "source": [
    "### Taking a look to same utterance example"
   ],
   "metadata": {
    "collapsed": false
   },
   "id": "27e0c6c3c48c869"
  },
  {
   "cell_type": "code",
   "execution_count": 31,
   "outputs": [
    {
     "name": "stdout",
     "output_type": "stream",
     "text": [
      "Utterance 6\n"
     ]
    },
    {
     "data": {
      "text/plain": "  speakers  emotions                                         utterances  \\\n0     Joey  surprise  But then who? The waitress I went out with las...   \n1   Rachel   sadness                               You know? Forget it!   \n2     Joey  surprise  No-no-no-no, no! Who, who were you talking about?   \n3   Rachel      fear           No, I-I-I-I don't, I actually don't know   \n4     Joey   neutral                                                Ok!   \n5     Joey   neutral                                 All right, well...   \n6   Rachel   neutral                                        Yeah, sure!   \n\n  triggers  \n0      0.0  \n1      0.0  \n2      0.0  \n3      0.0  \n4      1.0  \n5      1.0  \n6      0.0  ",
      "text/html": "<div>\n<style scoped>\n    .dataframe tbody tr th:only-of-type {\n        vertical-align: middle;\n    }\n\n    .dataframe tbody tr th {\n        vertical-align: top;\n    }\n\n    .dataframe thead th {\n        text-align: right;\n    }\n</style>\n<table border=\"1\" class=\"dataframe\">\n  <thead>\n    <tr style=\"text-align: right;\">\n      <th></th>\n      <th>speakers</th>\n      <th>emotions</th>\n      <th>utterances</th>\n      <th>triggers</th>\n    </tr>\n  </thead>\n  <tbody>\n    <tr>\n      <th>0</th>\n      <td>Joey</td>\n      <td>surprise</td>\n      <td>But then who? The waitress I went out with las...</td>\n      <td>0.0</td>\n    </tr>\n    <tr>\n      <th>1</th>\n      <td>Rachel</td>\n      <td>sadness</td>\n      <td>You know? Forget it!</td>\n      <td>0.0</td>\n    </tr>\n    <tr>\n      <th>2</th>\n      <td>Joey</td>\n      <td>surprise</td>\n      <td>No-no-no-no, no! Who, who were you talking about?</td>\n      <td>0.0</td>\n    </tr>\n    <tr>\n      <th>3</th>\n      <td>Rachel</td>\n      <td>fear</td>\n      <td>No, I-I-I-I don't, I actually don't know</td>\n      <td>0.0</td>\n    </tr>\n    <tr>\n      <th>4</th>\n      <td>Joey</td>\n      <td>neutral</td>\n      <td>Ok!</td>\n      <td>1.0</td>\n    </tr>\n    <tr>\n      <th>5</th>\n      <td>Joey</td>\n      <td>neutral</td>\n      <td>All right, well...</td>\n      <td>1.0</td>\n    </tr>\n    <tr>\n      <th>6</th>\n      <td>Rachel</td>\n      <td>neutral</td>\n      <td>Yeah, sure!</td>\n      <td>0.0</td>\n    </tr>\n  </tbody>\n</table>\n</div>"
     },
     "metadata": {},
     "output_type": "display_data"
    },
    {
     "name": "stdout",
     "output_type": "stream",
     "text": [
      "\n",
      "Utterance 456\n"
     ]
    },
    {
     "data": {
      "text/plain": "       speakers  emotions                                         utterances  \\\n0          Kate       joy                             Become a drama critic!   \n1  The Director   sadness          I am hurt!  A plague on both your houses!   \n2          Kate   sadness  By the way, he dumped me tonight after he read...   \n3          Joey   disgust                                        Oh, classy.   \n4          Kate   sadness  Yep! I sure know how to pick em, huh? Y'know ...   \n5          Joey     anger               Wow! Yeah I ah, I gave up a job too.   \n6          Kate  surprise                                      Really. What?   \n7          Joey     anger                               Uh, de-clawing cats.   \n8          Joey   neutral                                 Hey, tell ya what.   \n\n  triggers  \n0      0.0  \n1      0.0  \n2      0.0  \n3      0.0  \n4      0.0  \n5      0.0  \n6      0.0  \n7      0.0  \n8      0.0  ",
      "text/html": "<div>\n<style scoped>\n    .dataframe tbody tr th:only-of-type {\n        vertical-align: middle;\n    }\n\n    .dataframe tbody tr th {\n        vertical-align: top;\n    }\n\n    .dataframe thead th {\n        text-align: right;\n    }\n</style>\n<table border=\"1\" class=\"dataframe\">\n  <thead>\n    <tr style=\"text-align: right;\">\n      <th></th>\n      <th>speakers</th>\n      <th>emotions</th>\n      <th>utterances</th>\n      <th>triggers</th>\n    </tr>\n  </thead>\n  <tbody>\n    <tr>\n      <th>0</th>\n      <td>Kate</td>\n      <td>joy</td>\n      <td>Become a drama critic!</td>\n      <td>0.0</td>\n    </tr>\n    <tr>\n      <th>1</th>\n      <td>The Director</td>\n      <td>sadness</td>\n      <td>I am hurt!  A plague on both your houses!</td>\n      <td>0.0</td>\n    </tr>\n    <tr>\n      <th>2</th>\n      <td>Kate</td>\n      <td>sadness</td>\n      <td>By the way, he dumped me tonight after he read...</td>\n      <td>0.0</td>\n    </tr>\n    <tr>\n      <th>3</th>\n      <td>Joey</td>\n      <td>disgust</td>\n      <td>Oh, classy.</td>\n      <td>0.0</td>\n    </tr>\n    <tr>\n      <th>4</th>\n      <td>Kate</td>\n      <td>sadness</td>\n      <td>Yep! I sure know how to pick em, huh? Y'know ...</td>\n      <td>0.0</td>\n    </tr>\n    <tr>\n      <th>5</th>\n      <td>Joey</td>\n      <td>anger</td>\n      <td>Wow! Yeah I ah, I gave up a job too.</td>\n      <td>0.0</td>\n    </tr>\n    <tr>\n      <th>6</th>\n      <td>Kate</td>\n      <td>surprise</td>\n      <td>Really. What?</td>\n      <td>0.0</td>\n    </tr>\n    <tr>\n      <th>7</th>\n      <td>Joey</td>\n      <td>anger</td>\n      <td>Uh, de-clawing cats.</td>\n      <td>0.0</td>\n    </tr>\n    <tr>\n      <th>8</th>\n      <td>Joey</td>\n      <td>neutral</td>\n      <td>Hey, tell ya what.</td>\n      <td>0.0</td>\n    </tr>\n  </tbody>\n</table>\n</div>"
     },
     "metadata": {},
     "output_type": "display_data"
    },
    {
     "name": "stdout",
     "output_type": "stream",
     "text": [
      "\n",
      "Utterance 2005\n"
     ]
    },
    {
     "data": {
      "text/plain": "   speakers  emotions                                         utterances  \\\n0  Chandler   neutral                              Where you going, Joe?   \n1      Joey   neutral                                        For a walk.   \n2  Chandler   neutral                        Oh. You mind if I join you?   \n3      Joey   neutral  Actually, that will be long. You know, I reall...   \n4  Chandler  surprise                             Your thoughts? Plural?   \n5      Joey       joy  Allright, fine, I only have one thought! It's ...   \n\n  triggers  \n0      0.0  \n1      0.0  \n2      0.0  \n3      0.0  \n4      1.0  \n5      1.0  ",
      "text/html": "<div>\n<style scoped>\n    .dataframe tbody tr th:only-of-type {\n        vertical-align: middle;\n    }\n\n    .dataframe tbody tr th {\n        vertical-align: top;\n    }\n\n    .dataframe thead th {\n        text-align: right;\n    }\n</style>\n<table border=\"1\" class=\"dataframe\">\n  <thead>\n    <tr style=\"text-align: right;\">\n      <th></th>\n      <th>speakers</th>\n      <th>emotions</th>\n      <th>utterances</th>\n      <th>triggers</th>\n    </tr>\n  </thead>\n  <tbody>\n    <tr>\n      <th>0</th>\n      <td>Chandler</td>\n      <td>neutral</td>\n      <td>Where you going, Joe?</td>\n      <td>0.0</td>\n    </tr>\n    <tr>\n      <th>1</th>\n      <td>Joey</td>\n      <td>neutral</td>\n      <td>For a walk.</td>\n      <td>0.0</td>\n    </tr>\n    <tr>\n      <th>2</th>\n      <td>Chandler</td>\n      <td>neutral</td>\n      <td>Oh. You mind if I join you?</td>\n      <td>0.0</td>\n    </tr>\n    <tr>\n      <th>3</th>\n      <td>Joey</td>\n      <td>neutral</td>\n      <td>Actually, that will be long. You know, I reall...</td>\n      <td>0.0</td>\n    </tr>\n    <tr>\n      <th>4</th>\n      <td>Chandler</td>\n      <td>surprise</td>\n      <td>Your thoughts? Plural?</td>\n      <td>1.0</td>\n    </tr>\n    <tr>\n      <th>5</th>\n      <td>Joey</td>\n      <td>joy</td>\n      <td>Allright, fine, I only have one thought! It's ...</td>\n      <td>1.0</td>\n    </tr>\n  </tbody>\n</table>\n</div>"
     },
     "metadata": {},
     "output_type": "display_data"
    },
    {
     "name": "stdout",
     "output_type": "stream",
     "text": []
    }
   ],
   "source": [
    "display_utterance(dataframe=df, utterance_id='utterance_6')\n",
    "display_utterance(dataframe=df, utterance_id='utterance_456')\n",
    "display_utterance(dataframe=df, utterance_id='utterance_2005')\n"
   ],
   "metadata": {
    "collapsed": false,
    "ExecuteTime": {
     "end_time": "2024-02-22T15:15:12.366450800Z",
     "start_time": "2024-02-22T15:15:12.207573400Z"
    }
   },
   "id": "621ea6ad4b24d43c"
  },
  {
   "cell_type": "markdown",
   "source": [
    "### Removing NaN Values"
   ],
   "metadata": {
    "collapsed": false
   },
   "id": "4d423123f1890bb6"
  },
  {
   "cell_type": "code",
   "outputs": [
    {
     "name": "stdout",
     "output_type": "stream",
     "text": [
      "Before: 9 NaN values\n",
      "After: 0 NaN values\n"
     ]
    }
   ],
   "source": [
    "# removing NaN values\n",
    "nan_count_before = df[\"triggers\"].apply(lambda lst: sum(pd.isna(x) for x in lst)).sum()\n",
    "df['triggers'] = df['triggers'].apply(replace_nan_with_zero)\n",
    "nan_count_after = df[\"triggers\"].apply(lambda lst: sum(pd.isna(x) for x in lst)).sum()\n",
    "\n",
    "print(f\"Before: {nan_count_before} NaN values\")\n",
    "print(f\"After: {nan_count_after} NaN values\")\n"
   ],
   "metadata": {
    "collapsed": false,
    "ExecuteTime": {
     "end_time": "2024-02-22T15:15:14.806633500Z",
     "start_time": "2024-02-22T15:15:14.659336900Z"
    }
   },
   "id": "faa3e0927a81e07",
   "execution_count": 32
  },
  {
   "cell_type": "markdown",
   "source": [
    "### Analyzing the dataset"
   ],
   "metadata": {
    "collapsed": false
   },
   "id": "5af4d01b821c8f96"
  },
  {
   "cell_type": "markdown",
   "source": [],
   "metadata": {
    "collapsed": false
   },
   "id": "474eaf8aef6257ee"
  },
  {
   "cell_type": "code",
   "execution_count": 33,
   "outputs": [
    {
     "name": "stdout",
     "output_type": "stream",
     "text": [
      "Number of unique speakers: 231\n",
      "\n",
      "Minimum number of speakers in an utterance: 1\n",
      "Maximum number of speakers in an utterance: 8\n",
      "\n",
      "Minimum number of sentences in an utterance: 2\n",
      "Maximum number of sentences in an utterance: 24\n"
     ]
    }
   ],
   "source": [
    "total_n_speakers = list(set(df['speakers'].explode()))\n",
    "speakers = {'min_speakers': 'inf', 'max_speakers': '-inf'}\n",
    "utterances = {'length_min': 'inf', 'length_max': '-inf'}\n",
    "\n",
    "num_unique_speakers = df['speakers'].apply(lambda x: len(set(x)))\n",
    "speakers['min_speakers'] = num_unique_speakers.min()\n",
    "speakers['max_speakers'] = num_unique_speakers.max()\n",
    "\n",
    "len_utterances = df['utterances'].str.len() \n",
    "utterances['length_min'] = len_utterances.min()\n",
    "utterances['length_max'] = len_utterances.max()\n",
    "    \n",
    "        \n",
    "print(f\"Number of unique speakers: {len(total_n_speakers)}\\n\")\n",
    "print(f\"Minimum number of speakers in an utterance: {speakers['min_speakers']}\")\n",
    "print(f\"Maximum number of speakers in an utterance: {speakers['max_speakers']}\\n\")\n",
    "print(f\"Minimum number of sentences in an utterance: {utterances['length_min']}\")\n",
    "print(f\"Maximum number of sentences in an utterance: {utterances['length_max']}\")\n"
   ],
   "metadata": {
    "collapsed": false,
    "ExecuteTime": {
     "end_time": "2024-02-22T15:15:16.323589100Z",
     "start_time": "2024-02-22T15:15:16.207383800Z"
    }
   },
   "id": "32ab77d01de505f2"
  },
  {
   "cell_type": "code",
   "outputs": [
    {
     "data": {
      "text/plain": "emotions            anger  disgust  fear   joy  neutral  sadness  surprise\nspeakers                                                                  \nJoey                  661      149   143  1045     2418      309       841\nRoss                  541       72   180   967     2280      429       568\nChandler              553      193   203   715     2157      287       560\nRachel                539      146   178   929     1907      566       756\nPhoebe                612      117   104   770     1906      409       556\n...                   ...      ...   ...   ...      ...      ...       ...\nAnother Tour Guide      4        0     0     0        0        0         0\nBoy in the Cape         1        0     0     0        0        0         0\nMonica and Phoebe       1        0     0     0        0        0         0\nPeter                   1        0     0     0        0        0         0\nRaymond                 1        0     0     0        0        0         0\n\n[231 rows x 7 columns]",
      "text/html": "<div>\n<style scoped>\n    .dataframe tbody tr th:only-of-type {\n        vertical-align: middle;\n    }\n\n    .dataframe tbody tr th {\n        vertical-align: top;\n    }\n\n    .dataframe thead th {\n        text-align: right;\n    }\n</style>\n<table border=\"1\" class=\"dataframe\">\n  <thead>\n    <tr style=\"text-align: right;\">\n      <th>emotions</th>\n      <th>anger</th>\n      <th>disgust</th>\n      <th>fear</th>\n      <th>joy</th>\n      <th>neutral</th>\n      <th>sadness</th>\n      <th>surprise</th>\n    </tr>\n    <tr>\n      <th>speakers</th>\n      <th></th>\n      <th></th>\n      <th></th>\n      <th></th>\n      <th></th>\n      <th></th>\n      <th></th>\n    </tr>\n  </thead>\n  <tbody>\n    <tr>\n      <th>Joey</th>\n      <td>661</td>\n      <td>149</td>\n      <td>143</td>\n      <td>1045</td>\n      <td>2418</td>\n      <td>309</td>\n      <td>841</td>\n    </tr>\n    <tr>\n      <th>Ross</th>\n      <td>541</td>\n      <td>72</td>\n      <td>180</td>\n      <td>967</td>\n      <td>2280</td>\n      <td>429</td>\n      <td>568</td>\n    </tr>\n    <tr>\n      <th>Chandler</th>\n      <td>553</td>\n      <td>193</td>\n      <td>203</td>\n      <td>715</td>\n      <td>2157</td>\n      <td>287</td>\n      <td>560</td>\n    </tr>\n    <tr>\n      <th>Rachel</th>\n      <td>539</td>\n      <td>146</td>\n      <td>178</td>\n      <td>929</td>\n      <td>1907</td>\n      <td>566</td>\n      <td>756</td>\n    </tr>\n    <tr>\n      <th>Phoebe</th>\n      <td>612</td>\n      <td>117</td>\n      <td>104</td>\n      <td>770</td>\n      <td>1906</td>\n      <td>409</td>\n      <td>556</td>\n    </tr>\n    <tr>\n      <th>...</th>\n      <td>...</td>\n      <td>...</td>\n      <td>...</td>\n      <td>...</td>\n      <td>...</td>\n      <td>...</td>\n      <td>...</td>\n    </tr>\n    <tr>\n      <th>Another Tour Guide</th>\n      <td>4</td>\n      <td>0</td>\n      <td>0</td>\n      <td>0</td>\n      <td>0</td>\n      <td>0</td>\n      <td>0</td>\n    </tr>\n    <tr>\n      <th>Boy in the Cape</th>\n      <td>1</td>\n      <td>0</td>\n      <td>0</td>\n      <td>0</td>\n      <td>0</td>\n      <td>0</td>\n      <td>0</td>\n    </tr>\n    <tr>\n      <th>Monica and Phoebe</th>\n      <td>1</td>\n      <td>0</td>\n      <td>0</td>\n      <td>0</td>\n      <td>0</td>\n      <td>0</td>\n      <td>0</td>\n    </tr>\n    <tr>\n      <th>Peter</th>\n      <td>1</td>\n      <td>0</td>\n      <td>0</td>\n      <td>0</td>\n      <td>0</td>\n      <td>0</td>\n      <td>0</td>\n    </tr>\n    <tr>\n      <th>Raymond</th>\n      <td>1</td>\n      <td>0</td>\n      <td>0</td>\n      <td>0</td>\n      <td>0</td>\n      <td>0</td>\n      <td>0</td>\n    </tr>\n  </tbody>\n</table>\n<p>231 rows × 7 columns</p>\n</div>"
     },
     "execution_count": 34,
     "metadata": {},
     "output_type": "execute_result"
    }
   ],
   "source": [
    "produce_emotion_distribution_for_speakers(df)\n"
   ],
   "metadata": {
    "collapsed": false,
    "ExecuteTime": {
     "end_time": "2024-02-22T15:15:18.084857300Z",
     "start_time": "2024-02-22T15:15:17.959594700Z"
    }
   },
   "id": "cdc77ae02d19acfd",
   "execution_count": 34
  },
  {
   "cell_type": "code",
   "execution_count": 35,
   "outputs": [
    {
     "data": {
      "text/plain": "                                                         speakers  \\\nindex                                                               \nutterance_3440  [Phoebe, Phoebe, The Smoking Woman, Phoebe, Th...   \nutterance_1475  [Joey, Ross, Emily, Liam, Emily, Liam, Liam, R...   \nutterance_2342   [Rachel, Phoebe, Rachel, Phoebe, Rachel, Rachel]   \nutterance_214   [Joey, Rachel, Joey, Dina, Dina, Dina, Bobby, ...   \nutterance_910   [Phoebe, Phoebe, Monica, Phoebe, Monica, Phoeb...   \n\n                                                         emotions  \\\nindex                                                               \nutterance_3440  [neutral, anger, neutral, anger, anger, anger,...   \nutterance_1475  [neutral, neutral, neutral, surprise, joy, joy...   \nutterance_2342  [neutral, neutral, surprise, neutral, sadness,...   \nutterance_214   [disgust, sadness, anger, fear, fear, neutral,...   \nutterance_910   [joy, joy, joy, joy, neutral, joy, neutral, jo...   \n\n                                                       utterances  \\\nindex                                                               \nutterance_3440  [Oh. Oh! Ma'am? Excuse me, ma'am?, You can't p...   \nutterance_1475  [No., You'll see., Liam, do me a favour. Tell ...   \nutterance_2342  [Phoebe?, Yeah?, Look at that guy by the windo...   \nutterance_214   [One pregnant woman at a time, please! I just ...   \nutterance_910   [Oh, great!, We couldn't keep our eyes off eac...   \n\n                                                         triggers  \nindex                                                              \nutterance_3440  [0.0, 0.0, 0.0, 0.0, 0.0, 1.0, 0.0, 1.0, 0.0, ...  \nutterance_1475           [0.0, 0.0, 0.0, 0.0, 0.0, 0.0, 0.0, 0.0]  \nutterance_2342                     [0.0, 0.0, 0.0, 0.0, 0.0, 1.0]  \nutterance_214   [0.0, 0.0, 0.0, 0.0, 0.0, 0.0, 0.0, 0.0, 0.0, ...  \nutterance_910   [0.0, 0.0, 0.0, 0.0, 0.0, 0.0, 0.0, 0.0, 0.0, ...  ",
      "text/html": "<div>\n<style scoped>\n    .dataframe tbody tr th:only-of-type {\n        vertical-align: middle;\n    }\n\n    .dataframe tbody tr th {\n        vertical-align: top;\n    }\n\n    .dataframe thead th {\n        text-align: right;\n    }\n</style>\n<table border=\"1\" class=\"dataframe\">\n  <thead>\n    <tr style=\"text-align: right;\">\n      <th></th>\n      <th>speakers</th>\n      <th>emotions</th>\n      <th>utterances</th>\n      <th>triggers</th>\n    </tr>\n    <tr>\n      <th>index</th>\n      <th></th>\n      <th></th>\n      <th></th>\n      <th></th>\n    </tr>\n  </thead>\n  <tbody>\n    <tr>\n      <th>utterance_3440</th>\n      <td>[Phoebe, Phoebe, The Smoking Woman, Phoebe, Th...</td>\n      <td>[neutral, anger, neutral, anger, anger, anger,...</td>\n      <td>[Oh. Oh! Ma'am? Excuse me, ma'am?, You can't p...</td>\n      <td>[0.0, 0.0, 0.0, 0.0, 0.0, 1.0, 0.0, 1.0, 0.0, ...</td>\n    </tr>\n    <tr>\n      <th>utterance_1475</th>\n      <td>[Joey, Ross, Emily, Liam, Emily, Liam, Liam, R...</td>\n      <td>[neutral, neutral, neutral, surprise, joy, joy...</td>\n      <td>[No., You'll see., Liam, do me a favour. Tell ...</td>\n      <td>[0.0, 0.0, 0.0, 0.0, 0.0, 0.0, 0.0, 0.0]</td>\n    </tr>\n    <tr>\n      <th>utterance_2342</th>\n      <td>[Rachel, Phoebe, Rachel, Phoebe, Rachel, Rachel]</td>\n      <td>[neutral, neutral, surprise, neutral, sadness,...</td>\n      <td>[Phoebe?, Yeah?, Look at that guy by the windo...</td>\n      <td>[0.0, 0.0, 0.0, 0.0, 0.0, 1.0]</td>\n    </tr>\n    <tr>\n      <th>utterance_214</th>\n      <td>[Joey, Rachel, Joey, Dina, Dina, Dina, Bobby, ...</td>\n      <td>[disgust, sadness, anger, fear, fear, neutral,...</td>\n      <td>[One pregnant woman at a time, please! I just ...</td>\n      <td>[0.0, 0.0, 0.0, 0.0, 0.0, 0.0, 0.0, 0.0, 0.0, ...</td>\n    </tr>\n    <tr>\n      <th>utterance_910</th>\n      <td>[Phoebe, Phoebe, Monica, Phoebe, Monica, Phoeb...</td>\n      <td>[joy, joy, joy, joy, neutral, joy, neutral, jo...</td>\n      <td>[Oh, great!, We couldn't keep our eyes off eac...</td>\n      <td>[0.0, 0.0, 0.0, 0.0, 0.0, 0.0, 0.0, 0.0, 0.0, ...</td>\n    </tr>\n  </tbody>\n</table>\n</div>"
     },
     "metadata": {},
     "output_type": "display_data"
    },
    {
     "data": {
      "text/plain": "                                                         speakers  \\\nindex                                                               \nutterance_1938                                 [Joey, Joey, Joey]   \nutterance_1596  [All, Joey, Phoebe, Joey, Phoebe, Joey, Phoebe...   \nutterance_3248  [Ross, Phoebe, Ross, Phoebe, Ross, Phoebe, Ros...   \nutterance_131        [Rachel, Rachel, Rachel, Ross, Rachel, Ross]   \nutterance_3388  [Joey, Chandler, Monica, Joey, Chandler, Joey,...   \n\n                                                         emotions  \\\nindex                                                               \nutterance_1938                        [neutral, neutral, sadness]   \nutterance_1596  [joy, neutral, neutral, neutral, neutral, joy,...   \nutterance_3248  [neutral, anger, sadness, anger, sadness, joy,...   \nutterance_131   [neutral, neutral, neutral, joy, neutral, neut...   \nutterance_3388  [neutral, disgust, sadness, joy, joy, neutral,...   \n\n                                                       utterances  \\\nindex                                                               \nutterance_1938  [There will come a time in each of your career...   \nutterance_1596  [Pheebs! Hey Pheebs!, Uh, okay, Pheebs?, Yeah?...   \nutterance_3248  [By the way, the week before your wedding you ...   \nutterance_131   [Okay umm, Ross?, I'm-I'm really warm, so I'm ...   \nutterance_3388  [So, did you uh, find anyone to marry you guys...   \n\n                                                         triggers  \nindex                                                              \nutterance_1938                                    [0.0, 0.0, 1.0]  \nutterance_1596  [0.0, 0.0, 0.0, 0.0, 0.0, 0.0, 0.0, 0.0, 0.0, ...  \nutterance_3248  [0.0, 0.0, 0.0, 0.0, 0.0, 0.0, 0.0, 0.0, 0.0, ...  \nutterance_131                      [0.0, 0.0, 0.0, 0.0, 1.0, 0.0]  \nutterance_3388  [0.0, 0.0, 0.0, 1.0, 0.0, 0.0, 0.0, 1.0, 1.0, ...  ",
      "text/html": "<div>\n<style scoped>\n    .dataframe tbody tr th:only-of-type {\n        vertical-align: middle;\n    }\n\n    .dataframe tbody tr th {\n        vertical-align: top;\n    }\n\n    .dataframe thead th {\n        text-align: right;\n    }\n</style>\n<table border=\"1\" class=\"dataframe\">\n  <thead>\n    <tr style=\"text-align: right;\">\n      <th></th>\n      <th>speakers</th>\n      <th>emotions</th>\n      <th>utterances</th>\n      <th>triggers</th>\n    </tr>\n    <tr>\n      <th>index</th>\n      <th></th>\n      <th></th>\n      <th></th>\n      <th></th>\n    </tr>\n  </thead>\n  <tbody>\n    <tr>\n      <th>utterance_1938</th>\n      <td>[Joey, Joey, Joey]</td>\n      <td>[neutral, neutral, sadness]</td>\n      <td>[There will come a time in each of your career...</td>\n      <td>[0.0, 0.0, 1.0]</td>\n    </tr>\n    <tr>\n      <th>utterance_1596</th>\n      <td>[All, Joey, Phoebe, Joey, Phoebe, Joey, Phoebe...</td>\n      <td>[joy, neutral, neutral, neutral, neutral, joy,...</td>\n      <td>[Pheebs! Hey Pheebs!, Uh, okay, Pheebs?, Yeah?...</td>\n      <td>[0.0, 0.0, 0.0, 0.0, 0.0, 0.0, 0.0, 0.0, 0.0, ...</td>\n    </tr>\n    <tr>\n      <th>utterance_3248</th>\n      <td>[Ross, Phoebe, Ross, Phoebe, Ross, Phoebe, Ros...</td>\n      <td>[neutral, anger, sadness, anger, sadness, joy,...</td>\n      <td>[By the way, the week before your wedding you ...</td>\n      <td>[0.0, 0.0, 0.0, 0.0, 0.0, 0.0, 0.0, 0.0, 0.0, ...</td>\n    </tr>\n    <tr>\n      <th>utterance_131</th>\n      <td>[Rachel, Rachel, Rachel, Ross, Rachel, Ross]</td>\n      <td>[neutral, neutral, neutral, joy, neutral, neut...</td>\n      <td>[Okay umm, Ross?, I'm-I'm really warm, so I'm ...</td>\n      <td>[0.0, 0.0, 0.0, 0.0, 1.0, 0.0]</td>\n    </tr>\n    <tr>\n      <th>utterance_3388</th>\n      <td>[Joey, Chandler, Monica, Joey, Chandler, Joey,...</td>\n      <td>[neutral, disgust, sadness, joy, joy, neutral,...</td>\n      <td>[So, did you uh, find anyone to marry you guys...</td>\n      <td>[0.0, 0.0, 0.0, 1.0, 0.0, 0.0, 0.0, 1.0, 1.0, ...</td>\n    </tr>\n  </tbody>\n</table>\n</div>"
     },
     "metadata": {},
     "output_type": "display_data"
    },
    {
     "data": {
      "text/plain": "                                                         speakers  \\\nindex                                                               \nutterance_837   [Rachel, Danny, Rachel, Danny, Rachel, Monica,...   \nutterance_370   [Kristen, Ross, Kristen, Ross, Kristen, Ross, ...   \nutterance_2018                                     [Hoshi, Hoshi]   \nutterance_2361  [Ross, Joey, Ross, Joey, Ross, Joey, Ross, Joe...   \nutterance_1904                     [Ross, Kristin, Ross, Kristin]   \n\n                                                         emotions  \\\nindex                                                               \nutterance_837   [surprise, joy, neutral, neutral, neutral, neu...   \nutterance_370   [joy, neutral, surprise, joy, neutral, neutral...   \nutterance_2018                                     [neutral, joy]   \nutterance_2361  [neutral, neutral, neutral, neutral, joy, neut...   \nutterance_1904                  [neutral, joy, neutral, surprise]   \n\n                                                       utterances  \\\nindex                                                               \nutterance_837   [Hey! Oh right, tonight was your party., Oh wo...   \nutterance_370   [Umm, this is great wine., It's from France\nIn...   \nutterance_2018                    [You are iron., You are steel!]   \nutterance_2361  [Well obviously only one of us can keep dating...   \nutterance_1904  [I'm just sayin' if dogs do experience jet lag...   \n\n                                                         triggers  \nindex                                                              \nutterance_837   [0.0, 0.0, 0.0, 0.0, 0.0, 0.0, 0.0, 0.0, 0.0, ...  \nutterance_370            [0.0, 0.0, 0.0, 0.0, 0.0, 0.0, 1.0, 0.0]  \nutterance_2018                                         [0.0, 0.0]  \nutterance_2361  [0.0, 0.0, 0.0, 0.0, 0.0, 0.0, 0.0, 0.0, 0.0, ...  \nutterance_1904                               [0.0, 0.0, 1.0, 0.0]  ",
      "text/html": "<div>\n<style scoped>\n    .dataframe tbody tr th:only-of-type {\n        vertical-align: middle;\n    }\n\n    .dataframe tbody tr th {\n        vertical-align: top;\n    }\n\n    .dataframe thead th {\n        text-align: right;\n    }\n</style>\n<table border=\"1\" class=\"dataframe\">\n  <thead>\n    <tr style=\"text-align: right;\">\n      <th></th>\n      <th>speakers</th>\n      <th>emotions</th>\n      <th>utterances</th>\n      <th>triggers</th>\n    </tr>\n    <tr>\n      <th>index</th>\n      <th></th>\n      <th></th>\n      <th></th>\n      <th></th>\n    </tr>\n  </thead>\n  <tbody>\n    <tr>\n      <th>utterance_837</th>\n      <td>[Rachel, Danny, Rachel, Danny, Rachel, Monica,...</td>\n      <td>[surprise, joy, neutral, neutral, neutral, neu...</td>\n      <td>[Hey! Oh right, tonight was your party., Oh wo...</td>\n      <td>[0.0, 0.0, 0.0, 0.0, 0.0, 0.0, 0.0, 0.0, 0.0, ...</td>\n    </tr>\n    <tr>\n      <th>utterance_370</th>\n      <td>[Kristen, Ross, Kristen, Ross, Kristen, Ross, ...</td>\n      <td>[joy, neutral, surprise, joy, neutral, neutral...</td>\n      <td>[Umm, this is great wine., It's from FranceIn...</td>\n      <td>[0.0, 0.0, 0.0, 0.0, 0.0, 0.0, 1.0, 0.0]</td>\n    </tr>\n    <tr>\n      <th>utterance_2018</th>\n      <td>[Hoshi, Hoshi]</td>\n      <td>[neutral, joy]</td>\n      <td>[You are iron., You are steel!]</td>\n      <td>[0.0, 0.0]</td>\n    </tr>\n    <tr>\n      <th>utterance_2361</th>\n      <td>[Ross, Joey, Ross, Joey, Ross, Joey, Ross, Joe...</td>\n      <td>[neutral, neutral, neutral, neutral, joy, neut...</td>\n      <td>[Well obviously only one of us can keep dating...</td>\n      <td>[0.0, 0.0, 0.0, 0.0, 0.0, 0.0, 0.0, 0.0, 0.0, ...</td>\n    </tr>\n    <tr>\n      <th>utterance_1904</th>\n      <td>[Ross, Kristin, Ross, Kristin]</td>\n      <td>[neutral, joy, neutral, surprise]</td>\n      <td>[I'm just sayin' if dogs do experience jet lag...</td>\n      <td>[0.0, 0.0, 1.0, 0.0]</td>\n    </tr>\n  </tbody>\n</table>\n</div>"
     },
     "metadata": {},
     "output_type": "display_data"
    }
   ],
   "source": [
    "train_df, val_df, test_df = split_dataset(df)\n",
    "\n",
    "display(train_df.head())\n",
    "display(val_df.head())\n",
    "display(test_df.head())\n"
   ],
   "metadata": {
    "collapsed": false,
    "ExecuteTime": {
     "end_time": "2024-02-22T15:15:19.975901100Z",
     "start_time": "2024-02-22T15:15:19.840236800Z"
    }
   },
   "id": "f57ca9b8c431fc6"
  },
  {
   "cell_type": "code",
   "execution_count": 36,
   "outputs": [
    {
     "data": {
      "text/plain": "<Figure size 1800x600 with 3 Axes>",
      "image/png": "[encoded data removed]"
     },
     "metadata": {},
     "output_type": "display_data"
    }
   ],
   "source": [
    "plot_emotion_distribution(train_df, val_df, test_df)\n"
   ],
   "metadata": {
    "collapsed": false,
    "ExecuteTime": {
     "end_time": "2024-02-22T15:15:22.462327600Z",
     "start_time": "2024-02-22T15:15:21.953032400Z"
    }
   },
   "id": "f4cd06df1b333247"
  },
  {
   "cell_type": "markdown",
   "source": [
    "## Random Classifier"
   ],
   "metadata": {
    "collapsed": false,
    "ExecuteTime": {
     "end_time": "2024-02-21T11:07:25.393229010Z",
     "start_time": "2024-02-21T11:07:25.324414748Z"
    }
   },
   "id": "5b708a5070a72c85"
  },
  {
   "cell_type": "code",
   "outputs": [
    {
     "ename": "TypeError",
     "evalue": "can only concatenate str (not \"int\") to str",
     "output_type": "error",
     "traceback": [
      "\u001B[1;31m---------------------------------------------------------------------------\u001B[0m",
      "\u001B[1;31mTypeError\u001B[0m                                 Traceback (most recent call last)",
      "Cell \u001B[1;32mIn[37], line 13\u001B[0m\n\u001B[0;32m     11\u001B[0m new_test_df[\u001B[38;5;124m'\u001B[39m\u001B[38;5;124mpred_emotions\u001B[39m\u001B[38;5;124m'\u001B[39m] \u001B[38;5;241m=\u001B[39m pred_emotions\n\u001B[0;32m     12\u001B[0m new_test_df[\u001B[38;5;124m'\u001B[39m\u001B[38;5;124mpred_triggers\u001B[39m\u001B[38;5;124m'\u001B[39m] \u001B[38;5;241m=\u001B[39m pred_triggers\n\u001B[1;32m---> 13\u001B[0m \u001B[43mdisplay_utterance\u001B[49m\u001B[43m(\u001B[49m\u001B[43mdataframe\u001B[49m\u001B[38;5;241;43m=\u001B[39;49m\u001B[43mnew_test_df\u001B[49m\u001B[43m,\u001B[49m\u001B[43m \u001B[49m\u001B[43mutterance_id\u001B[49m\u001B[38;5;241;43m=\u001B[39;49m\u001B[38;5;241;43m0\u001B[39;49m\u001B[43m)\u001B[49m    \n",
      "File \u001B[1;32m~\\Desktop\\Magistrale\\Anno 2\\1st semester\\NLP\\NLP_project\\NLP_course_project\\utilities.py:99\u001B[0m, in \u001B[0;36mdisplay_utterance\u001B[1;34m(dataframe, utterance_id)\u001B[0m\n\u001B[0;32m     97\u001B[0m     \u001B[38;5;28mprint\u001B[39m(utterance_id\u001B[38;5;241m.\u001B[39mreplace(\u001B[38;5;124m'\u001B[39m\u001B[38;5;124m_\u001B[39m\u001B[38;5;124m'\u001B[39m, \u001B[38;5;124m'\u001B[39m\u001B[38;5;124m \u001B[39m\u001B[38;5;124m'\u001B[39m)\u001B[38;5;241m.\u001B[39mcapitalize())\n\u001B[0;32m     98\u001B[0m \u001B[38;5;28;01melse\u001B[39;00m:\n\u001B[1;32m---> 99\u001B[0m     \u001B[38;5;28mprint\u001B[39m(\u001B[38;5;124;43m'\u001B[39;49m\u001B[38;5;124;43mUtterance_\u001B[39;49m\u001B[38;5;124;43m'\u001B[39;49m\u001B[43m \u001B[49m\u001B[38;5;241;43m+\u001B[39;49m\u001B[43m \u001B[49m\u001B[43mutterance_id\u001B[49m)\n\u001B[0;32m    100\u001B[0m display(new_df)\n\u001B[0;32m    101\u001B[0m \u001B[38;5;28mprint\u001B[39m()\n",
      "\u001B[1;31mTypeError\u001B[0m: can only concatenate str (not \"int\") to str"
     ]
    }
   ],
   "source": [
    "# todo metric computation\n",
    "\n",
    "emotions = np.unique([item for sublist in df[\"emotions\"] for item in sublist]) # flattening and taking unique emotions\n",
    "random_classifier = RandomClassifier(emotions)\n",
    "\n",
    "pred_emotions, pred_triggers = random_classifier.predict(test_df)\n",
    "\n",
    "# esempio di print per gli scettici che non crederanno che il classifier funziona\n",
    "\n",
    "new_test_df = test_df.copy()\n",
    "new_test_df['pred_emotions'] = pred_emotions\n",
    "new_test_df['pred_triggers'] = pred_triggers\n",
    "\"\"\"display_utterance(dataframe=new_test_df, utterance_id=0)    \"\"\""
   ],
   "metadata": {
    "collapsed": false,
    "ExecuteTime": {
     "end_time": "2024-02-22T15:15:24.462797700Z",
     "start_time": "2024-02-22T15:15:24.305943200Z"
    }
   },
   "id": "3804e348d3bb097a",
   "execution_count": 37
  },
  {
   "cell_type": "markdown",
   "source": [
    "## Majority Classifier"
   ],
   "metadata": {
    "collapsed": false
   },
   "id": "214a06bffbbf6b8d"
  },
  {
   "cell_type": "code",
   "outputs": [
    {
     "ename": "TypeError",
     "evalue": "can only concatenate str (not \"int\") to str",
     "output_type": "error",
     "traceback": [
      "\u001B[1;31m---------------------------------------------------------------------------\u001B[0m",
      "\u001B[1;31mTypeError\u001B[0m                                 Traceback (most recent call last)",
      "Cell \u001B[1;32mIn[38], line 12\u001B[0m\n\u001B[0;32m     10\u001B[0m new_test_df[\u001B[38;5;124m'\u001B[39m\u001B[38;5;124mpred_emotions\u001B[39m\u001B[38;5;124m'\u001B[39m] \u001B[38;5;241m=\u001B[39m pred_emotions\n\u001B[0;32m     11\u001B[0m new_test_df[\u001B[38;5;124m'\u001B[39m\u001B[38;5;124mpred_triggers\u001B[39m\u001B[38;5;124m'\u001B[39m] \u001B[38;5;241m=\u001B[39m pred_triggers\n\u001B[1;32m---> 12\u001B[0m \u001B[43mdisplay_utterance\u001B[49m\u001B[43m(\u001B[49m\u001B[43mdataframe\u001B[49m\u001B[38;5;241;43m=\u001B[39;49m\u001B[43mnew_test_df\u001B[49m\u001B[43m,\u001B[49m\u001B[43m \u001B[49m\u001B[43mutterance_id\u001B[49m\u001B[38;5;241;43m=\u001B[39;49m\u001B[38;5;241;43m0\u001B[39;49m\u001B[43m)\u001B[49m\n",
      "File \u001B[1;32m~\\Desktop\\Magistrale\\Anno 2\\1st semester\\NLP\\NLP_project\\NLP_course_project\\utilities.py:99\u001B[0m, in \u001B[0;36mdisplay_utterance\u001B[1;34m(dataframe, utterance_id)\u001B[0m\n\u001B[0;32m     97\u001B[0m     \u001B[38;5;28mprint\u001B[39m(utterance_id\u001B[38;5;241m.\u001B[39mreplace(\u001B[38;5;124m'\u001B[39m\u001B[38;5;124m_\u001B[39m\u001B[38;5;124m'\u001B[39m, \u001B[38;5;124m'\u001B[39m\u001B[38;5;124m \u001B[39m\u001B[38;5;124m'\u001B[39m)\u001B[38;5;241m.\u001B[39mcapitalize())\n\u001B[0;32m     98\u001B[0m \u001B[38;5;28;01melse\u001B[39;00m:\n\u001B[1;32m---> 99\u001B[0m     \u001B[38;5;28mprint\u001B[39m(\u001B[38;5;124;43m'\u001B[39;49m\u001B[38;5;124;43mUtterance_\u001B[39;49m\u001B[38;5;124;43m'\u001B[39;49m\u001B[43m \u001B[49m\u001B[38;5;241;43m+\u001B[39;49m\u001B[43m \u001B[49m\u001B[43mutterance_id\u001B[49m)\n\u001B[0;32m    100\u001B[0m display(new_df)\n\u001B[0;32m    101\u001B[0m \u001B[38;5;28mprint\u001B[39m()\n",
      "\u001B[1;31mTypeError\u001B[0m: can only concatenate str (not \"int\") to str"
     ]
    }
   ],
   "source": [
    "# todo metrics computation\n",
    "\n",
    "majority_classifier = MajorityClassifier()\n",
    "\n",
    "majority_classifier.fit(train_df)\n",
    "pred_emotions, pred_triggers = majority_classifier.predict(test_df)\n",
    "\n",
    "# esempio di print per gli scettici che non crederanno che il classifier funziona\n",
    "new_test_df = test_df.copy()\n",
    "new_test_df['pred_emotions'] = pred_emotions\n",
    "new_test_df['pred_triggers'] = pred_triggers\n",
    "\"\"\"display_utterance(dataframe=new_test_df, utterance_id=0)\"\"\"\n"
   ],
   "metadata": {
    "collapsed": false,
    "ExecuteTime": {
     "end_time": "2024-02-22T15:15:33.042346Z",
     "start_time": "2024-02-22T15:15:32.883906300Z"
    }
   },
   "id": "5962c4462099f5f5",
   "execution_count": 38
  },
  {
   "cell_type": "markdown",
   "source": [
    "## Bert Models"
   ],
   "metadata": {
    "collapsed": false
   },
   "id": "a65f1dc767977391"
  },
  {
   "cell_type": "code",
   "outputs": [
    {
     "name": "stdout",
     "output_type": "stream",
     "text": [
      "Aaahhh le emozioni:  ['anger' 'disgust' 'fear' 'joy' 'neutral' 'sadness' 'surprise']\n"
     ]
    }
   ],
   "source": [
    "EMOTIONS = np.unique([item for sublist in df[\"emotions\"] for item in sublist])\n",
    "EMOTIONS_TO_INT = {i: emotion for (emotion, i) in enumerate(EMOTIONS)}\n",
    "INT_TO_EMOTIONS = {emotion: i for (emotion, i) in enumerate(EMOTIONS)}\n",
    "\n",
    "print(\"Aaahhh le emozioni: \", EMOTIONS)"
   ],
   "metadata": {
    "collapsed": false,
    "ExecuteTime": {
     "end_time": "2024-02-22T15:15:38.222266Z",
     "start_time": "2024-02-22T15:15:38.112600Z"
    }
   },
   "id": "11db464e396ec60f",
   "execution_count": 39
  },
  {
   "cell_type": "code",
   "outputs": [],
   "source": [
    "# first execution it downloads bert model and tokenizer, from second execution it retrieves them from local folder\n",
    "if os.path.exists(BERT_DIRECTORY):\n",
    "    bert_model, bert_tokenizer = retrieve_bert_initializers(BERT_DIRECTORY) \n",
    "else:\n",
    "    bert_model, bert_tokenizer = download_bert_initializers(BERT_DIRECTORY)\n"
   ],
   "metadata": {
    "collapsed": false,
    "ExecuteTime": {
     "end_time": "2024-02-22T15:15:40.718269500Z",
     "start_time": "2024-02-22T15:15:39.621973700Z"
    }
   },
   "id": "9de65890f020ffb2",
   "execution_count": 40
  },
  {
   "cell_type": "code",
   "outputs": [],
   "source": [
    "from DrTorch.utilities import DataLoaderFromPipelineStrategy\n",
    "\n",
    "def construct_input(data_sample):\n",
    "    tokenizer = BertTokenizer.from_pretrained(\"local-bert\")\n",
    "    \n",
    "    tokenized_dialog = [tokenizer.cls_token]\n",
    "    for utterance in data_sample:\n",
    "        tokenized_dialog += tokenizer.tokenize(utterance) + [tokenizer.sep_token]\n",
    "    \n",
    "    return tokenized_dialog\n",
    "\n",
    "dataLoaderBuilder = DataLoaderFromPipelineStrategy()\n",
    "dataloader = dataLoaderBuilder.create(train_df[[\"utterances\", \"speakers\"]], train_df[[\"emotions\", \"triggers\"]], shuffle=True)\n"
   ],
   "metadata": {
    "collapsed": false,
    "ExecuteTime": {
     "end_time": "2024-02-22T15:15:43.314508500Z",
     "start_time": "2024-02-22T15:15:43.221852900Z"
    }
   },
   "id": "c1cfd0c835885170",
   "execution_count": 41
  },
  {
   "cell_type": "code",
   "execution_count": 56,
   "outputs": [
    {
     "data": {
      "text/plain": "[['[CLS]',\n  'also',\n  'i',\n  'was',\n  'the',\n  'point',\n  'person',\n  'on',\n  'my',\n  'company',\n  \"'\",\n  's',\n  'transition',\n  'from',\n  'the',\n  'k',\n  '##l',\n  '-',\n  '5',\n  'to',\n  'gr',\n  '-',\n  '6',\n  'system',\n  '.',\n  '[SEP]',\n  'you',\n  'must',\n  \"'\",\n  've',\n  'had',\n  'your',\n  'hands',\n  'full',\n  '.',\n  '[SEP]',\n  'that',\n  'i',\n  'did',\n  '.',\n  'that',\n  'i',\n  'did',\n  '.',\n  '[SEP]',\n  'so',\n  'let',\n  \"'\",\n  's',\n  'talk',\n  'a',\n  'little',\n  'bit',\n  'about',\n  'your',\n  'duties',\n  '.',\n  '[SEP]',\n  'my',\n  'duties',\n  '?',\n  'all',\n  'right',\n  '.',\n  '[SEP]'],\n ['[CLS]', 'ca', '##cca', '[SEP]', 'ca', '##cco', '##na', '[SEP]']]"
     },
     "execution_count": 56,
     "metadata": {},
     "output_type": "execute_result"
    }
   ],
   "source": [
    "dialogs = [\n",
    "    [\n",
    "    \"also I was the point person on my company's transition from the KL-5 to GR-6 system.\",\n",
    "    \"You must've had your hands full.\",\n",
    "    \"That I did. That I did.\",\n",
    "    \"So let's talk a little bit about your duties.\",\n",
    "    \"My duties? All right.\"\n",
    "    ],\n",
    "    [\"cacca\", \"caccona\"]\n",
    "]\n",
    "\n",
    "tokens = []\n",
    "# Preparazione dell'input\n",
    "for dialog in dialogs:\n",
    "    tokens.append(construct_input(dialog))\n",
    "\n",
    "# Converti in ID e tronca se necessario\n",
    "input_ids = bert_tokenizer.convert_tokens_to_ids(tokens)[:512]  # Assicurati di non superare il limite di 512 token\n",
    "\n",
    "input_ids_tensor = torch.tensor([input_ids])\n",
    "print(np.shape(input_ids_tensor))\n",
    "print(bert_tokenizer.sep_token)\n"
   ],
   "metadata": {
    "collapsed": false,
    "ExecuteTime": {
     "end_time": "2024-02-22T16:01:42.049618100Z",
     "start_time": "2024-02-22T16:01:41.898087100Z"
    }
   },
   "id": "c862ff55fe94521c"
  },
  {
   "cell_type": "code",
   "outputs": [
    {
     "ename": "TypeError",
     "evalue": "list indices must be integers or slices, not tuple",
     "output_type": "error",
     "traceback": [
      "\u001B[1;31m---------------------------------------------------------------------------\u001B[0m",
      "\u001B[1;31mTypeError\u001B[0m                                 Traceback (most recent call last)",
      "Cell \u001B[1;32mIn[55], line 3\u001B[0m\n\u001B[0;32m      1\u001B[0m \u001B[38;5;28;01mfrom\u001B[39;00m \u001B[38;5;21;01mmodels\u001B[39;00m\u001B[38;5;21;01m.\u001B[39;00m\u001B[38;5;21;01mbertFreezed\u001B[39;00m \u001B[38;5;28;01mimport\u001B[39;00m BertFreezed\n\u001B[1;32m----> 3\u001B[0m pos \u001B[38;5;241m=\u001B[39m [[idx \u001B[38;5;28;01mfor\u001B[39;00m idx \u001B[38;5;129;01min\u001B[39;00m \u001B[38;5;28mrange\u001B[39m(\u001B[38;5;28mlen\u001B[39m(input_ids_tensor[\u001B[38;5;241m0\u001B[39m])) \u001B[38;5;28;01mif\u001B[39;00m input_ids_tensor[\u001B[38;5;241m0\u001B[39m, idx] \u001B[38;5;241m==\u001B[39m \u001B[38;5;241m102\u001B[39m] \u001B[38;5;28;01mfor\u001B[39;00m dialog \u001B[38;5;129;01min\u001B[39;00m dialogs]\n\u001B[0;32m      4\u001B[0m \u001B[38;5;28mprint\u001B[39m(pos)\n\u001B[0;32m      5\u001B[0m bertino \u001B[38;5;241m=\u001B[39m BertFreezed(bert_model)\n",
      "Cell \u001B[1;32mIn[55], line 3\u001B[0m, in \u001B[0;36m<listcomp>\u001B[1;34m(.0)\u001B[0m\n\u001B[0;32m      1\u001B[0m \u001B[38;5;28;01mfrom\u001B[39;00m \u001B[38;5;21;01mmodels\u001B[39;00m\u001B[38;5;21;01m.\u001B[39;00m\u001B[38;5;21;01mbertFreezed\u001B[39;00m \u001B[38;5;28;01mimport\u001B[39;00m BertFreezed\n\u001B[1;32m----> 3\u001B[0m pos \u001B[38;5;241m=\u001B[39m [[idx \u001B[38;5;28;01mfor\u001B[39;00m idx \u001B[38;5;129;01min\u001B[39;00m \u001B[38;5;28mrange\u001B[39m(\u001B[38;5;28mlen\u001B[39m(input_ids_tensor[\u001B[38;5;241m0\u001B[39m])) \u001B[38;5;28;01mif\u001B[39;00m input_ids_tensor[\u001B[38;5;241m0\u001B[39m, idx] \u001B[38;5;241m==\u001B[39m \u001B[38;5;241m102\u001B[39m] \u001B[38;5;28;01mfor\u001B[39;00m dialog \u001B[38;5;129;01min\u001B[39;00m dialogs]\n\u001B[0;32m      4\u001B[0m \u001B[38;5;28mprint\u001B[39m(pos)\n\u001B[0;32m      5\u001B[0m bertino \u001B[38;5;241m=\u001B[39m BertFreezed(bert_model)\n",
      "Cell \u001B[1;32mIn[55], line 3\u001B[0m, in \u001B[0;36m<listcomp>\u001B[1;34m(.0)\u001B[0m\n\u001B[0;32m      1\u001B[0m \u001B[38;5;28;01mfrom\u001B[39;00m \u001B[38;5;21;01mmodels\u001B[39;00m\u001B[38;5;21;01m.\u001B[39;00m\u001B[38;5;21;01mbertFreezed\u001B[39;00m \u001B[38;5;28;01mimport\u001B[39;00m BertFreezed\n\u001B[1;32m----> 3\u001B[0m pos \u001B[38;5;241m=\u001B[39m [[idx \u001B[38;5;28;01mfor\u001B[39;00m idx \u001B[38;5;129;01min\u001B[39;00m \u001B[38;5;28mrange\u001B[39m(\u001B[38;5;28mlen\u001B[39m(input_ids_tensor[\u001B[38;5;241m0\u001B[39m])) \u001B[38;5;28;01mif\u001B[39;00m \u001B[43minput_ids_tensor\u001B[49m\u001B[43m[\u001B[49m\u001B[38;5;241;43m0\u001B[39;49m\u001B[43m,\u001B[49m\u001B[43m \u001B[49m\u001B[43midx\u001B[49m\u001B[43m]\u001B[49m \u001B[38;5;241m==\u001B[39m \u001B[38;5;241m102\u001B[39m] \u001B[38;5;28;01mfor\u001B[39;00m dialog \u001B[38;5;129;01min\u001B[39;00m dialogs]\n\u001B[0;32m      4\u001B[0m \u001B[38;5;28mprint\u001B[39m(pos)\n\u001B[0;32m      5\u001B[0m bertino \u001B[38;5;241m=\u001B[39m BertFreezed(bert_model)\n",
      "\u001B[1;31mTypeError\u001B[0m: list indices must be integers or slices, not tuple"
     ]
    }
   ],
   "source": [
    "from models.bertFreezed import BertFreezed\n",
    "\n",
    "pos = [[idx for idx in range(len(input_ids_tensor[0])) if input_ids_tensor[0, idx] == 102] for dialog in dialogs]\n",
    "print(pos)\n",
    "bertino = BertFreezed(bert_model)\n",
    "bertino(input_ids_tensor, pos)"
   ],
   "metadata": {
    "collapsed": false,
    "ExecuteTime": {
     "end_time": "2024-02-22T16:01:11.550549500Z",
     "start_time": "2024-02-22T16:01:11.406270100Z"
    }
   },
   "id": "5de049ef97eb178",
   "execution_count": 55
  }
 ],
 "metadata": {
  "kernelspec": {
   "display_name": "Python 3",
   "language": "python",
   "name": "python3"
  },
  "language_info": {
   "codemirror_mode": {
    "name": "ipython",
    "version": 2
   },
   "file_extension": ".py",
   "mimetype": "text/x-python",
   "name": "python",
   "nbconvert_exporter": "python",
   "pygments_lexer": "ipython2",
   "version": "2.7.6"
  }
 },
 "nbformat": 4,
 "nbformat_minor": 5
}
