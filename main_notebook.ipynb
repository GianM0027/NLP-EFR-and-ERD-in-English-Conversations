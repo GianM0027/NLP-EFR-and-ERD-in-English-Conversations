{
 "cells": [
  {
   "cell_type": "markdown",
   "source": [
    "# NLP Project - EFR in English conversations\n",
    "\n",
    "You can find the ppt with details and requirements of the project <a href=\"https://docs.google.com/presentation/d/1TTN1H3GdnaswGXW63SuSvD4CsI7HB9lkYuwXRMQp2ks/edit?usp=sharing\"> here</a>. The ppt is equivalent to the <a href=\"https://virtuale.unibo.it/mod/page/view.php?id=1405067\"> FAQ page</a>\n",
    "\n",
    "You can find the official webpage of the challenge <a href=\"https://lcs2.in/SemEval2024-EDiReF/\"> here</a>"
   ],
   "metadata": {
    "collapsed": false
   },
   "id": "85bc3873332d289a"
  },
  {
   "cell_type": "markdown",
   "source": [
    "**EFR: Given a dialogue, EFR aims to identify the trigger utterance(s) for an emotion-flip in a multi-party conversation dialogue.** \n",
    "\n",
    "For example: \n",
    "<center>\n",
    "    <img src=\"./images/example_EFR.jpeg\" alt=\"EFR\" />\n",
    "</center>"
   ],
   "metadata": {
    "collapsed": false
   },
   "id": "8c1385f3bde50c1e"
  },
  {
   "cell_type": "code",
   "outputs": [
    {
     "name": "stdout",
     "output_type": "stream",
     "text": [
      "The autoreload extension is already loaded. To reload it, use:\n",
      "  %reload_ext autoreload\n"
     ]
    }
   ],
   "source": [
    "%load_ext autoreload\n",
    "%autoreload 2\n",
    "\n",
    "import pandas as pd\n",
    "import numpy\n",
    "import os\n",
    "import torch\n",
    "from sys import platform\n",
    "from utilities import *\n",
    "\n",
    "from models.randomClassifier import RandomClassifier\n",
    "from models.majorityClassifier import MajorityClassifier\n",
    "\n",
    "from DrTorch.metrics import F1_Score_Multi_Labels\n"
   ],
   "metadata": {
    "collapsed": false,
    "ExecuteTime": {
     "end_time": "2024-02-19T17:55:43.556606200Z",
     "start_time": "2024-02-19T17:55:43.498342300Z"
    }
   },
   "id": "2ece32ffd62b0215",
   "execution_count": 82
  },
  {
   "cell_type": "markdown",
   "source": [
    "## Setting the device"
   ],
   "metadata": {
    "collapsed": false
   },
   "id": "34d937b7e13fb772"
  },
  {
   "cell_type": "code",
   "outputs": [
    {
     "name": "stdout",
     "output_type": "stream",
     "text": [
      "PyTorch version: 2.2.0+cu121\n",
      "Using device: cuda\n"
     ]
    }
   ],
   "source": [
    "print(f\"PyTorch version: {torch.__version__}\")\n",
    "\n",
    "if platform == \"darwin\":    #Run on macOS\n",
    "    \n",
    "    print(f\"Is MPS (Metal Performance Shader) built? {torch.backends.mps.is_built()}\")\n",
    "    print(f\"Is MPS available? {torch.backends.mps.is_available()}\")\n",
    "    device = \"mps\" if torch.backends.mps.is_available() else \"cpu\"    \n",
    "else:\n",
    "    device = torch.device('cuda' if torch.cuda.is_available() else 'cpu') \n",
    "\n",
    "print(f\"Using device: {device}\")\n"
   ],
   "metadata": {
    "collapsed": false,
    "ExecuteTime": {
     "end_time": "2024-02-19T17:55:43.628039Z",
     "start_time": "2024-02-19T17:55:43.557694Z"
    }
   },
   "id": "78a08b1656d020fe",
   "execution_count": 83
  },
  {
   "cell_type": "code",
   "outputs": [
    {
     "name": "stdout",
     "output_type": "stream",
     "text": [
      "Mon Feb 19 18:55:43 2024       \n",
      "+---------------------------------------------------------------------------------------+\n",
      "| NVIDIA-SMI 536.23                 Driver Version: 536.23       CUDA Version: 12.2     |\n",
      "|-----------------------------------------+----------------------+----------------------+\n",
      "| GPU  Name                     TCC/WDDM  | Bus-Id        Disp.A | Volatile Uncorr. ECC |\n",
      "| Fan  Temp   Perf          Pwr:Usage/Cap |         Memory-Usage | GPU-Util  Compute M. |\n",
      "|                                         |                      |               MIG M. |\n",
      "|=========================================+======================+======================|\n",
      "|   0  NVIDIA GeForce RTX 4060 ...  WDDM  | 00000000:01:00.0  On |                  N/A |\n",
      "| N/A   40C    P8               3W /  75W |    185MiB /  8188MiB |      0%      Default |\n",
      "|                                         |                      |                  N/A |\n",
      "+-----------------------------------------+----------------------+----------------------+\n",
      "                                                                                         \n",
      "+---------------------------------------------------------------------------------------+\n",
      "| Processes:                                                                            |\n",
      "|  GPU   GI   CI        PID   Type   Process name                            GPU Memory |\n",
      "|        ID   ID                                                             Usage      |\n",
      "|=======================================================================================|\n",
      "|    0   N/A  N/A    128156    C+G   ...werToys\\PowerToys.PowerLauncher.exe    N/A      |\n",
      "|    0   N/A  N/A    128176    C+G   ...inaries\\Win64\\EpicGamesLauncher.exe    N/A      |\n",
      "+---------------------------------------------------------------------------------------+\n"
     ]
    }
   ],
   "source": [
    "if device != 'mps':\n",
    "    !nvidia-smi\n"
   ],
   "metadata": {
    "collapsed": false,
    "ExecuteTime": {
     "end_time": "2024-02-19T17:55:43.918530500Z",
     "start_time": "2024-02-19T17:55:43.618863200Z"
    }
   },
   "id": "67a906779c9ec397",
   "execution_count": 84
  },
  {
   "cell_type": "markdown",
   "source": [
    "## Defining flags and variables"
   ],
   "metadata": {
    "collapsed": false
   },
   "id": "f5fa2f7278bc9000"
  },
  {
   "cell_type": "code",
   "outputs": [],
   "source": [
    "DATA_DIRECTORY = 'Data'             # Directory containing the dataset\n",
    "DATASET = 'MELD_efr.json'           # Name of dataset file\n",
    "\n",
    "DATASET_PATH = os.path.join(DATA_DIRECTORY, DATASET)    # Path of dataset in JSON format \n"
   ],
   "metadata": {
    "collapsed": false,
    "ExecuteTime": {
     "end_time": "2024-02-19T17:55:43.978097400Z",
     "start_time": "2024-02-19T17:55:43.919646600Z"
    }
   },
   "id": "335f829731d15ffd",
   "execution_count": 85
  },
  {
   "cell_type": "markdown",
   "source": [
    "## Dataset Creation and Exploration"
   ],
   "metadata": {
    "collapsed": false
   },
   "id": "94ef05c4366b7e6a"
  },
  {
   "cell_type": "code",
   "outputs": [
    {
     "data": {
      "text/plain": "                                                      speakers  \\\nepisode                                                          \nutterance_0  [Chandler, The Interviewer, Chandler, The Inte...   \nutterance_1  [Chandler, The Interviewer, Chandler, The Inte...   \nutterance_2  [Chandler, The Interviewer, Chandler, The Inte...   \nutterance_3  [Chandler, The Interviewer, Chandler, The Inte...   \nutterance_4                       [Joey, Rachel, Joey, Rachel]   \n\n                                                      emotions  \\\nepisode                                                          \nutterance_0     [neutral, neutral, neutral, neutral, surprise]   \nutterance_1  [neutral, neutral, neutral, neutral, surprise,...   \nutterance_2  [neutral, neutral, neutral, neutral, surprise,...   \nutterance_3  [neutral, neutral, neutral, neutral, surprise,...   \nutterance_4                [surprise, sadness, surprise, fear]   \n\n                                                    utterances  \\\nepisode                                                          \nutterance_0  [also I was the point person on my company's t...   \nutterance_1  [also I was the point person on my company's t...   \nutterance_2  [also I was the point person on my company's t...   \nutterance_3  [also I was the point person on my company's t...   \nutterance_4  [But then who? The waitress I went out with la...   \n\n                                                      triggers  \nepisode                                                         \nutterance_0                          [0.0, 0.0, 0.0, 1.0, 0.0]  \nutterance_1                [0.0, 0.0, 0.0, 0.0, 0.0, 1.0, 0.0]  \nutterance_2  [0.0, 0.0, 0.0, 0.0, 0.0, 0.0, 0.0, 1.0, 0.0, ...  \nutterance_3  [0.0, 0.0, 0.0, 0.0, 0.0, 0.0, 0.0, 0.0, 0.0, ...  \nutterance_4                               [0.0, 0.0, 1.0, 0.0]  ",
      "text/html": "<div>\n<style scoped>\n    .dataframe tbody tr th:only-of-type {\n        vertical-align: middle;\n    }\n\n    .dataframe tbody tr th {\n        vertical-align: top;\n    }\n\n    .dataframe thead th {\n        text-align: right;\n    }\n</style>\n<table border=\"1\" class=\"dataframe\">\n  <thead>\n    <tr style=\"text-align: right;\">\n      <th></th>\n      <th>speakers</th>\n      <th>emotions</th>\n      <th>utterances</th>\n      <th>triggers</th>\n    </tr>\n    <tr>\n      <th>episode</th>\n      <th></th>\n      <th></th>\n      <th></th>\n      <th></th>\n    </tr>\n  </thead>\n  <tbody>\n    <tr>\n      <th>utterance_0</th>\n      <td>[Chandler, The Interviewer, Chandler, The Inte...</td>\n      <td>[neutral, neutral, neutral, neutral, surprise]</td>\n      <td>[also I was the point person on my company's t...</td>\n      <td>[0.0, 0.0, 0.0, 1.0, 0.0]</td>\n    </tr>\n    <tr>\n      <th>utterance_1</th>\n      <td>[Chandler, The Interviewer, Chandler, The Inte...</td>\n      <td>[neutral, neutral, neutral, neutral, surprise,...</td>\n      <td>[also I was the point person on my company's t...</td>\n      <td>[0.0, 0.0, 0.0, 0.0, 0.0, 1.0, 0.0]</td>\n    </tr>\n    <tr>\n      <th>utterance_2</th>\n      <td>[Chandler, The Interviewer, Chandler, The Inte...</td>\n      <td>[neutral, neutral, neutral, neutral, surprise,...</td>\n      <td>[also I was the point person on my company's t...</td>\n      <td>[0.0, 0.0, 0.0, 0.0, 0.0, 0.0, 0.0, 1.0, 0.0, ...</td>\n    </tr>\n    <tr>\n      <th>utterance_3</th>\n      <td>[Chandler, The Interviewer, Chandler, The Inte...</td>\n      <td>[neutral, neutral, neutral, neutral, surprise,...</td>\n      <td>[also I was the point person on my company's t...</td>\n      <td>[0.0, 0.0, 0.0, 0.0, 0.0, 0.0, 0.0, 0.0, 0.0, ...</td>\n    </tr>\n    <tr>\n      <th>utterance_4</th>\n      <td>[Joey, Rachel, Joey, Rachel]</td>\n      <td>[surprise, sadness, surprise, fear]</td>\n      <td>[But then who? The waitress I went out with la...</td>\n      <td>[0.0, 0.0, 1.0, 0.0]</td>\n    </tr>\n  </tbody>\n</table>\n</div>"
     },
     "execution_count": 86,
     "metadata": {},
     "output_type": "execute_result"
    }
   ],
   "source": [
    "df = pd.read_json(DATASET_PATH)\n",
    "df.set_index(\"episode\", inplace=True)\n",
    "\n",
    "df.head()\n"
   ],
   "metadata": {
    "collapsed": false,
    "ExecuteTime": {
     "end_time": "2024-02-19T17:55:44.093069600Z",
     "start_time": "2024-02-19T17:55:43.980194600Z"
    }
   },
   "id": "204c1960d2293b56",
   "execution_count": 86
  },
  {
   "cell_type": "code",
   "outputs": [
    {
     "name": "stdout",
     "output_type": "stream",
     "text": [
      "Before: 9 NaN values\n",
      "After: 0 NaN values\n"
     ]
    }
   ],
   "source": [
    "# removing NaN values\n",
    "nan_count_before = df[\"triggers\"].apply(lambda lst: sum(pd.isna(x) for x in lst)).sum()\n",
    "df['triggers'] = df['triggers'].apply(replace_nan_with_zero)\n",
    "nan_count_after = df[\"triggers\"].apply(lambda lst: sum(pd.isna(x) for x in lst)).sum()\n",
    "\n",
    "print(f\"Before: {nan_count_before} NaN values\")\n",
    "print(f\"After: {nan_count_after} NaN values\")\n"
   ],
   "metadata": {
    "collapsed": false,
    "ExecuteTime": {
     "end_time": "2024-02-19T17:55:44.190962600Z",
     "start_time": "2024-02-19T17:55:44.093069600Z"
    }
   },
   "id": "faa3e0927a81e07",
   "execution_count": 87
  },
  {
   "cell_type": "code",
   "outputs": [
    {
     "name": "stdout",
     "output_type": "stream",
     "text": [
      "Size of each dataset:\n",
      "Training: (3200, 4)\n",
      "Validation: (400, 4)\n",
      "Test: (400, 4)\n"
     ]
    },
    {
     "data": {
      "text/plain": "                                            speakers  \\\n0                               [Joey, Rachel, Joey]   \n1  [Monica, Rachel, Monica, Monica, Monica, Phoeb...   \n2  [Chandler, Ross, Chandler, Ross, Chandler, Ros...   \n3  [Phoebe, Rachel, Phoebe, Phoebe, Phoebe, Phoeb...   \n4  [Ross, Gunther, Joey, Ross, Joey, Rachel, Moni...   \n\n                                            emotions  \\\n0                          [disgust, sadness, anger]   \n1  [joy, surprise, surprise, joy, neutral, sadnes...   \n2  [neutral, neutral, surprise, neutral, joy, neu...   \n3  [neutral, surprise, surprise, neutral, surpris...   \n4  [joy, joy, neutral, neutral, joy, neutral, neu...   \n\n                                          utterances  \\\n0  [One pregnant woman at a time, please! I just ...   \n1  [Now, this is last minute so I want to apologi...   \n2  [Hey., Chandler. I sensed it was you., What?!,...   \n3  [Okay. Would you rather live in the shirt pock...   \n4  [Oh, hey, Gunther, check this out., Yeah, that...   \n\n                                            triggers  \n0                                          [0, 0, 0]  \n1         [0, 0, 0, 0, 0, 0, 0, 0, 0, 0, 0, 0, 0, 0]  \n2  [0, 0, 0, 0, 0, 0, 0, 0, 0, 0, 0, 0, 0, 0, 0, ...  \n3                           [0, 0, 0, 0, 0, 0, 0, 0]  \n4         [0, 0, 0, 0, 0, 0, 0, 0, 0, 0, 0, 0, 0, 0]  ",
      "text/html": "<div>\n<style scoped>\n    .dataframe tbody tr th:only-of-type {\n        vertical-align: middle;\n    }\n\n    .dataframe tbody tr th {\n        vertical-align: top;\n    }\n\n    .dataframe thead th {\n        text-align: right;\n    }\n</style>\n<table border=\"1\" class=\"dataframe\">\n  <thead>\n    <tr style=\"text-align: right;\">\n      <th></th>\n      <th>speakers</th>\n      <th>emotions</th>\n      <th>utterances</th>\n      <th>triggers</th>\n    </tr>\n  </thead>\n  <tbody>\n    <tr>\n      <th>0</th>\n      <td>[Joey, Rachel, Joey]</td>\n      <td>[disgust, sadness, anger]</td>\n      <td>[One pregnant woman at a time, please! I just ...</td>\n      <td>[0, 0, 0]</td>\n    </tr>\n    <tr>\n      <th>1</th>\n      <td>[Monica, Rachel, Monica, Monica, Monica, Phoeb...</td>\n      <td>[joy, surprise, surprise, joy, neutral, sadnes...</td>\n      <td>[Now, this is last minute so I want to apologi...</td>\n      <td>[0, 0, 0, 0, 0, 0, 0, 0, 0, 0, 0, 0, 0, 0]</td>\n    </tr>\n    <tr>\n      <th>2</th>\n      <td>[Chandler, Ross, Chandler, Ross, Chandler, Ros...</td>\n      <td>[neutral, neutral, surprise, neutral, joy, neu...</td>\n      <td>[Hey., Chandler. I sensed it was you., What?!,...</td>\n      <td>[0, 0, 0, 0, 0, 0, 0, 0, 0, 0, 0, 0, 0, 0, 0, ...</td>\n    </tr>\n    <tr>\n      <th>3</th>\n      <td>[Phoebe, Rachel, Phoebe, Phoebe, Phoebe, Phoeb...</td>\n      <td>[neutral, surprise, surprise, neutral, surpris...</td>\n      <td>[Okay. Would you rather live in the shirt pock...</td>\n      <td>[0, 0, 0, 0, 0, 0, 0, 0]</td>\n    </tr>\n    <tr>\n      <th>4</th>\n      <td>[Ross, Gunther, Joey, Ross, Joey, Rachel, Moni...</td>\n      <td>[joy, joy, neutral, neutral, joy, neutral, neu...</td>\n      <td>[Oh, hey, Gunther, check this out., Yeah, that...</td>\n      <td>[0, 0, 0, 0, 0, 0, 0, 0, 0, 0, 0, 0, 0, 0]</td>\n    </tr>\n  </tbody>\n</table>\n</div>"
     },
     "metadata": {},
     "output_type": "display_data"
    },
    {
     "data": {
      "text/plain": "                                               speakers  \\\n3200  [Phoebe, Phoebe Sr, Phoebe, Phoebe Sr, Phoebe,...   \n3201  [Ross, Phoebe, Monica, Phoebe, Monica, Phoebe,...   \n3202  [Joey, Chandler, Joey, Chandler, Joey, Chandle...   \n3203  [Ross, Aunt Lillian, Monica, Mrs. Geller, Moni...   \n3204  [Monica, Chandler, Chandler, Monica, Chandler,...   \n\n                                               emotions  \\\n3200  [sadness, surprise, neutral, surprise, neutral...   \n3201  [neutral, neutral, neutral, neutral, neutral, ...   \n3202  [neutral, neutral, anger, joy, joy, sadness, s...   \n3203  [sadness, sadness, sadness, anger, surprise, s...   \n3204  [surprise, neutral, neutral, surprise, neutral...   \n\n                                             utterances  \\\n3200  [I'm sorry., What are you doing here?!, I-I, c...   \n3201  [That's the day you're gonna die? Seedarnit, ...   \n3202  [I know it doesn't make much sense, Much, Look...   \n3203  [So, uh, how's she doing?, The doctor says it'...   \n3204  [Oh yeah? When?, I'll tell you what., When we'...   \n\n                                               triggers  \n3200  [0, 0, 0, 0, 0, 0, 0, 0, 0, 0, 0, 0, 0, 0, 0, ...  \n3201                     [0, 0, 0, 0, 0, 0, 0, 0, 0, 0]  \n3202                  [0, 0, 0, 0, 0, 0, 0, 0, 0, 0, 0]  \n3203            [0, 0, 0, 0, 0, 0, 0, 0, 0, 0, 0, 0, 0]  \n3204                                 [0, 0, 0, 0, 0, 0]  ",
      "text/html": "<div>\n<style scoped>\n    .dataframe tbody tr th:only-of-type {\n        vertical-align: middle;\n    }\n\n    .dataframe tbody tr th {\n        vertical-align: top;\n    }\n\n    .dataframe thead th {\n        text-align: right;\n    }\n</style>\n<table border=\"1\" class=\"dataframe\">\n  <thead>\n    <tr style=\"text-align: right;\">\n      <th></th>\n      <th>speakers</th>\n      <th>emotions</th>\n      <th>utterances</th>\n      <th>triggers</th>\n    </tr>\n  </thead>\n  <tbody>\n    <tr>\n      <th>3200</th>\n      <td>[Phoebe, Phoebe Sr, Phoebe, Phoebe Sr, Phoebe,...</td>\n      <td>[sadness, surprise, neutral, surprise, neutral...</td>\n      <td>[I'm sorry., What are you doing here?!, I-I, c...</td>\n      <td>[0, 0, 0, 0, 0, 0, 0, 0, 0, 0, 0, 0, 0, 0, 0, ...</td>\n    </tr>\n    <tr>\n      <th>3201</th>\n      <td>[Ross, Phoebe, Monica, Phoebe, Monica, Phoebe,...</td>\n      <td>[neutral, neutral, neutral, neutral, neutral, ...</td>\n      <td>[That's the day you're gonna die? Seedarnit, ...</td>\n      <td>[0, 0, 0, 0, 0, 0, 0, 0, 0, 0]</td>\n    </tr>\n    <tr>\n      <th>3202</th>\n      <td>[Joey, Chandler, Joey, Chandler, Joey, Chandle...</td>\n      <td>[neutral, neutral, anger, joy, joy, sadness, s...</td>\n      <td>[I know it doesn't make much sense, Much, Look...</td>\n      <td>[0, 0, 0, 0, 0, 0, 0, 0, 0, 0, 0]</td>\n    </tr>\n    <tr>\n      <th>3203</th>\n      <td>[Ross, Aunt Lillian, Monica, Mrs. Geller, Moni...</td>\n      <td>[sadness, sadness, sadness, anger, surprise, s...</td>\n      <td>[So, uh, how's she doing?, The doctor says it'...</td>\n      <td>[0, 0, 0, 0, 0, 0, 0, 0, 0, 0, 0, 0, 0]</td>\n    </tr>\n    <tr>\n      <th>3204</th>\n      <td>[Monica, Chandler, Chandler, Monica, Chandler,...</td>\n      <td>[surprise, neutral, neutral, surprise, neutral...</td>\n      <td>[Oh yeah? When?, I'll tell you what., When we'...</td>\n      <td>[0, 0, 0, 0, 0, 0]</td>\n    </tr>\n  </tbody>\n</table>\n</div>"
     },
     "metadata": {},
     "output_type": "display_data"
    },
    {
     "data": {
      "text/plain": "                                               speakers  \\\n3600  [Russell, Ross, Russell, Ross, Russell, Russel...   \n3601  [Monica, The Food Critic, Monica, The Food Cri...   \n3602  [All, Ross, Phoebe, Rachel, Phoebe, Rachel, Ph...   \n3603                         [Chandler, Joey, Chandler]   \n3604  [Joey, Chandler, Joey, Joey, Chandler, Joey, J...   \n\n                                               emotions  \\\n3600  [neutral, neutral, neutral, neutral, neutral, ...   \n3601      [neutral, surprise, neutral, joy, anger, joy]   \n3602  [neutral, neutral, joy, surprise, neutral, dis...   \n3603                          [fear, neutral, surprise]   \n3604  [anger, neutral, anger, anger, neutral, neutra...   \n\n                                             utterances  \\\n3600  [You got married again., Yes., So that's your ...   \n3601  [Hi! Umm, I'm Monica Geller, I'm the chef at A...   \n3602  [Hey., How's the maniac?, Oh, well he's yummy....   \n3603  [What're we gonna do? What're we gonna do?, Uh...   \n3604  [You're driving me crazy with that!, Okay, I'l...   \n\n                                     triggers  \n3600                 [0, 0, 0, 0, 0, 0, 0, 0]  \n3601                       [0, 0, 0, 0, 0, 0]  \n3602              [0, 0, 0, 0, 0, 0, 0, 0, 0]  \n3603                                [0, 0, 0]  \n3604  [0, 0, 0, 0, 0, 0, 0, 0, 0, 0, 0, 0, 0]  ",
      "text/html": "<div>\n<style scoped>\n    .dataframe tbody tr th:only-of-type {\n        vertical-align: middle;\n    }\n\n    .dataframe tbody tr th {\n        vertical-align: top;\n    }\n\n    .dataframe thead th {\n        text-align: right;\n    }\n</style>\n<table border=\"1\" class=\"dataframe\">\n  <thead>\n    <tr style=\"text-align: right;\">\n      <th></th>\n      <th>speakers</th>\n      <th>emotions</th>\n      <th>utterances</th>\n      <th>triggers</th>\n    </tr>\n  </thead>\n  <tbody>\n    <tr>\n      <th>3600</th>\n      <td>[Russell, Ross, Russell, Ross, Russell, Russel...</td>\n      <td>[neutral, neutral, neutral, neutral, neutral, ...</td>\n      <td>[You got married again., Yes., So that's your ...</td>\n      <td>[0, 0, 0, 0, 0, 0, 0, 0]</td>\n    </tr>\n    <tr>\n      <th>3601</th>\n      <td>[Monica, The Food Critic, Monica, The Food Cri...</td>\n      <td>[neutral, surprise, neutral, joy, anger, joy]</td>\n      <td>[Hi! Umm, I'm Monica Geller, I'm the chef at A...</td>\n      <td>[0, 0, 0, 0, 0, 0]</td>\n    </tr>\n    <tr>\n      <th>3602</th>\n      <td>[All, Ross, Phoebe, Rachel, Phoebe, Rachel, Ph...</td>\n      <td>[neutral, neutral, joy, surprise, neutral, dis...</td>\n      <td>[Hey., How's the maniac?, Oh, well he's yummy....</td>\n      <td>[0, 0, 0, 0, 0, 0, 0, 0, 0]</td>\n    </tr>\n    <tr>\n      <th>3603</th>\n      <td>[Chandler, Joey, Chandler]</td>\n      <td>[fear, neutral, surprise]</td>\n      <td>[What're we gonna do? What're we gonna do?, Uh...</td>\n      <td>[0, 0, 0]</td>\n    </tr>\n    <tr>\n      <th>3604</th>\n      <td>[Joey, Chandler, Joey, Joey, Chandler, Joey, J...</td>\n      <td>[anger, neutral, anger, anger, neutral, neutra...</td>\n      <td>[You're driving me crazy with that!, Okay, I'l...</td>\n      <td>[0, 0, 0, 0, 0, 0, 0, 0, 0, 0, 0, 0, 0]</td>\n    </tr>\n  </tbody>\n</table>\n</div>"
     },
     "metadata": {},
     "output_type": "display_data"
    }
   ],
   "source": [
    "train_df, val_df, test_df = split_dataset(df)\n",
    "print(f\"Size of each dataset:\\nTraining: {train_df.shape}\\nValidation: {val_df.shape}\\nTest: {test_df.shape}\")\n",
    "\n",
    "display(train_df.head())\n",
    "display(val_df.head())\n",
    "display(test_df.head())"
   ],
   "metadata": {
    "collapsed": false,
    "ExecuteTime": {
     "end_time": "2024-02-19T17:55:44.251064700Z",
     "start_time": "2024-02-19T17:55:44.170241300Z"
    }
   },
   "id": "f57ca9b8c431fc6",
   "execution_count": 88
  },
  {
   "cell_type": "code",
   "outputs": [
    {
     "data": {
      "text/plain": "<Figure size 1800x600 with 3 Axes>",
      "image/png": "[encoded data removed]"
     },
     "metadata": {},
     "output_type": "display_data"
    }
   ],
   "source": [
    "plot_emotion_distribution(train_df, val_df, test_df)"
   ],
   "metadata": {
    "collapsed": false,
    "ExecuteTime": {
     "end_time": "2024-02-19T18:01:56.441065900Z",
     "start_time": "2024-02-19T18:01:56.135313600Z"
    }
   },
   "id": "f4cd06df1b333247",
   "execution_count": 94
  },
  {
   "cell_type": "markdown",
   "source": [
    "## Random Classifier"
   ],
   "metadata": {
    "collapsed": false
   },
   "id": "5b708a5070a72c85"
  },
  {
   "cell_type": "code",
   "outputs": [],
   "source": [
    "# todo metric computation\n",
    "\n",
    "emotions = np.unique([item for sublist in df[\"emotions\"] for item in sublist]) # flattening and taking unique emotions\n",
    "random_classifier = RandomClassifier(emotions)\n",
    "\n",
    "pred_emotions, pred_triggers = random_classifier.predict(test_df)\n",
    "\n",
    "# esempio di print per gli scettici che non crederanno che il classifier funziona\n",
    "print(pred_emotions[0], pred_triggers[0])\n"
   ],
   "metadata": {
    "collapsed": false,
    "ExecuteTime": {
     "start_time": "2024-02-19T17:55:45.079618400Z"
    }
   },
   "id": "3804e348d3bb097a",
   "execution_count": null
  },
  {
   "cell_type": "markdown",
   "source": [
    "## Majority Classifier"
   ],
   "metadata": {
    "collapsed": false
   },
   "id": "214a06bffbbf6b8d"
  },
  {
   "cell_type": "code",
   "outputs": [],
   "source": [
    "# todo metrics computation\n",
    "\n",
    "majority_classifier = MajorityClassifier()\n",
    "\n",
    "majority_classifier.fit(train_df)\n",
    "pred_emotions, pred_triggers = majority_classifier.predict(test_df)\n",
    "\n",
    "# esempio di print per gli scettici che non crederanno che il classifier funziona\n",
    "print(pred_emotions[0], pred_triggers[0])\n"
   ],
   "metadata": {
    "collapsed": false,
    "ExecuteTime": {
     "end_time": "2024-02-19T17:55:45.080616400Z",
     "start_time": "2024-02-19T17:55:45.080616400Z"
    }
   },
   "id": "5962c4462099f5f5",
   "execution_count": null
  },
  {
   "cell_type": "markdown",
   "source": [
    "## Bert Models"
   ],
   "metadata": {
    "collapsed": false
   },
   "id": "a65f1dc767977391"
  },
  {
   "cell_type": "code",
   "outputs": [],
   "source": [
    "# todo Bert Models\n",
    "# todo capire come fare l'encoding di frasi e SOPRATTUTTO emotions\n",
    "\n",
    "# Mauro fa schifo ihihih"
   ],
   "metadata": {
    "collapsed": false,
    "ExecuteTime": {
     "end_time": "2024-02-19T17:55:45.089245500Z",
     "start_time": "2024-02-19T17:55:45.080616400Z"
    }
   },
   "id": "9de65890f020ffb2",
   "execution_count": null
  }
 ],
 "metadata": {
  "kernelspec": {
   "display_name": "Python 3",
   "language": "python",
   "name": "python3"
  },
  "language_info": {
   "codemirror_mode": {
    "name": "ipython",
    "version": 2
   },
   "file_extension": ".py",
   "mimetype": "text/x-python",
   "name": "python",
   "nbconvert_exporter": "python",
   "pygments_lexer": "ipython2",
   "version": "2.7.6"
  }
 },
 "nbformat": 4,
 "nbformat_minor": 5
}
