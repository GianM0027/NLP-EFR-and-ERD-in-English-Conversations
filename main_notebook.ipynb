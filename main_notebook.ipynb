{
 "cells": [
  {
   "cell_type": "markdown",
   "source": [
    "# NLP Project\n",
    "Ciao gentaglia, qui a inizio notebook ci metto qualche info sul progetto, così non smattiamo per cercare le informazioni ogni volta.\n",
    "\n",
    "You can find the ppt with details and requirements of the project <a href=\"https://docs.google.com/presentation/d/1TTN1H3GdnaswGXW63SuSvD4CsI7HB9lkYuwXRMQp2ks/edit?usp=sharing\"> here</a>\n",
    "\n",
    "You can find the FAQ page <a href=\"https://virtuale.unibo.it/mod/page/view.php?id=1405067\"> here</a>\n",
    "\n",
    "You can find the official webpage of the challenge <a href=\"https://lcs2.in/SemEval2024-EDiReF/\"> here</a>\n",
    "\n"
   ],
   "metadata": {
    "collapsed": false
   },
   "id": "85bc3873332d289a"
  },
  {
   "cell_type": "code",
   "execution_count": null,
   "id": "initial_id",
   "metadata": {
    "collapsed": true
   },
   "outputs": [],
   "source": [
    "GianM0027/NLP_course_project"
   ]
  }
 ],
 "metadata": {
  "kernelspec": {
   "display_name": "Python 3",
   "language": "python",
   "name": "python3"
  },
  "language_info": {
   "codemirror_mode": {
    "name": "ipython",
    "version": 2
   },
   "file_extension": ".py",
   "mimetype": "text/x-python",
   "name": "python",
   "nbconvert_exporter": "python",
   "pygments_lexer": "ipython2",
   "version": "2.7.6"
  }
 },
 "nbformat": 4,
 "nbformat_minor": 5
}
