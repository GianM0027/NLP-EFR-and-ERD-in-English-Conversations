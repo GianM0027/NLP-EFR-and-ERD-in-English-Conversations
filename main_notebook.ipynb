{
 "cells": [
  {
   "cell_type": "markdown",
   "source": [
    "# NLP Project - EFR in English conversations\n",
    "\n",
    "You can find the ppt with details and requirements of the project <a href=\"https://docs.google.com/presentation/d/1TTN1H3GdnaswGXW63SuSvD4CsI7HB9lkYuwXRMQp2ks/edit?usp=sharing\"> here</a>. The ppt is equivalent to the <a href=\"https://virtuale.unibo.it/mod/page/view.php?id=1405067\"> FAQ page</a>\n",
    "\n",
    "You can find the official webpage of the challenge <a href=\"https://lcs2.in/SemEval2024-EDiReF/\"> here</a>"
   ],
   "metadata": {
    "collapsed": false
   },
   "id": "85bc3873332d289a"
  },
  {
   "cell_type": "markdown",
   "source": [
    "**EFR: Given a dialogue, EFR aims to identify the trigger utterance(s) for an emotion-flip in a multi-party conversation dialogue.** \n",
    "\n",
    "For example: \n",
    "<center>\n",
    "    <img src=\"./images/example_EFR.jpeg\" alt=\"EFR\" />\n",
    "</center>"
   ],
   "metadata": {
    "collapsed": false
   },
   "id": "8c1385f3bde50c1e"
  },
  {
   "cell_type": "code",
   "outputs": [
    {
     "name": "stdout",
     "output_type": "stream",
     "text": [
      "The autoreload extension is already loaded. To reload it, use:\n",
      "  %reload_ext autoreload\n"
     ]
    }
   ],
   "source": [
    "%load_ext autoreload\n",
    "%autoreload 2\n",
    "\n",
    "import pandas as pd\n",
    "import numpy\n",
    "import os\n",
    "import torch\n",
    "from sys import platform\n",
    "from utilities import *\n",
    "\n",
    "from models.randomClassifier import RandomClassifier\n",
    "from models.majorityClassifier import MajorityClassifier\n"
   ],
   "metadata": {
    "collapsed": false,
    "ExecuteTime": {
     "end_time": "2024-02-19T11:01:15.327412812Z",
     "start_time": "2024-02-19T11:01:15.312462752Z"
    }
   },
   "id": "2ece32ffd62b0215",
   "execution_count": 3
  },
  {
   "cell_type": "markdown",
   "source": [
    "## Setting the device"
   ],
   "metadata": {
    "collapsed": false
   },
   "id": "34d937b7e13fb772"
  },
  {
   "cell_type": "code",
   "outputs": [
    {
     "name": "stdout",
     "output_type": "stream",
     "text": [
      "PyTorch version: 2.2.0+cu121\n",
      "Using device: cuda\n"
     ]
    }
   ],
   "source": [
    "print(f\"PyTorch version: {torch.__version__}\")\n",
    "\n",
    "if platform == \"darwin\":    #Run on macOS\n",
    "    \n",
    "    print(f\"Is MPS (Metal Performance Shader) built? {torch.backends.mps.is_built()}\")\n",
    "    print(f\"Is MPS available? {torch.backends.mps.is_available()}\")\n",
    "    device = \"mps\" if torch.backends.mps.is_available() else \"cpu\"    \n",
    "else:\n",
    "    device = torch.device('cuda' if torch.cuda.is_available() else 'cpu') \n",
    "\n",
    "print(f\"Using device: {device}\")\n"
   ],
   "metadata": {
    "collapsed": false,
    "ExecuteTime": {
     "end_time": "2024-02-19T11:01:28.964325179Z",
     "start_time": "2024-02-19T11:01:28.903536836Z"
    }
   },
   "id": "78a08b1656d020fe",
   "execution_count": 4
  },
  {
   "cell_type": "code",
   "outputs": [
    {
     "name": "stdout",
     "output_type": "stream",
     "text": [
      "Mon Feb 19 12:01:37 2024       \r\n",
      "+---------------------------------------------------------------------------------------+\r\n",
      "| NVIDIA-SMI 545.29.06              Driver Version: 545.29.06    CUDA Version: 12.3     |\r\n",
      "|-----------------------------------------+----------------------+----------------------+\r\n",
      "| GPU  Name                 Persistence-M | Bus-Id        Disp.A | Volatile Uncorr. ECC |\r\n",
      "| Fan  Temp   Perf          Pwr:Usage/Cap |         Memory-Usage | GPU-Util  Compute M. |\r\n",
      "|                                         |                      |               MIG M. |\r\n",
      "|=========================================+======================+======================|\r\n",
      "|   0  NVIDIA GeForce RTX 4060 ...    Off | 00000000:01:00.0  On |                  N/A |\r\n",
      "| N/A   48C    P8               3W /  55W |     53MiB /  8188MiB |     15%      Default |\r\n",
      "|                                         |                      |                  N/A |\r\n",
      "+-----------------------------------------+----------------------+----------------------+\r\n",
      "                                                                                         \r\n",
      "+---------------------------------------------------------------------------------------+\r\n",
      "| Processes:                                                                            |\r\n",
      "|  GPU   GI   CI        PID   Type   Process name                            GPU Memory |\r\n",
      "|        ID   ID                                                             Usage      |\r\n",
      "|=======================================================================================|\r\n",
      "|    0   N/A  N/A       823      G   /usr/lib/Xorg                                45MiB |\r\n",
      "+---------------------------------------------------------------------------------------+\r\n"
     ]
    }
   ],
   "source": [
    "if device != 'mps':\n",
    "    !nvidia-smi"
   ],
   "metadata": {
    "collapsed": false,
    "ExecuteTime": {
     "end_time": "2024-02-19T11:01:37.826784716Z",
     "start_time": "2024-02-19T11:01:37.623759203Z"
    }
   },
   "id": "67a906779c9ec397",
   "execution_count": 5
  },
  {
   "cell_type": "markdown",
   "source": [
    "## Defining flags and variables"
   ],
   "metadata": {
    "collapsed": false
   },
   "id": "f5fa2f7278bc9000"
  },
  {
   "cell_type": "code",
   "outputs": [],
   "source": [
    "DATA_DIRECTORY = 'Data'             # Directory containing the dataset\n",
    "DATASET = 'MELD_efr.json'           # Name of dataset file\n",
    "\n",
    "DATASET_PATH = os.path.join(DATA_DIRECTORY, DATASET)    # Path of dataset in JSON format \n"
   ],
   "metadata": {
    "collapsed": false,
    "ExecuteTime": {
     "end_time": "2024-02-19T11:04:23.613960920Z",
     "start_time": "2024-02-19T11:04:23.602425626Z"
    }
   },
   "id": "335f829731d15ffd",
   "execution_count": 7
  },
  {
   "cell_type": "markdown",
   "source": [
    "## Dataset Creation and Splitting"
   ],
   "metadata": {
    "collapsed": false
   },
   "id": "94ef05c4366b7e6a"
  },
  {
   "cell_type": "code",
   "outputs": [
    {
     "data": {
      "text/plain": "                                                      speakers  \\\nepisode                                                          \nutterance_0  [Chandler, The Interviewer, Chandler, The Inte...   \nutterance_1  [Chandler, The Interviewer, Chandler, The Inte...   \nutterance_2  [Chandler, The Interviewer, Chandler, The Inte...   \nutterance_3  [Chandler, The Interviewer, Chandler, The Inte...   \nutterance_4                       [Joey, Rachel, Joey, Rachel]   \n\n                                                      emotions  \\\nepisode                                                          \nutterance_0     [neutral, neutral, neutral, neutral, surprise]   \nutterance_1  [neutral, neutral, neutral, neutral, surprise,...   \nutterance_2  [neutral, neutral, neutral, neutral, surprise,...   \nutterance_3  [neutral, neutral, neutral, neutral, surprise,...   \nutterance_4                [surprise, sadness, surprise, fear]   \n\n                                                    utterances  \\\nepisode                                                          \nutterance_0  [also I was the point person on my company's t...   \nutterance_1  [also I was the point person on my company's t...   \nutterance_2  [also I was the point person on my company's t...   \nutterance_3  [also I was the point person on my company's t...   \nutterance_4  [But then who? The waitress I went out with la...   \n\n                                                      triggers  \nepisode                                                         \nutterance_0                          [0.0, 0.0, 0.0, 1.0, 0.0]  \nutterance_1                [0.0, 0.0, 0.0, 0.0, 0.0, 1.0, 0.0]  \nutterance_2  [0.0, 0.0, 0.0, 0.0, 0.0, 0.0, 0.0, 1.0, 0.0, ...  \nutterance_3  [0.0, 0.0, 0.0, 0.0, 0.0, 0.0, 0.0, 0.0, 0.0, ...  \nutterance_4                               [0.0, 0.0, 1.0, 0.0]  ",
      "text/html": "<div>\n<style scoped>\n    .dataframe tbody tr th:only-of-type {\n        vertical-align: middle;\n    }\n\n    .dataframe tbody tr th {\n        vertical-align: top;\n    }\n\n    .dataframe thead th {\n        text-align: right;\n    }\n</style>\n<table border=\"1\" class=\"dataframe\">\n  <thead>\n    <tr style=\"text-align: right;\">\n      <th></th>\n      <th>speakers</th>\n      <th>emotions</th>\n      <th>utterances</th>\n      <th>triggers</th>\n    </tr>\n    <tr>\n      <th>episode</th>\n      <th></th>\n      <th></th>\n      <th></th>\n      <th></th>\n    </tr>\n  </thead>\n  <tbody>\n    <tr>\n      <th>utterance_0</th>\n      <td>[Chandler, The Interviewer, Chandler, The Inte...</td>\n      <td>[neutral, neutral, neutral, neutral, surprise]</td>\n      <td>[also I was the point person on my company's t...</td>\n      <td>[0.0, 0.0, 0.0, 1.0, 0.0]</td>\n    </tr>\n    <tr>\n      <th>utterance_1</th>\n      <td>[Chandler, The Interviewer, Chandler, The Inte...</td>\n      <td>[neutral, neutral, neutral, neutral, surprise,...</td>\n      <td>[also I was the point person on my company's t...</td>\n      <td>[0.0, 0.0, 0.0, 0.0, 0.0, 1.0, 0.0]</td>\n    </tr>\n    <tr>\n      <th>utterance_2</th>\n      <td>[Chandler, The Interviewer, Chandler, The Inte...</td>\n      <td>[neutral, neutral, neutral, neutral, surprise,...</td>\n      <td>[also I was the point person on my company's t...</td>\n      <td>[0.0, 0.0, 0.0, 0.0, 0.0, 0.0, 0.0, 1.0, 0.0, ...</td>\n    </tr>\n    <tr>\n      <th>utterance_3</th>\n      <td>[Chandler, The Interviewer, Chandler, The Inte...</td>\n      <td>[neutral, neutral, neutral, neutral, surprise,...</td>\n      <td>[also I was the point person on my company's t...</td>\n      <td>[0.0, 0.0, 0.0, 0.0, 0.0, 0.0, 0.0, 0.0, 0.0, ...</td>\n    </tr>\n    <tr>\n      <th>utterance_4</th>\n      <td>[Joey, Rachel, Joey, Rachel]</td>\n      <td>[surprise, sadness, surprise, fear]</td>\n      <td>[But then who? The waitress I went out with la...</td>\n      <td>[0.0, 0.0, 1.0, 0.0]</td>\n    </tr>\n  </tbody>\n</table>\n</div>"
     },
     "execution_count": 8,
     "metadata": {},
     "output_type": "execute_result"
    }
   ],
   "source": [
    "df = pd.read_json(DATASET_PATH)\n",
    "df.set_index(\"episode\", inplace=True)\n",
    "\n",
    "df.head()\n"
   ],
   "metadata": {
    "collapsed": false,
    "ExecuteTime": {
     "end_time": "2024-02-19T11:04:27.421970991Z",
     "start_time": "2024-02-19T11:04:27.340612602Z"
    }
   },
   "id": "204c1960d2293b56",
   "execution_count": 8
  },
  {
   "cell_type": "code",
   "outputs": [
    {
     "name": "stdout",
     "output_type": "stream",
     "text": [
      "Before: 9 NaN values\n",
      "After: 0 NaN values\n"
     ]
    }
   ],
   "source": [
    "#removing NaN values\n",
    "nan_count_before = df[\"triggers\"].apply(lambda lst: sum(pd.isna(x) for x in lst)).sum()\n",
    "df['triggers'] = df['triggers'].apply(replace_nan_with_zero)\n",
    "nan_count_after = df[\"triggers\"].apply(lambda lst: sum(pd.isna(x) for x in lst)).sum()\n",
    "\n",
    "print(f\"Before: {nan_count_before} NaN values\")\n",
    "print(f\"After: {nan_count_after} NaN values\")\n"
   ],
   "metadata": {
    "collapsed": false,
    "ExecuteTime": {
     "end_time": "2024-02-19T11:04:29.177483708Z",
     "start_time": "2024-02-19T11:04:29.148351740Z"
    }
   },
   "id": "faa3e0927a81e07",
   "execution_count": 9
  },
  {
   "cell_type": "code",
   "outputs": [
    {
     "name": "stdout",
     "output_type": "stream",
     "text": [
      "Size of each dataset:\n",
      "Training: (3200, 4)\n",
      "Validation: (400, 4)\n",
      "Test: (400, 4)\n"
     ]
    },
    {
     "data": {
      "text/plain": "                                                         speakers  \\\nepisode                                                             \nutterance_512   [Ross, Chandler, Ross, Chandler, Ross, Chandle...   \nutterance_1748  [Monica, Phoebe, Phoebe, Phoebe, Monica, Mike,...   \nutterance_193   [Joey, Wayne, Joey, Joey, Joey, Joey, Joey, Jo...   \nutterance_1306  [Joey, Joey, Joey, Joey, Joey, Monica, Joey, J...   \nutterance_2660         [Ross, Rachel, Ross, Rachel, Ross, Rachel]   \n...                                                           ...   \nutterance_91    [Monica, Chandler, Phoebe, Rachel, Monica, Ros...   \nutterance_2427  [Mr. Posner, Rachel, Joanna, Joanna, Joanna, J...   \nutterance_3627  [Phoebe, Phoebe, Phoebe, Phoebe, Monica, Phoeb...   \nutterance_1     [Chandler, The Interviewer, Chandler, The Inte...   \nutterance_170   [Monica, Joey, Monica, Phoebe, Rachel, Joey, R...   \n\n                                                         emotions  \\\nepisode                                                             \nutterance_512   [neutral, neutral, neutral, joy, fear, joy, su...   \nutterance_1748  [anger, neutral, neutral, joy, neutral, neutra...   \nutterance_193   [joy, anger, surprise, neutral, neutral, fear,...   \nutterance_1306  [joy, neutral, neutral, neutral, surprise, joy...   \nutterance_2660  [anger, neutral, anger, disgust, neutral, sadn...   \n...                                                           ...   \nutterance_91    [surprise, anger, surprise, joy, neutral, neut...   \nutterance_2427  [joy, joy, neutral, surprise, neutral, joy, ne...   \nutterance_3627  [neutral, neutral, neutral, joy, surprise, joy...   \nutterance_1     [neutral, neutral, neutral, neutral, surprise,...   \nutterance_170   [joy, surprise, anger, surprise, neutral, neut...   \n\n                                                       utterances  \\\nepisode                                                             \nutterance_512   [Ok, bye.  Well, Monica's not coming, it's jus...   \nutterance_1748  [I can't believe it's raining again! Oh, it's ...   \nutterance_193   [Morning! Hey, how's my favorite genius and my...   \nutterance_1306  [Very funny Ross!, Very life-like and funny., ...   \nutterance_2660  [Y'know, hey! You're the one who ended it, rem...   \n...                                                           ...   \nutterance_91    [Are you insane? I mean Joey, is going to kill...   \nutterance_2427  [You have a very impressive resume, Ms. Green....   \nutterance_3627  [And there's a country called Argentinaaaa,   ...   \nutterance_1     [also I was the point person on my company's t...   \nutterance_170   [Because we won our apartment back!, What? Ace...   \n\n                                               triggers  \nepisode                                                  \nutterance_512         [0, 0, 0, 0, 0, 0, 0, 0, 0, 0, 0]  \nutterance_1748                    [0, 0, 0, 0, 0, 0, 0]  \nutterance_193               [0, 0, 0, 0, 0, 0, 0, 0, 0]  \nutterance_1306  [0, 0, 0, 0, 0, 0, 0, 0, 0, 0, 0, 0, 0]  \nutterance_2660                       [0, 0, 0, 0, 0, 0]  \n...                                                 ...  \nutterance_91                      [0, 0, 0, 0, 0, 0, 0]  \nutterance_2427              [0, 0, 0, 0, 0, 0, 0, 0, 0]  \nutterance_3627                    [0, 0, 0, 0, 0, 0, 0]  \nutterance_1                       [0, 0, 0, 0, 0, 0, 0]  \nutterance_170                  [0, 0, 0, 0, 0, 0, 0, 0]  \n\n[3200 rows x 4 columns]",
      "text/html": "<div>\n<style scoped>\n    .dataframe tbody tr th:only-of-type {\n        vertical-align: middle;\n    }\n\n    .dataframe tbody tr th {\n        vertical-align: top;\n    }\n\n    .dataframe thead th {\n        text-align: right;\n    }\n</style>\n<table border=\"1\" class=\"dataframe\">\n  <thead>\n    <tr style=\"text-align: right;\">\n      <th></th>\n      <th>speakers</th>\n      <th>emotions</th>\n      <th>utterances</th>\n      <th>triggers</th>\n    </tr>\n    <tr>\n      <th>episode</th>\n      <th></th>\n      <th></th>\n      <th></th>\n      <th></th>\n    </tr>\n  </thead>\n  <tbody>\n    <tr>\n      <th>utterance_512</th>\n      <td>[Ross, Chandler, Ross, Chandler, Ross, Chandle...</td>\n      <td>[neutral, neutral, neutral, joy, fear, joy, su...</td>\n      <td>[Ok, bye.  Well, Monica's not coming, it's jus...</td>\n      <td>[0, 0, 0, 0, 0, 0, 0, 0, 0, 0, 0]</td>\n    </tr>\n    <tr>\n      <th>utterance_1748</th>\n      <td>[Monica, Phoebe, Phoebe, Phoebe, Monica, Mike,...</td>\n      <td>[anger, neutral, neutral, joy, neutral, neutra...</td>\n      <td>[I can't believe it's raining again! Oh, it's ...</td>\n      <td>[0, 0, 0, 0, 0, 0, 0]</td>\n    </tr>\n    <tr>\n      <th>utterance_193</th>\n      <td>[Joey, Wayne, Joey, Joey, Joey, Joey, Joey, Jo...</td>\n      <td>[joy, anger, surprise, neutral, neutral, fear,...</td>\n      <td>[Morning! Hey, how's my favorite genius and my...</td>\n      <td>[0, 0, 0, 0, 0, 0, 0, 0, 0]</td>\n    </tr>\n    <tr>\n      <th>utterance_1306</th>\n      <td>[Joey, Joey, Joey, Joey, Joey, Monica, Joey, J...</td>\n      <td>[joy, neutral, neutral, neutral, surprise, joy...</td>\n      <td>[Very funny Ross!, Very life-like and funny., ...</td>\n      <td>[0, 0, 0, 0, 0, 0, 0, 0, 0, 0, 0, 0, 0]</td>\n    </tr>\n    <tr>\n      <th>utterance_2660</th>\n      <td>[Ross, Rachel, Ross, Rachel, Ross, Rachel]</td>\n      <td>[anger, neutral, anger, disgust, neutral, sadn...</td>\n      <td>[Y'know, hey! You're the one who ended it, rem...</td>\n      <td>[0, 0, 0, 0, 0, 0]</td>\n    </tr>\n    <tr>\n      <th>...</th>\n      <td>...</td>\n      <td>...</td>\n      <td>...</td>\n      <td>...</td>\n    </tr>\n    <tr>\n      <th>utterance_91</th>\n      <td>[Monica, Chandler, Phoebe, Rachel, Monica, Ros...</td>\n      <td>[surprise, anger, surprise, joy, neutral, neut...</td>\n      <td>[Are you insane? I mean Joey, is going to kill...</td>\n      <td>[0, 0, 0, 0, 0, 0, 0]</td>\n    </tr>\n    <tr>\n      <th>utterance_2427</th>\n      <td>[Mr. Posner, Rachel, Joanna, Joanna, Joanna, J...</td>\n      <td>[joy, joy, neutral, surprise, neutral, joy, ne...</td>\n      <td>[You have a very impressive resume, Ms. Green....</td>\n      <td>[0, 0, 0, 0, 0, 0, 0, 0, 0]</td>\n    </tr>\n    <tr>\n      <th>utterance_3627</th>\n      <td>[Phoebe, Phoebe, Phoebe, Phoebe, Monica, Phoeb...</td>\n      <td>[neutral, neutral, neutral, joy, surprise, joy...</td>\n      <td>[And there's a country called Argentinaaaa,   ...</td>\n      <td>[0, 0, 0, 0, 0, 0, 0]</td>\n    </tr>\n    <tr>\n      <th>utterance_1</th>\n      <td>[Chandler, The Interviewer, Chandler, The Inte...</td>\n      <td>[neutral, neutral, neutral, neutral, surprise,...</td>\n      <td>[also I was the point person on my company's t...</td>\n      <td>[0, 0, 0, 0, 0, 0, 0]</td>\n    </tr>\n    <tr>\n      <th>utterance_170</th>\n      <td>[Monica, Joey, Monica, Phoebe, Rachel, Joey, R...</td>\n      <td>[joy, surprise, anger, surprise, neutral, neut...</td>\n      <td>[Because we won our apartment back!, What? Ace...</td>\n      <td>[0, 0, 0, 0, 0, 0, 0, 0]</td>\n    </tr>\n  </tbody>\n</table>\n<p>3200 rows × 4 columns</p>\n</div>"
     },
     "metadata": {},
     "output_type": "display_data"
    },
    {
     "data": {
      "text/plain": "                                                         speakers  \\\nepisode                                                             \nutterance_1613  [Monica, Richard, Richard's Date, Monica, Rich...   \nutterance_1490  [Phoebe, Rachel, Phoebe, Rachel, Phoebe, Rache...   \nutterance_3973  [Ben, Rachel, Ben, Rachel, Ben, Rachel, Rachel...   \nutterance_3425  [Rachel, Ross, Joey, Chandler, Monica, Ross, C...   \nutterance_3095  [Elizabeth, Ross, Elizabeth, Ross, Ross, Eliza...   \n...                                                           ...   \nutterance_1279  [Ross, Chandler, Ross, Chandler, Ross, Chandle...   \nutterance_3937                       [Chandler, Monica, Chandler]   \nutterance_1555  [Joey, Man, Joey, Joey, Man, Joey, Man, Joey, ...   \nutterance_1560           [Phoebe, Rachel, Phoebe, Rachel, Phoebe]   \nutterance_1249  [Phoebe, Chandler, Phoebe, Phoebe, Phoebe, All...   \n\n                                                         emotions  \\\nepisode                                                             \nutterance_1613  [anger, neutral, neutral, surprise, neutral, n...   \nutterance_1490  [neutral, neutral, anger, sadness, surprise, n...   \nutterance_3973  [surprise, neutral, joy, surprise, joy, surpri...   \nutterance_3425  [anger, surprise, joy, neutral, neutral, anger...   \nutterance_3095  [joy, surprise, neutral, neutral, neutral, neu...   \n...                                                           ...   \nutterance_1279  [neutral, surprise, neutral, surprise, joy, jo...   \nutterance_3937                            [joy, neutral, neutral]   \nutterance_1555  [neutral, surprise, neutral, neutral, surprise...   \nutterance_1560                  [joy, joy, joy, neutral, disgust]   \nutterance_1249  [anger, neutral, neutral, neutral, sadness, ne...   \n\n                                                       utterances  \\\nepisode                                                             \nutterance_1613  [Ow!, Really?! Well, it's just like everyone e...   \nutterance_1490  [Are you okay?, I need some milk., Ok, I've go...   \nutterance_3973  [Really? Like how?, Well y'know, we would umm,...   \nutterance_3425  [I'm telling you it's like watching Bambi lear...   \nutterance_3095  [Oh please! It was such a big class! You never...   \n...                                                           ...   \nutterance_1279  [Hi., Hey.  Soaps? Shampoos? Are you really ta...   \nutterance_3937  [Well, I feel like a snack!, Do you want some ...   \nutterance_1555  [Hi! I'm Dr. Drake Remoray and I have a few ro...   \nutterance_1560  [Hey! You guys, I'm writing a holiday song for...   \nutterance_1249  [Oh! Here we, All right, y'know what, we've be...   \n\n                                                         triggers  \nepisode                                                            \nutterance_1613               [0, 0, 0, 0, 0, 0, 0, 0, 0, 0, 0, 0]  \nutterance_1490         [0, 0, 0, 0, 0, 0, 0, 0, 0, 0, 0, 0, 0, 0]  \nutterance_3973      [0, 0, 0, 0, 0, 0, 0, 0, 0, 0, 0, 0, 0, 0, 0]  \nutterance_3425         [0, 0, 0, 0, 0, 0, 0, 0, 0, 0, 0, 0, 0, 0]  \nutterance_3095            [0, 0, 0, 0, 0, 0, 0, 0, 0, 0, 0, 0, 0]  \n...                                                           ...  \nutterance_1279  [0, 0, 0, 0, 0, 0, 0, 0, 0, 0, 0, 0, 0, 0, 0, ...  \nutterance_3937                                          [0, 0, 0]  \nutterance_1555  [0, 0, 0, 0, 0, 0, 0, 0, 0, 0, 0, 0, 0, 0, 0, ...  \nutterance_1560                                    [0, 0, 0, 0, 0]  \nutterance_1249                        [0, 0, 0, 0, 0, 0, 0, 0, 0]  \n\n[400 rows x 4 columns]",
      "text/html": "<div>\n<style scoped>\n    .dataframe tbody tr th:only-of-type {\n        vertical-align: middle;\n    }\n\n    .dataframe tbody tr th {\n        vertical-align: top;\n    }\n\n    .dataframe thead th {\n        text-align: right;\n    }\n</style>\n<table border=\"1\" class=\"dataframe\">\n  <thead>\n    <tr style=\"text-align: right;\">\n      <th></th>\n      <th>speakers</th>\n      <th>emotions</th>\n      <th>utterances</th>\n      <th>triggers</th>\n    </tr>\n    <tr>\n      <th>episode</th>\n      <th></th>\n      <th></th>\n      <th></th>\n      <th></th>\n    </tr>\n  </thead>\n  <tbody>\n    <tr>\n      <th>utterance_1613</th>\n      <td>[Monica, Richard, Richard's Date, Monica, Rich...</td>\n      <td>[anger, neutral, neutral, surprise, neutral, n...</td>\n      <td>[Ow!, Really?! Well, it's just like everyone e...</td>\n      <td>[0, 0, 0, 0, 0, 0, 0, 0, 0, 0, 0, 0]</td>\n    </tr>\n    <tr>\n      <th>utterance_1490</th>\n      <td>[Phoebe, Rachel, Phoebe, Rachel, Phoebe, Rache...</td>\n      <td>[neutral, neutral, anger, sadness, surprise, n...</td>\n      <td>[Are you okay?, I need some milk., Ok, I've go...</td>\n      <td>[0, 0, 0, 0, 0, 0, 0, 0, 0, 0, 0, 0, 0, 0]</td>\n    </tr>\n    <tr>\n      <th>utterance_3973</th>\n      <td>[Ben, Rachel, Ben, Rachel, Ben, Rachel, Rachel...</td>\n      <td>[surprise, neutral, joy, surprise, joy, surpri...</td>\n      <td>[Really? Like how?, Well y'know, we would umm,...</td>\n      <td>[0, 0, 0, 0, 0, 0, 0, 0, 0, 0, 0, 0, 0, 0, 0]</td>\n    </tr>\n    <tr>\n      <th>utterance_3425</th>\n      <td>[Rachel, Ross, Joey, Chandler, Monica, Ross, C...</td>\n      <td>[anger, surprise, joy, neutral, neutral, anger...</td>\n      <td>[I'm telling you it's like watching Bambi lear...</td>\n      <td>[0, 0, 0, 0, 0, 0, 0, 0, 0, 0, 0, 0, 0, 0]</td>\n    </tr>\n    <tr>\n      <th>utterance_3095</th>\n      <td>[Elizabeth, Ross, Elizabeth, Ross, Ross, Eliza...</td>\n      <td>[joy, surprise, neutral, neutral, neutral, neu...</td>\n      <td>[Oh please! It was such a big class! You never...</td>\n      <td>[0, 0, 0, 0, 0, 0, 0, 0, 0, 0, 0, 0, 0]</td>\n    </tr>\n    <tr>\n      <th>...</th>\n      <td>...</td>\n      <td>...</td>\n      <td>...</td>\n      <td>...</td>\n    </tr>\n    <tr>\n      <th>utterance_1279</th>\n      <td>[Ross, Chandler, Ross, Chandler, Ross, Chandle...</td>\n      <td>[neutral, surprise, neutral, surprise, joy, jo...</td>\n      <td>[Hi., Hey.  Soaps? Shampoos? Are you really ta...</td>\n      <td>[0, 0, 0, 0, 0, 0, 0, 0, 0, 0, 0, 0, 0, 0, 0, ...</td>\n    </tr>\n    <tr>\n      <th>utterance_3937</th>\n      <td>[Chandler, Monica, Chandler]</td>\n      <td>[joy, neutral, neutral]</td>\n      <td>[Well, I feel like a snack!, Do you want some ...</td>\n      <td>[0, 0, 0]</td>\n    </tr>\n    <tr>\n      <th>utterance_1555</th>\n      <td>[Joey, Man, Joey, Joey, Man, Joey, Man, Joey, ...</td>\n      <td>[neutral, surprise, neutral, neutral, surprise...</td>\n      <td>[Hi! I'm Dr. Drake Remoray and I have a few ro...</td>\n      <td>[0, 0, 0, 0, 0, 0, 0, 0, 0, 0, 0, 0, 0, 0, 0, ...</td>\n    </tr>\n    <tr>\n      <th>utterance_1560</th>\n      <td>[Phoebe, Rachel, Phoebe, Rachel, Phoebe]</td>\n      <td>[joy, joy, joy, neutral, disgust]</td>\n      <td>[Hey! You guys, I'm writing a holiday song for...</td>\n      <td>[0, 0, 0, 0, 0]</td>\n    </tr>\n    <tr>\n      <th>utterance_1249</th>\n      <td>[Phoebe, Chandler, Phoebe, Phoebe, Phoebe, All...</td>\n      <td>[anger, neutral, neutral, neutral, sadness, ne...</td>\n      <td>[Oh! Here we, All right, y'know what, we've be...</td>\n      <td>[0, 0, 0, 0, 0, 0, 0, 0, 0]</td>\n    </tr>\n  </tbody>\n</table>\n<p>400 rows × 4 columns</p>\n</div>"
     },
     "metadata": {},
     "output_type": "display_data"
    },
    {
     "data": {
      "text/plain": "                                                         speakers  \\\nepisode                                                             \nutterance_2222  [Joey, Joey, Joey, Joey, Joey, Joey, Joey, Nur...   \nutterance_308   [Monica, Chandler, Monica, Chandler, Monica, C...   \nutterance_870   [Monica, Rachel, Monica, Rachel, Monica, Ross,...   \nutterance_1722               [Phoebe, Joey, Monica, Joey, Monica]   \nutterance_3748                       [Ross, Rachel, Ross, Rachel]   \n...                                                           ...   \nutterance_589                    [Chandler, Joey, Chandler, Joey]   \nutterance_2466  [Rachel, Joey, Rachel, Joey, Joey, Joey, Joey,...   \nutterance_3084  [Phoebe, Joey, Phoebe, Joey, Phoebe, Joey, Mon...   \nutterance_2283  [Joey, Ross, Chandler, Chandler, Rachel, Chand...   \nutterance_2305  [Joey, Chandler, Joey, Chandler, Joey, Chandle...   \n\n                                                         emotions  \\\nepisode                                                             \nutterance_2222  [sadness, sadness, sadness, sadness, neutral, ...   \nutterance_308   [neutral, neutral, anger, disgust, sadness, ne...   \nutterance_870   [anger, surprise, joy, joy, surprise, joy, neu...   \nutterance_1722      [neutral, neutral, disgust, sadness, neutral]   \nutterance_3748                [sadness, neutral, surprise, anger]   \n...                                                           ...   \nutterance_589                   [neutral, joy, neutral, surprise]   \nutterance_2466  [surprise, neutral, joy, joy, neutral, neutral...   \nutterance_3084  [joy, neutral, neutral, surprise, sadness, joy...   \nutterance_2283  [disgust, disgust, anger, neutral, neutral, su...   \nutterance_2305  [joy, fear, neutral, neutral, surprise, fear, ...   \n\n                                                       utterances  \\\nepisode                                                             \nutterance_2222  [Wait!, Terry!, Please!, Look, I just lost my ...   \nutterance_308   [Chandler, we still haven't gotten an RSVP fro...   \nutterance_870   [We were on the platform, ready to dance the w...   \nutterance_1722  [Hey, Joey. What's going on?, Clear the tracks...   \nutterance_3748  [Ahh, no., Oh., Are you jealous?, Noo, I y'kno...   \n...                                                           ...   \nutterance_589   [Well, I just thought it'd make me feel good t...   \nutterance_2466  [Joey? Could you get that?  What are you doing...   \nutterance_3084  [Oh hey! How was your audition?, I'm sorry, do...   \nutterance_2283  [Do you have any respect for your body?, Don't...   \nutterance_2305  [Hey!, Please tell me you got the message!, Wh...   \n\n                                                         triggers  \nepisode                                                            \nutterance_2222                  [0, 0, 0, 0, 0, 0, 0, 0, 0, 0, 0]  \nutterance_308                                  [0, 0, 0, 0, 0, 0]  \nutterance_870                         [0, 0, 0, 0, 0, 0, 0, 0, 0]  \nutterance_1722                                    [0, 0, 0, 0, 0]  \nutterance_3748                                       [0, 0, 0, 0]  \n...                                                           ...  \nutterance_589                                        [0, 0, 0, 0]  \nutterance_2466  [0, 0, 0, 0, 0, 0, 0, 0, 0, 0, 0, 0, 0, 0, 0, ...  \nutterance_3084         [0, 0, 0, 0, 0, 0, 0, 0, 0, 0, 0, 0, 0, 0]  \nutterance_2283                     [0, 0, 0, 0, 0, 0, 0, 0, 0, 0]  \nutterance_2305                           [0, 0, 0, 0, 0, 0, 0, 0]  \n\n[400 rows x 4 columns]",
      "text/html": "<div>\n<style scoped>\n    .dataframe tbody tr th:only-of-type {\n        vertical-align: middle;\n    }\n\n    .dataframe tbody tr th {\n        vertical-align: top;\n    }\n\n    .dataframe thead th {\n        text-align: right;\n    }\n</style>\n<table border=\"1\" class=\"dataframe\">\n  <thead>\n    <tr style=\"text-align: right;\">\n      <th></th>\n      <th>speakers</th>\n      <th>emotions</th>\n      <th>utterances</th>\n      <th>triggers</th>\n    </tr>\n    <tr>\n      <th>episode</th>\n      <th></th>\n      <th></th>\n      <th></th>\n      <th></th>\n    </tr>\n  </thead>\n  <tbody>\n    <tr>\n      <th>utterance_2222</th>\n      <td>[Joey, Joey, Joey, Joey, Joey, Joey, Joey, Nur...</td>\n      <td>[sadness, sadness, sadness, sadness, neutral, ...</td>\n      <td>[Wait!, Terry!, Please!, Look, I just lost my ...</td>\n      <td>[0, 0, 0, 0, 0, 0, 0, 0, 0, 0, 0]</td>\n    </tr>\n    <tr>\n      <th>utterance_308</th>\n      <td>[Monica, Chandler, Monica, Chandler, Monica, C...</td>\n      <td>[neutral, neutral, anger, disgust, sadness, ne...</td>\n      <td>[Chandler, we still haven't gotten an RSVP fro...</td>\n      <td>[0, 0, 0, 0, 0, 0]</td>\n    </tr>\n    <tr>\n      <th>utterance_870</th>\n      <td>[Monica, Rachel, Monica, Rachel, Monica, Ross,...</td>\n      <td>[anger, surprise, joy, joy, surprise, joy, neu...</td>\n      <td>[We were on the platform, ready to dance the w...</td>\n      <td>[0, 0, 0, 0, 0, 0, 0, 0, 0]</td>\n    </tr>\n    <tr>\n      <th>utterance_1722</th>\n      <td>[Phoebe, Joey, Monica, Joey, Monica]</td>\n      <td>[neutral, neutral, disgust, sadness, neutral]</td>\n      <td>[Hey, Joey. What's going on?, Clear the tracks...</td>\n      <td>[0, 0, 0, 0, 0]</td>\n    </tr>\n    <tr>\n      <th>utterance_3748</th>\n      <td>[Ross, Rachel, Ross, Rachel]</td>\n      <td>[sadness, neutral, surprise, anger]</td>\n      <td>[Ahh, no., Oh., Are you jealous?, Noo, I y'kno...</td>\n      <td>[0, 0, 0, 0]</td>\n    </tr>\n    <tr>\n      <th>...</th>\n      <td>...</td>\n      <td>...</td>\n      <td>...</td>\n      <td>...</td>\n    </tr>\n    <tr>\n      <th>utterance_589</th>\n      <td>[Chandler, Joey, Chandler, Joey]</td>\n      <td>[neutral, joy, neutral, surprise]</td>\n      <td>[Well, I just thought it'd make me feel good t...</td>\n      <td>[0, 0, 0, 0]</td>\n    </tr>\n    <tr>\n      <th>utterance_2466</th>\n      <td>[Rachel, Joey, Rachel, Joey, Joey, Joey, Joey,...</td>\n      <td>[surprise, neutral, joy, joy, neutral, neutral...</td>\n      <td>[Joey? Could you get that?  What are you doing...</td>\n      <td>[0, 0, 0, 0, 0, 0, 0, 0, 0, 0, 0, 0, 0, 0, 0, ...</td>\n    </tr>\n    <tr>\n      <th>utterance_3084</th>\n      <td>[Phoebe, Joey, Phoebe, Joey, Phoebe, Joey, Mon...</td>\n      <td>[joy, neutral, neutral, surprise, sadness, joy...</td>\n      <td>[Oh hey! How was your audition?, I'm sorry, do...</td>\n      <td>[0, 0, 0, 0, 0, 0, 0, 0, 0, 0, 0, 0, 0, 0]</td>\n    </tr>\n    <tr>\n      <th>utterance_2283</th>\n      <td>[Joey, Ross, Chandler, Chandler, Rachel, Chand...</td>\n      <td>[disgust, disgust, anger, neutral, neutral, su...</td>\n      <td>[Do you have any respect for your body?, Don't...</td>\n      <td>[0, 0, 0, 0, 0, 0, 0, 0, 0, 0]</td>\n    </tr>\n    <tr>\n      <th>utterance_2305</th>\n      <td>[Joey, Chandler, Joey, Chandler, Joey, Chandle...</td>\n      <td>[joy, fear, neutral, neutral, surprise, fear, ...</td>\n      <td>[Hey!, Please tell me you got the message!, Wh...</td>\n      <td>[0, 0, 0, 0, 0, 0, 0, 0]</td>\n    </tr>\n  </tbody>\n</table>\n<p>400 rows × 4 columns</p>\n</div>"
     },
     "metadata": {},
     "output_type": "display_data"
    }
   ],
   "source": [
    "train_df, val_df, test_df = split_dataset(df)\n",
    "print(f\"Size of each dataset:\\nTraining: {train_df.shape}\\nValidation: {val_df.shape}\\nTest: {test_df.shape}\")\n",
    "\n",
    "display(train_df)\n",
    "display(val_df)\n",
    "display(test_df)"
   ],
   "metadata": {
    "collapsed": false,
    "ExecuteTime": {
     "end_time": "2024-02-19T11:04:30.834699899Z",
     "start_time": "2024-02-19T11:04:30.798621636Z"
    }
   },
   "id": "f57ca9b8c431fc6",
   "execution_count": 10
  },
  {
   "cell_type": "markdown",
   "source": [
    "## Random Classifier"
   ],
   "metadata": {
    "collapsed": false
   },
   "id": "5b708a5070a72c85"
  },
  {
   "cell_type": "code",
   "outputs": [
    {
     "name": "stdout",
     "output_type": "stream",
     "text": [
      "['joy', 'surprise', 'surprise'] [0, 1, 1]\n"
     ]
    }
   ],
   "source": [
    "# todo metric computation\n",
    "\n",
    "emotions = np.unique([item for sublist in df[\"emotions\"] for item in sublist]) # flattening and taking unique emotions\n",
    "random_classifier = RandomClassifier(emotions)\n",
    "\n",
    "predicted_labels = random_classifier.predict(test_df)\n",
    "\n",
    "# esempio di print per gli scettici che non crederanno che il classifier funziona\n",
    "print(predicted_labels[0][0], predicted_labels[1][0])\n"
   ],
   "metadata": {
    "collapsed": false,
    "ExecuteTime": {
     "end_time": "2024-02-19T10:44:27.202260300Z",
     "start_time": "2024-02-19T10:44:27.117296300Z"
    }
   },
   "id": "3804e348d3bb097a",
   "execution_count": 8
  },
  {
   "cell_type": "markdown",
   "source": [
    "## Majority Classifier"
   ],
   "metadata": {
    "collapsed": false
   },
   "id": "214a06bffbbf6b8d"
  },
  {
   "cell_type": "code",
   "outputs": [
    {
     "name": "stdout",
     "output_type": "stream",
     "text": [
      "['neutral', 'neutral', 'neutral'] [0, 0, 0]\n"
     ]
    }
   ],
   "source": [
    "# todo metrics computation\n",
    "\n",
    "majority_classifier = MajorityClassifier()\n",
    "\n",
    "majority_classifier.fit(train_df)\n",
    "predicted_labels = majority_classifier.predict(test_df)\n",
    "\n",
    "# esempio di print per gli scettici che non crederanno che il classifier funziona\n",
    "print(predicted_labels[0][0], predicted_labels[1][0])\n"
   ],
   "metadata": {
    "collapsed": false,
    "ExecuteTime": {
     "end_time": "2024-02-19T10:44:27.275542200Z",
     "start_time": "2024-02-19T10:44:27.196260700Z"
    }
   },
   "id": "5962c4462099f5f5",
   "execution_count": 9
  },
  {
   "cell_type": "markdown",
   "source": [
    "## Bert Models"
   ],
   "metadata": {
    "collapsed": false
   },
   "id": "a65f1dc767977391"
  },
  {
   "cell_type": "code",
   "outputs": [],
   "source": [
    "# todo Bert Models"
   ],
   "metadata": {
    "collapsed": false,
    "ExecuteTime": {
     "end_time": "2024-02-19T10:44:27.338359400Z",
     "start_time": "2024-02-19T10:44:27.273499600Z"
    }
   },
   "id": "9de65890f020ffb2",
   "execution_count": 10
  }
 ],
 "metadata": {
  "kernelspec": {
   "display_name": "Python 3",
   "language": "python",
   "name": "python3"
  },
  "language_info": {
   "codemirror_mode": {
    "name": "ipython",
    "version": 2
   },
   "file_extension": ".py",
   "mimetype": "text/x-python",
   "name": "python",
   "nbconvert_exporter": "python",
   "pygments_lexer": "ipython2",
   "version": "2.7.6"
  }
 },
 "nbformat": 4,
 "nbformat_minor": 5
}
