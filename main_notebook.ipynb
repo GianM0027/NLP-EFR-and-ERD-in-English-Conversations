{
 "cells": [
  {
   "cell_type": "markdown",
   "source": [
    "# NLP Project - EFR in English conversations\n",
    "\n",
    "You can find the ppt with details and requirements of the project <a href=\"https://docs.google.com/presentation/d/1TTN1H3GdnaswGXW63SuSvD4CsI7HB9lkYuwXRMQp2ks/edit?usp=sharing\"> here</a>. The ppt is equivalent to the <a href=\"https://virtuale.unibo.it/mod/page/view.php?id=1405067\"> FAQ page</a>\n",
    "\n",
    "You can find the official webpage of the challenge <a href=\"https://lcs2.in/SemEval2024-EDiReF/\"> here</a>"
   ],
   "metadata": {
    "collapsed": false
   },
   "id": "85bc3873332d289a"
  },
  {
   "cell_type": "markdown",
   "source": [
    "**EFR: Given a dialogue, EFR aims to identify the trigger utterance(s) for an emotion-flip in a multi-party conversation dialogue.** \n",
    "\n",
    "For example: \n",
    "<center>\n",
    "    <img src=\"./images/example_EFR.jpeg\" alt=\"EFR\" />\n",
    "</center>"
   ],
   "metadata": {
    "collapsed": false
   },
   "id": "8c1385f3bde50c1e"
  },
  {
   "cell_type": "code",
   "outputs": [],
   "source": [
    "import numpy as np\n",
    "%load_ext autoreload\n",
    "%autoreload 2\n",
    "\n",
    "import pandas as pd\n",
    "import numpy\n",
    "import os\n",
    "import torch\n",
    "from sys import platform\n",
    "from utilities import *\n",
    "\n",
    "from models.randomClassifier import RandomClassifier\n",
    "from models.majorityClassifier import MajorityClassifier\n",
    "\n",
    "from DrTorch.metrics import F1_Score_Multi_Labels\n",
    "from models.bertFull import BertFull\n"
   ],
   "metadata": {
    "collapsed": false,
    "ExecuteTime": {
     "end_time": "2024-02-21T18:34:11.178317Z",
     "start_time": "2024-02-21T18:34:09.090872Z"
    }
   },
   "id": "2ece32ffd62b0215",
   "execution_count": 1
  },
  {
   "cell_type": "markdown",
   "source": [
    "## Setting the device"
   ],
   "metadata": {
    "collapsed": false
   },
   "id": "34d937b7e13fb772"
  },
  {
   "cell_type": "code",
   "outputs": [
    {
     "name": "stdout",
     "output_type": "stream",
     "text": [
      "PyTorch version: 2.1.2\n",
      "Is MPS (Metal Performance Shader) built? True\n",
      "Is MPS available? True\n",
      "Using device: mps\n"
     ]
    }
   ],
   "source": [
    "print(f\"PyTorch version: {torch.__version__}\")\n",
    "\n",
    "if platform == \"darwin\":    #Run on macOS\n",
    "    \n",
    "    print(f\"Is MPS (Metal Performance Shader) built? {torch.backends.mps.is_built()}\")\n",
    "    print(f\"Is MPS available? {torch.backends.mps.is_available()}\")\n",
    "    device = \"mps\" if torch.backends.mps.is_available() else \"cpu\"    \n",
    "else:\n",
    "    device = torch.device('cuda' if torch.cuda.is_available() else 'cpu') \n",
    "\n",
    "print(f\"Using device: {device}\")\n"
   ],
   "metadata": {
    "collapsed": false,
    "ExecuteTime": {
     "end_time": "2024-02-21T18:34:11.218096Z",
     "start_time": "2024-02-21T18:34:11.179571Z"
    }
   },
   "id": "78a08b1656d020fe",
   "execution_count": 2
  },
  {
   "cell_type": "code",
   "outputs": [],
   "source": [
    "if device != 'mps':\n",
    "    !nvidia-smi\n"
   ],
   "metadata": {
    "collapsed": false,
    "ExecuteTime": {
     "end_time": "2024-02-21T18:34:11.230684Z",
     "start_time": "2024-02-21T18:34:11.216522Z"
    }
   },
   "id": "67a906779c9ec397",
   "execution_count": 3
  },
  {
   "cell_type": "markdown",
   "source": [
    "## Defining flags and variables"
   ],
   "metadata": {
    "collapsed": false
   },
   "id": "f5fa2f7278bc9000"
  },
  {
   "cell_type": "code",
   "outputs": [],
   "source": [
    "DATA_DIRECTORY = 'Data'             # Directory containing the dataset\n",
    "DATASET = 'MELD_efr.json'           # Name of dataset file\n",
    "\n",
    "BERT_DIRECTORY = \"bert-base-uncased\"\n",
    "\n",
    "DATASET_PATH = os.path.join(DATA_DIRECTORY, DATASET)    # Path of dataset in JSON format \n"
   ],
   "metadata": {
    "collapsed": false,
    "ExecuteTime": {
     "end_time": "2024-02-21T18:34:11.248120Z",
     "start_time": "2024-02-21T18:34:11.231280Z"
    }
   },
   "id": "335f829731d15ffd",
   "execution_count": 4
  },
  {
   "cell_type": "markdown",
   "source": [
    "## Dataset Creation and Exploration"
   ],
   "metadata": {
    "collapsed": false
   },
   "id": "94ef05c4366b7e6a"
  },
  {
   "cell_type": "code",
   "outputs": [
    {
     "data": {
      "text/plain": "                                                         speakers  \\\nepisode                                                             \nutterance_0     [Chandler, The Interviewer, Chandler, The Inte...   \nutterance_1     [Chandler, The Interviewer, Chandler, The Inte...   \nutterance_2     [Chandler, The Interviewer, Chandler, The Inte...   \nutterance_3     [Chandler, The Interviewer, Chandler, The Inte...   \nutterance_4                          [Joey, Rachel, Joey, Rachel]   \n...                                                           ...   \nutterance_3995  [Chandler, All, Monica, Chandler, Ross, Chandl...   \nutterance_3996  [Chandler, All, Monica, Chandler, Ross, Chandl...   \nutterance_3997  [Chandler, All, Monica, Chandler, Ross, Chandl...   \nutterance_3998  [Chandler, All, Monica, Chandler, Ross, Chandl...   \nutterance_3999  [Chandler, All, Monica, Chandler, Ross, Chandl...   \n\n                                                         emotions  \\\nepisode                                                             \nutterance_0        [neutral, neutral, neutral, neutral, surprise]   \nutterance_1     [neutral, neutral, neutral, neutral, surprise,...   \nutterance_2     [neutral, neutral, neutral, neutral, surprise,...   \nutterance_3     [neutral, neutral, neutral, neutral, surprise,...   \nutterance_4                   [surprise, sadness, surprise, fear]   \n...                                                           ...   \nutterance_3995  [neutral, joy, neutral, neutral, surprise, dis...   \nutterance_3996  [neutral, joy, neutral, neutral, surprise, dis...   \nutterance_3997  [neutral, joy, neutral, neutral, surprise, dis...   \nutterance_3998  [neutral, joy, neutral, neutral, surprise, dis...   \nutterance_3999  [neutral, joy, neutral, neutral, surprise, dis...   \n\n                                                       utterances  \\\nepisode                                                             \nutterance_0     [also I was the point person on my company's t...   \nutterance_1     [also I was the point person on my company's t...   \nutterance_2     [also I was the point person on my company's t...   \nutterance_3     [also I was the point person on my company's t...   \nutterance_4     [But then who? The waitress I went out with la...   \n...                                                           ...   \nutterance_3995  [Hey., Hey!, So how was Joan?, I broke up with...   \nutterance_3996  [Hey., Hey!, So how was Joan?, I broke up with...   \nutterance_3997  [Hey., Hey!, So how was Joan?, I broke up with...   \nutterance_3998  [Hey., Hey!, So how was Joan?, I broke up with...   \nutterance_3999  [Hey., Hey!, So how was Joan?, I broke up with...   \n\n                                                         triggers  \nepisode                                                            \nutterance_0                             [0.0, 0.0, 0.0, 1.0, 0.0]  \nutterance_1                   [0.0, 0.0, 0.0, 0.0, 0.0, 1.0, 0.0]  \nutterance_2     [0.0, 0.0, 0.0, 0.0, 0.0, 0.0, 0.0, 1.0, 0.0, ...  \nutterance_3     [0.0, 0.0, 0.0, 0.0, 0.0, 0.0, 0.0, 0.0, 0.0, ...  \nutterance_4                                  [0.0, 0.0, 1.0, 0.0]  \n...                                                           ...  \nutterance_3995  [0.0, 0.0, 0.0, 0.0, 0.0, 0.0, 0.0, 0.0, 0.0, ...  \nutterance_3996  [0.0, 0.0, 0.0, 0.0, 0.0, 0.0, 0.0, 0.0, 0.0, ...  \nutterance_3997  [0.0, 0.0, 0.0, 0.0, 0.0, 0.0, 0.0, 0.0, 0.0, ...  \nutterance_3998  [0.0, 0.0, 0.0, 0.0, 0.0, 0.0, 0.0, 0.0, 0.0, ...  \nutterance_3999  [0.0, 0.0, 0.0, 0.0, 0.0, 0.0, 0.0, 0.0, 0.0, ...  \n\n[4000 rows x 4 columns]",
      "text/html": "<div>\n<style scoped>\n    .dataframe tbody tr th:only-of-type {\n        vertical-align: middle;\n    }\n\n    .dataframe tbody tr th {\n        vertical-align: top;\n    }\n\n    .dataframe thead th {\n        text-align: right;\n    }\n</style>\n<table border=\"1\" class=\"dataframe\">\n  <thead>\n    <tr style=\"text-align: right;\">\n      <th></th>\n      <th>speakers</th>\n      <th>emotions</th>\n      <th>utterances</th>\n      <th>triggers</th>\n    </tr>\n    <tr>\n      <th>episode</th>\n      <th></th>\n      <th></th>\n      <th></th>\n      <th></th>\n    </tr>\n  </thead>\n  <tbody>\n    <tr>\n      <th>utterance_0</th>\n      <td>[Chandler, The Interviewer, Chandler, The Inte...</td>\n      <td>[neutral, neutral, neutral, neutral, surprise]</td>\n      <td>[also I was the point person on my company's t...</td>\n      <td>[0.0, 0.0, 0.0, 1.0, 0.0]</td>\n    </tr>\n    <tr>\n      <th>utterance_1</th>\n      <td>[Chandler, The Interviewer, Chandler, The Inte...</td>\n      <td>[neutral, neutral, neutral, neutral, surprise,...</td>\n      <td>[also I was the point person on my company's t...</td>\n      <td>[0.0, 0.0, 0.0, 0.0, 0.0, 1.0, 0.0]</td>\n    </tr>\n    <tr>\n      <th>utterance_2</th>\n      <td>[Chandler, The Interviewer, Chandler, The Inte...</td>\n      <td>[neutral, neutral, neutral, neutral, surprise,...</td>\n      <td>[also I was the point person on my company's t...</td>\n      <td>[0.0, 0.0, 0.0, 0.0, 0.0, 0.0, 0.0, 1.0, 0.0, ...</td>\n    </tr>\n    <tr>\n      <th>utterance_3</th>\n      <td>[Chandler, The Interviewer, Chandler, The Inte...</td>\n      <td>[neutral, neutral, neutral, neutral, surprise,...</td>\n      <td>[also I was the point person on my company's t...</td>\n      <td>[0.0, 0.0, 0.0, 0.0, 0.0, 0.0, 0.0, 0.0, 0.0, ...</td>\n    </tr>\n    <tr>\n      <th>utterance_4</th>\n      <td>[Joey, Rachel, Joey, Rachel]</td>\n      <td>[surprise, sadness, surprise, fear]</td>\n      <td>[But then who? The waitress I went out with la...</td>\n      <td>[0.0, 0.0, 1.0, 0.0]</td>\n    </tr>\n    <tr>\n      <th>...</th>\n      <td>...</td>\n      <td>...</td>\n      <td>...</td>\n      <td>...</td>\n    </tr>\n    <tr>\n      <th>utterance_3995</th>\n      <td>[Chandler, All, Monica, Chandler, Ross, Chandl...</td>\n      <td>[neutral, joy, neutral, neutral, surprise, dis...</td>\n      <td>[Hey., Hey!, So how was Joan?, I broke up with...</td>\n      <td>[0.0, 0.0, 0.0, 0.0, 0.0, 0.0, 0.0, 0.0, 0.0, ...</td>\n    </tr>\n    <tr>\n      <th>utterance_3996</th>\n      <td>[Chandler, All, Monica, Chandler, Ross, Chandl...</td>\n      <td>[neutral, joy, neutral, neutral, surprise, dis...</td>\n      <td>[Hey., Hey!, So how was Joan?, I broke up with...</td>\n      <td>[0.0, 0.0, 0.0, 0.0, 0.0, 0.0, 0.0, 0.0, 0.0, ...</td>\n    </tr>\n    <tr>\n      <th>utterance_3997</th>\n      <td>[Chandler, All, Monica, Chandler, Ross, Chandl...</td>\n      <td>[neutral, joy, neutral, neutral, surprise, dis...</td>\n      <td>[Hey., Hey!, So how was Joan?, I broke up with...</td>\n      <td>[0.0, 0.0, 0.0, 0.0, 0.0, 0.0, 0.0, 0.0, 0.0, ...</td>\n    </tr>\n    <tr>\n      <th>utterance_3998</th>\n      <td>[Chandler, All, Monica, Chandler, Ross, Chandl...</td>\n      <td>[neutral, joy, neutral, neutral, surprise, dis...</td>\n      <td>[Hey., Hey!, So how was Joan?, I broke up with...</td>\n      <td>[0.0, 0.0, 0.0, 0.0, 0.0, 0.0, 0.0, 0.0, 0.0, ...</td>\n    </tr>\n    <tr>\n      <th>utterance_3999</th>\n      <td>[Chandler, All, Monica, Chandler, Ross, Chandl...</td>\n      <td>[neutral, joy, neutral, neutral, surprise, dis...</td>\n      <td>[Hey., Hey!, So how was Joan?, I broke up with...</td>\n      <td>[0.0, 0.0, 0.0, 0.0, 0.0, 0.0, 0.0, 0.0, 0.0, ...</td>\n    </tr>\n  </tbody>\n</table>\n<p>4000 rows × 4 columns</p>\n</div>"
     },
     "execution_count": 5,
     "metadata": {},
     "output_type": "execute_result"
    }
   ],
   "source": [
    "df = pd.read_json(DATASET_PATH)\n",
    "df.set_index(\"episode\", inplace=True)\n",
    "\n",
    "df\n"
   ],
   "metadata": {
    "collapsed": false,
    "ExecuteTime": {
     "end_time": "2024-02-21T18:34:11.297848Z",
     "start_time": "2024-02-21T18:34:11.247975Z"
    }
   },
   "id": "204c1960d2293b56",
   "execution_count": 5
  },
  {
   "cell_type": "code",
   "execution_count": 6,
   "outputs": [
    {
     "name": "stdout",
     "output_type": "stream",
     "text": [
      "Utterance 3491\n"
     ]
    },
    {
     "data": {
      "text/plain": "  speakers  emotions                                         utterances  \\\n0   Phoebe  surprise                  You-you\nyou had sex with Ursula?!   \n1     Eric      fear  Uh, a little bit. She-she-she walked in and I ...   \n2   Phoebe  surprise  You didn't notice she was wearing different cl...   \n3     Eric   sadness             Well I was just so excited to see you.   \n\n  triggers  \n0      0.0  \n1      0.0  \n2      1.0  \n3      0.0  ",
      "text/html": "<div>\n<style scoped>\n    .dataframe tbody tr th:only-of-type {\n        vertical-align: middle;\n    }\n\n    .dataframe tbody tr th {\n        vertical-align: top;\n    }\n\n    .dataframe thead th {\n        text-align: right;\n    }\n</style>\n<table border=\"1\" class=\"dataframe\">\n  <thead>\n    <tr style=\"text-align: right;\">\n      <th></th>\n      <th>speakers</th>\n      <th>emotions</th>\n      <th>utterances</th>\n      <th>triggers</th>\n    </tr>\n  </thead>\n  <tbody>\n    <tr>\n      <th>0</th>\n      <td>Phoebe</td>\n      <td>surprise</td>\n      <td>You-youyou had sex with Ursula?!</td>\n      <td>0.0</td>\n    </tr>\n    <tr>\n      <th>1</th>\n      <td>Eric</td>\n      <td>fear</td>\n      <td>Uh, a little bit. She-she-she walked in and I ...</td>\n      <td>0.0</td>\n    </tr>\n    <tr>\n      <th>2</th>\n      <td>Phoebe</td>\n      <td>surprise</td>\n      <td>You didn't notice she was wearing different cl...</td>\n      <td>1.0</td>\n    </tr>\n    <tr>\n      <th>3</th>\n      <td>Eric</td>\n      <td>sadness</td>\n      <td>Well I was just so excited to see you.</td>\n      <td>0.0</td>\n    </tr>\n  </tbody>\n</table>\n</div>"
     },
     "metadata": {},
     "output_type": "display_data"
    },
    {
     "name": "stdout",
     "output_type": "stream",
     "text": [
      "\n",
      "Utterance 456\n"
     ]
    },
    {
     "data": {
      "text/plain": "       speakers  emotions                                         utterances  \\\n0          Kate       joy                             Become a drama critic!   \n1  The Director   sadness          I am hurt!  A plague on both your houses!   \n2          Kate   sadness  By the way, he dumped me tonight after he read...   \n3          Joey   disgust                                        Oh, classy.   \n4          Kate   sadness  Yep! I sure know how to pick em, huh? Y'know ...   \n5          Joey     anger               Wow! Yeah I ah, I gave up a job too.   \n6          Kate  surprise                                      Really. What?   \n7          Joey     anger                               Uh, de-clawing cats.   \n8          Joey   neutral                                 Hey, tell ya what.   \n\n  triggers  \n0      0.0  \n1      0.0  \n2      0.0  \n3      0.0  \n4      0.0  \n5      0.0  \n6      0.0  \n7      0.0  \n8      0.0  ",
      "text/html": "<div>\n<style scoped>\n    .dataframe tbody tr th:only-of-type {\n        vertical-align: middle;\n    }\n\n    .dataframe tbody tr th {\n        vertical-align: top;\n    }\n\n    .dataframe thead th {\n        text-align: right;\n    }\n</style>\n<table border=\"1\" class=\"dataframe\">\n  <thead>\n    <tr style=\"text-align: right;\">\n      <th></th>\n      <th>speakers</th>\n      <th>emotions</th>\n      <th>utterances</th>\n      <th>triggers</th>\n    </tr>\n  </thead>\n  <tbody>\n    <tr>\n      <th>0</th>\n      <td>Kate</td>\n      <td>joy</td>\n      <td>Become a drama critic!</td>\n      <td>0.0</td>\n    </tr>\n    <tr>\n      <th>1</th>\n      <td>The Director</td>\n      <td>sadness</td>\n      <td>I am hurt!  A plague on both your houses!</td>\n      <td>0.0</td>\n    </tr>\n    <tr>\n      <th>2</th>\n      <td>Kate</td>\n      <td>sadness</td>\n      <td>By the way, he dumped me tonight after he read...</td>\n      <td>0.0</td>\n    </tr>\n    <tr>\n      <th>3</th>\n      <td>Joey</td>\n      <td>disgust</td>\n      <td>Oh, classy.</td>\n      <td>0.0</td>\n    </tr>\n    <tr>\n      <th>4</th>\n      <td>Kate</td>\n      <td>sadness</td>\n      <td>Yep! I sure know how to pick em, huh? Y'know ...</td>\n      <td>0.0</td>\n    </tr>\n    <tr>\n      <th>5</th>\n      <td>Joey</td>\n      <td>anger</td>\n      <td>Wow! Yeah I ah, I gave up a job too.</td>\n      <td>0.0</td>\n    </tr>\n    <tr>\n      <th>6</th>\n      <td>Kate</td>\n      <td>surprise</td>\n      <td>Really. What?</td>\n      <td>0.0</td>\n    </tr>\n    <tr>\n      <th>7</th>\n      <td>Joey</td>\n      <td>anger</td>\n      <td>Uh, de-clawing cats.</td>\n      <td>0.0</td>\n    </tr>\n    <tr>\n      <th>8</th>\n      <td>Joey</td>\n      <td>neutral</td>\n      <td>Hey, tell ya what.</td>\n      <td>0.0</td>\n    </tr>\n  </tbody>\n</table>\n</div>"
     },
     "metadata": {},
     "output_type": "display_data"
    },
    {
     "name": "stdout",
     "output_type": "stream",
     "text": [
      "\n",
      "Utterance 2005\n"
     ]
    },
    {
     "data": {
      "text/plain": "   speakers  emotions                                         utterances  \\\n0  Chandler   neutral                              Where you going, Joe?   \n1      Joey   neutral                                        For a walk.   \n2  Chandler   neutral                        Oh. You mind if I join you?   \n3      Joey   neutral  Actually, that will be long. You know, I reall...   \n4  Chandler  surprise                             Your thoughts? Plural?   \n5      Joey       joy  Allright, fine, I only have one thought! It's ...   \n\n  triggers  \n0      0.0  \n1      0.0  \n2      0.0  \n3      0.0  \n4      1.0  \n5      1.0  ",
      "text/html": "<div>\n<style scoped>\n    .dataframe tbody tr th:only-of-type {\n        vertical-align: middle;\n    }\n\n    .dataframe tbody tr th {\n        vertical-align: top;\n    }\n\n    .dataframe thead th {\n        text-align: right;\n    }\n</style>\n<table border=\"1\" class=\"dataframe\">\n  <thead>\n    <tr style=\"text-align: right;\">\n      <th></th>\n      <th>speakers</th>\n      <th>emotions</th>\n      <th>utterances</th>\n      <th>triggers</th>\n    </tr>\n  </thead>\n  <tbody>\n    <tr>\n      <th>0</th>\n      <td>Chandler</td>\n      <td>neutral</td>\n      <td>Where you going, Joe?</td>\n      <td>0.0</td>\n    </tr>\n    <tr>\n      <th>1</th>\n      <td>Joey</td>\n      <td>neutral</td>\n      <td>For a walk.</td>\n      <td>0.0</td>\n    </tr>\n    <tr>\n      <th>2</th>\n      <td>Chandler</td>\n      <td>neutral</td>\n      <td>Oh. You mind if I join you?</td>\n      <td>0.0</td>\n    </tr>\n    <tr>\n      <th>3</th>\n      <td>Joey</td>\n      <td>neutral</td>\n      <td>Actually, that will be long. You know, I reall...</td>\n      <td>0.0</td>\n    </tr>\n    <tr>\n      <th>4</th>\n      <td>Chandler</td>\n      <td>surprise</td>\n      <td>Your thoughts? Plural?</td>\n      <td>1.0</td>\n    </tr>\n    <tr>\n      <th>5</th>\n      <td>Joey</td>\n      <td>joy</td>\n      <td>Allright, fine, I only have one thought! It's ...</td>\n      <td>1.0</td>\n    </tr>\n  </tbody>\n</table>\n</div>"
     },
     "metadata": {},
     "output_type": "display_data"
    },
    {
     "name": "stdout",
     "output_type": "stream",
     "text": []
    }
   ],
   "source": [
    "display_utterance(dataframe=df, utterance_id='utterance_3491')\n",
    "display_utterance(dataframe=df, utterance_id='utterance_456')\n",
    "display_utterance(dataframe=df, utterance_id='utterance_2005')\n"
   ],
   "metadata": {
    "collapsed": false,
    "ExecuteTime": {
     "end_time": "2024-02-21T18:34:11.335335Z",
     "start_time": "2024-02-21T18:34:11.296118Z"
    }
   },
   "id": "621ea6ad4b24d43c"
  },
  {
   "cell_type": "markdown",
   "source": [
    "[START] frase1_dialogo1 [SEP] frase2_dialogo1 [SEP] ... [END]\n",
    "[START] frase1_dialogo2 [SEP] ...\n",
    "...\n",
    "\n",
    "Frase, speaker, id_dialogo"
   ],
   "metadata": {
    "collapsed": false
   },
   "id": "f240abc50e5599d4"
  },
  {
   "cell_type": "code",
   "outputs": [
    {
     "name": "stdout",
     "output_type": "stream",
     "text": [
      "Before: 9 NaN values\n",
      "After: 0 NaN values\n"
     ]
    }
   ],
   "source": [
    "# removing NaN values\n",
    "nan_count_before = df[\"triggers\"].apply(lambda lst: sum(pd.isna(x) for x in lst)).sum()\n",
    "df['triggers'] = df['triggers'].apply(replace_nan_with_zero)\n",
    "nan_count_after = df[\"triggers\"].apply(lambda lst: sum(pd.isna(x) for x in lst)).sum()\n",
    "\n",
    "print(f\"Before: {nan_count_before} NaN values\")\n",
    "print(f\"After: {nan_count_after} NaN values\")\n"
   ],
   "metadata": {
    "collapsed": false,
    "ExecuteTime": {
     "end_time": "2024-02-21T18:34:11.426444Z",
     "start_time": "2024-02-21T18:34:11.318040Z"
    }
   },
   "id": "faa3e0927a81e07",
   "execution_count": 7
  },
  {
   "cell_type": "code",
   "execution_count": 8,
   "outputs": [
    {
     "name": "stdout",
     "output_type": "stream",
     "text": [
      "Number of unique speakers: 231\n",
      "\n",
      "Minimum number of speakers in an utterance: 1\n",
      "Maximum number of speakers in an utterance: 8\n",
      "\n",
      "Minimum number of sentences in an utterance: 2\n",
      "Maximum number of sentences in an utterance: 24\n"
     ]
    }
   ],
   "source": [
    "total_n_speakers = list(set(df['speakers'].explode()))\n",
    "speakers = {'min_speakers': 'inf', 'max_speakers': '-inf'}\n",
    "utterances = {'length_min': 'inf', 'length_max': '-inf'}\n",
    "\n",
    "num_unique_speakers = df['speakers'].apply(lambda x: len(set(x)))\n",
    "speakers['min_speakers'] = num_unique_speakers.min()\n",
    "speakers['max_speakers'] = num_unique_speakers.max()\n",
    "\n",
    "len_utterances = df['utterances'].str.len() \n",
    "utterances['length_min'] = len_utterances.min()\n",
    "utterances['length_max'] = len_utterances.max()\n",
    "    \n",
    "        \n",
    "print(f\"Number of unique speakers: {len(total_n_speakers)}\\n\")\n",
    "print(f\"Minimum number of speakers in an utterance: {speakers['min_speakers']}\")\n",
    "print(f\"Maximum number of speakers in an utterance: {speakers['max_speakers']}\\n\")\n",
    "print(f\"Minimum number of sentences in an utterance: {utterances['length_min']}\")\n",
    "print(f\"Maximum number of sentences in an utterance: {utterances['length_max']}\")"
   ],
   "metadata": {
    "collapsed": false,
    "ExecuteTime": {
     "end_time": "2024-02-21T18:34:11.463351Z",
     "start_time": "2024-02-21T18:34:11.369183Z"
    }
   },
   "id": "32ab77d01de505f2"
  },
  {
   "cell_type": "code",
   "outputs": [
    {
     "data": {
      "text/plain": "                                                         speakers  \\\nindex                                                               \nutterance_3646  [Phoebe, Mike, Phoebe, Mike, Phoebe, Mike, Pho...   \nutterance_770   [Danny, Joey, Chandler, Joey, Chandler, Krista...   \nutterance_3409                         [Chandler, Joey, Chandler]   \nutterance_3954  [Monica, Monica, Phoebe, Joey, Joey, Joey, Rac...   \nutterance_2682               [Monica, Chandler, Monica, Chandler]   \n\n                                                         emotions  \\\nindex                                                               \nutterance_3646  [neutral, neutral, neutral, neutral, surprise,...   \nutterance_770   [disgust, neutral, surprise, neutral, disgust,...   \nutterance_3409                          [anger, neutral, neutral]   \nutterance_3954  [disgust, disgust, anger, sadness, surprise, a...   \nutterance_2682                  [neutral, joy, surprise, neutral]   \n\n                                                       utterances  \\\nindex                                                               \nutterance_3646  [Hey Mikey, Hey P, What are you doing?, Settin...   \nutterance_770   [so we finally get to the top of the mountain ...   \nutterance_3409  [Hey! Hold on a minute, hold on a second. Do y...   \nutterance_3954  [Dad, please don't pick your teeth out here!, ...   \nutterance_2682  [I can't, Oh! Look at that, time's up! My turn...   \n\n                                                         triggers  \nindex                                                              \nutterance_3646                [0.0, 0.0, 0.0, 1.0, 1.0, 1.0, 0.0]  \nutterance_770   [0.0, 0.0, 0.0, 0.0, 0.0, 0.0, 0.0, 0.0, 0.0, ...  \nutterance_3409                                    [0.0, 1.0, 0.0]  \nutterance_3954  [0.0, 0.0, 0.0, 0.0, 0.0, 0.0, 0.0, 0.0, 0.0, ...  \nutterance_2682                               [0.0, 0.0, 1.0, 0.0]  ",
      "text/html": "<div>\n<style scoped>\n    .dataframe tbody tr th:only-of-type {\n        vertical-align: middle;\n    }\n\n    .dataframe tbody tr th {\n        vertical-align: top;\n    }\n\n    .dataframe thead th {\n        text-align: right;\n    }\n</style>\n<table border=\"1\" class=\"dataframe\">\n  <thead>\n    <tr style=\"text-align: right;\">\n      <th></th>\n      <th>speakers</th>\n      <th>emotions</th>\n      <th>utterances</th>\n      <th>triggers</th>\n    </tr>\n    <tr>\n      <th>index</th>\n      <th></th>\n      <th></th>\n      <th></th>\n      <th></th>\n    </tr>\n  </thead>\n  <tbody>\n    <tr>\n      <th>utterance_3646</th>\n      <td>[Phoebe, Mike, Phoebe, Mike, Phoebe, Mike, Pho...</td>\n      <td>[neutral, neutral, neutral, neutral, surprise,...</td>\n      <td>[Hey Mikey, Hey P, What are you doing?, Settin...</td>\n      <td>[0.0, 0.0, 0.0, 1.0, 1.0, 1.0, 0.0]</td>\n    </tr>\n    <tr>\n      <th>utterance_770</th>\n      <td>[Danny, Joey, Chandler, Joey, Chandler, Krista...</td>\n      <td>[disgust, neutral, surprise, neutral, disgust,...</td>\n      <td>[so we finally get to the top of the mountain ...</td>\n      <td>[0.0, 0.0, 0.0, 0.0, 0.0, 0.0, 0.0, 0.0, 0.0, ...</td>\n    </tr>\n    <tr>\n      <th>utterance_3409</th>\n      <td>[Chandler, Joey, Chandler]</td>\n      <td>[anger, neutral, neutral]</td>\n      <td>[Hey! Hold on a minute, hold on a second. Do y...</td>\n      <td>[0.0, 1.0, 0.0]</td>\n    </tr>\n    <tr>\n      <th>utterance_3954</th>\n      <td>[Monica, Monica, Phoebe, Joey, Joey, Joey, Rac...</td>\n      <td>[disgust, disgust, anger, sadness, surprise, a...</td>\n      <td>[Dad, please don't pick your teeth out here!, ...</td>\n      <td>[0.0, 0.0, 0.0, 0.0, 0.0, 0.0, 0.0, 0.0, 0.0, ...</td>\n    </tr>\n    <tr>\n      <th>utterance_2682</th>\n      <td>[Monica, Chandler, Monica, Chandler]</td>\n      <td>[neutral, joy, surprise, neutral]</td>\n      <td>[I can't, Oh! Look at that, time's up! My turn...</td>\n      <td>[0.0, 0.0, 1.0, 0.0]</td>\n    </tr>\n  </tbody>\n</table>\n</div>"
     },
     "metadata": {},
     "output_type": "display_data"
    },
    {
     "data": {
      "text/plain": "                                                         speakers  \\\nindex                                                               \nutterance_2235  [Joey, Chandler, Phoebe, Joey, Monica, Joey, C...   \nutterance_2992         [Rachel, Mr. Treeger, Rachel, Mr. Treeger]   \nutterance_601   [Ross, Ross, Ross, Ross, Ross, Ross, Rachel, R...   \nutterance_3077                       [Phoebe, Joey, Phoebe, Joey]   \nutterance_2587  [Ross, Rachel, Ross, Rachel, Ross, Ross, Ross,...   \n\n                                                         emotions  \\\nindex                                                               \nutterance_2235  [anger, neutral, neutral, neutral, neutral, sa...   \nutterance_2992                        [fear, neutral, joy, anger]   \nutterance_601   [neutral, neutral, neutral, neutral, neutral, ...   \nutterance_3077                  [joy, neutral, neutral, surprise]   \nutterance_2587  [neutral, surprise, joy, surprise, neutral, jo...   \n\n                                                       utterances  \\\nindex                                                               \nutterance_2235  [Of course! Only an idiot would wear this stuf...   \nutterance_2992  [Oh! Hey, Mr. Treeger., : What are you doing?,...   \nutterance_601   [Yes, hello., I have a question., Umm, I used ...   \nutterance_3077  [Oh hey! How was your audition?, I'm sorry, do...   \nutterance_2587  [Oh.  Oh-oh., Hey!  What happened to you? Why ...   \n\n                                                         triggers  \nindex                                                              \nutterance_2235  [0.0, 0.0, 0.0, 0.0, 0.0, 0.0, 0.0, 0.0, 0.0, ...  \nutterance_2992                               [0.0, 0.0, 1.0, 1.0]  \nutterance_601   [0.0, 0.0, 0.0, 0.0, 0.0, 0.0, 0.0, 1.0, 1.0, ...  \nutterance_3077                               [1.0, 0.0, 1.0, 1.0]  \nutterance_2587           [0.0, 0.0, 0.0, 0.0, 0.0, 0.0, 1.0, 0.0]  ",
      "text/html": "<div>\n<style scoped>\n    .dataframe tbody tr th:only-of-type {\n        vertical-align: middle;\n    }\n\n    .dataframe tbody tr th {\n        vertical-align: top;\n    }\n\n    .dataframe thead th {\n        text-align: right;\n    }\n</style>\n<table border=\"1\" class=\"dataframe\">\n  <thead>\n    <tr style=\"text-align: right;\">\n      <th></th>\n      <th>speakers</th>\n      <th>emotions</th>\n      <th>utterances</th>\n      <th>triggers</th>\n    </tr>\n    <tr>\n      <th>index</th>\n      <th></th>\n      <th></th>\n      <th></th>\n      <th></th>\n    </tr>\n  </thead>\n  <tbody>\n    <tr>\n      <th>utterance_2235</th>\n      <td>[Joey, Chandler, Phoebe, Joey, Monica, Joey, C...</td>\n      <td>[anger, neutral, neutral, neutral, neutral, sa...</td>\n      <td>[Of course! Only an idiot would wear this stuf...</td>\n      <td>[0.0, 0.0, 0.0, 0.0, 0.0, 0.0, 0.0, 0.0, 0.0, ...</td>\n    </tr>\n    <tr>\n      <th>utterance_2992</th>\n      <td>[Rachel, Mr. Treeger, Rachel, Mr. Treeger]</td>\n      <td>[fear, neutral, joy, anger]</td>\n      <td>[Oh! Hey, Mr. Treeger., : What are you doing?,...</td>\n      <td>[0.0, 0.0, 1.0, 1.0]</td>\n    </tr>\n    <tr>\n      <th>utterance_601</th>\n      <td>[Ross, Ross, Ross, Ross, Ross, Ross, Rachel, R...</td>\n      <td>[neutral, neutral, neutral, neutral, neutral, ...</td>\n      <td>[Yes, hello., I have a question., Umm, I used ...</td>\n      <td>[0.0, 0.0, 0.0, 0.0, 0.0, 0.0, 0.0, 1.0, 1.0, ...</td>\n    </tr>\n    <tr>\n      <th>utterance_3077</th>\n      <td>[Phoebe, Joey, Phoebe, Joey]</td>\n      <td>[joy, neutral, neutral, surprise]</td>\n      <td>[Oh hey! How was your audition?, I'm sorry, do...</td>\n      <td>[1.0, 0.0, 1.0, 1.0]</td>\n    </tr>\n    <tr>\n      <th>utterance_2587</th>\n      <td>[Ross, Rachel, Ross, Rachel, Ross, Ross, Ross,...</td>\n      <td>[neutral, surprise, joy, surprise, neutral, jo...</td>\n      <td>[Oh.  Oh-oh., Hey!  What happened to you? Why ...</td>\n      <td>[0.0, 0.0, 0.0, 0.0, 0.0, 0.0, 1.0, 0.0]</td>\n    </tr>\n  </tbody>\n</table>\n</div>"
     },
     "metadata": {},
     "output_type": "display_data"
    },
    {
     "data": {
      "text/plain": "                                                         speakers  \\\nindex                                                               \nutterance_3097               [Phoebe, Joey, Phoebe, Joey, Phoebe]   \nutterance_2343  [Rachel, Phoebe, Rachel, Phoebe, Rachel, Rache...   \nutterance_3145  [Monica, Chandler, Monica, Chandler, Ross, Cha...   \nutterance_1200  [Phoebe, Rachel, Phoebe, Rachel, Phoebe, Ross,...   \nutterance_2339  [Ross, Rachel, Ross, Rachel, Rachel, Rachel, R...   \n\n                                                         emotions  \\\nindex                                                               \nutterance_3097          [neutral, neutral, neutral, neutral, joy]   \nutterance_2343  [neutral, neutral, surprise, neutral, sadness,...   \nutterance_3145  [sadness, neutral, anger, neutral, surprise, a...   \nutterance_1200  [neutral, joy, neutral, anger, neutral, joy, j...   \nutterance_2339  [neutral, neutral, neutral, anger, anger, neut...   \n\n                                                       utterances  \\\nindex                                                               \nutterance_3097  [Okay, so we got some more good rejections, lo...   \nutterance_2343  [Phoebe?, Yeah?, Look at that guy by the windo...   \nutterance_3145  [Look, I wanted to tell I'm-I'm sorry you lost...   \nutterance_1200  [Joseph Francis Tribbiani are you home yet?!!,...   \nutterance_2339  [Hey. Who's that?, New people., What happened ...   \n\n                                                         triggers  \nindex                                                              \nutterance_3097                          [1.0, 0.0, 0.0, 0.0, 1.0]  \nutterance_2343  [0.0, 0.0, 0.0, 0.0, 0.0, 0.0, 0.0, 0.0, 0.0, ...  \nutterance_3145                     [1.0, 0.0, 1.0, 0.0, 0.0, 0.0]  \nutterance_1200  [0.0, 0.0, 0.0, 0.0, 0.0, 0.0, 0.0, 0.0, 1.0, ...  \nutterance_2339           [0.0, 0.0, 0.0, 0.0, 0.0, 0.0, 1.0, 0.0]  ",
      "text/html": "<div>\n<style scoped>\n    .dataframe tbody tr th:only-of-type {\n        vertical-align: middle;\n    }\n\n    .dataframe tbody tr th {\n        vertical-align: top;\n    }\n\n    .dataframe thead th {\n        text-align: right;\n    }\n</style>\n<table border=\"1\" class=\"dataframe\">\n  <thead>\n    <tr style=\"text-align: right;\">\n      <th></th>\n      <th>speakers</th>\n      <th>emotions</th>\n      <th>utterances</th>\n      <th>triggers</th>\n    </tr>\n    <tr>\n      <th>index</th>\n      <th></th>\n      <th></th>\n      <th></th>\n      <th></th>\n    </tr>\n  </thead>\n  <tbody>\n    <tr>\n      <th>utterance_3097</th>\n      <td>[Phoebe, Joey, Phoebe, Joey, Phoebe]</td>\n      <td>[neutral, neutral, neutral, neutral, joy]</td>\n      <td>[Okay, so we got some more good rejections, lo...</td>\n      <td>[1.0, 0.0, 0.0, 0.0, 1.0]</td>\n    </tr>\n    <tr>\n      <th>utterance_2343</th>\n      <td>[Rachel, Phoebe, Rachel, Phoebe, Rachel, Rache...</td>\n      <td>[neutral, neutral, surprise, neutral, sadness,...</td>\n      <td>[Phoebe?, Yeah?, Look at that guy by the windo...</td>\n      <td>[0.0, 0.0, 0.0, 0.0, 0.0, 0.0, 0.0, 0.0, 0.0, ...</td>\n    </tr>\n    <tr>\n      <th>utterance_3145</th>\n      <td>[Monica, Chandler, Monica, Chandler, Ross, Cha...</td>\n      <td>[sadness, neutral, anger, neutral, surprise, a...</td>\n      <td>[Look, I wanted to tell I'm-I'm sorry you lost...</td>\n      <td>[1.0, 0.0, 1.0, 0.0, 0.0, 0.0]</td>\n    </tr>\n    <tr>\n      <th>utterance_1200</th>\n      <td>[Phoebe, Rachel, Phoebe, Rachel, Phoebe, Ross,...</td>\n      <td>[neutral, joy, neutral, anger, neutral, joy, j...</td>\n      <td>[Joseph Francis Tribbiani are you home yet?!!,...</td>\n      <td>[0.0, 0.0, 0.0, 0.0, 0.0, 0.0, 0.0, 0.0, 1.0, ...</td>\n    </tr>\n    <tr>\n      <th>utterance_2339</th>\n      <td>[Ross, Rachel, Ross, Rachel, Rachel, Rachel, R...</td>\n      <td>[neutral, neutral, neutral, anger, anger, neut...</td>\n      <td>[Hey. Who's that?, New people., What happened ...</td>\n      <td>[0.0, 0.0, 0.0, 0.0, 0.0, 0.0, 1.0, 0.0]</td>\n    </tr>\n  </tbody>\n</table>\n</div>"
     },
     "metadata": {},
     "output_type": "display_data"
    }
   ],
   "source": [
    "train_df, val_df, test_df = split_dataset(df)\n",
    "\n",
    "display(train_df.head())\n",
    "display(val_df.head())\n",
    "display(test_df.head())\n"
   ],
   "metadata": {
    "collapsed": false,
    "ExecuteTime": {
     "end_time": "2024-02-21T18:34:11.485050Z",
     "start_time": "2024-02-21T18:34:11.396752Z"
    }
   },
   "id": "f57ca9b8c431fc6",
   "execution_count": 9
  },
  {
   "cell_type": "code",
   "outputs": [
    {
     "data": {
      "text/plain": "<Figure size 1800x600 with 3 Axes>",
      "image/png": "[encoded data removed]"
     },
     "metadata": {},
     "output_type": "display_data"
    }
   ],
   "source": [
    "plot_emotion_distribution(train_df, val_df, test_df)\n"
   ],
   "metadata": {
    "collapsed": false,
    "ExecuteTime": {
     "end_time": "2024-02-21T18:34:11.803538Z",
     "start_time": "2024-02-21T18:34:11.428795Z"
    }
   },
   "id": "f4cd06df1b333247",
   "execution_count": 10
  },
  {
   "cell_type": "code",
   "outputs": [],
   "source": [
    "# todo heatmap che associa a ogni personaggio il conto di emozioni che lo riguardano. Ogni riga contiene un'emozione, ogni colonna un personaggio. Esempio:\n",
    "# Kristen -> (angry-40 volte), (joy, 20 volte), (disgust, 70 volte)...\n",
    "# Joey -> (angry-23 volte), (joy, 50 volte) ...\n",
    "\n",
    "# può essere interessante da fare per far vedere che facendo l'embedding dei singoli nomi distintamente il modello avrebbe il bias del nome (magari kristen porta molto disgusto, quindi tende ad assegnarglielo più facilmente)"
   ],
   "metadata": {
    "collapsed": false,
    "ExecuteTime": {
     "end_time": "2024-02-21T18:34:11.824632Z",
     "start_time": "2024-02-21T18:34:11.803496Z"
    }
   },
   "id": "cdc77ae02d19acfd",
   "execution_count": 11
  },
  {
   "cell_type": "markdown",
   "source": [
    "## Random Classifier"
   ],
   "metadata": {
    "collapsed": false,
    "ExecuteTime": {
     "end_time": "2024-02-21T11:07:25.393229010Z",
     "start_time": "2024-02-21T11:07:25.324414748Z"
    }
   },
   "id": "5b708a5070a72c85"
  },
  {
   "cell_type": "code",
   "outputs": [],
   "source": [
    "# todo metric computation\n",
    "\n",
    "emotions = np.unique([item for sublist in df[\"emotions\"] for item in sublist]) # flattening and taking unique emotions\n",
    "random_classifier = RandomClassifier(emotions)\n",
    "\n",
    "pred_emotions, pred_triggers = random_classifier.predict(test_df)\n",
    "\n",
    "# esempio di print per gli scettici che non crederanno che il classifier funziona\n",
    "\n",
    "new_test_df = test_df.copy()\n",
    "new_test_df['pred_emotions'] = pred_emotions\n",
    "new_test_df['pred_triggers'] = pred_triggers\n",
    "#display_utterance(dataframe=new_test_df, utterance_id='utterance_1125')    "
   ],
   "metadata": {
    "collapsed": false,
    "ExecuteTime": {
     "end_time": "2024-02-21T18:34:11.953505Z",
     "start_time": "2024-02-21T18:34:11.818201Z"
    }
   },
   "id": "3804e348d3bb097a",
   "execution_count": 12
  },
  {
   "cell_type": "markdown",
   "source": [
    "## Majority Classifier"
   ],
   "metadata": {
    "collapsed": false
   },
   "id": "214a06bffbbf6b8d"
  },
  {
   "cell_type": "code",
   "outputs": [],
   "source": [
    "# todo metrics computation\n",
    "\n",
    "majority_classifier = MajorityClassifier()\n",
    "\n",
    "majority_classifier.fit(train_df)\n",
    "pred_emotions, pred_triggers = majority_classifier.predict(test_df)\n",
    "\n",
    "# esempio di print per gli scettici che non crederanno che il classifier funziona\n",
    "new_test_df = test_df.copy()\n",
    "new_test_df['pred_emotions'] = pred_emotions\n",
    "new_test_df['pred_triggers'] = pred_triggers\n",
    "#display_utterance(dataframe=new_test_df, utterance_id='utterance_3881')\n",
    "\n"
   ],
   "metadata": {
    "collapsed": false,
    "ExecuteTime": {
     "end_time": "2024-02-21T18:34:11.957744Z",
     "start_time": "2024-02-21T18:34:11.857509Z"
    }
   },
   "id": "5962c4462099f5f5",
   "execution_count": 13
  },
  {
   "cell_type": "markdown",
   "source": [
    "## Bert Models"
   ],
   "metadata": {
    "collapsed": false
   },
   "id": "a65f1dc767977391"
  },
  {
   "cell_type": "code",
   "outputs": [
    {
     "name": "stdout",
     "output_type": "stream",
     "text": [
      "Aaahhh le emozioni:  ['anger' 'disgust' 'fear' 'joy' 'neutral' 'sadness' 'surprise']\n"
     ]
    }
   ],
   "source": [
    "EMOTIONS = np.unique([item for sublist in df[\"emotions\"] for item in sublist])\n",
    "EMOTIONS_TO_INT = {i: emotion for (emotion, i) in enumerate(EMOTIONS)}\n",
    "INT_TO_EMOTIONS = {emotion: i for (emotion, i) in enumerate(EMOTIONS)}\n",
    "\n",
    "print(\"Aaahhh le emozioni: \", EMOTIONS)"
   ],
   "metadata": {
    "collapsed": false,
    "ExecuteTime": {
     "end_time": "2024-02-21T18:34:11.966303Z",
     "start_time": "2024-02-21T18:34:11.887935Z"
    }
   },
   "id": "11db464e396ec60f",
   "execution_count": 14
  },
  {
   "cell_type": "code",
   "outputs": [],
   "source": [
    "# first execution it downloads bert model and tokenizer, from second execution it retrieves them from local folder\n",
    "if os.path.exists(BERT_DIRECTORY):\n",
    "    bert_model, bert_tokenizer = retrieve_bert_initializers(BERT_DIRECTORY) \n",
    "else:\n",
    "    bert_model, bert_tokenizer = download_bert_initializers(BERT_DIRECTORY) "
   ],
   "metadata": {
    "collapsed": false,
    "ExecuteTime": {
     "end_time": "2024-02-21T18:34:12.483933Z",
     "start_time": "2024-02-21T18:34:11.908946Z"
    }
   },
   "id": "9de65890f020ffb2",
   "execution_count": 15
  },
  {
   "cell_type": "code",
   "execution_count": 16,
   "outputs": [
    {
     "name": "stdout",
     "output_type": "stream",
     "text": [
      "torch.Size([1, 65])\n",
      "[SEP]\n"
     ]
    }
   ],
   "source": [
    "dialogo = [\n",
    "    \"also I was the point person on my company's transition from the KL-5 to GR-6 system.\",\n",
    "    \"You must've had your hands full.\",\n",
    "    \"That I did. That I did.\",\n",
    "    \"So let's talk a little bit about your duties.\",\n",
    "    \"My duties? All right.\"\n",
    "]\n",
    "\n",
    "# Preparazione dell'input\n",
    "tokens = [bert_tokenizer.cls_token]  # Inizia con [CLS]\n",
    "for frase in dialogo:\n",
    "    tokens += bert_tokenizer.tokenize(frase) + [bert_tokenizer.sep_token]  # Aggiungi frase e [SEP]\n",
    "\n",
    "# Converti in ID e tronca se necessario\n",
    "input_ids = bert_tokenizer.convert_tokens_to_ids(tokens)[:512]  # Assicurati di non superare il limite di 512 token\n",
    "\n",
    "input_ids_tensor = torch.tensor([input_ids])\n",
    "print(np.shape(input_ids_tensor))\n",
    "print(bert_tokenizer.sep_token)\n"
   ],
   "metadata": {
    "collapsed": false,
    "ExecuteTime": {
     "end_time": "2024-02-21T18:34:12.509345Z",
     "start_time": "2024-02-21T18:34:12.483905Z"
    }
   },
   "id": "c862ff55fe94521c"
  },
  {
   "cell_type": "code",
   "outputs": [
    {
     "name": "stdout",
     "output_type": "stream",
     "text": [
      "[25, 35, 44, 57, 64]\n"
     ]
    },
    {
     "data": {
      "text/plain": "(tensor([[-0.4554, -0.1090,  0.5546,  0.1330,  0.0221, -0.4100,  0.2645],\n         [-0.1820, -0.0339,  0.5179,  0.1384, -0.0638, -0.4150, -0.0074],\n         [-0.4510, -0.1067,  0.5545,  0.1330,  0.0199, -0.4110,  0.2591],\n         [-0.5140, -0.1453,  0.5528,  0.1339,  0.0523, -0.3926,  0.3395],\n         [-0.0207, -0.0277,  0.4874,  0.1258, -0.0723, -0.4069, -0.1311]],\n        grad_fn=<AddmmBackward0>),\n tensor([[0.5128, 0.5018],\n         [0.4917, 0.5189],\n         [0.5122, 0.5022],\n         [0.5228, 0.4968],\n         [0.4907, 0.5254]], grad_fn=<SigmoidBackward0>))"
     },
     "execution_count": 17,
     "metadata": {},
     "output_type": "execute_result"
    }
   ],
   "source": [
    "from models.bertFreezed import BertFreezed\n",
    "\n",
    "pos = [idx for idx in range(len(input_ids_tensor[0])) if input_ids_tensor[0, idx] == 102]\n",
    "print(pos)\n",
    "bertino = BertFreezed(bert_model)\n",
    "bertino(input_ids_tensor, pos)\n"
   ],
   "metadata": {
    "collapsed": false,
    "ExecuteTime": {
     "end_time": "2024-02-21T18:34:12.890813Z",
     "start_time": "2024-02-21T18:34:12.508499Z"
    }
   },
   "id": "5de049ef97eb178",
   "execution_count": 17
  }
 ],
 "metadata": {
  "kernelspec": {
   "display_name": "Python 3",
   "language": "python",
   "name": "python3"
  },
  "language_info": {
   "codemirror_mode": {
    "name": "ipython",
    "version": 2
   },
   "file_extension": ".py",
   "mimetype": "text/x-python",
   "name": "python",
   "nbconvert_exporter": "python",
   "pygments_lexer": "ipython2",
   "version": "2.7.6"
  }
 },
 "nbformat": 4,
 "nbformat_minor": 5
}
