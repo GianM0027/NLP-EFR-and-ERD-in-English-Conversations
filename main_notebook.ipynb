{
 "cells": [
  {
   "cell_type": "markdown",
   "source": [
    "# NLP Project - EFR in English conversations\n",
    "\n",
    "You can find the ppt with details and requirements of the project <a href=\"https://docs.google.com/presentation/d/1TTN1H3GdnaswGXW63SuSvD4CsI7HB9lkYuwXRMQp2ks/edit?usp=sharing\"> here</a>. The ppt is equivalent to the <a href=\"https://virtuale.unibo.it/mod/page/view.php?id=1405067\"> FAQ page</a>\n",
    "\n",
    "You can find the official webpage of the challenge <a href=\"https://lcs2.in/SemEval2024-EDiReF/\"> here</a>"
   ],
   "metadata": {
    "collapsed": false
   },
   "id": "85bc3873332d289a"
  },
  {
   "cell_type": "markdown",
   "source": [
    "**EFR: Given a dialogue, EFR aims to identify the trigger utterance(s) for an emotion-flip in a multi-party conversation dialogue.** \n",
    "\n",
    "For example: \n",
    "<center>\n",
    "    <img src=\"./images/example_EFR.jpeg\" alt=\"EFR\" />\n",
    "</center>"
   ],
   "metadata": {
    "collapsed": false
   },
   "id": "8c1385f3bde50c1e"
  },
  {
   "cell_type": "code",
   "outputs": [],
   "source": [
    "%load_ext autoreload\n",
    "%autoreload 2\n",
    "\n",
    "import torch\n",
    "from sys import platform\n",
    "from utilities import *\n",
    "\n",
    "from models.randomClassifier import RandomClassifier\n",
    "from models.majorityClassifier import MajorityClassifier\n"
   ],
   "metadata": {
    "collapsed": false,
    "ExecuteTime": {
     "end_time": "2024-02-20T16:32:26.994033800Z",
     "start_time": "2024-02-20T16:32:18.576936600Z"
    }
   },
   "id": "2ece32ffd62b0215",
   "execution_count": 1
  },
  {
   "cell_type": "markdown",
   "source": [
    "## Setting the device"
   ],
   "metadata": {
    "collapsed": false
   },
   "id": "34d937b7e13fb772"
  },
  {
   "cell_type": "code",
   "outputs": [
    {
     "name": "stdout",
     "output_type": "stream",
     "text": [
      "PyTorch version: 2.2.0+cu121\n",
      "Using device: cuda\n"
     ]
    }
   ],
   "source": [
    "print(f\"PyTorch version: {torch.__version__}\")\n",
    "\n",
    "if platform == \"darwin\":    #Run on macOS\n",
    "    \n",
    "    print(f\"Is MPS (Metal Performance Shader) built? {torch.backends.mps.is_built()}\")\n",
    "    print(f\"Is MPS available? {torch.backends.mps.is_available()}\")\n",
    "    device = \"mps\" if torch.backends.mps.is_available() else \"cpu\"    \n",
    "else:\n",
    "    device = torch.device('cuda' if torch.cuda.is_available() else 'cpu') \n",
    "\n",
    "print(f\"Using device: {device}\")\n"
   ],
   "metadata": {
    "collapsed": false,
    "ExecuteTime": {
     "end_time": "2024-02-20T16:32:27.102377800Z",
     "start_time": "2024-02-20T16:32:26.993033Z"
    }
   },
   "id": "78a08b1656d020fe",
   "execution_count": 2
  },
  {
   "cell_type": "code",
   "outputs": [
    {
     "name": "stdout",
     "output_type": "stream",
     "text": [
      "Tue Feb 20 17:32:27 2024       \n",
      "+---------------------------------------------------------------------------------------+\n",
      "| NVIDIA-SMI 536.23                 Driver Version: 536.23       CUDA Version: 12.2     |\n",
      "|-----------------------------------------+----------------------+----------------------+\n",
      "| GPU  Name                     TCC/WDDM  | Bus-Id        Disp.A | Volatile Uncorr. ECC |\n",
      "| Fan  Temp   Perf          Pwr:Usage/Cap |         Memory-Usage | GPU-Util  Compute M. |\n",
      "|                                         |                      |               MIG M. |\n",
      "|=========================================+======================+======================|\n",
      "|   0  NVIDIA GeForce RTX 4060 ...  WDDM  | 00000000:01:00.0  On |                  N/A |\n",
      "| N/A   44C    P8               3W /  74W |    282MiB /  8188MiB |      0%      Default |\n",
      "|                                         |                      |                  N/A |\n",
      "+-----------------------------------------+----------------------+----------------------+\n",
      "                                                                                         \n",
      "+---------------------------------------------------------------------------------------+\n",
      "| Processes:                                                                            |\n",
      "|  GPU   GI   CI        PID   Type   Process name                            GPU Memory |\n",
      "|        ID   ID                                                             Usage      |\n",
      "|=======================================================================================|\n",
      "|    0   N/A  N/A      6752    C+G   ...werToys\\PowerToys.PowerLauncher.exe    N/A      |\n",
      "|    0   N/A  N/A    150600    C+G   ...werToys\\PowerToys.ColorPickerUI.exe    N/A      |\n",
      "|    0   N/A  N/A    156232    C+G   ...inaries\\Win64\\EpicGamesLauncher.exe    N/A      |\n",
      "+---------------------------------------------------------------------------------------+\n"
     ]
    }
   ],
   "source": [
    "if device != 'mps':\n",
    "    !nvidia-smi\n"
   ],
   "metadata": {
    "collapsed": false,
    "ExecuteTime": {
     "end_time": "2024-02-20T16:32:27.444828300Z",
     "start_time": "2024-02-20T16:32:27.102377800Z"
    }
   },
   "id": "67a906779c9ec397",
   "execution_count": 3
  },
  {
   "cell_type": "markdown",
   "source": [
    "## Defining flags and variables"
   ],
   "metadata": {
    "collapsed": false
   },
   "id": "f5fa2f7278bc9000"
  },
  {
   "cell_type": "code",
   "outputs": [],
   "source": [
    "DATA_DIRECTORY = 'Data'             # Directory containing the dataset\n",
    "DATASET = 'MELD_efr.json'           # Name of dataset file\n",
    "\n",
    "BERT_DIRECTORY = 'bert-base-uncased'\n",
    "\n",
    "DATASET_PATH = os.path.join(DATA_DIRECTORY, DATASET)    # Path of dataset in JSON format \n"
   ],
   "metadata": {
    "collapsed": false,
    "ExecuteTime": {
     "end_time": "2024-02-20T16:32:27.523392300Z",
     "start_time": "2024-02-20T16:32:27.446054700Z"
    }
   },
   "id": "335f829731d15ffd",
   "execution_count": 4
  },
  {
   "cell_type": "markdown",
   "source": [
    "## Dataset Creation and Exploration"
   ],
   "metadata": {
    "collapsed": false
   },
   "id": "94ef05c4366b7e6a"
  },
  {
   "cell_type": "code",
   "outputs": [
    {
     "data": {
      "text/plain": "                                                      speakers  \\\nepisode                                                          \nutterance_0  [Chandler, The Interviewer, Chandler, The Inte...   \nutterance_1  [Chandler, The Interviewer, Chandler, The Inte...   \nutterance_2  [Chandler, The Interviewer, Chandler, The Inte...   \nutterance_3  [Chandler, The Interviewer, Chandler, The Inte...   \nutterance_4                       [Joey, Rachel, Joey, Rachel]   \n\n                                                      emotions  \\\nepisode                                                          \nutterance_0     [neutral, neutral, neutral, neutral, surprise]   \nutterance_1  [neutral, neutral, neutral, neutral, surprise,...   \nutterance_2  [neutral, neutral, neutral, neutral, surprise,...   \nutterance_3  [neutral, neutral, neutral, neutral, surprise,...   \nutterance_4                [surprise, sadness, surprise, fear]   \n\n                                                    utterances  \\\nepisode                                                          \nutterance_0  [also I was the point person on my company's t...   \nutterance_1  [also I was the point person on my company's t...   \nutterance_2  [also I was the point person on my company's t...   \nutterance_3  [also I was the point person on my company's t...   \nutterance_4  [But then who? The waitress I went out with la...   \n\n                                                      triggers  \nepisode                                                         \nutterance_0                          [0.0, 0.0, 0.0, 1.0, 0.0]  \nutterance_1                [0.0, 0.0, 0.0, 0.0, 0.0, 1.0, 0.0]  \nutterance_2  [0.0, 0.0, 0.0, 0.0, 0.0, 0.0, 0.0, 1.0, 0.0, ...  \nutterance_3  [0.0, 0.0, 0.0, 0.0, 0.0, 0.0, 0.0, 0.0, 0.0, ...  \nutterance_4                               [0.0, 0.0, 1.0, 0.0]  ",
      "text/html": "<div>\n<style scoped>\n    .dataframe tbody tr th:only-of-type {\n        vertical-align: middle;\n    }\n\n    .dataframe tbody tr th {\n        vertical-align: top;\n    }\n\n    .dataframe thead th {\n        text-align: right;\n    }\n</style>\n<table border=\"1\" class=\"dataframe\">\n  <thead>\n    <tr style=\"text-align: right;\">\n      <th></th>\n      <th>speakers</th>\n      <th>emotions</th>\n      <th>utterances</th>\n      <th>triggers</th>\n    </tr>\n    <tr>\n      <th>episode</th>\n      <th></th>\n      <th></th>\n      <th></th>\n      <th></th>\n    </tr>\n  </thead>\n  <tbody>\n    <tr>\n      <th>utterance_0</th>\n      <td>[Chandler, The Interviewer, Chandler, The Inte...</td>\n      <td>[neutral, neutral, neutral, neutral, surprise]</td>\n      <td>[also I was the point person on my company's t...</td>\n      <td>[0.0, 0.0, 0.0, 1.0, 0.0]</td>\n    </tr>\n    <tr>\n      <th>utterance_1</th>\n      <td>[Chandler, The Interviewer, Chandler, The Inte...</td>\n      <td>[neutral, neutral, neutral, neutral, surprise,...</td>\n      <td>[also I was the point person on my company's t...</td>\n      <td>[0.0, 0.0, 0.0, 0.0, 0.0, 1.0, 0.0]</td>\n    </tr>\n    <tr>\n      <th>utterance_2</th>\n      <td>[Chandler, The Interviewer, Chandler, The Inte...</td>\n      <td>[neutral, neutral, neutral, neutral, surprise,...</td>\n      <td>[also I was the point person on my company's t...</td>\n      <td>[0.0, 0.0, 0.0, 0.0, 0.0, 0.0, 0.0, 1.0, 0.0, ...</td>\n    </tr>\n    <tr>\n      <th>utterance_3</th>\n      <td>[Chandler, The Interviewer, Chandler, The Inte...</td>\n      <td>[neutral, neutral, neutral, neutral, surprise,...</td>\n      <td>[also I was the point person on my company's t...</td>\n      <td>[0.0, 0.0, 0.0, 0.0, 0.0, 0.0, 0.0, 0.0, 0.0, ...</td>\n    </tr>\n    <tr>\n      <th>utterance_4</th>\n      <td>[Joey, Rachel, Joey, Rachel]</td>\n      <td>[surprise, sadness, surprise, fear]</td>\n      <td>[But then who? The waitress I went out with la...</td>\n      <td>[0.0, 0.0, 1.0, 0.0]</td>\n    </tr>\n  </tbody>\n</table>\n</div>"
     },
     "execution_count": 5,
     "metadata": {},
     "output_type": "execute_result"
    }
   ],
   "source": [
    "df = pd.read_json(DATASET_PATH)\n",
    "df.set_index(\"episode\", inplace=True)\n",
    "\n",
    "df.head()\n"
   ],
   "metadata": {
    "collapsed": false,
    "ExecuteTime": {
     "end_time": "2024-02-20T16:32:27.676492200Z",
     "start_time": "2024-02-20T16:32:27.525399Z"
    }
   },
   "id": "204c1960d2293b56",
   "execution_count": 5
  },
  {
   "cell_type": "code",
   "outputs": [
    {
     "name": "stdout",
     "output_type": "stream",
     "text": [
      "Before: 9 NaN values\n",
      "After: 0 NaN values\n"
     ]
    }
   ],
   "source": [
    "# removing NaN values\n",
    "nan_count_before = df[\"triggers\"].apply(lambda lst: sum(pd.isna(x) for x in lst)).sum()\n",
    "df['triggers'] = df['triggers'].apply(replace_nan_with_zero)\n",
    "nan_count_after = df[\"triggers\"].apply(lambda lst: sum(pd.isna(x) for x in lst)).sum()\n",
    "\n",
    "print(f\"Before: {nan_count_before} NaN values\")\n",
    "print(f\"After: {nan_count_after} NaN values\")\n"
   ],
   "metadata": {
    "collapsed": false,
    "ExecuteTime": {
     "end_time": "2024-02-20T16:32:27.787002Z",
     "start_time": "2024-02-20T16:32:27.677767900Z"
    }
   },
   "id": "faa3e0927a81e07",
   "execution_count": 6
  },
  {
   "cell_type": "code",
   "outputs": [
    {
     "name": "stdout",
     "output_type": "stream",
     "text": [
      "Size of each dataset:\n",
      "Training: (3200, 4)\n",
      "Validation: (400, 4)\n",
      "Test: (400, 4)\n"
     ]
    },
    {
     "data": {
      "text/plain": "                                            speakers  \\\n0            [Kristen, Ross, Kristen, Ross, Kristen]   \n1  [Julie, Rachel, Rachel, Rachel, Rachel, Julie,...   \n2     [Chandler, Monica, Chandler, Monica, Chandler]   \n3                         [Chandler, Dana, Chandler]   \n4  [Monica, Joey, Monica, Joey, Monica, Joey, Mon...   \n\n                                            emotions  \\\n0             [joy, neutral, surprise, joy, neutral]   \n1  [neutral, neutral, neutral, neutral, neutral, ...   \n2                      [joy, joy, joy, joy, neutral]   \n3                                 [joy, anger, fear]   \n4  [surprise, surprise, joy, joy, neutral, sadnes...   \n\n                                          utterances  \\\n0  [Umm, this is great wine., It's from France\nIn...   \n1  [So., So., I just thought the two of us should...   \n2  [Hey!, Hey!, Y'know I'm-I'm really glad we dec...   \n3  [Great story again! The yarns that you weave! ...   \n4  [I don't know how any of these got opened?!, Y...   \n\n                               triggers  \n0                       [0, 0, 0, 0, 0]  \n1  [0, 0, 0, 0, 0, 0, 0, 0, 0, 0, 0, 0]  \n2                       [0, 0, 0, 0, 0]  \n3                             [0, 0, 0]  \n4              [0, 0, 0, 0, 0, 0, 0, 0]  ",
      "text/html": "<div>\n<style scoped>\n    .dataframe tbody tr th:only-of-type {\n        vertical-align: middle;\n    }\n\n    .dataframe tbody tr th {\n        vertical-align: top;\n    }\n\n    .dataframe thead th {\n        text-align: right;\n    }\n</style>\n<table border=\"1\" class=\"dataframe\">\n  <thead>\n    <tr style=\"text-align: right;\">\n      <th></th>\n      <th>speakers</th>\n      <th>emotions</th>\n      <th>utterances</th>\n      <th>triggers</th>\n    </tr>\n  </thead>\n  <tbody>\n    <tr>\n      <th>0</th>\n      <td>[Kristen, Ross, Kristen, Ross, Kristen]</td>\n      <td>[joy, neutral, surprise, joy, neutral]</td>\n      <td>[Umm, this is great wine., It's from FranceIn...</td>\n      <td>[0, 0, 0, 0, 0]</td>\n    </tr>\n    <tr>\n      <th>1</th>\n      <td>[Julie, Rachel, Rachel, Rachel, Rachel, Julie,...</td>\n      <td>[neutral, neutral, neutral, neutral, neutral, ...</td>\n      <td>[So., So., I just thought the two of us should...</td>\n      <td>[0, 0, 0, 0, 0, 0, 0, 0, 0, 0, 0, 0]</td>\n    </tr>\n    <tr>\n      <th>2</th>\n      <td>[Chandler, Monica, Chandler, Monica, Chandler]</td>\n      <td>[joy, joy, joy, joy, neutral]</td>\n      <td>[Hey!, Hey!, Y'know I'm-I'm really glad we dec...</td>\n      <td>[0, 0, 0, 0, 0]</td>\n    </tr>\n    <tr>\n      <th>3</th>\n      <td>[Chandler, Dana, Chandler]</td>\n      <td>[joy, anger, fear]</td>\n      <td>[Great story again! The yarns that you weave! ...</td>\n      <td>[0, 0, 0]</td>\n    </tr>\n    <tr>\n      <th>4</th>\n      <td>[Monica, Joey, Monica, Joey, Monica, Joey, Mon...</td>\n      <td>[surprise, surprise, joy, joy, neutral, sadnes...</td>\n      <td>[I don't know how any of these got opened?!, Y...</td>\n      <td>[0, 0, 0, 0, 0, 0, 0, 0]</td>\n    </tr>\n  </tbody>\n</table>\n</div>"
     },
     "metadata": {},
     "output_type": "display_data"
    },
    {
     "data": {
      "text/plain": "                                               speakers  \\\n3200  [Monica, Monica, Phoebe, Joey, Joey, Joey, Rac...   \n3201                     [Ross, Girl, Ross, Girl, Ross]   \n3202  [Phoebe, Monica, Phoebe, Monica, Phoebe, Monic...   \n3203  [Woman, Rachel, Woman, Rachel, Woman, Rachel, ...   \n3204  [Joey, Lydia, Joey, Lydia, Joey, Lydia, Joey, ...   \n\n                                               emotions  \\\n3200  [disgust, disgust, anger, sadness, surprise, a...   \n3201            [neutral, anger, anger, anger, neutral]   \n3202  [neutral, anger, surprise, joy, joy, joy, joy,...   \n3203  [anger, joy, disgust, anger, anger, surprise, ...   \n3204  [joy, neutral, neutral, anger, surprise, disgu...   \n\n                                             utterances  \\\n3200  [Dad, please don't pick your teeth out here!, ...   \n3201  [Hi there. How many, how many ah, did you sell...   \n3202  [Oh, I told the stripper to be here at five. T...   \n3203  [Comin' through. Move, move., Oh, 'scuse me. I...   \n3204  [Shoot! Shoot! Shoot! Shoot, or just fall down...   \n\n                                               triggers  \n3200  [0, 0, 0, 0, 0, 0, 0, 0, 0, 0, 0, 0, 0, 0, 0, ...  \n3201                                    [0, 0, 0, 0, 0]  \n3202                     [0, 0, 0, 0, 0, 0, 0, 0, 0, 0]  \n3203                  [0, 0, 0, 0, 0, 0, 0, 0, 0, 0, 0]  \n3204         [0, 0, 0, 0, 0, 0, 0, 0, 0, 0, 0, 0, 0, 0]  ",
      "text/html": "<div>\n<style scoped>\n    .dataframe tbody tr th:only-of-type {\n        vertical-align: middle;\n    }\n\n    .dataframe tbody tr th {\n        vertical-align: top;\n    }\n\n    .dataframe thead th {\n        text-align: right;\n    }\n</style>\n<table border=\"1\" class=\"dataframe\">\n  <thead>\n    <tr style=\"text-align: right;\">\n      <th></th>\n      <th>speakers</th>\n      <th>emotions</th>\n      <th>utterances</th>\n      <th>triggers</th>\n    </tr>\n  </thead>\n  <tbody>\n    <tr>\n      <th>3200</th>\n      <td>[Monica, Monica, Phoebe, Joey, Joey, Joey, Rac...</td>\n      <td>[disgust, disgust, anger, sadness, surprise, a...</td>\n      <td>[Dad, please don't pick your teeth out here!, ...</td>\n      <td>[0, 0, 0, 0, 0, 0, 0, 0, 0, 0, 0, 0, 0, 0, 0, ...</td>\n    </tr>\n    <tr>\n      <th>3201</th>\n      <td>[Ross, Girl, Ross, Girl, Ross]</td>\n      <td>[neutral, anger, anger, anger, neutral]</td>\n      <td>[Hi there. How many, how many ah, did you sell...</td>\n      <td>[0, 0, 0, 0, 0]</td>\n    </tr>\n    <tr>\n      <th>3202</th>\n      <td>[Phoebe, Monica, Phoebe, Monica, Phoebe, Monic...</td>\n      <td>[neutral, anger, surprise, joy, joy, joy, joy,...</td>\n      <td>[Oh, I told the stripper to be here at five. T...</td>\n      <td>[0, 0, 0, 0, 0, 0, 0, 0, 0, 0]</td>\n    </tr>\n    <tr>\n      <th>3203</th>\n      <td>[Woman, Rachel, Woman, Rachel, Woman, Rachel, ...</td>\n      <td>[anger, joy, disgust, anger, anger, surprise, ...</td>\n      <td>[Comin' through. Move, move., Oh, 'scuse me. I...</td>\n      <td>[0, 0, 0, 0, 0, 0, 0, 0, 0, 0, 0]</td>\n    </tr>\n    <tr>\n      <th>3204</th>\n      <td>[Joey, Lydia, Joey, Lydia, Joey, Lydia, Joey, ...</td>\n      <td>[joy, neutral, neutral, anger, surprise, disgu...</td>\n      <td>[Shoot! Shoot! Shoot! Shoot, or just fall down...</td>\n      <td>[0, 0, 0, 0, 0, 0, 0, 0, 0, 0, 0, 0, 0, 0]</td>\n    </tr>\n  </tbody>\n</table>\n</div>"
     },
     "metadata": {},
     "output_type": "display_data"
    },
    {
     "data": {
      "text/plain": "                                               speakers  \\\n3600  [Chandler, Joey, Chandler, Joey, Chandler, Joe...   \n3601                 [Joey, Phoebe, Joey, Phoebe, Joey]   \n3602               [Monica, Joey, Monica, Joey, Monica]   \n3603  [Monica, Phoebe, Monica, Phoebe, Monica, Phoeb...   \n3604       [Phoebe, Phoebe, Phoebe, Ross, Phoebe, Ross]   \n\n                                               emotions  \\\n3600  [neutral, joy, neutral, surprise, neutral, joy...   \n3601             [joy, joy, neutral, neutral, surprise]   \n3602            [surprise, surprise, joy, joy, neutral]   \n3603  [neutral, neutral, anger, neutral, sadness, ne...   \n3604  [surprise, neutral, neutral, neutral, neutral,...   \n\n                                             utterances  \\\n3600  [Well, I just thought it'd make me feel good t...   \n3601  [Pheebs!, Hey!, Listen, you know how uh, when ...   \n3602  [I don't know how any of these got opened?!, Y...   \n3603  [Thank you., Thanks., I can't believe this! Th...   \n3604  [Oh, look look look., The last candle's about ...   \n\n                               triggers  \n3600  [0, 0, 0, 0, 0, 0, 0, 0, 0, 0, 0]  \n3601                    [0, 0, 0, 0, 0]  \n3602                    [0, 0, 0, 0, 0]  \n3603     [0, 0, 0, 0, 0, 0, 0, 0, 0, 0]  \n3604                 [0, 0, 0, 0, 0, 0]  ",
      "text/html": "<div>\n<style scoped>\n    .dataframe tbody tr th:only-of-type {\n        vertical-align: middle;\n    }\n\n    .dataframe tbody tr th {\n        vertical-align: top;\n    }\n\n    .dataframe thead th {\n        text-align: right;\n    }\n</style>\n<table border=\"1\" class=\"dataframe\">\n  <thead>\n    <tr style=\"text-align: right;\">\n      <th></th>\n      <th>speakers</th>\n      <th>emotions</th>\n      <th>utterances</th>\n      <th>triggers</th>\n    </tr>\n  </thead>\n  <tbody>\n    <tr>\n      <th>3600</th>\n      <td>[Chandler, Joey, Chandler, Joey, Chandler, Joe...</td>\n      <td>[neutral, joy, neutral, surprise, neutral, joy...</td>\n      <td>[Well, I just thought it'd make me feel good t...</td>\n      <td>[0, 0, 0, 0, 0, 0, 0, 0, 0, 0, 0]</td>\n    </tr>\n    <tr>\n      <th>3601</th>\n      <td>[Joey, Phoebe, Joey, Phoebe, Joey]</td>\n      <td>[joy, joy, neutral, neutral, surprise]</td>\n      <td>[Pheebs!, Hey!, Listen, you know how uh, when ...</td>\n      <td>[0, 0, 0, 0, 0]</td>\n    </tr>\n    <tr>\n      <th>3602</th>\n      <td>[Monica, Joey, Monica, Joey, Monica]</td>\n      <td>[surprise, surprise, joy, joy, neutral]</td>\n      <td>[I don't know how any of these got opened?!, Y...</td>\n      <td>[0, 0, 0, 0, 0]</td>\n    </tr>\n    <tr>\n      <th>3603</th>\n      <td>[Monica, Phoebe, Monica, Phoebe, Monica, Phoeb...</td>\n      <td>[neutral, neutral, anger, neutral, sadness, ne...</td>\n      <td>[Thank you., Thanks., I can't believe this! Th...</td>\n      <td>[0, 0, 0, 0, 0, 0, 0, 0, 0, 0]</td>\n    </tr>\n    <tr>\n      <th>3604</th>\n      <td>[Phoebe, Phoebe, Phoebe, Ross, Phoebe, Ross]</td>\n      <td>[surprise, neutral, neutral, neutral, neutral,...</td>\n      <td>[Oh, look look look., The last candle's about ...</td>\n      <td>[0, 0, 0, 0, 0, 0]</td>\n    </tr>\n  </tbody>\n</table>\n</div>"
     },
     "metadata": {},
     "output_type": "display_data"
    }
   ],
   "source": [
    "train_df, val_df, test_df = split_dataset(df)\n",
    "print(f\"Size of each dataset:\\nTraining: {train_df.shape}\\nValidation: {val_df.shape}\\nTest: {test_df.shape}\")\n",
    "\n",
    "display(train_df.head())\n",
    "display(val_df.head())\n",
    "display(test_df.head())"
   ],
   "metadata": {
    "collapsed": false,
    "ExecuteTime": {
     "end_time": "2024-02-20T16:32:27.867376100Z",
     "start_time": "2024-02-20T16:32:27.771971700Z"
    }
   },
   "id": "f57ca9b8c431fc6",
   "execution_count": 7
  },
  {
   "cell_type": "code",
   "outputs": [
    {
     "data": {
      "text/plain": "<Figure size 1800x600 with 3 Axes>",
      "image/png": "[encoded data removed]"
     },
     "metadata": {},
     "output_type": "display_data"
    }
   ],
   "source": [
    "plot_emotion_distribution(train_df, val_df, test_df)"
   ],
   "metadata": {
    "collapsed": false,
    "ExecuteTime": {
     "end_time": "2024-02-20T16:32:28.281947900Z",
     "start_time": "2024-02-20T16:32:27.863090Z"
    }
   },
   "id": "f4cd06df1b333247",
   "execution_count": 8
  },
  {
   "cell_type": "code",
   "outputs": [],
   "source": [
    "# todo heatmap che associa a ogni personaggio il conto di emozioni che lo riguardano. Ogni riga contiene un'emozione, ogni colonna un personaggio. Esempio:\n",
    "# Kristen -> (angry-40 volte), (joy, 20 volte), (disgust, 70 volte)...\n",
    "# Joey -> (angry-23 volte), (joy, 50 volte) ...\n",
    "\n",
    "# può essere interessante da fare per far vedere che facendo l'embedding dei singoli nomi distintamente il modello avrebbe il bias del nome (magari kristen porta molto disgusto, quindi tende ad assegnarglielo più facilmente)"
   ],
   "metadata": {
    "collapsed": false
   },
   "id": "b9c345ba8e6a48ad"
  },
  {
   "cell_type": "markdown",
   "source": [
    "## Random Classifier"
   ],
   "metadata": {
    "collapsed": false
   },
   "id": "5b708a5070a72c85"
  },
  {
   "cell_type": "code",
   "outputs": [
    {
     "name": "stdout",
     "output_type": "stream",
     "text": [
      "['disgust', 'disgust', 'neutral', 'disgust', 'neutral', 'sadness', 'neutral', 'sadness', 'anger', 'surprise', 'anger'] [1, 1, 0, 1, 0, 0, 1, 1, 0, 1, 1]\n"
     ]
    }
   ],
   "source": [
    "# todo metric computation\n",
    "\n",
    "emotions = np.unique([item for sublist in df[\"emotions\"] for item in sublist]) # flattening and taking unique emotions\n",
    "random_classifier = RandomClassifier(emotions)\n",
    "\n",
    "pred_emotions, pred_triggers = random_classifier.predict(test_df)\n",
    "\n",
    "# esempio di print per gli scettici che non crederanno che il classifier funziona\n",
    "print(pred_emotions[0], pred_triggers[0])\n"
   ],
   "metadata": {
    "collapsed": false,
    "ExecuteTime": {
     "end_time": "2024-02-20T16:32:28.449629500Z",
     "start_time": "2024-02-20T16:32:28.283953600Z"
    }
   },
   "id": "3804e348d3bb097a",
   "execution_count": 9
  },
  {
   "cell_type": "markdown",
   "source": [
    "## Majority Classifier"
   ],
   "metadata": {
    "collapsed": false
   },
   "id": "214a06bffbbf6b8d"
  },
  {
   "cell_type": "code",
   "outputs": [
    {
     "name": "stdout",
     "output_type": "stream",
     "text": [
      "['neutral', 'neutral', 'neutral', 'neutral', 'neutral', 'neutral', 'neutral', 'neutral', 'neutral', 'neutral', 'neutral'] [0, 0, 0, 0, 0, 0, 0, 0, 0, 0, 0]\n"
     ]
    }
   ],
   "source": [
    "# todo metrics computation\n",
    "\n",
    "majority_classifier = MajorityClassifier()\n",
    "\n",
    "majority_classifier.fit(train_df)\n",
    "pred_emotions, pred_triggers = majority_classifier.predict(test_df)\n",
    "\n",
    "# esempio di print per gli scettici che non crederanno che il classifier funziona\n",
    "print(pred_emotions[0], pred_triggers[0])\n"
   ],
   "metadata": {
    "collapsed": false,
    "ExecuteTime": {
     "end_time": "2024-02-20T16:32:28.487394800Z",
     "start_time": "2024-02-20T16:32:28.401372600Z"
    }
   },
   "id": "5962c4462099f5f5",
   "execution_count": 10
  },
  {
   "cell_type": "markdown",
   "source": [
    "## Bert Models"
   ],
   "metadata": {
    "collapsed": false
   },
   "id": "a65f1dc767977391"
  },
  {
   "cell_type": "code",
   "outputs": [],
   "source": [
    "# first execution it downloads bert model and tokenizer, from second execution it retrieves them from local folder\n",
    "if os.path.exists(BERT_DIRECTORY):\n",
    "    bert_model, bert_tokenizer = retrieve_bert_initializers(BERT_DIRECTORY) \n",
    "else:\n",
    "    bert_model, bert_tokenizer = download_bert_initializers(BERT_DIRECTORY) \n"
   ],
   "metadata": {
    "collapsed": false,
    "ExecuteTime": {
     "end_time": "2024-02-20T16:37:18.333040500Z",
     "start_time": "2024-02-20T16:37:17.949014400Z"
    }
   },
   "id": "424345213c79dd58",
   "execution_count": 13
  },
  {
   "cell_type": "code",
   "outputs": [],
   "source": [
    "# cose da fare in ordine di priorità\n",
    "# todo capire dove fare tokenization ed encoding (dentro il dataloader o fuori)? Poi farlo\n",
    "# todo fare i dataloader\n",
    "\n",
    "# todo Bert Models"
   ],
   "metadata": {
    "collapsed": false,
    "ExecuteTime": {
     "end_time": "2024-02-20T16:33:26.974037300Z",
     "start_time": "2024-02-20T16:33:26.912538Z"
    }
   },
   "id": "9de65890f020ffb2",
   "execution_count": 12
  }
 ],
 "metadata": {
  "kernelspec": {
   "display_name": "Python 3",
   "language": "python",
   "name": "python3"
  },
  "language_info": {
   "codemirror_mode": {
    "name": "ipython",
    "version": 2
   },
   "file_extension": ".py",
   "mimetype": "text/x-python",
   "name": "python",
   "nbconvert_exporter": "python",
   "pygments_lexer": "ipython2",
   "version": "2.7.6"
  }
 },
 "nbformat": 4,
 "nbformat_minor": 5
}
