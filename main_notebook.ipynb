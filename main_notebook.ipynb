{
 "cells": [
  {
   "cell_type": "markdown",
   "source": [
    "# NLP Project - EFR in English conversations\n",
    "\n",
    "You can find the ppt with details and requirements of the project <a href=\"https://docs.google.com/presentation/d/1TTN1H3GdnaswGXW63SuSvD4CsI7HB9lkYuwXRMQp2ks/edit?usp=sharing\"> here</a>. The ppt is equivalent to the <a href=\"https://virtuale.unibo.it/mod/page/view.php?id=1405067\"> FAQ page</a>\n",
    "\n",
    "You can find the official webpage of the challenge <a href=\"https://lcs2.in/SemEval2024-EDiReF/\"> here</a>"
   ],
   "metadata": {
    "collapsed": false
   },
   "id": "85bc3873332d289a"
  },
  {
   "cell_type": "markdown",
   "source": [
    "**EFR: Given a dialogue, EFR aims to identify the trigger utterance(s) for an emotion-flip in a multi-party conversation dialogue.** \n",
    "\n",
    "For example: \n",
    "<center>\n",
    "    <img src=\"images\\example_EFR.jpeg\" alt=\"EFR\" />\n",
    "</center>"
   ],
   "metadata": {
    "collapsed": false
   },
   "id": "8c1385f3bde50c1e"
  }
 ],
 "metadata": {
  "kernelspec": {
   "display_name": "Python 3",
   "language": "python",
   "name": "python3"
  },
  "language_info": {
   "codemirror_mode": {
    "name": "ipython",
    "version": 2
   },
   "file_extension": ".py",
   "mimetype": "text/x-python",
   "name": "python",
   "nbconvert_exporter": "python",
   "pygments_lexer": "ipython2",
   "version": "2.7.6"
  }
 },
 "nbformat": 4,
 "nbformat_minor": 5
}
