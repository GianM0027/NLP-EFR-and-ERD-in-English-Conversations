{
 "cells": [
  {
   "cell_type": "markdown",
   "source": [
    "# NLP Project - EFR in English conversations\n",
    "\n",
    "You can find the ppt with details and requirements of the project <a href=\"https://docs.google.com/presentation/d/1TTN1H3GdnaswGXW63SuSvD4CsI7HB9lkYuwXRMQp2ks/edit?usp=sharing\"> here</a>. The ppt is equivalent to the <a href=\"https://virtuale.unibo.it/mod/page/view.php?id=1405067\"> FAQ page</a>\n",
    "\n",
    "You can find the official webpage of the challenge <a href=\"https://lcs2.in/SemEval2024-EDiReF/\"> here</a>"
   ],
   "metadata": {
    "collapsed": false
   },
   "id": "85bc3873332d289a"
  },
  {
   "cell_type": "markdown",
   "source": [
    "**EFR: Given a dialogue, EFR aims to identify the trigger utterance(s) for an emotion-flip in a multi-party conversation dialogue.** \n",
    "\n",
    "For example: \n",
    "<center>\n",
    "    <img src=\"./images/example_EFR.jpeg\" alt=\"EFR\" />\n",
    "</center>"
   ],
   "metadata": {
    "collapsed": false
   },
   "id": "8c1385f3bde50c1e"
  },
  {
   "cell_type": "code",
   "outputs": [
    {
     "name": "stdout",
     "output_type": "stream",
     "text": [
      "The autoreload extension is already loaded. To reload it, use:\n",
      "  %reload_ext autoreload\n"
     ]
    }
   ],
   "source": [
    "%load_ext autoreload\n",
    "%autoreload 2\n",
    "\n",
    "import pandas as pd\n",
    "import numpy\n",
    "import os\n",
    "import torch\n",
    "from sys import platform\n",
    "from utilities import *\n",
    "\n",
    "from models.randomClassifier import RandomClassifier\n",
    "from models.majorityClassifier import MajorityClassifier\n",
    "\n",
    "from DrTorch.metrics import F1_Score_Multi_Labels\n",
    "from models.bertFreezed import BertFreezed\n",
    "from models.bertFull import BertFull\n"
   ],
   "metadata": {
    "collapsed": false,
    "ExecuteTime": {
     "end_time": "2024-02-21T16:59:30.657920700Z",
     "start_time": "2024-02-21T16:59:30.249738200Z"
    }
   },
   "id": "2ece32ffd62b0215",
   "execution_count": 17
  },
  {
   "cell_type": "markdown",
   "source": [
    "## Setting the device"
   ],
   "metadata": {
    "collapsed": false
   },
   "id": "34d937b7e13fb772"
  },
  {
   "cell_type": "code",
   "outputs": [
    {
     "name": "stdout",
     "output_type": "stream",
     "text": [
      "PyTorch version: 2.2.0+cu121\n",
      "Using device: cuda\n"
     ]
    }
   ],
   "source": [
    "print(f\"PyTorch version: {torch.__version__}\")\n",
    "\n",
    "if platform == \"darwin\":    #Run on macOS\n",
    "    \n",
    "    print(f\"Is MPS (Metal Performance Shader) built? {torch.backends.mps.is_built()}\")\n",
    "    print(f\"Is MPS available? {torch.backends.mps.is_available()}\")\n",
    "    device = \"mps\" if torch.backends.mps.is_available() else \"cpu\"    \n",
    "else:\n",
    "    device = torch.device('cuda' if torch.cuda.is_available() else 'cpu') \n",
    "\n",
    "print(f\"Using device: {device}\")\n"
   ],
   "metadata": {
    "collapsed": false,
    "ExecuteTime": {
     "end_time": "2024-02-21T16:59:30.784016500Z",
     "start_time": "2024-02-21T16:59:30.642911700Z"
    }
   },
   "id": "78a08b1656d020fe",
   "execution_count": 18
  },
  {
   "cell_type": "code",
   "outputs": [
    {
     "name": "stdout",
     "output_type": "stream",
     "text": [
      "Wed Feb 21 17:59:32 2024       \n",
      "+---------------------------------------------------------------------------------------+\n",
      "| NVIDIA-SMI 536.23                 Driver Version: 536.23       CUDA Version: 12.2     |\n",
      "|-----------------------------------------+----------------------+----------------------+\n",
      "| GPU  Name                     TCC/WDDM  | Bus-Id        Disp.A | Volatile Uncorr. ECC |\n",
      "| Fan  Temp   Perf          Pwr:Usage/Cap |         Memory-Usage | GPU-Util  Compute M. |\n",
      "|                                         |                      |               MIG M. |\n",
      "|=========================================+======================+======================|\n",
      "|   0  NVIDIA GeForce RTX 4060 ...  WDDM  | 00000000:01:00.0 Off |                  N/A |\n",
      "| N/A   42C    P8               5W /  40W |      0MiB /  8188MiB |      0%      Default |\n",
      "|                                         |                      |                  N/A |\n",
      "+-----------------------------------------+----------------------+----------------------+\n",
      "                                                                                         \n",
      "+---------------------------------------------------------------------------------------+\n",
      "| Processes:                                                                            |\n",
      "|  GPU   GI   CI        PID   Type   Process name                            GPU Memory |\n",
      "|        ID   ID                                                             Usage      |\n",
      "|=======================================================================================|\n",
      "|    0   N/A  N/A    171224    C+G   ...inaries\\Win64\\EpicGamesLauncher.exe    N/A      |\n",
      "+---------------------------------------------------------------------------------------+\n"
     ]
    }
   ],
   "source": [
    "if device != 'mps':\n",
    "    !nvidia-smi\n"
   ],
   "metadata": {
    "collapsed": false,
    "ExecuteTime": {
     "end_time": "2024-02-21T16:59:32.244019300Z",
     "start_time": "2024-02-21T16:59:30.763974500Z"
    }
   },
   "id": "67a906779c9ec397",
   "execution_count": 19
  },
  {
   "cell_type": "markdown",
   "source": [
    "## Defining flags and variables"
   ],
   "metadata": {
    "collapsed": false
   },
   "id": "f5fa2f7278bc9000"
  },
  {
   "cell_type": "code",
   "outputs": [],
   "source": [
    "DATA_DIRECTORY = 'Data'             # Directory containing the dataset\n",
    "DATASET = 'MELD_efr.json'           # Name of dataset file\n",
    "\n",
    "BERT_DIRECTORY = \"bert-base-uncased\"\n",
    "\n",
    "DATASET_PATH = os.path.join(DATA_DIRECTORY, DATASET)    # Path of dataset in JSON format \n"
   ],
   "metadata": {
    "collapsed": false,
    "ExecuteTime": {
     "end_time": "2024-02-21T16:59:32.374773500Z",
     "start_time": "2024-02-21T16:59:32.248009200Z"
    }
   },
   "id": "335f829731d15ffd",
   "execution_count": 20
  },
  {
   "cell_type": "markdown",
   "source": [
    "## Dataset Creation and Exploration"
   ],
   "metadata": {
    "collapsed": false
   },
   "id": "94ef05c4366b7e6a"
  },
  {
   "cell_type": "code",
   "outputs": [
    {
     "data": {
      "text/plain": "                                                         speakers  \\\nepisode                                                             \nutterance_0     [Chandler, The Interviewer, Chandler, The Inte...   \nutterance_1     [Chandler, The Interviewer, Chandler, The Inte...   \nutterance_2     [Chandler, The Interviewer, Chandler, The Inte...   \nutterance_3     [Chandler, The Interviewer, Chandler, The Inte...   \nutterance_4                          [Joey, Rachel, Joey, Rachel]   \n...                                                           ...   \nutterance_3995  [Chandler, All, Monica, Chandler, Ross, Chandl...   \nutterance_3996  [Chandler, All, Monica, Chandler, Ross, Chandl...   \nutterance_3997  [Chandler, All, Monica, Chandler, Ross, Chandl...   \nutterance_3998  [Chandler, All, Monica, Chandler, Ross, Chandl...   \nutterance_3999  [Chandler, All, Monica, Chandler, Ross, Chandl...   \n\n                                                         emotions  \\\nepisode                                                             \nutterance_0        [neutral, neutral, neutral, neutral, surprise]   \nutterance_1     [neutral, neutral, neutral, neutral, surprise,...   \nutterance_2     [neutral, neutral, neutral, neutral, surprise,...   \nutterance_3     [neutral, neutral, neutral, neutral, surprise,...   \nutterance_4                   [surprise, sadness, surprise, fear]   \n...                                                           ...   \nutterance_3995  [neutral, joy, neutral, neutral, surprise, dis...   \nutterance_3996  [neutral, joy, neutral, neutral, surprise, dis...   \nutterance_3997  [neutral, joy, neutral, neutral, surprise, dis...   \nutterance_3998  [neutral, joy, neutral, neutral, surprise, dis...   \nutterance_3999  [neutral, joy, neutral, neutral, surprise, dis...   \n\n                                                       utterances  \\\nepisode                                                             \nutterance_0     [also I was the point person on my company's t...   \nutterance_1     [also I was the point person on my company's t...   \nutterance_2     [also I was the point person on my company's t...   \nutterance_3     [also I was the point person on my company's t...   \nutterance_4     [But then who? The waitress I went out with la...   \n...                                                           ...   \nutterance_3995  [Hey., Hey!, So how was Joan?, I broke up with...   \nutterance_3996  [Hey., Hey!, So how was Joan?, I broke up with...   \nutterance_3997  [Hey., Hey!, So how was Joan?, I broke up with...   \nutterance_3998  [Hey., Hey!, So how was Joan?, I broke up with...   \nutterance_3999  [Hey., Hey!, So how was Joan?, I broke up with...   \n\n                                                         triggers  \nepisode                                                            \nutterance_0                             [0.0, 0.0, 0.0, 1.0, 0.0]  \nutterance_1                   [0.0, 0.0, 0.0, 0.0, 0.0, 1.0, 0.0]  \nutterance_2     [0.0, 0.0, 0.0, 0.0, 0.0, 0.0, 0.0, 1.0, 0.0, ...  \nutterance_3     [0.0, 0.0, 0.0, 0.0, 0.0, 0.0, 0.0, 0.0, 0.0, ...  \nutterance_4                                  [0.0, 0.0, 1.0, 0.0]  \n...                                                           ...  \nutterance_3995  [0.0, 0.0, 0.0, 0.0, 0.0, 0.0, 0.0, 0.0, 0.0, ...  \nutterance_3996  [0.0, 0.0, 0.0, 0.0, 0.0, 0.0, 0.0, 0.0, 0.0, ...  \nutterance_3997  [0.0, 0.0, 0.0, 0.0, 0.0, 0.0, 0.0, 0.0, 0.0, ...  \nutterance_3998  [0.0, 0.0, 0.0, 0.0, 0.0, 0.0, 0.0, 0.0, 0.0, ...  \nutterance_3999  [0.0, 0.0, 0.0, 0.0, 0.0, 0.0, 0.0, 0.0, 0.0, ...  \n\n[4000 rows x 4 columns]",
      "text/html": "<div>\n<style scoped>\n    .dataframe tbody tr th:only-of-type {\n        vertical-align: middle;\n    }\n\n    .dataframe tbody tr th {\n        vertical-align: top;\n    }\n\n    .dataframe thead th {\n        text-align: right;\n    }\n</style>\n<table border=\"1\" class=\"dataframe\">\n  <thead>\n    <tr style=\"text-align: right;\">\n      <th></th>\n      <th>speakers</th>\n      <th>emotions</th>\n      <th>utterances</th>\n      <th>triggers</th>\n    </tr>\n    <tr>\n      <th>episode</th>\n      <th></th>\n      <th></th>\n      <th></th>\n      <th></th>\n    </tr>\n  </thead>\n  <tbody>\n    <tr>\n      <th>utterance_0</th>\n      <td>[Chandler, The Interviewer, Chandler, The Inte...</td>\n      <td>[neutral, neutral, neutral, neutral, surprise]</td>\n      <td>[also I was the point person on my company's t...</td>\n      <td>[0.0, 0.0, 0.0, 1.0, 0.0]</td>\n    </tr>\n    <tr>\n      <th>utterance_1</th>\n      <td>[Chandler, The Interviewer, Chandler, The Inte...</td>\n      <td>[neutral, neutral, neutral, neutral, surprise,...</td>\n      <td>[also I was the point person on my company's t...</td>\n      <td>[0.0, 0.0, 0.0, 0.0, 0.0, 1.0, 0.0]</td>\n    </tr>\n    <tr>\n      <th>utterance_2</th>\n      <td>[Chandler, The Interviewer, Chandler, The Inte...</td>\n      <td>[neutral, neutral, neutral, neutral, surprise,...</td>\n      <td>[also I was the point person on my company's t...</td>\n      <td>[0.0, 0.0, 0.0, 0.0, 0.0, 0.0, 0.0, 1.0, 0.0, ...</td>\n    </tr>\n    <tr>\n      <th>utterance_3</th>\n      <td>[Chandler, The Interviewer, Chandler, The Inte...</td>\n      <td>[neutral, neutral, neutral, neutral, surprise,...</td>\n      <td>[also I was the point person on my company's t...</td>\n      <td>[0.0, 0.0, 0.0, 0.0, 0.0, 0.0, 0.0, 0.0, 0.0, ...</td>\n    </tr>\n    <tr>\n      <th>utterance_4</th>\n      <td>[Joey, Rachel, Joey, Rachel]</td>\n      <td>[surprise, sadness, surprise, fear]</td>\n      <td>[But then who? The waitress I went out with la...</td>\n      <td>[0.0, 0.0, 1.0, 0.0]</td>\n    </tr>\n    <tr>\n      <th>...</th>\n      <td>...</td>\n      <td>...</td>\n      <td>...</td>\n      <td>...</td>\n    </tr>\n    <tr>\n      <th>utterance_3995</th>\n      <td>[Chandler, All, Monica, Chandler, Ross, Chandl...</td>\n      <td>[neutral, joy, neutral, neutral, surprise, dis...</td>\n      <td>[Hey., Hey!, So how was Joan?, I broke up with...</td>\n      <td>[0.0, 0.0, 0.0, 0.0, 0.0, 0.0, 0.0, 0.0, 0.0, ...</td>\n    </tr>\n    <tr>\n      <th>utterance_3996</th>\n      <td>[Chandler, All, Monica, Chandler, Ross, Chandl...</td>\n      <td>[neutral, joy, neutral, neutral, surprise, dis...</td>\n      <td>[Hey., Hey!, So how was Joan?, I broke up with...</td>\n      <td>[0.0, 0.0, 0.0, 0.0, 0.0, 0.0, 0.0, 0.0, 0.0, ...</td>\n    </tr>\n    <tr>\n      <th>utterance_3997</th>\n      <td>[Chandler, All, Monica, Chandler, Ross, Chandl...</td>\n      <td>[neutral, joy, neutral, neutral, surprise, dis...</td>\n      <td>[Hey., Hey!, So how was Joan?, I broke up with...</td>\n      <td>[0.0, 0.0, 0.0, 0.0, 0.0, 0.0, 0.0, 0.0, 0.0, ...</td>\n    </tr>\n    <tr>\n      <th>utterance_3998</th>\n      <td>[Chandler, All, Monica, Chandler, Ross, Chandl...</td>\n      <td>[neutral, joy, neutral, neutral, surprise, dis...</td>\n      <td>[Hey., Hey!, So how was Joan?, I broke up with...</td>\n      <td>[0.0, 0.0, 0.0, 0.0, 0.0, 0.0, 0.0, 0.0, 0.0, ...</td>\n    </tr>\n    <tr>\n      <th>utterance_3999</th>\n      <td>[Chandler, All, Monica, Chandler, Ross, Chandl...</td>\n      <td>[neutral, joy, neutral, neutral, surprise, dis...</td>\n      <td>[Hey., Hey!, So how was Joan?, I broke up with...</td>\n      <td>[0.0, 0.0, 0.0, 0.0, 0.0, 0.0, 0.0, 0.0, 0.0, ...</td>\n    </tr>\n  </tbody>\n</table>\n<p>4000 rows × 4 columns</p>\n</div>"
     },
     "execution_count": 21,
     "metadata": {},
     "output_type": "execute_result"
    }
   ],
   "source": [
    "df = pd.read_json(DATASET_PATH)\n",
    "df.set_index(\"episode\", inplace=True)\n",
    "\n",
    "df\n"
   ],
   "metadata": {
    "collapsed": false,
    "ExecuteTime": {
     "end_time": "2024-02-21T16:59:32.618405700Z",
     "start_time": "2024-02-21T16:59:32.370257Z"
    }
   },
   "id": "204c1960d2293b56",
   "execution_count": 21
  },
  {
   "cell_type": "code",
   "execution_count": 22,
   "outputs": [
    {
     "name": "stdout",
     "output_type": "stream",
     "text": [
      "Utterance 3491\n"
     ]
    },
    {
     "data": {
      "text/plain": "  speakers  emotions                                         utterances  \\\n0   Phoebe  surprise                  You-you\nyou had sex with Ursula?!   \n1     Eric      fear  Uh, a little bit. She-she-she walked in and I ...   \n2   Phoebe  surprise  You didn't notice she was wearing different cl...   \n3     Eric   sadness             Well I was just so excited to see you.   \n\n  triggers  \n0      0.0  \n1      0.0  \n2      1.0  \n3      0.0  ",
      "text/html": "<div>\n<style scoped>\n    .dataframe tbody tr th:only-of-type {\n        vertical-align: middle;\n    }\n\n    .dataframe tbody tr th {\n        vertical-align: top;\n    }\n\n    .dataframe thead th {\n        text-align: right;\n    }\n</style>\n<table border=\"1\" class=\"dataframe\">\n  <thead>\n    <tr style=\"text-align: right;\">\n      <th></th>\n      <th>speakers</th>\n      <th>emotions</th>\n      <th>utterances</th>\n      <th>triggers</th>\n    </tr>\n  </thead>\n  <tbody>\n    <tr>\n      <th>0</th>\n      <td>Phoebe</td>\n      <td>surprise</td>\n      <td>You-youyou had sex with Ursula?!</td>\n      <td>0.0</td>\n    </tr>\n    <tr>\n      <th>1</th>\n      <td>Eric</td>\n      <td>fear</td>\n      <td>Uh, a little bit. She-she-she walked in and I ...</td>\n      <td>0.0</td>\n    </tr>\n    <tr>\n      <th>2</th>\n      <td>Phoebe</td>\n      <td>surprise</td>\n      <td>You didn't notice she was wearing different cl...</td>\n      <td>1.0</td>\n    </tr>\n    <tr>\n      <th>3</th>\n      <td>Eric</td>\n      <td>sadness</td>\n      <td>Well I was just so excited to see you.</td>\n      <td>0.0</td>\n    </tr>\n  </tbody>\n</table>\n</div>"
     },
     "metadata": {},
     "output_type": "display_data"
    },
    {
     "name": "stdout",
     "output_type": "stream",
     "text": [
      "\n",
      "Utterance 456\n"
     ]
    },
    {
     "data": {
      "text/plain": "       speakers  emotions                                         utterances  \\\n0          Kate       joy                             Become a drama critic!   \n1  The Director   sadness          I am hurt!  A plague on both your houses!   \n2          Kate   sadness  By the way, he dumped me tonight after he read...   \n3          Joey   disgust                                        Oh, classy.   \n4          Kate   sadness  Yep! I sure know how to pick em, huh? Y'know ...   \n5          Joey     anger               Wow! Yeah I ah, I gave up a job too.   \n6          Kate  surprise                                      Really. What?   \n7          Joey     anger                               Uh, de-clawing cats.   \n8          Joey   neutral                                 Hey, tell ya what.   \n\n  triggers  \n0      0.0  \n1      0.0  \n2      0.0  \n3      0.0  \n4      0.0  \n5      0.0  \n6      0.0  \n7      0.0  \n8      0.0  ",
      "text/html": "<div>\n<style scoped>\n    .dataframe tbody tr th:only-of-type {\n        vertical-align: middle;\n    }\n\n    .dataframe tbody tr th {\n        vertical-align: top;\n    }\n\n    .dataframe thead th {\n        text-align: right;\n    }\n</style>\n<table border=\"1\" class=\"dataframe\">\n  <thead>\n    <tr style=\"text-align: right;\">\n      <th></th>\n      <th>speakers</th>\n      <th>emotions</th>\n      <th>utterances</th>\n      <th>triggers</th>\n    </tr>\n  </thead>\n  <tbody>\n    <tr>\n      <th>0</th>\n      <td>Kate</td>\n      <td>joy</td>\n      <td>Become a drama critic!</td>\n      <td>0.0</td>\n    </tr>\n    <tr>\n      <th>1</th>\n      <td>The Director</td>\n      <td>sadness</td>\n      <td>I am hurt!  A plague on both your houses!</td>\n      <td>0.0</td>\n    </tr>\n    <tr>\n      <th>2</th>\n      <td>Kate</td>\n      <td>sadness</td>\n      <td>By the way, he dumped me tonight after he read...</td>\n      <td>0.0</td>\n    </tr>\n    <tr>\n      <th>3</th>\n      <td>Joey</td>\n      <td>disgust</td>\n      <td>Oh, classy.</td>\n      <td>0.0</td>\n    </tr>\n    <tr>\n      <th>4</th>\n      <td>Kate</td>\n      <td>sadness</td>\n      <td>Yep! I sure know how to pick em, huh? Y'know ...</td>\n      <td>0.0</td>\n    </tr>\n    <tr>\n      <th>5</th>\n      <td>Joey</td>\n      <td>anger</td>\n      <td>Wow! Yeah I ah, I gave up a job too.</td>\n      <td>0.0</td>\n    </tr>\n    <tr>\n      <th>6</th>\n      <td>Kate</td>\n      <td>surprise</td>\n      <td>Really. What?</td>\n      <td>0.0</td>\n    </tr>\n    <tr>\n      <th>7</th>\n      <td>Joey</td>\n      <td>anger</td>\n      <td>Uh, de-clawing cats.</td>\n      <td>0.0</td>\n    </tr>\n    <tr>\n      <th>8</th>\n      <td>Joey</td>\n      <td>neutral</td>\n      <td>Hey, tell ya what.</td>\n      <td>0.0</td>\n    </tr>\n  </tbody>\n</table>\n</div>"
     },
     "metadata": {},
     "output_type": "display_data"
    },
    {
     "name": "stdout",
     "output_type": "stream",
     "text": [
      "\n",
      "Utterance 2005\n"
     ]
    },
    {
     "data": {
      "text/plain": "   speakers  emotions                                         utterances  \\\n0  Chandler   neutral                              Where you going, Joe?   \n1      Joey   neutral                                        For a walk.   \n2  Chandler   neutral                        Oh. You mind if I join you?   \n3      Joey   neutral  Actually, that will be long. You know, I reall...   \n4  Chandler  surprise                             Your thoughts? Plural?   \n5      Joey       joy  Allright, fine, I only have one thought! It's ...   \n\n  triggers  \n0      0.0  \n1      0.0  \n2      0.0  \n3      0.0  \n4      1.0  \n5      1.0  ",
      "text/html": "<div>\n<style scoped>\n    .dataframe tbody tr th:only-of-type {\n        vertical-align: middle;\n    }\n\n    .dataframe tbody tr th {\n        vertical-align: top;\n    }\n\n    .dataframe thead th {\n        text-align: right;\n    }\n</style>\n<table border=\"1\" class=\"dataframe\">\n  <thead>\n    <tr style=\"text-align: right;\">\n      <th></th>\n      <th>speakers</th>\n      <th>emotions</th>\n      <th>utterances</th>\n      <th>triggers</th>\n    </tr>\n  </thead>\n  <tbody>\n    <tr>\n      <th>0</th>\n      <td>Chandler</td>\n      <td>neutral</td>\n      <td>Where you going, Joe?</td>\n      <td>0.0</td>\n    </tr>\n    <tr>\n      <th>1</th>\n      <td>Joey</td>\n      <td>neutral</td>\n      <td>For a walk.</td>\n      <td>0.0</td>\n    </tr>\n    <tr>\n      <th>2</th>\n      <td>Chandler</td>\n      <td>neutral</td>\n      <td>Oh. You mind if I join you?</td>\n      <td>0.0</td>\n    </tr>\n    <tr>\n      <th>3</th>\n      <td>Joey</td>\n      <td>neutral</td>\n      <td>Actually, that will be long. You know, I reall...</td>\n      <td>0.0</td>\n    </tr>\n    <tr>\n      <th>4</th>\n      <td>Chandler</td>\n      <td>surprise</td>\n      <td>Your thoughts? Plural?</td>\n      <td>1.0</td>\n    </tr>\n    <tr>\n      <th>5</th>\n      <td>Joey</td>\n      <td>joy</td>\n      <td>Allright, fine, I only have one thought! It's ...</td>\n      <td>1.0</td>\n    </tr>\n  </tbody>\n</table>\n</div>"
     },
     "metadata": {},
     "output_type": "display_data"
    },
    {
     "name": "stdout",
     "output_type": "stream",
     "text": []
    }
   ],
   "source": [
    "display_utterance(dataframe=df, utterance_id='utterance_3491')\n",
    "display_utterance(dataframe=df, utterance_id='utterance_456')\n",
    "display_utterance(dataframe=df, utterance_id='utterance_2005')\n"
   ],
   "metadata": {
    "collapsed": false,
    "ExecuteTime": {
     "end_time": "2024-02-21T16:59:32.801333200Z",
     "start_time": "2024-02-21T16:59:32.620403300Z"
    }
   },
   "id": "621ea6ad4b24d43c"
  },
  {
   "cell_type": "markdown",
   "source": [
    "[START] frase1_dialogo1 [SEP] frase2_dialogo1 [SEP] ... [END]\n",
    "[START] frase1_dialogo2 [SEP] ...\n",
    "...\n",
    "\n",
    "Frase, speaker, id_dialogo"
   ],
   "metadata": {
    "collapsed": false
   },
   "id": "f240abc50e5599d4"
  },
  {
   "cell_type": "code",
   "outputs": [
    {
     "name": "stdout",
     "output_type": "stream",
     "text": [
      "Before: 9 NaN values\n",
      "After: 0 NaN values\n"
     ]
    }
   ],
   "source": [
    "# removing NaN values\n",
    "nan_count_before = df[\"triggers\"].apply(lambda lst: sum(pd.isna(x) for x in lst)).sum()\n",
    "df['triggers'] = df['triggers'].apply(replace_nan_with_zero)\n",
    "nan_count_after = df[\"triggers\"].apply(lambda lst: sum(pd.isna(x) for x in lst)).sum()\n",
    "\n",
    "print(f\"Before: {nan_count_before} NaN values\")\n",
    "print(f\"After: {nan_count_after} NaN values\")\n"
   ],
   "metadata": {
    "collapsed": false,
    "ExecuteTime": {
     "end_time": "2024-02-21T16:59:33.194581600Z",
     "start_time": "2024-02-21T16:59:32.782759600Z"
    }
   },
   "id": "faa3e0927a81e07",
   "execution_count": 23
  },
  {
   "cell_type": "code",
   "execution_count": 24,
   "outputs": [
    {
     "name": "stdout",
     "output_type": "stream",
     "text": [
      "Number of unique speakers: 231\n",
      "\n",
      "Minimum number of speakers in an utterance: 1\n",
      "Maximum number of speakers in an utterance: 8\n",
      "\n",
      "Minimum number of sentences in an utterance: 2\n",
      "Maximum number of sentences in an utterance: 24\n"
     ]
    }
   ],
   "source": [
    "total_n_speakers = list(set(df['speakers'].explode()))\n",
    "speakers = {'min_speakers': 'inf', 'max_speakers': '-inf'}\n",
    "utterances = {'length_min': 'inf', 'length_max': '-inf'}\n",
    "\n",
    "num_unique_speakers = df['speakers'].apply(lambda x: len(set(x)))\n",
    "speakers['min_speakers'] = num_unique_speakers.min()\n",
    "speakers['max_speakers'] = num_unique_speakers.max()\n",
    "\n",
    "len_utterances = df['utterances'].str.len() \n",
    "utterances['length_min'] = len_utterances.min()\n",
    "utterances['length_max'] = len_utterances.max()\n",
    "    \n",
    "        \n",
    "print(f\"Number of unique speakers: {len(total_n_speakers)}\\n\")\n",
    "print(f\"Minimum number of speakers in an utterance: {speakers['min_speakers']}\")\n",
    "print(f\"Maximum number of speakers in an utterance: {speakers['max_speakers']}\\n\")\n",
    "print(f\"Minimum number of sentences in an utterance: {utterances['length_min']}\")\n",
    "print(f\"Maximum number of sentences in an utterance: {utterances['length_max']}\")"
   ],
   "metadata": {
    "collapsed": false,
    "ExecuteTime": {
     "end_time": "2024-02-21T16:59:33.366146100Z",
     "start_time": "2024-02-21T16:59:33.060039100Z"
    }
   },
   "id": "32ab77d01de505f2"
  },
  {
   "cell_type": "code",
   "outputs": [
    {
     "data": {
      "text/plain": "                                                speakers  \\\nindex                                                      \nutterance_555                           [Phoebe, Phoebe]   \nutterance_3491              [Phoebe, Eric, Phoebe, Eric]   \nutterance_527              [Mona, Ross, Dr. Green, Ross]   \nutterance_3925  [Chandler, Chandler, Chandler, Chandler]   \nutterance_2989                      [Ross, Phoebe, Ross]   \n\n                                            emotions  \\\nindex                                                  \nutterance_555                       [sadness, anger]   \nutterance_3491   [surprise, fear, surprise, sadness]   \nutterance_527        [fear, neutral, anger, sadness]   \nutterance_3925  [neutral, neutral, neutral, disgust]   \nutterance_2989                   [joy, joy, neutral]   \n\n                                                       utterances  \\\nindex                                                               \nutterance_555   [Look, I feel really bad about how I freaked y...   \nutterance_3491  [You-you\nyou had sex with Ursula?!, Uh, a litt...   \nutterance_527   [Oh my God! Oh my God! I'm so sorry!, Aw forge...   \nutterance_3925  [I can blow dry it., I can put gel on it., It ...   \nutterance_2989  [You're gonna love me so much. I got Sting tic...   \n\n                            triggers  \nindex                                 \nutterance_555             [0.0, 0.0]  \nutterance_3491  [0.0, 0.0, 1.0, 0.0]  \nutterance_527   [0.0, 0.0, 1.0, 0.0]  \nutterance_3925  [0.0, 0.0, 1.0, 0.0]  \nutterance_2989       [0.0, 1.0, 0.0]  ",
      "text/html": "<div>\n<style scoped>\n    .dataframe tbody tr th:only-of-type {\n        vertical-align: middle;\n    }\n\n    .dataframe tbody tr th {\n        vertical-align: top;\n    }\n\n    .dataframe thead th {\n        text-align: right;\n    }\n</style>\n<table border=\"1\" class=\"dataframe\">\n  <thead>\n    <tr style=\"text-align: right;\">\n      <th></th>\n      <th>speakers</th>\n      <th>emotions</th>\n      <th>utterances</th>\n      <th>triggers</th>\n    </tr>\n    <tr>\n      <th>index</th>\n      <th></th>\n      <th></th>\n      <th></th>\n      <th></th>\n    </tr>\n  </thead>\n  <tbody>\n    <tr>\n      <th>utterance_555</th>\n      <td>[Phoebe, Phoebe]</td>\n      <td>[sadness, anger]</td>\n      <td>[Look, I feel really bad about how I freaked y...</td>\n      <td>[0.0, 0.0]</td>\n    </tr>\n    <tr>\n      <th>utterance_3491</th>\n      <td>[Phoebe, Eric, Phoebe, Eric]</td>\n      <td>[surprise, fear, surprise, sadness]</td>\n      <td>[You-youyou had sex with Ursula?!, Uh, a litt...</td>\n      <td>[0.0, 0.0, 1.0, 0.0]</td>\n    </tr>\n    <tr>\n      <th>utterance_527</th>\n      <td>[Mona, Ross, Dr. Green, Ross]</td>\n      <td>[fear, neutral, anger, sadness]</td>\n      <td>[Oh my God! Oh my God! I'm so sorry!, Aw forge...</td>\n      <td>[0.0, 0.0, 1.0, 0.0]</td>\n    </tr>\n    <tr>\n      <th>utterance_3925</th>\n      <td>[Chandler, Chandler, Chandler, Chandler]</td>\n      <td>[neutral, neutral, neutral, disgust]</td>\n      <td>[I can blow dry it., I can put gel on it., It ...</td>\n      <td>[0.0, 0.0, 1.0, 0.0]</td>\n    </tr>\n    <tr>\n      <th>utterance_2989</th>\n      <td>[Ross, Phoebe, Ross]</td>\n      <td>[joy, joy, neutral]</td>\n      <td>[You're gonna love me so much. I got Sting tic...</td>\n      <td>[0.0, 1.0, 0.0]</td>\n    </tr>\n  </tbody>\n</table>\n</div>"
     },
     "metadata": {},
     "output_type": "display_data"
    },
    {
     "data": {
      "text/plain": "                                                         speakers  \\\nindex                                                               \nutterance_3334                              [Rachel, Tag, Rachel]   \nutterance_652            [Phoebe, Duncan, Phoebe, Duncan, Phoebe]   \nutterance_172   [Monica, Joey, Monica, Phoebe, Rachel, Joey, R...   \nutterance_3197    [Older Scientist, Ross, Ross, Joey, Ross, Ross]   \nutterance_38                     [Chandler, Jade, Jade, Chandler]   \n\n                                                         emotions  \\\nindex                                                               \nutterance_3334                           [surprise, neutral, joy]   \nutterance_652          [neutral, surprise, joy, neutral, neutral]   \nutterance_172   [joy, surprise, anger, surprise, neutral, neut...   \nutterance_3197  [neutral, neutral, neutral, neutral, neutral, ...   \nutterance_38                     [neutral, neutral, neutral, joy]   \n\n                                                       utterances  \\\nindex                                                               \nutterance_3334  [Oh really?!, Yeah. Did you tell someone that ...   \nutterance_652                   [Hi., Phoebe!, Ta-da., Hey., Hi.]   \nutterance_172   [Because we won our apartment back!, What? Ace...   \nutterance_3197  [Dr. Geller, there's a seat over here., Thank ...   \nutterance_38    [What've you been up to?, Oh, you know, the us...   \n\n                                                         triggers  \nindex                                                              \nutterance_3334                                    [0.0, 1.0, 0.0]  \nutterance_652                           [0.0, 0.0, 0.0, 1.0, 0.0]  \nutterance_172   [0.0, 0.0, 0.0, 0.0, 0.0, 0.0, 0.0, 0.0, 0.0, ...  \nutterance_3197                     [0.0, 0.0, 0.0, 0.0, 1.0, 1.0]  \nutterance_38                                 [0.0, 1.0, 1.0, 0.0]  ",
      "text/html": "<div>\n<style scoped>\n    .dataframe tbody tr th:only-of-type {\n        vertical-align: middle;\n    }\n\n    .dataframe tbody tr th {\n        vertical-align: top;\n    }\n\n    .dataframe thead th {\n        text-align: right;\n    }\n</style>\n<table border=\"1\" class=\"dataframe\">\n  <thead>\n    <tr style=\"text-align: right;\">\n      <th></th>\n      <th>speakers</th>\n      <th>emotions</th>\n      <th>utterances</th>\n      <th>triggers</th>\n    </tr>\n    <tr>\n      <th>index</th>\n      <th></th>\n      <th></th>\n      <th></th>\n      <th></th>\n    </tr>\n  </thead>\n  <tbody>\n    <tr>\n      <th>utterance_3334</th>\n      <td>[Rachel, Tag, Rachel]</td>\n      <td>[surprise, neutral, joy]</td>\n      <td>[Oh really?!, Yeah. Did you tell someone that ...</td>\n      <td>[0.0, 1.0, 0.0]</td>\n    </tr>\n    <tr>\n      <th>utterance_652</th>\n      <td>[Phoebe, Duncan, Phoebe, Duncan, Phoebe]</td>\n      <td>[neutral, surprise, joy, neutral, neutral]</td>\n      <td>[Hi., Phoebe!, Ta-da., Hey., Hi.]</td>\n      <td>[0.0, 0.0, 0.0, 1.0, 0.0]</td>\n    </tr>\n    <tr>\n      <th>utterance_172</th>\n      <td>[Monica, Joey, Monica, Phoebe, Rachel, Joey, R...</td>\n      <td>[joy, surprise, anger, surprise, neutral, neut...</td>\n      <td>[Because we won our apartment back!, What? Ace...</td>\n      <td>[0.0, 0.0, 0.0, 0.0, 0.0, 0.0, 0.0, 0.0, 0.0, ...</td>\n    </tr>\n    <tr>\n      <th>utterance_3197</th>\n      <td>[Older Scientist, Ross, Ross, Joey, Ross, Ross]</td>\n      <td>[neutral, neutral, neutral, neutral, neutral, ...</td>\n      <td>[Dr. Geller, there's a seat over here., Thank ...</td>\n      <td>[0.0, 0.0, 0.0, 0.0, 1.0, 1.0]</td>\n    </tr>\n    <tr>\n      <th>utterance_38</th>\n      <td>[Chandler, Jade, Jade, Chandler]</td>\n      <td>[neutral, neutral, neutral, joy]</td>\n      <td>[What've you been up to?, Oh, you know, the us...</td>\n      <td>[0.0, 1.0, 1.0, 0.0]</td>\n    </tr>\n  </tbody>\n</table>\n</div>"
     },
     "metadata": {},
     "output_type": "display_data"
    },
    {
     "data": {
      "text/plain": "                                                         speakers  \\\nindex                                                               \nutterance_3881  [Joey, Monica, Joey, All, Monica, Joey, Rachel...   \nutterance_2848  [Janice, Chandler, Janice, Chandler, Janice, C...   \nutterance_1603  [Rachel, Rachel, Rachel, Ross, Ross, Ross, Ros...   \nutterance_160          [Mr. Tribbiani, Joey, Mr. Tribbiani, Joey]   \nutterance_1704       [Rachel, Chandler, Rachel, Chandler, Rachel]   \n\n                                                         emotions  \\\nindex                                                               \nutterance_3881  [neutral, neutral, joy, disgust, disgust, sadn...   \nutterance_2848  [surprise, neutral, surprise, neutral, anger, ...   \nutterance_1603  [sadness, sadness, sadness, neutral, neutral, ...   \nutterance_160               [sadness, surprise, neutral, neutral]   \nutterance_1704           [joy, anger, neutral, sadness, surprise]   \n\n                                                       utterances  \\\nindex                                                               \nutterance_3881  [Hey, y'know what a really good rainy day game...   \nutterance_2848  [Are you being British?!, No. Not anymore., Wh...   \nutterance_1603  [I'm guess I'm just done with the whole dating...   \nutterance_160   [Gotta go. I miss you too, I love you, but it'...   \nutterance_1704  [Hi!, Another cheesecake came! They delivered ...   \n\n                                                         triggers  \nindex                                                              \nutterance_3881  [0.0, 0.0, 0.0, 0.0, 0.0, 0.0, 0.0, 0.0, 0.0, ...  \nutterance_2848  [0.0, 0.0, 1.0, 1.0, 1.0, 1.0, 0.0, 0.0, 0.0, ...  \nutterance_1603  [0.0, 0.0, 0.0, 0.0, 0.0, 0.0, 0.0, 0.0, 0.0, ...  \nutterance_160                                [0.0, 0.0, 1.0, 0.0]  \nutterance_1704                          [0.0, 0.0, 0.0, 1.0, 0.0]  ",
      "text/html": "<div>\n<style scoped>\n    .dataframe tbody tr th:only-of-type {\n        vertical-align: middle;\n    }\n\n    .dataframe tbody tr th {\n        vertical-align: top;\n    }\n\n    .dataframe thead th {\n        text-align: right;\n    }\n</style>\n<table border=\"1\" class=\"dataframe\">\n  <thead>\n    <tr style=\"text-align: right;\">\n      <th></th>\n      <th>speakers</th>\n      <th>emotions</th>\n      <th>utterances</th>\n      <th>triggers</th>\n    </tr>\n    <tr>\n      <th>index</th>\n      <th></th>\n      <th></th>\n      <th></th>\n      <th></th>\n    </tr>\n  </thead>\n  <tbody>\n    <tr>\n      <th>utterance_3881</th>\n      <td>[Joey, Monica, Joey, All, Monica, Joey, Rachel...</td>\n      <td>[neutral, neutral, joy, disgust, disgust, sadn...</td>\n      <td>[Hey, y'know what a really good rainy day game...</td>\n      <td>[0.0, 0.0, 0.0, 0.0, 0.0, 0.0, 0.0, 0.0, 0.0, ...</td>\n    </tr>\n    <tr>\n      <th>utterance_2848</th>\n      <td>[Janice, Chandler, Janice, Chandler, Janice, C...</td>\n      <td>[surprise, neutral, surprise, neutral, anger, ...</td>\n      <td>[Are you being British?!, No. Not anymore., Wh...</td>\n      <td>[0.0, 0.0, 1.0, 1.0, 1.0, 1.0, 0.0, 0.0, 0.0, ...</td>\n    </tr>\n    <tr>\n      <th>utterance_1603</th>\n      <td>[Rachel, Rachel, Rachel, Ross, Ross, Ross, Ros...</td>\n      <td>[sadness, sadness, sadness, neutral, neutral, ...</td>\n      <td>[I'm guess I'm just done with the whole dating...</td>\n      <td>[0.0, 0.0, 0.0, 0.0, 0.0, 0.0, 0.0, 0.0, 0.0, ...</td>\n    </tr>\n    <tr>\n      <th>utterance_160</th>\n      <td>[Mr. Tribbiani, Joey, Mr. Tribbiani, Joey]</td>\n      <td>[sadness, surprise, neutral, neutral]</td>\n      <td>[Gotta go. I miss you too, I love you, but it'...</td>\n      <td>[0.0, 0.0, 1.0, 0.0]</td>\n    </tr>\n    <tr>\n      <th>utterance_1704</th>\n      <td>[Rachel, Chandler, Rachel, Chandler, Rachel]</td>\n      <td>[joy, anger, neutral, sadness, surprise]</td>\n      <td>[Hi!, Another cheesecake came! They delivered ...</td>\n      <td>[0.0, 0.0, 0.0, 1.0, 0.0]</td>\n    </tr>\n  </tbody>\n</table>\n</div>"
     },
     "metadata": {},
     "output_type": "display_data"
    }
   ],
   "source": [
    "train_df, val_df, test_df = split_dataset(df)\n",
    "\n",
    "display(train_df.head())\n",
    "display(val_df.head())\n",
    "display(test_df.head())\n"
   ],
   "metadata": {
    "collapsed": false,
    "ExecuteTime": {
     "end_time": "2024-02-21T16:59:33.474185900Z",
     "start_time": "2024-02-21T16:59:33.228194200Z"
    }
   },
   "id": "f57ca9b8c431fc6",
   "execution_count": 25
  },
  {
   "cell_type": "code",
   "outputs": [
    {
     "data": {
      "text/plain": "<Figure size 1800x600 with 3 Axes>",
      "image/png": "[encoded data removed]"
     },
     "metadata": {},
     "output_type": "display_data"
    }
   ],
   "source": [
    "plot_emotion_distribution(train_df, val_df, test_df)\n"
   ],
   "metadata": {
    "collapsed": false,
    "ExecuteTime": {
     "end_time": "2024-02-21T16:59:34.287842Z",
     "start_time": "2024-02-21T16:59:33.418784200Z"
    }
   },
   "id": "f4cd06df1b333247",
   "execution_count": 26
  },
  {
   "cell_type": "code",
   "outputs": [],
   "source": [
    "# todo heatmap che associa a ogni personaggio il conto di emozioni che lo riguardano. Ogni riga contiene un'emozione, ogni colonna un personaggio. Esempio:\n",
    "# Kristen -> (angry-40 volte), (joy, 20 volte), (disgust, 70 volte)...\n",
    "# Joey -> (angry-23 volte), (joy, 50 volte) ...\n",
    "\n",
    "# può essere interessante da fare per far vedere che facendo l'embedding dei singoli nomi distintamente il modello avrebbe il bias del nome (magari kristen porta molto disgusto, quindi tende ad assegnarglielo più facilmente)"
   ],
   "metadata": {
    "collapsed": false,
    "ExecuteTime": {
     "end_time": "2024-02-21T16:59:34.525879800Z",
     "start_time": "2024-02-21T16:59:34.289844800Z"
    }
   },
   "id": "cdc77ae02d19acfd",
   "execution_count": 27
  },
  {
   "cell_type": "markdown",
   "source": [
    "## Random Classifier"
   ],
   "metadata": {
    "collapsed": false,
    "ExecuteTime": {
     "end_time": "2024-02-21T11:07:25.393229010Z",
     "start_time": "2024-02-21T11:07:25.324414748Z"
    }
   },
   "id": "5b708a5070a72c85"
  },
  {
   "cell_type": "code",
   "outputs": [
    {
     "name": "stdout",
     "output_type": "stream",
     "text": [
      "Utterance 3881\n"
     ]
    },
    {
     "data": {
      "text/plain": "   speakers emotions                                         utterances  \\\n0      Joey  neutral  Hey, y'know what a really good rainy day game is?   \n1    Monica  neutral                                             What?!   \n2      Joey      joy  I mean naked game. Strip poker, we should tota...   \n3       All  disgust                                            No, no!   \n4    Monica  disgust                               What are you crazy?!   \n5      Joey  sadness  Come on! When you go away, you-you have to pla...   \n6    Rachel  neutral                                        Allll done!   \n7    Monica      joy                                    Aww, thank you.   \n8    Rachel  neutral                                 Okay, who's next?!   \n9      Ross  disgust                                   No-o-o!  No way!   \n10   Rachel  neutral  Come on, please?! I'm boredddd! You let me do ...   \n11     Ross      joy  Yeah well, if ah, if that's the rule this week...   \n\n   triggers pred_emotions pred_triggers  \n0       0.0           joy             0  \n1       0.0       sadness             0  \n2       0.0       neutral             1  \n3       0.0       sadness             1  \n4       0.0          fear             0  \n5       0.0       neutral             1  \n6       0.0       sadness             1  \n7       0.0      surprise             0  \n8       0.0       sadness             1  \n9       0.0       disgust             1  \n10      0.0       disgust             1  \n11      1.0       neutral             1  ",
      "text/html": "<div>\n<style scoped>\n    .dataframe tbody tr th:only-of-type {\n        vertical-align: middle;\n    }\n\n    .dataframe tbody tr th {\n        vertical-align: top;\n    }\n\n    .dataframe thead th {\n        text-align: right;\n    }\n</style>\n<table border=\"1\" class=\"dataframe\">\n  <thead>\n    <tr style=\"text-align: right;\">\n      <th></th>\n      <th>speakers</th>\n      <th>emotions</th>\n      <th>utterances</th>\n      <th>triggers</th>\n      <th>pred_emotions</th>\n      <th>pred_triggers</th>\n    </tr>\n  </thead>\n  <tbody>\n    <tr>\n      <th>0</th>\n      <td>Joey</td>\n      <td>neutral</td>\n      <td>Hey, y'know what a really good rainy day game is?</td>\n      <td>0.0</td>\n      <td>joy</td>\n      <td>0</td>\n    </tr>\n    <tr>\n      <th>1</th>\n      <td>Monica</td>\n      <td>neutral</td>\n      <td>What?!</td>\n      <td>0.0</td>\n      <td>sadness</td>\n      <td>0</td>\n    </tr>\n    <tr>\n      <th>2</th>\n      <td>Joey</td>\n      <td>joy</td>\n      <td>I mean naked game. Strip poker, we should tota...</td>\n      <td>0.0</td>\n      <td>neutral</td>\n      <td>1</td>\n    </tr>\n    <tr>\n      <th>3</th>\n      <td>All</td>\n      <td>disgust</td>\n      <td>No, no!</td>\n      <td>0.0</td>\n      <td>sadness</td>\n      <td>1</td>\n    </tr>\n    <tr>\n      <th>4</th>\n      <td>Monica</td>\n      <td>disgust</td>\n      <td>What are you crazy?!</td>\n      <td>0.0</td>\n      <td>fear</td>\n      <td>0</td>\n    </tr>\n    <tr>\n      <th>5</th>\n      <td>Joey</td>\n      <td>sadness</td>\n      <td>Come on! When you go away, you-you have to pla...</td>\n      <td>0.0</td>\n      <td>neutral</td>\n      <td>1</td>\n    </tr>\n    <tr>\n      <th>6</th>\n      <td>Rachel</td>\n      <td>neutral</td>\n      <td>Allll done!</td>\n      <td>0.0</td>\n      <td>sadness</td>\n      <td>1</td>\n    </tr>\n    <tr>\n      <th>7</th>\n      <td>Monica</td>\n      <td>joy</td>\n      <td>Aww, thank you.</td>\n      <td>0.0</td>\n      <td>surprise</td>\n      <td>0</td>\n    </tr>\n    <tr>\n      <th>8</th>\n      <td>Rachel</td>\n      <td>neutral</td>\n      <td>Okay, who's next?!</td>\n      <td>0.0</td>\n      <td>sadness</td>\n      <td>1</td>\n    </tr>\n    <tr>\n      <th>9</th>\n      <td>Ross</td>\n      <td>disgust</td>\n      <td>No-o-o!  No way!</td>\n      <td>0.0</td>\n      <td>disgust</td>\n      <td>1</td>\n    </tr>\n    <tr>\n      <th>10</th>\n      <td>Rachel</td>\n      <td>neutral</td>\n      <td>Come on, please?! I'm boredddd! You let me do ...</td>\n      <td>0.0</td>\n      <td>disgust</td>\n      <td>1</td>\n    </tr>\n    <tr>\n      <th>11</th>\n      <td>Ross</td>\n      <td>joy</td>\n      <td>Yeah well, if ah, if that's the rule this week...</td>\n      <td>1.0</td>\n      <td>neutral</td>\n      <td>1</td>\n    </tr>\n  </tbody>\n</table>\n</div>"
     },
     "metadata": {},
     "output_type": "display_data"
    },
    {
     "name": "stdout",
     "output_type": "stream",
     "text": []
    }
   ],
   "source": [
    "# todo metric computation\n",
    "\n",
    "emotions = np.unique([item for sublist in df[\"emotions\"] for item in sublist]) # flattening and taking unique emotions\n",
    "random_classifier = RandomClassifier(emotions)\n",
    "\n",
    "pred_emotions, pred_triggers = random_classifier.predict(test_df)\n",
    "\n",
    "# esempio di print per gli scettici che non crederanno che il classifier funziona\n",
    "\n",
    "new_test_df = test_df.copy()\n",
    "new_test_df['pred_emotions'] = pred_emotions\n",
    "new_test_df['pred_triggers'] = pred_triggers\n",
    "display_utterance(dataframe=new_test_df, utterance_id='utterance_3881')\n",
    "    "
   ],
   "metadata": {
    "collapsed": false,
    "ExecuteTime": {
     "end_time": "2024-02-21T16:59:34.641997Z",
     "start_time": "2024-02-21T16:59:34.429843500Z"
    }
   },
   "id": "3804e348d3bb097a",
   "execution_count": 28
  },
  {
   "cell_type": "markdown",
   "source": [
    "## Majority Classifier"
   ],
   "metadata": {
    "collapsed": false
   },
   "id": "214a06bffbbf6b8d"
  },
  {
   "cell_type": "code",
   "outputs": [
    {
     "name": "stdout",
     "output_type": "stream",
     "text": [
      "Utterance 3881\n"
     ]
    },
    {
     "data": {
      "text/plain": "   speakers emotions                                         utterances  \\\n0      Joey  neutral  Hey, y'know what a really good rainy day game is?   \n1    Monica  neutral                                             What?!   \n2      Joey      joy  I mean naked game. Strip poker, we should tota...   \n3       All  disgust                                            No, no!   \n4    Monica  disgust                               What are you crazy?!   \n5      Joey  sadness  Come on! When you go away, you-you have to pla...   \n6    Rachel  neutral                                        Allll done!   \n7    Monica      joy                                    Aww, thank you.   \n8    Rachel  neutral                                 Okay, who's next?!   \n9      Ross  disgust                                   No-o-o!  No way!   \n10   Rachel  neutral  Come on, please?! I'm boredddd! You let me do ...   \n11     Ross      joy  Yeah well, if ah, if that's the rule this week...   \n\n   triggers pred_emotions pred_triggers  \n0       0.0       neutral           0.0  \n1       0.0       neutral           0.0  \n2       0.0       neutral           0.0  \n3       0.0       neutral           0.0  \n4       0.0       neutral           0.0  \n5       0.0       neutral           0.0  \n6       0.0       neutral           0.0  \n7       0.0       neutral           0.0  \n8       0.0       neutral           0.0  \n9       0.0       neutral           0.0  \n10      0.0       neutral           0.0  \n11      1.0       neutral           0.0  ",
      "text/html": "<div>\n<style scoped>\n    .dataframe tbody tr th:only-of-type {\n        vertical-align: middle;\n    }\n\n    .dataframe tbody tr th {\n        vertical-align: top;\n    }\n\n    .dataframe thead th {\n        text-align: right;\n    }\n</style>\n<table border=\"1\" class=\"dataframe\">\n  <thead>\n    <tr style=\"text-align: right;\">\n      <th></th>\n      <th>speakers</th>\n      <th>emotions</th>\n      <th>utterances</th>\n      <th>triggers</th>\n      <th>pred_emotions</th>\n      <th>pred_triggers</th>\n    </tr>\n  </thead>\n  <tbody>\n    <tr>\n      <th>0</th>\n      <td>Joey</td>\n      <td>neutral</td>\n      <td>Hey, y'know what a really good rainy day game is?</td>\n      <td>0.0</td>\n      <td>neutral</td>\n      <td>0.0</td>\n    </tr>\n    <tr>\n      <th>1</th>\n      <td>Monica</td>\n      <td>neutral</td>\n      <td>What?!</td>\n      <td>0.0</td>\n      <td>neutral</td>\n      <td>0.0</td>\n    </tr>\n    <tr>\n      <th>2</th>\n      <td>Joey</td>\n      <td>joy</td>\n      <td>I mean naked game. Strip poker, we should tota...</td>\n      <td>0.0</td>\n      <td>neutral</td>\n      <td>0.0</td>\n    </tr>\n    <tr>\n      <th>3</th>\n      <td>All</td>\n      <td>disgust</td>\n      <td>No, no!</td>\n      <td>0.0</td>\n      <td>neutral</td>\n      <td>0.0</td>\n    </tr>\n    <tr>\n      <th>4</th>\n      <td>Monica</td>\n      <td>disgust</td>\n      <td>What are you crazy?!</td>\n      <td>0.0</td>\n      <td>neutral</td>\n      <td>0.0</td>\n    </tr>\n    <tr>\n      <th>5</th>\n      <td>Joey</td>\n      <td>sadness</td>\n      <td>Come on! When you go away, you-you have to pla...</td>\n      <td>0.0</td>\n      <td>neutral</td>\n      <td>0.0</td>\n    </tr>\n    <tr>\n      <th>6</th>\n      <td>Rachel</td>\n      <td>neutral</td>\n      <td>Allll done!</td>\n      <td>0.0</td>\n      <td>neutral</td>\n      <td>0.0</td>\n    </tr>\n    <tr>\n      <th>7</th>\n      <td>Monica</td>\n      <td>joy</td>\n      <td>Aww, thank you.</td>\n      <td>0.0</td>\n      <td>neutral</td>\n      <td>0.0</td>\n    </tr>\n    <tr>\n      <th>8</th>\n      <td>Rachel</td>\n      <td>neutral</td>\n      <td>Okay, who's next?!</td>\n      <td>0.0</td>\n      <td>neutral</td>\n      <td>0.0</td>\n    </tr>\n    <tr>\n      <th>9</th>\n      <td>Ross</td>\n      <td>disgust</td>\n      <td>No-o-o!  No way!</td>\n      <td>0.0</td>\n      <td>neutral</td>\n      <td>0.0</td>\n    </tr>\n    <tr>\n      <th>10</th>\n      <td>Rachel</td>\n      <td>neutral</td>\n      <td>Come on, please?! I'm boredddd! You let me do ...</td>\n      <td>0.0</td>\n      <td>neutral</td>\n      <td>0.0</td>\n    </tr>\n    <tr>\n      <th>11</th>\n      <td>Ross</td>\n      <td>joy</td>\n      <td>Yeah well, if ah, if that's the rule this week...</td>\n      <td>1.0</td>\n      <td>neutral</td>\n      <td>0.0</td>\n    </tr>\n  </tbody>\n</table>\n</div>"
     },
     "metadata": {},
     "output_type": "display_data"
    },
    {
     "name": "stdout",
     "output_type": "stream",
     "text": []
    }
   ],
   "source": [
    "# todo metrics computation\n",
    "\n",
    "majority_classifier = MajorityClassifier()\n",
    "\n",
    "majority_classifier.fit(train_df)\n",
    "pred_emotions, pred_triggers = majority_classifier.predict(test_df)\n",
    "\n",
    "# esempio di print per gli scettici che non crederanno che il classifier funziona\n",
    "new_test_df = test_df.copy()\n",
    "new_test_df['pred_emotions'] = pred_emotions\n",
    "new_test_df['pred_triggers'] = pred_triggers\n",
    "display_utterance(dataframe=new_test_df, utterance_id='utterance_3881')\n",
    "\n"
   ],
   "metadata": {
    "collapsed": false,
    "ExecuteTime": {
     "end_time": "2024-02-21T16:59:34.834712900Z",
     "start_time": "2024-02-21T16:59:34.644525300Z"
    }
   },
   "id": "5962c4462099f5f5",
   "execution_count": 29
  },
  {
   "cell_type": "markdown",
   "source": [
    "## Bert Models"
   ],
   "metadata": {
    "collapsed": false
   },
   "id": "a65f1dc767977391"
  },
  {
   "cell_type": "code",
   "outputs": [
    {
     "name": "stdout",
     "output_type": "stream",
     "text": [
      "Aaahhh le emozioni:  ['anger' 'disgust' 'fear' 'joy' 'neutral' 'sadness' 'surprise']\n"
     ]
    }
   ],
   "source": [
    "EMOTIONS = np.unique([item for sublist in df[\"emotions\"] for item in sublist])\n",
    "EMOTIONS_TO_INT = {i: emotion for (emotion, i) in enumerate(EMOTIONS)}\n",
    "INT_TO_EMOTIONS = {emotion: i for (emotion, i) in enumerate(EMOTIONS)}\n",
    "\n",
    "print(\"Aaahhh le emozioni: \", EMOTIONS)"
   ],
   "metadata": {
    "collapsed": false,
    "ExecuteTime": {
     "end_time": "2024-02-21T16:59:47.116729800Z",
     "start_time": "2024-02-21T16:59:46.955518800Z"
    }
   },
   "id": "11db464e396ec60f",
   "execution_count": 32
  },
  {
   "cell_type": "code",
   "outputs": [],
   "source": [
    "# first execution it downloads bert model and tokenizer, from second execution it retrieves them from local folder\n",
    "if os.path.exists(BERT_DIRECTORY):\n",
    "    bert_model, bert_tokenizer = retrieve_bert_initializers(BERT_DIRECTORY) \n",
    "else:\n",
    "    bert_model, bert_tokenizer = download_bert_initializers(BERT_DIRECTORY) "
   ],
   "metadata": {
    "collapsed": false,
    "ExecuteTime": {
     "end_time": "2024-02-21T16:59:36.034675600Z",
     "start_time": "2024-02-21T16:59:34.972010600Z"
    }
   },
   "id": "9de65890f020ffb2",
   "execution_count": 31
  },
  {
   "cell_type": "code",
   "outputs": [],
   "source": [
    "\"\"\"econded_df = pd.DataFrame()\n",
    "econded_df[\"utterances\"] = df['utterances'].apply(lambda x: tokenize_sentences(tokenizer, x))\n",
    "\n",
    "prova = build_dataloader(test_df, bert_tokenizer, 2, EMOTIONS_TO_INT, True)\n",
    "\n",
    "bertino = BertFreezed()\"\"\""
   ],
   "metadata": {
    "collapsed": false
   },
   "id": "5de049ef97eb178"
  }
 ],
 "metadata": {
  "kernelspec": {
   "display_name": "Python 3",
   "language": "python",
   "name": "python3"
  },
  "language_info": {
   "codemirror_mode": {
    "name": "ipython",
    "version": 2
   },
   "file_extension": ".py",
   "mimetype": "text/x-python",
   "name": "python",
   "nbconvert_exporter": "python",
   "pygments_lexer": "ipython2",
   "version": "2.7.6"
  }
 },
 "nbformat": 4,
 "nbformat_minor": 5
}
