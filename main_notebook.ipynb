{
 "cells": [
  {
   "cell_type": "markdown",
   "source": [
    "# NLP Project - EFR in English conversations\n",
    "\n",
    "You can find the ppt with details and requirements of the project <a href=\"https://docs.google.com/presentation/d/1TTN1H3GdnaswGXW63SuSvD4CsI7HB9lkYuwXRMQp2ks/edit?usp=sharing\"> here</a>. The ppt is equivalent to the <a href=\"https://virtuale.unibo.it/mod/page/view.php?id=1405067\"> FAQ page</a>\n",
    "\n",
    "You can find the official webpage of the challenge <a href=\"https://lcs2.in/SemEval2024-EDiReF/\"> here</a>"
   ],
   "metadata": {
    "collapsed": false
   },
   "id": "85bc3873332d289a"
  },
  {
   "cell_type": "markdown",
   "source": [
    "**EFR: Given a dialogue, EFR aims to identify the trigger utterance(s) for an emotion-flip in a multi-party conversation dialogue.** \n",
    "\n",
    "For example: \n",
    "<center>\n",
    "    <img src=\"./images/example_EFR.jpeg\" alt=\"EFR\" />\n",
    "</center>"
   ],
   "metadata": {
    "collapsed": false
   },
   "id": "8c1385f3bde50c1e"
  },
  {
   "cell_type": "code",
   "outputs": [],
   "source": [
    "import numpy as np\n",
    "%load_ext autoreload\n",
    "%autoreload 2\n",
    "\n",
    "import pandas as pd\n",
    "import numpy\n",
    "import os\n",
    "import torch\n",
    "from sys import platform\n",
    "from utilities import *\n",
    "\n",
    "from models.randomClassifier import RandomClassifier\n",
    "from models.majorityClassifier import MajorityClassifier\n",
    "\n",
    "from DrTorch.metrics import F1_Score_Multi_Labels\n",
    "from models.bertFull import BertFull\n"
   ],
   "metadata": {
    "collapsed": false,
    "ExecuteTime": {
     "end_time": "2024-02-21T21:51:43.705220300Z",
     "start_time": "2024-02-21T21:51:27.872377800Z"
    }
   },
   "id": "2ece32ffd62b0215",
   "execution_count": 1
  },
  {
   "cell_type": "markdown",
   "source": [
    "## Setting the device"
   ],
   "metadata": {
    "collapsed": false
   },
   "id": "34d937b7e13fb772"
  },
  {
   "cell_type": "code",
   "outputs": [
    {
     "name": "stdout",
     "output_type": "stream",
     "text": [
      "PyTorch version: 2.2.0+cu121\n",
      "Using device: cuda\n"
     ]
    }
   ],
   "source": [
    "print(f\"PyTorch version: {torch.__version__}\")\n",
    "\n",
    "if platform == \"darwin\":    #Run on macOS\n",
    "    \n",
    "    print(f\"Is MPS (Metal Performance Shader) built? {torch.backends.mps.is_built()}\")\n",
    "    print(f\"Is MPS available? {torch.backends.mps.is_available()}\")\n",
    "    device = \"mps\" if torch.backends.mps.is_available() else \"cpu\"    \n",
    "else:\n",
    "    device = torch.device('cuda' if torch.cuda.is_available() else 'cpu') \n",
    "\n",
    "print(f\"Using device: {device}\")\n"
   ],
   "metadata": {
    "collapsed": false,
    "ExecuteTime": {
     "end_time": "2024-02-21T21:51:43.815979700Z",
     "start_time": "2024-02-21T21:51:43.704206400Z"
    }
   },
   "id": "78a08b1656d020fe",
   "execution_count": 2
  },
  {
   "cell_type": "code",
   "outputs": [
    {
     "name": "stdout",
     "output_type": "stream",
     "text": [
      "Wed Feb 21 22:51:43 2024       \n",
      "+---------------------------------------------------------------------------------------+\n",
      "| NVIDIA-SMI 536.23                 Driver Version: 536.23       CUDA Version: 12.2     |\n",
      "|-----------------------------------------+----------------------+----------------------+\n",
      "| GPU  Name                     TCC/WDDM  | Bus-Id        Disp.A | Volatile Uncorr. ECC |\n",
      "| Fan  Temp   Perf          Pwr:Usage/Cap |         Memory-Usage | GPU-Util  Compute M. |\n",
      "|                                         |                      |               MIG M. |\n",
      "|=========================================+======================+======================|\n",
      "|   0  NVIDIA GeForce RTX 4060 ...  WDDM  | 00000000:01:00.0  On |                  N/A |\n",
      "| N/A   42C    P8               3W /  74W |    132MiB /  8188MiB |      0%      Default |\n",
      "|                                         |                      |                  N/A |\n",
      "+-----------------------------------------+----------------------+----------------------+\n",
      "                                                                                         \n",
      "+---------------------------------------------------------------------------------------+\n",
      "| Processes:                                                                            |\n",
      "|  GPU   GI   CI        PID   Type   Process name                            GPU Memory |\n",
      "|        ID   ID                                                             Usage      |\n",
      "|=======================================================================================|\n",
      "|    0   N/A  N/A      8344    C+G   ...inaries\\Win64\\EpicGamesLauncher.exe    N/A      |\n",
      "|    0   N/A  N/A     13432    C+G   ...werToys\\PowerToys.ColorPickerUI.exe    N/A      |\n",
      "|    0   N/A  N/A     16400    C+G   ...werToys\\PowerToys.PowerLauncher.exe    N/A      |\n",
      "+---------------------------------------------------------------------------------------+\n"
     ]
    }
   ],
   "source": [
    "if device != 'mps':\n",
    "    !nvidia-smi\n"
   ],
   "metadata": {
    "collapsed": false,
    "ExecuteTime": {
     "end_time": "2024-02-21T21:51:44.124865200Z",
     "start_time": "2024-02-21T21:51:43.812856900Z"
    }
   },
   "id": "67a906779c9ec397",
   "execution_count": 3
  },
  {
   "cell_type": "markdown",
   "source": [
    "## Defining flags and variables"
   ],
   "metadata": {
    "collapsed": false
   },
   "id": "f5fa2f7278bc9000"
  },
  {
   "cell_type": "code",
   "outputs": [],
   "source": [
    "DATA_DIRECTORY = 'Data'             # Directory containing the dataset\n",
    "DATASET = 'MELD_efr.json'           # Name of dataset file\n",
    "\n",
    "BERT_DIRECTORY = \"bert-base-uncased\"\n",
    "\n",
    "DATASET_PATH = os.path.join(DATA_DIRECTORY, DATASET)    # Path of dataset in JSON format \n"
   ],
   "metadata": {
    "collapsed": false,
    "ExecuteTime": {
     "end_time": "2024-02-21T21:51:44.218359500Z",
     "start_time": "2024-02-21T21:51:44.123783800Z"
    }
   },
   "id": "335f829731d15ffd",
   "execution_count": 4
  },
  {
   "cell_type": "markdown",
   "source": [
    "## Dataset Creation and Exploration"
   ],
   "metadata": {
    "collapsed": false
   },
   "id": "94ef05c4366b7e6a"
  },
  {
   "cell_type": "code",
   "outputs": [
    {
     "data": {
      "text/plain": "                                                         speakers  \\\nepisode                                                             \nutterance_0     [Chandler, The Interviewer, Chandler, The Inte...   \nutterance_1     [Chandler, The Interviewer, Chandler, The Inte...   \nutterance_2     [Chandler, The Interviewer, Chandler, The Inte...   \nutterance_3     [Chandler, The Interviewer, Chandler, The Inte...   \nutterance_4                          [Joey, Rachel, Joey, Rachel]   \n...                                                           ...   \nutterance_3995  [Chandler, All, Monica, Chandler, Ross, Chandl...   \nutterance_3996  [Chandler, All, Monica, Chandler, Ross, Chandl...   \nutterance_3997  [Chandler, All, Monica, Chandler, Ross, Chandl...   \nutterance_3998  [Chandler, All, Monica, Chandler, Ross, Chandl...   \nutterance_3999  [Chandler, All, Monica, Chandler, Ross, Chandl...   \n\n                                                         emotions  \\\nepisode                                                             \nutterance_0        [neutral, neutral, neutral, neutral, surprise]   \nutterance_1     [neutral, neutral, neutral, neutral, surprise,...   \nutterance_2     [neutral, neutral, neutral, neutral, surprise,...   \nutterance_3     [neutral, neutral, neutral, neutral, surprise,...   \nutterance_4                   [surprise, sadness, surprise, fear]   \n...                                                           ...   \nutterance_3995  [neutral, joy, neutral, neutral, surprise, dis...   \nutterance_3996  [neutral, joy, neutral, neutral, surprise, dis...   \nutterance_3997  [neutral, joy, neutral, neutral, surprise, dis...   \nutterance_3998  [neutral, joy, neutral, neutral, surprise, dis...   \nutterance_3999  [neutral, joy, neutral, neutral, surprise, dis...   \n\n                                                       utterances  \\\nepisode                                                             \nutterance_0     [also I was the point person on my company's t...   \nutterance_1     [also I was the point person on my company's t...   \nutterance_2     [also I was the point person on my company's t...   \nutterance_3     [also I was the point person on my company's t...   \nutterance_4     [But then who? The waitress I went out with la...   \n...                                                           ...   \nutterance_3995  [Hey., Hey!, So how was Joan?, I broke up with...   \nutterance_3996  [Hey., Hey!, So how was Joan?, I broke up with...   \nutterance_3997  [Hey., Hey!, So how was Joan?, I broke up with...   \nutterance_3998  [Hey., Hey!, So how was Joan?, I broke up with...   \nutterance_3999  [Hey., Hey!, So how was Joan?, I broke up with...   \n\n                                                         triggers  \nepisode                                                            \nutterance_0                             [0.0, 0.0, 0.0, 1.0, 0.0]  \nutterance_1                   [0.0, 0.0, 0.0, 0.0, 0.0, 1.0, 0.0]  \nutterance_2     [0.0, 0.0, 0.0, 0.0, 0.0, 0.0, 0.0, 1.0, 0.0, ...  \nutterance_3     [0.0, 0.0, 0.0, 0.0, 0.0, 0.0, 0.0, 0.0, 0.0, ...  \nutterance_4                                  [0.0, 0.0, 1.0, 0.0]  \n...                                                           ...  \nutterance_3995  [0.0, 0.0, 0.0, 0.0, 0.0, 0.0, 0.0, 0.0, 0.0, ...  \nutterance_3996  [0.0, 0.0, 0.0, 0.0, 0.0, 0.0, 0.0, 0.0, 0.0, ...  \nutterance_3997  [0.0, 0.0, 0.0, 0.0, 0.0, 0.0, 0.0, 0.0, 0.0, ...  \nutterance_3998  [0.0, 0.0, 0.0, 0.0, 0.0, 0.0, 0.0, 0.0, 0.0, ...  \nutterance_3999  [0.0, 0.0, 0.0, 0.0, 0.0, 0.0, 0.0, 0.0, 0.0, ...  \n\n[4000 rows x 4 columns]",
      "text/html": "<div>\n<style scoped>\n    .dataframe tbody tr th:only-of-type {\n        vertical-align: middle;\n    }\n\n    .dataframe tbody tr th {\n        vertical-align: top;\n    }\n\n    .dataframe thead th {\n        text-align: right;\n    }\n</style>\n<table border=\"1\" class=\"dataframe\">\n  <thead>\n    <tr style=\"text-align: right;\">\n      <th></th>\n      <th>speakers</th>\n      <th>emotions</th>\n      <th>utterances</th>\n      <th>triggers</th>\n    </tr>\n    <tr>\n      <th>episode</th>\n      <th></th>\n      <th></th>\n      <th></th>\n      <th></th>\n    </tr>\n  </thead>\n  <tbody>\n    <tr>\n      <th>utterance_0</th>\n      <td>[Chandler, The Interviewer, Chandler, The Inte...</td>\n      <td>[neutral, neutral, neutral, neutral, surprise]</td>\n      <td>[also I was the point person on my company's t...</td>\n      <td>[0.0, 0.0, 0.0, 1.0, 0.0]</td>\n    </tr>\n    <tr>\n      <th>utterance_1</th>\n      <td>[Chandler, The Interviewer, Chandler, The Inte...</td>\n      <td>[neutral, neutral, neutral, neutral, surprise,...</td>\n      <td>[also I was the point person on my company's t...</td>\n      <td>[0.0, 0.0, 0.0, 0.0, 0.0, 1.0, 0.0]</td>\n    </tr>\n    <tr>\n      <th>utterance_2</th>\n      <td>[Chandler, The Interviewer, Chandler, The Inte...</td>\n      <td>[neutral, neutral, neutral, neutral, surprise,...</td>\n      <td>[also I was the point person on my company's t...</td>\n      <td>[0.0, 0.0, 0.0, 0.0, 0.0, 0.0, 0.0, 1.0, 0.0, ...</td>\n    </tr>\n    <tr>\n      <th>utterance_3</th>\n      <td>[Chandler, The Interviewer, Chandler, The Inte...</td>\n      <td>[neutral, neutral, neutral, neutral, surprise,...</td>\n      <td>[also I was the point person on my company's t...</td>\n      <td>[0.0, 0.0, 0.0, 0.0, 0.0, 0.0, 0.0, 0.0, 0.0, ...</td>\n    </tr>\n    <tr>\n      <th>utterance_4</th>\n      <td>[Joey, Rachel, Joey, Rachel]</td>\n      <td>[surprise, sadness, surprise, fear]</td>\n      <td>[But then who? The waitress I went out with la...</td>\n      <td>[0.0, 0.0, 1.0, 0.0]</td>\n    </tr>\n    <tr>\n      <th>...</th>\n      <td>...</td>\n      <td>...</td>\n      <td>...</td>\n      <td>...</td>\n    </tr>\n    <tr>\n      <th>utterance_3995</th>\n      <td>[Chandler, All, Monica, Chandler, Ross, Chandl...</td>\n      <td>[neutral, joy, neutral, neutral, surprise, dis...</td>\n      <td>[Hey., Hey!, So how was Joan?, I broke up with...</td>\n      <td>[0.0, 0.0, 0.0, 0.0, 0.0, 0.0, 0.0, 0.0, 0.0, ...</td>\n    </tr>\n    <tr>\n      <th>utterance_3996</th>\n      <td>[Chandler, All, Monica, Chandler, Ross, Chandl...</td>\n      <td>[neutral, joy, neutral, neutral, surprise, dis...</td>\n      <td>[Hey., Hey!, So how was Joan?, I broke up with...</td>\n      <td>[0.0, 0.0, 0.0, 0.0, 0.0, 0.0, 0.0, 0.0, 0.0, ...</td>\n    </tr>\n    <tr>\n      <th>utterance_3997</th>\n      <td>[Chandler, All, Monica, Chandler, Ross, Chandl...</td>\n      <td>[neutral, joy, neutral, neutral, surprise, dis...</td>\n      <td>[Hey., Hey!, So how was Joan?, I broke up with...</td>\n      <td>[0.0, 0.0, 0.0, 0.0, 0.0, 0.0, 0.0, 0.0, 0.0, ...</td>\n    </tr>\n    <tr>\n      <th>utterance_3998</th>\n      <td>[Chandler, All, Monica, Chandler, Ross, Chandl...</td>\n      <td>[neutral, joy, neutral, neutral, surprise, dis...</td>\n      <td>[Hey., Hey!, So how was Joan?, I broke up with...</td>\n      <td>[0.0, 0.0, 0.0, 0.0, 0.0, 0.0, 0.0, 0.0, 0.0, ...</td>\n    </tr>\n    <tr>\n      <th>utterance_3999</th>\n      <td>[Chandler, All, Monica, Chandler, Ross, Chandl...</td>\n      <td>[neutral, joy, neutral, neutral, surprise, dis...</td>\n      <td>[Hey., Hey!, So how was Joan?, I broke up with...</td>\n      <td>[0.0, 0.0, 0.0, 0.0, 0.0, 0.0, 0.0, 0.0, 0.0, ...</td>\n    </tr>\n  </tbody>\n</table>\n<p>4000 rows × 4 columns</p>\n</div>"
     },
     "execution_count": 5,
     "metadata": {},
     "output_type": "execute_result"
    }
   ],
   "source": [
    "df = pd.read_json(DATASET_PATH)\n",
    "df.set_index(\"episode\", inplace=True)\n",
    "\n",
    "df\n"
   ],
   "metadata": {
    "collapsed": false,
    "ExecuteTime": {
     "end_time": "2024-02-21T21:51:44.459844600Z",
     "start_time": "2024-02-21T21:51:44.218359500Z"
    }
   },
   "id": "204c1960d2293b56",
   "execution_count": 5
  },
  {
   "cell_type": "code",
   "execution_count": 6,
   "outputs": [
    {
     "name": "stdout",
     "output_type": "stream",
     "text": [
      "Utterance 3491\n"
     ]
    },
    {
     "data": {
      "text/plain": "  speakers  emotions                                         utterances  \\\n0   Phoebe  surprise                  You-you\nyou had sex with Ursula?!   \n1     Eric      fear  Uh, a little bit. She-she-she walked in and I ...   \n2   Phoebe  surprise  You didn't notice she was wearing different cl...   \n3     Eric   sadness             Well I was just so excited to see you.   \n\n  triggers  \n0      0.0  \n1      0.0  \n2      1.0  \n3      0.0  ",
      "text/html": "<div>\n<style scoped>\n    .dataframe tbody tr th:only-of-type {\n        vertical-align: middle;\n    }\n\n    .dataframe tbody tr th {\n        vertical-align: top;\n    }\n\n    .dataframe thead th {\n        text-align: right;\n    }\n</style>\n<table border=\"1\" class=\"dataframe\">\n  <thead>\n    <tr style=\"text-align: right;\">\n      <th></th>\n      <th>speakers</th>\n      <th>emotions</th>\n      <th>utterances</th>\n      <th>triggers</th>\n    </tr>\n  </thead>\n  <tbody>\n    <tr>\n      <th>0</th>\n      <td>Phoebe</td>\n      <td>surprise</td>\n      <td>You-youyou had sex with Ursula?!</td>\n      <td>0.0</td>\n    </tr>\n    <tr>\n      <th>1</th>\n      <td>Eric</td>\n      <td>fear</td>\n      <td>Uh, a little bit. She-she-she walked in and I ...</td>\n      <td>0.0</td>\n    </tr>\n    <tr>\n      <th>2</th>\n      <td>Phoebe</td>\n      <td>surprise</td>\n      <td>You didn't notice she was wearing different cl...</td>\n      <td>1.0</td>\n    </tr>\n    <tr>\n      <th>3</th>\n      <td>Eric</td>\n      <td>sadness</td>\n      <td>Well I was just so excited to see you.</td>\n      <td>0.0</td>\n    </tr>\n  </tbody>\n</table>\n</div>"
     },
     "metadata": {},
     "output_type": "display_data"
    },
    {
     "name": "stdout",
     "output_type": "stream",
     "text": [
      "\n",
      "Utterance 456\n"
     ]
    },
    {
     "data": {
      "text/plain": "       speakers  emotions                                         utterances  \\\n0          Kate       joy                             Become a drama critic!   \n1  The Director   sadness          I am hurt!  A plague on both your houses!   \n2          Kate   sadness  By the way, he dumped me tonight after he read...   \n3          Joey   disgust                                        Oh, classy.   \n4          Kate   sadness  Yep! I sure know how to pick em, huh? Y'know ...   \n5          Joey     anger               Wow! Yeah I ah, I gave up a job too.   \n6          Kate  surprise                                      Really. What?   \n7          Joey     anger                               Uh, de-clawing cats.   \n8          Joey   neutral                                 Hey, tell ya what.   \n\n  triggers  \n0      0.0  \n1      0.0  \n2      0.0  \n3      0.0  \n4      0.0  \n5      0.0  \n6      0.0  \n7      0.0  \n8      0.0  ",
      "text/html": "<div>\n<style scoped>\n    .dataframe tbody tr th:only-of-type {\n        vertical-align: middle;\n    }\n\n    .dataframe tbody tr th {\n        vertical-align: top;\n    }\n\n    .dataframe thead th {\n        text-align: right;\n    }\n</style>\n<table border=\"1\" class=\"dataframe\">\n  <thead>\n    <tr style=\"text-align: right;\">\n      <th></th>\n      <th>speakers</th>\n      <th>emotions</th>\n      <th>utterances</th>\n      <th>triggers</th>\n    </tr>\n  </thead>\n  <tbody>\n    <tr>\n      <th>0</th>\n      <td>Kate</td>\n      <td>joy</td>\n      <td>Become a drama critic!</td>\n      <td>0.0</td>\n    </tr>\n    <tr>\n      <th>1</th>\n      <td>The Director</td>\n      <td>sadness</td>\n      <td>I am hurt!  A plague on both your houses!</td>\n      <td>0.0</td>\n    </tr>\n    <tr>\n      <th>2</th>\n      <td>Kate</td>\n      <td>sadness</td>\n      <td>By the way, he dumped me tonight after he read...</td>\n      <td>0.0</td>\n    </tr>\n    <tr>\n      <th>3</th>\n      <td>Joey</td>\n      <td>disgust</td>\n      <td>Oh, classy.</td>\n      <td>0.0</td>\n    </tr>\n    <tr>\n      <th>4</th>\n      <td>Kate</td>\n      <td>sadness</td>\n      <td>Yep! I sure know how to pick em, huh? Y'know ...</td>\n      <td>0.0</td>\n    </tr>\n    <tr>\n      <th>5</th>\n      <td>Joey</td>\n      <td>anger</td>\n      <td>Wow! Yeah I ah, I gave up a job too.</td>\n      <td>0.0</td>\n    </tr>\n    <tr>\n      <th>6</th>\n      <td>Kate</td>\n      <td>surprise</td>\n      <td>Really. What?</td>\n      <td>0.0</td>\n    </tr>\n    <tr>\n      <th>7</th>\n      <td>Joey</td>\n      <td>anger</td>\n      <td>Uh, de-clawing cats.</td>\n      <td>0.0</td>\n    </tr>\n    <tr>\n      <th>8</th>\n      <td>Joey</td>\n      <td>neutral</td>\n      <td>Hey, tell ya what.</td>\n      <td>0.0</td>\n    </tr>\n  </tbody>\n</table>\n</div>"
     },
     "metadata": {},
     "output_type": "display_data"
    },
    {
     "name": "stdout",
     "output_type": "stream",
     "text": [
      "\n",
      "Utterance 2005\n"
     ]
    },
    {
     "data": {
      "text/plain": "   speakers  emotions                                         utterances  \\\n0  Chandler   neutral                              Where you going, Joe?   \n1      Joey   neutral                                        For a walk.   \n2  Chandler   neutral                        Oh. You mind if I join you?   \n3      Joey   neutral  Actually, that will be long. You know, I reall...   \n4  Chandler  surprise                             Your thoughts? Plural?   \n5      Joey       joy  Allright, fine, I only have one thought! It's ...   \n\n  triggers  \n0      0.0  \n1      0.0  \n2      0.0  \n3      0.0  \n4      1.0  \n5      1.0  ",
      "text/html": "<div>\n<style scoped>\n    .dataframe tbody tr th:only-of-type {\n        vertical-align: middle;\n    }\n\n    .dataframe tbody tr th {\n        vertical-align: top;\n    }\n\n    .dataframe thead th {\n        text-align: right;\n    }\n</style>\n<table border=\"1\" class=\"dataframe\">\n  <thead>\n    <tr style=\"text-align: right;\">\n      <th></th>\n      <th>speakers</th>\n      <th>emotions</th>\n      <th>utterances</th>\n      <th>triggers</th>\n    </tr>\n  </thead>\n  <tbody>\n    <tr>\n      <th>0</th>\n      <td>Chandler</td>\n      <td>neutral</td>\n      <td>Where you going, Joe?</td>\n      <td>0.0</td>\n    </tr>\n    <tr>\n      <th>1</th>\n      <td>Joey</td>\n      <td>neutral</td>\n      <td>For a walk.</td>\n      <td>0.0</td>\n    </tr>\n    <tr>\n      <th>2</th>\n      <td>Chandler</td>\n      <td>neutral</td>\n      <td>Oh. You mind if I join you?</td>\n      <td>0.0</td>\n    </tr>\n    <tr>\n      <th>3</th>\n      <td>Joey</td>\n      <td>neutral</td>\n      <td>Actually, that will be long. You know, I reall...</td>\n      <td>0.0</td>\n    </tr>\n    <tr>\n      <th>4</th>\n      <td>Chandler</td>\n      <td>surprise</td>\n      <td>Your thoughts? Plural?</td>\n      <td>1.0</td>\n    </tr>\n    <tr>\n      <th>5</th>\n      <td>Joey</td>\n      <td>joy</td>\n      <td>Allright, fine, I only have one thought! It's ...</td>\n      <td>1.0</td>\n    </tr>\n  </tbody>\n</table>\n</div>"
     },
     "metadata": {},
     "output_type": "display_data"
    },
    {
     "name": "stdout",
     "output_type": "stream",
     "text": []
    }
   ],
   "source": [
    "display_utterance(dataframe=df, utterance_id='utterance_3491')\n",
    "display_utterance(dataframe=df, utterance_id='utterance_456')\n",
    "display_utterance(dataframe=df, utterance_id='utterance_2005')\n"
   ],
   "metadata": {
    "collapsed": false,
    "ExecuteTime": {
     "end_time": "2024-02-21T21:51:44.621311Z",
     "start_time": "2024-02-21T21:51:44.459844600Z"
    }
   },
   "id": "621ea6ad4b24d43c"
  },
  {
   "cell_type": "markdown",
   "source": [
    "[START] frase1_dialogo1 [SEP] frase2_dialogo1 [SEP] ... [END]\n",
    "[START] frase1_dialogo2 [SEP] ...\n",
    "...\n",
    "\n",
    "Frase, speaker, id_dialogo"
   ],
   "metadata": {
    "collapsed": false
   },
   "id": "f240abc50e5599d4"
  },
  {
   "cell_type": "code",
   "outputs": [
    {
     "name": "stdout",
     "output_type": "stream",
     "text": [
      "Before: 9 NaN values\n",
      "After: 0 NaN values\n"
     ]
    }
   ],
   "source": [
    "# removing NaN values\n",
    "nan_count_before = df[\"triggers\"].apply(lambda lst: sum(pd.isna(x) for x in lst)).sum()\n",
    "df['triggers'] = df['triggers'].apply(replace_nan_with_zero)\n",
    "nan_count_after = df[\"triggers\"].apply(lambda lst: sum(pd.isna(x) for x in lst)).sum()\n",
    "\n",
    "print(f\"Before: {nan_count_before} NaN values\")\n",
    "print(f\"After: {nan_count_after} NaN values\")\n"
   ],
   "metadata": {
    "collapsed": false,
    "ExecuteTime": {
     "end_time": "2024-02-21T21:51:44.799238600Z",
     "start_time": "2024-02-21T21:51:44.554903900Z"
    }
   },
   "id": "faa3e0927a81e07",
   "execution_count": 7
  },
  {
   "cell_type": "code",
   "execution_count": 8,
   "outputs": [
    {
     "name": "stdout",
     "output_type": "stream",
     "text": [
      "Number of unique speakers: 231\n",
      "\n",
      "Minimum number of speakers in an utterance: 1\n",
      "Maximum number of speakers in an utterance: 8\n",
      "\n",
      "Minimum number of sentences in an utterance: 2\n",
      "Maximum number of sentences in an utterance: 24\n"
     ]
    }
   ],
   "source": [
    "total_n_speakers = list(set(df['speakers'].explode()))\n",
    "speakers = {'min_speakers': 'inf', 'max_speakers': '-inf'}\n",
    "utterances = {'length_min': 'inf', 'length_max': '-inf'}\n",
    "\n",
    "num_unique_speakers = df['speakers'].apply(lambda x: len(set(x)))\n",
    "speakers['min_speakers'] = num_unique_speakers.min()\n",
    "speakers['max_speakers'] = num_unique_speakers.max()\n",
    "\n",
    "len_utterances = df['utterances'].str.len() \n",
    "utterances['length_min'] = len_utterances.min()\n",
    "utterances['length_max'] = len_utterances.max()\n",
    "    \n",
    "        \n",
    "print(f\"Number of unique speakers: {len(total_n_speakers)}\\n\")\n",
    "print(f\"Minimum number of speakers in an utterance: {speakers['min_speakers']}\")\n",
    "print(f\"Maximum number of speakers in an utterance: {speakers['max_speakers']}\\n\")\n",
    "print(f\"Minimum number of sentences in an utterance: {utterances['length_min']}\")\n",
    "print(f\"Maximum number of sentences in an utterance: {utterances['length_max']}\")"
   ],
   "metadata": {
    "collapsed": false,
    "ExecuteTime": {
     "end_time": "2024-02-21T21:51:44.917677800Z",
     "start_time": "2024-02-21T21:51:44.678505500Z"
    }
   },
   "id": "32ab77d01de505f2"
  },
  {
   "cell_type": "code",
   "outputs": [
    {
     "data": {
      "text/plain": "                                                         speakers  \\\nindex                                                               \nutterance_3347                       [Rachel, Chandler, Chandler]   \nutterance_2870  [Rachel, Ross, Ross, Ross, Ross, Rachel, Ross,...   \nutterance_2917      [Gunther, Rachel, Mark, Rachel, Mark, Rachel]   \nutterance_1675  [Julie, Rachel, Rachel, Rachel, Rachel, Julie,...   \nutterance_536                              [Monica, Paul, Monica]   \n\n                                                         emotions  \\\nindex                                                               \nutterance_3347                                [joy, joy, neutral]   \nutterance_2870  [joy, neutral, neutral, sadness, neutral, joy,...   \nutterance_2917        [neutral, neutral, joy, joy, fear, neutral]   \nutterance_1675  [neutral, neutral, neutral, neutral, neutral, ...   \nutterance_536                            [surprise, joy, neutral]   \n\n                                                       utterances  \\\nindex                                                               \nutterance_3347  [Hey!, Hi!, Listen, can we watch cartoons on y...   \nutterance_2870  [Ok, I know this is gonna sound really stupid,...   \nutterance_2917  [Here you go., Thank you., Hi!, Hi! All right,...   \nutterance_1675  [So., So., I just thought the two of us should...   \nutterance_536   [Oh my God!, I know, I know, I'm such an idiot...   \n\n                                                         triggers  \nindex                                                              \nutterance_3347                                    [0.0, 1.0, 0.0]  \nutterance_2870           [0.0, 0.0, 0.0, 0.0, 1.0, 1.0, 1.0, 1.0]  \nutterance_2917                     [0.0, 0.0, 0.0, 0.0, 1.0, 0.0]  \nutterance_1675  [0.0, 0.0, 0.0, 0.0, 0.0, 0.0, 0.0, 0.0, 0.0, ...  \nutterance_536                                     [0.0, 0.0, 1.0]  ",
      "text/html": "<div>\n<style scoped>\n    .dataframe tbody tr th:only-of-type {\n        vertical-align: middle;\n    }\n\n    .dataframe tbody tr th {\n        vertical-align: top;\n    }\n\n    .dataframe thead th {\n        text-align: right;\n    }\n</style>\n<table border=\"1\" class=\"dataframe\">\n  <thead>\n    <tr style=\"text-align: right;\">\n      <th></th>\n      <th>speakers</th>\n      <th>emotions</th>\n      <th>utterances</th>\n      <th>triggers</th>\n    </tr>\n    <tr>\n      <th>index</th>\n      <th></th>\n      <th></th>\n      <th></th>\n      <th></th>\n    </tr>\n  </thead>\n  <tbody>\n    <tr>\n      <th>utterance_3347</th>\n      <td>[Rachel, Chandler, Chandler]</td>\n      <td>[joy, joy, neutral]</td>\n      <td>[Hey!, Hi!, Listen, can we watch cartoons on y...</td>\n      <td>[0.0, 1.0, 0.0]</td>\n    </tr>\n    <tr>\n      <th>utterance_2870</th>\n      <td>[Rachel, Ross, Ross, Ross, Ross, Rachel, Ross,...</td>\n      <td>[joy, neutral, neutral, sadness, neutral, joy,...</td>\n      <td>[Ok, I know this is gonna sound really stupid,...</td>\n      <td>[0.0, 0.0, 0.0, 0.0, 1.0, 1.0, 1.0, 1.0]</td>\n    </tr>\n    <tr>\n      <th>utterance_2917</th>\n      <td>[Gunther, Rachel, Mark, Rachel, Mark, Rachel]</td>\n      <td>[neutral, neutral, joy, joy, fear, neutral]</td>\n      <td>[Here you go., Thank you., Hi!, Hi! All right,...</td>\n      <td>[0.0, 0.0, 0.0, 0.0, 1.0, 0.0]</td>\n    </tr>\n    <tr>\n      <th>utterance_1675</th>\n      <td>[Julie, Rachel, Rachel, Rachel, Rachel, Julie,...</td>\n      <td>[neutral, neutral, neutral, neutral, neutral, ...</td>\n      <td>[So., So., I just thought the two of us should...</td>\n      <td>[0.0, 0.0, 0.0, 0.0, 0.0, 0.0, 0.0, 0.0, 0.0, ...</td>\n    </tr>\n    <tr>\n      <th>utterance_536</th>\n      <td>[Monica, Paul, Monica]</td>\n      <td>[surprise, joy, neutral]</td>\n      <td>[Oh my God!, I know, I know, I'm such an idiot...</td>\n      <td>[0.0, 0.0, 1.0]</td>\n    </tr>\n  </tbody>\n</table>\n</div>"
     },
     "metadata": {},
     "output_type": "display_data"
    },
    {
     "data": {
      "text/plain": "                                                         speakers  \\\nindex                                                               \nutterance_2338       [Ross, Rachel, Ross, Rachel, Rachel, Rachel]   \nutterance_146   [Kate, Joey, Joey, Joey, Joey, Joey, Joey, The...   \nutterance_2619                   [Monica, Rachel, Monica, Monica]   \nutterance_1568  [Ross, Chandler, Ross, Ross, Ross, Ross, Ross,...   \nutterance_388                    [Joey, Chandler, Joey, Chandler]   \n\n                                                         emotions  \\\nindex                                                               \nutterance_2338  [neutral, neutral, neutral, anger, anger, neut...   \nutterance_146   [anger, anger, surprise, anger, anger, anger, ...   \nutterance_2619                     [joy, surprise, surprise, joy]   \nutterance_1568  [joy, surprise, neutral, neutral, neutral, neu...   \nutterance_388                           [joy, fear, joy, neutral]   \n\n                                                       utterances  \\\nindex                                                               \nutterance_2338  [Hey. Who's that?, New people., What happened ...   \nutterance_146   [Happy?! Is that what I'm supposed to be Vic? ...   \nutterance_2619  [Now, this is last minute so I want to apologi...   \nutterance_1568  [Oh, wow! I should get going. I-I got a date t...   \nutterance_388   [Wow thanks!, Joe?, Yeah!, Uh, you've had a lo...   \n\n                                                         triggers  \nindex                                                              \nutterance_2338                     [0.0, 0.0, 0.0, 0.0, 0.0, 1.0]  \nutterance_146   [0.0, 0.0, 0.0, 0.0, 0.0, 0.0, 0.0, 0.0, 1.0, ...  \nutterance_2619                               [0.0, 0.0, 0.0, 0.0]  \nutterance_1568  [0.0, 0.0, 0.0, 0.0, 0.0, 0.0, 0.0, 0.0, 0.0, ...  \nutterance_388                                [0.0, 0.0, 0.0, 0.0]  ",
      "text/html": "<div>\n<style scoped>\n    .dataframe tbody tr th:only-of-type {\n        vertical-align: middle;\n    }\n\n    .dataframe tbody tr th {\n        vertical-align: top;\n    }\n\n    .dataframe thead th {\n        text-align: right;\n    }\n</style>\n<table border=\"1\" class=\"dataframe\">\n  <thead>\n    <tr style=\"text-align: right;\">\n      <th></th>\n      <th>speakers</th>\n      <th>emotions</th>\n      <th>utterances</th>\n      <th>triggers</th>\n    </tr>\n    <tr>\n      <th>index</th>\n      <th></th>\n      <th></th>\n      <th></th>\n      <th></th>\n    </tr>\n  </thead>\n  <tbody>\n    <tr>\n      <th>utterance_2338</th>\n      <td>[Ross, Rachel, Ross, Rachel, Rachel, Rachel]</td>\n      <td>[neutral, neutral, neutral, anger, anger, neut...</td>\n      <td>[Hey. Who's that?, New people., What happened ...</td>\n      <td>[0.0, 0.0, 0.0, 0.0, 0.0, 1.0]</td>\n    </tr>\n    <tr>\n      <th>utterance_146</th>\n      <td>[Kate, Joey, Joey, Joey, Joey, Joey, Joey, The...</td>\n      <td>[anger, anger, surprise, anger, anger, anger, ...</td>\n      <td>[Happy?! Is that what I'm supposed to be Vic? ...</td>\n      <td>[0.0, 0.0, 0.0, 0.0, 0.0, 0.0, 0.0, 0.0, 1.0, ...</td>\n    </tr>\n    <tr>\n      <th>utterance_2619</th>\n      <td>[Monica, Rachel, Monica, Monica]</td>\n      <td>[joy, surprise, surprise, joy]</td>\n      <td>[Now, this is last minute so I want to apologi...</td>\n      <td>[0.0, 0.0, 0.0, 0.0]</td>\n    </tr>\n    <tr>\n      <th>utterance_1568</th>\n      <td>[Ross, Chandler, Ross, Ross, Ross, Ross, Ross,...</td>\n      <td>[joy, surprise, neutral, neutral, neutral, neu...</td>\n      <td>[Oh, wow! I should get going. I-I got a date t...</td>\n      <td>[0.0, 0.0, 0.0, 0.0, 0.0, 0.0, 0.0, 0.0, 0.0, ...</td>\n    </tr>\n    <tr>\n      <th>utterance_388</th>\n      <td>[Joey, Chandler, Joey, Chandler]</td>\n      <td>[joy, fear, joy, neutral]</td>\n      <td>[Wow thanks!, Joe?, Yeah!, Uh, you've had a lo...</td>\n      <td>[0.0, 0.0, 0.0, 0.0]</td>\n    </tr>\n  </tbody>\n</table>\n</div>"
     },
     "metadata": {},
     "output_type": "display_data"
    },
    {
     "data": {
      "text/plain": "                                                         speakers  \\\nindex                                                               \nutterance_1550  [Joey, Man, Joey, Joey, Man, Joey, Man, Joey, ...   \nutterance_779   [Mrs. Geller, Chandler, Mr. Geller, Chandler, ...   \nutterance_2453  [Monica, Rachel, Phoebe, Rachel, Monica, Rache...   \nutterance_1123  [Barry, Bernice, Barry, Barry, Barry, Rachel, ...   \nutterance_467   [Rachel, Joey, Rachel, Joey, Rachel, Joey, Rac...   \n\n                                                         emotions  \\\nindex                                                               \nutterance_1550  [neutral, surprise, neutral, neutral, surprise...   \nutterance_779   [joy, neutral, joy, neutral, joy, disgust, neu...   \nutterance_2453  [neutral, joy, neutral, joy, joy, joy, neutral...   \nutterance_1123  [fear, fear, fear, neutral, fear, neutral, neu...   \nutterance_467   [joy, neutral, neutral, disgust, neutral, neut...   \n\n                                                       utterances  \\\nindex                                                               \nutterance_1550  [Hi! I'm Dr. Drake Remoray and I have a few ro...   \nutterance_779   [So Chandler, your parents must've been thrill...   \nutterance_2453  [Okay, the reason why I asked you guys out to ...   \nutterance_1123  [Sweetheart, just gimme- gimme another chance,...   \nutterance_467   [Hi Joey! What are you doing here?, Uhh, well ...   \n\n                                                         triggers  \nindex                                                              \nutterance_1550  [0.0, 0.0, 0.0, 0.0, 0.0, 0.0, 0.0, 0.0, 0.0, ...  \nutterance_779       [0.0, 0.0, 0.0, 0.0, 0.0, 0.0, 0.0, 1.0, 0.0]  \nutterance_2453  [0.0, 0.0, 0.0, 0.0, 0.0, 0.0, 0.0, 0.0, 0.0, ...  \nutterance_1123  [0.0, 0.0, 0.0, 0.0, 0.0, 0.0, 0.0, 0.0, 0.0, ...  \nutterance_467   [0.0, 0.0, 0.0, 0.0, 0.0, 0.0, 0.0, 0.0, 0.0, ...  ",
      "text/html": "<div>\n<style scoped>\n    .dataframe tbody tr th:only-of-type {\n        vertical-align: middle;\n    }\n\n    .dataframe tbody tr th {\n        vertical-align: top;\n    }\n\n    .dataframe thead th {\n        text-align: right;\n    }\n</style>\n<table border=\"1\" class=\"dataframe\">\n  <thead>\n    <tr style=\"text-align: right;\">\n      <th></th>\n      <th>speakers</th>\n      <th>emotions</th>\n      <th>utterances</th>\n      <th>triggers</th>\n    </tr>\n    <tr>\n      <th>index</th>\n      <th></th>\n      <th></th>\n      <th></th>\n      <th></th>\n    </tr>\n  </thead>\n  <tbody>\n    <tr>\n      <th>utterance_1550</th>\n      <td>[Joey, Man, Joey, Joey, Man, Joey, Man, Joey, ...</td>\n      <td>[neutral, surprise, neutral, neutral, surprise...</td>\n      <td>[Hi! I'm Dr. Drake Remoray and I have a few ro...</td>\n      <td>[0.0, 0.0, 0.0, 0.0, 0.0, 0.0, 0.0, 0.0, 0.0, ...</td>\n    </tr>\n    <tr>\n      <th>utterance_779</th>\n      <td>[Mrs. Geller, Chandler, Mr. Geller, Chandler, ...</td>\n      <td>[joy, neutral, joy, neutral, joy, disgust, neu...</td>\n      <td>[So Chandler, your parents must've been thrill...</td>\n      <td>[0.0, 0.0, 0.0, 0.0, 0.0, 0.0, 0.0, 1.0, 0.0]</td>\n    </tr>\n    <tr>\n      <th>utterance_2453</th>\n      <td>[Monica, Rachel, Phoebe, Rachel, Monica, Rache...</td>\n      <td>[neutral, joy, neutral, joy, joy, joy, neutral...</td>\n      <td>[Okay, the reason why I asked you guys out to ...</td>\n      <td>[0.0, 0.0, 0.0, 0.0, 0.0, 0.0, 0.0, 0.0, 0.0, ...</td>\n    </tr>\n    <tr>\n      <th>utterance_1123</th>\n      <td>[Barry, Bernice, Barry, Barry, Barry, Rachel, ...</td>\n      <td>[fear, fear, fear, neutral, fear, neutral, neu...</td>\n      <td>[Sweetheart, just gimme- gimme another chance,...</td>\n      <td>[0.0, 0.0, 0.0, 0.0, 0.0, 0.0, 0.0, 0.0, 0.0, ...</td>\n    </tr>\n    <tr>\n      <th>utterance_467</th>\n      <td>[Rachel, Joey, Rachel, Joey, Rachel, Joey, Rac...</td>\n      <td>[joy, neutral, neutral, disgust, neutral, neut...</td>\n      <td>[Hi Joey! What are you doing here?, Uhh, well ...</td>\n      <td>[0.0, 0.0, 0.0, 0.0, 0.0, 0.0, 0.0, 0.0, 0.0, ...</td>\n    </tr>\n  </tbody>\n</table>\n</div>"
     },
     "metadata": {},
     "output_type": "display_data"
    }
   ],
   "source": [
    "train_df, val_df, test_df = split_dataset(df)\n",
    "\n",
    "display(train_df.head())\n",
    "display(val_df.head())\n",
    "display(test_df.head())\n"
   ],
   "metadata": {
    "collapsed": false,
    "ExecuteTime": {
     "end_time": "2024-02-21T21:51:44.951382700Z",
     "start_time": "2024-02-21T21:51:44.771464700Z"
    }
   },
   "id": "f57ca9b8c431fc6",
   "execution_count": 9
  },
  {
   "cell_type": "code",
   "outputs": [
    {
     "data": {
      "text/plain": "<Figure size 1800x600 with 3 Axes>",
      "image/png": "[encoded data removed]"
     },
     "metadata": {},
     "output_type": "display_data"
    }
   ],
   "source": [
    "plot_emotion_distribution(train_df, val_df, test_df)\n"
   ],
   "metadata": {
    "collapsed": false,
    "ExecuteTime": {
     "end_time": "2024-02-21T21:51:45.330122800Z",
     "start_time": "2024-02-21T21:51:44.880927300Z"
    }
   },
   "id": "f4cd06df1b333247",
   "execution_count": 10
  },
  {
   "cell_type": "code",
   "outputs": [],
   "source": [
    "# todo heatmap che associa a ogni personaggio il conto di emozioni che lo riguardano. Ogni riga contiene un'emozione, ogni colonna un personaggio. Esempio:\n",
    "# Kristen -> (angry-40 volte), (joy, 20 volte), (disgust, 70 volte)...\n",
    "# Joey -> (angry-23 volte), (joy, 50 volte) ...\n",
    "\n",
    "# può essere interessante da fare per far vedere che facendo l'embedding dei singoli nomi distintamente il modello avrebbe il bias del nome (magari kristen porta molto disgusto, quindi tende ad assegnarglielo più facilmente)"
   ],
   "metadata": {
    "collapsed": false,
    "ExecuteTime": {
     "end_time": "2024-02-21T21:51:45.540387700Z",
     "start_time": "2024-02-21T21:51:45.317381800Z"
    }
   },
   "id": "cdc77ae02d19acfd",
   "execution_count": 11
  },
  {
   "cell_type": "markdown",
   "source": [
    "## Random Classifier"
   ],
   "metadata": {
    "collapsed": false,
    "ExecuteTime": {
     "end_time": "2024-02-21T11:07:25.393229010Z",
     "start_time": "2024-02-21T11:07:25.324414748Z"
    }
   },
   "id": "5b708a5070a72c85"
  },
  {
   "cell_type": "code",
   "outputs": [
    {
     "data": {
      "text/plain": "   speakers  emotions                                         utterances  \\\n0      Joey   neutral  Hi! I'm Dr. Drake Remoray and I have a few rou...   \n1       Man  surprise          Really? I've been dealing with Dr. Wells.   \n2      Joey   neutral                     I know, but I'm a neurologist.   \n3      Joey   neutral  And just to be on the safe side, Dr. Wells wan...   \n4       Man  surprise                              Dr. Wells is a woman.   \n5      Joey   neutral  That was a test. Good response. All right, ful...   \n6       Man   neutral                                  Clifford Burnett.   \n7      Joey   neutral                                     Date of birth?   \n8     Cliff   neutral                                        November 16   \n9      Joey   neutral                                               Age?   \n10    Cliff     anger  Can't you figure that out based on my date of ...   \n\n   triggers pred_emotions pred_triggers  \n0       0.0         anger             1  \n1       0.0       sadness             1  \n2       0.0       disgust             1  \n3       0.0           joy             1  \n4       0.0           joy             1  \n5       0.0      surprise             0  \n6       0.0       sadness             0  \n7       0.0       sadness             1  \n8       0.0       neutral             0  \n9       1.0      surprise             0  \n10      0.0       disgust             1  ",
      "text/html": "<div>\n<style scoped>\n    .dataframe tbody tr th:only-of-type {\n        vertical-align: middle;\n    }\n\n    .dataframe tbody tr th {\n        vertical-align: top;\n    }\n\n    .dataframe thead th {\n        text-align: right;\n    }\n</style>\n<table border=\"1\" class=\"dataframe\">\n  <thead>\n    <tr style=\"text-align: right;\">\n      <th></th>\n      <th>speakers</th>\n      <th>emotions</th>\n      <th>utterances</th>\n      <th>triggers</th>\n      <th>pred_emotions</th>\n      <th>pred_triggers</th>\n    </tr>\n  </thead>\n  <tbody>\n    <tr>\n      <th>0</th>\n      <td>Joey</td>\n      <td>neutral</td>\n      <td>Hi! I'm Dr. Drake Remoray and I have a few rou...</td>\n      <td>0.0</td>\n      <td>anger</td>\n      <td>1</td>\n    </tr>\n    <tr>\n      <th>1</th>\n      <td>Man</td>\n      <td>surprise</td>\n      <td>Really? I've been dealing with Dr. Wells.</td>\n      <td>0.0</td>\n      <td>sadness</td>\n      <td>1</td>\n    </tr>\n    <tr>\n      <th>2</th>\n      <td>Joey</td>\n      <td>neutral</td>\n      <td>I know, but I'm a neurologist.</td>\n      <td>0.0</td>\n      <td>disgust</td>\n      <td>1</td>\n    </tr>\n    <tr>\n      <th>3</th>\n      <td>Joey</td>\n      <td>neutral</td>\n      <td>And just to be on the safe side, Dr. Wells wan...</td>\n      <td>0.0</td>\n      <td>joy</td>\n      <td>1</td>\n    </tr>\n    <tr>\n      <th>4</th>\n      <td>Man</td>\n      <td>surprise</td>\n      <td>Dr. Wells is a woman.</td>\n      <td>0.0</td>\n      <td>joy</td>\n      <td>1</td>\n    </tr>\n    <tr>\n      <th>5</th>\n      <td>Joey</td>\n      <td>neutral</td>\n      <td>That was a test. Good response. All right, ful...</td>\n      <td>0.0</td>\n      <td>surprise</td>\n      <td>0</td>\n    </tr>\n    <tr>\n      <th>6</th>\n      <td>Man</td>\n      <td>neutral</td>\n      <td>Clifford Burnett.</td>\n      <td>0.0</td>\n      <td>sadness</td>\n      <td>0</td>\n    </tr>\n    <tr>\n      <th>7</th>\n      <td>Joey</td>\n      <td>neutral</td>\n      <td>Date of birth?</td>\n      <td>0.0</td>\n      <td>sadness</td>\n      <td>1</td>\n    </tr>\n    <tr>\n      <th>8</th>\n      <td>Cliff</td>\n      <td>neutral</td>\n      <td>November 16</td>\n      <td>0.0</td>\n      <td>neutral</td>\n      <td>0</td>\n    </tr>\n    <tr>\n      <th>9</th>\n      <td>Joey</td>\n      <td>neutral</td>\n      <td>Age?</td>\n      <td>1.0</td>\n      <td>surprise</td>\n      <td>0</td>\n    </tr>\n    <tr>\n      <th>10</th>\n      <td>Cliff</td>\n      <td>anger</td>\n      <td>Can't you figure that out based on my date of ...</td>\n      <td>0.0</td>\n      <td>disgust</td>\n      <td>1</td>\n    </tr>\n  </tbody>\n</table>\n</div>"
     },
     "metadata": {},
     "output_type": "display_data"
    },
    {
     "name": "stdout",
     "output_type": "stream",
     "text": []
    }
   ],
   "source": [
    "# todo metric computation\n",
    "\n",
    "emotions = np.unique([item for sublist in df[\"emotions\"] for item in sublist]) # flattening and taking unique emotions\n",
    "random_classifier = RandomClassifier(emotions)\n",
    "\n",
    "pred_emotions, pred_triggers = random_classifier.predict(test_df)\n",
    "\n",
    "# esempio di print per gli scettici che non crederanno che il classifier funziona\n",
    "\n",
    "new_test_df = test_df.copy()\n",
    "new_test_df['pred_emotions'] = pred_emotions\n",
    "new_test_df['pred_triggers'] = pred_triggers\n",
    "display_utterance(dataframe=new_test_df, utterance_id=0)    "
   ],
   "metadata": {
    "collapsed": false,
    "ExecuteTime": {
     "end_time": "2024-02-21T21:53:09.959379900Z",
     "start_time": "2024-02-21T21:53:09.814753300Z"
    }
   },
   "id": "3804e348d3bb097a",
   "execution_count": 14
  },
  {
   "cell_type": "markdown",
   "source": [
    "## Majority Classifier"
   ],
   "metadata": {
    "collapsed": false
   },
   "id": "214a06bffbbf6b8d"
  },
  {
   "cell_type": "code",
   "outputs": [
    {
     "data": {
      "text/plain": "   speakers  emotions                                         utterances  \\\n0      Joey   neutral  Hi! I'm Dr. Drake Remoray and I have a few rou...   \n1       Man  surprise          Really? I've been dealing with Dr. Wells.   \n2      Joey   neutral                     I know, but I'm a neurologist.   \n3      Joey   neutral  And just to be on the safe side, Dr. Wells wan...   \n4       Man  surprise                              Dr. Wells is a woman.   \n5      Joey   neutral  That was a test. Good response. All right, ful...   \n6       Man   neutral                                  Clifford Burnett.   \n7      Joey   neutral                                     Date of birth?   \n8     Cliff   neutral                                        November 16   \n9      Joey   neutral                                               Age?   \n10    Cliff     anger  Can't you figure that out based on my date of ...   \n\n   triggers pred_emotions pred_triggers  \n0       0.0       neutral           0.0  \n1       0.0       neutral           0.0  \n2       0.0       neutral           0.0  \n3       0.0       neutral           0.0  \n4       0.0       neutral           0.0  \n5       0.0       neutral           0.0  \n6       0.0       neutral           0.0  \n7       0.0       neutral           0.0  \n8       0.0       neutral           0.0  \n9       1.0       neutral           0.0  \n10      0.0       neutral           0.0  ",
      "text/html": "<div>\n<style scoped>\n    .dataframe tbody tr th:only-of-type {\n        vertical-align: middle;\n    }\n\n    .dataframe tbody tr th {\n        vertical-align: top;\n    }\n\n    .dataframe thead th {\n        text-align: right;\n    }\n</style>\n<table border=\"1\" class=\"dataframe\">\n  <thead>\n    <tr style=\"text-align: right;\">\n      <th></th>\n      <th>speakers</th>\n      <th>emotions</th>\n      <th>utterances</th>\n      <th>triggers</th>\n      <th>pred_emotions</th>\n      <th>pred_triggers</th>\n    </tr>\n  </thead>\n  <tbody>\n    <tr>\n      <th>0</th>\n      <td>Joey</td>\n      <td>neutral</td>\n      <td>Hi! I'm Dr. Drake Remoray and I have a few rou...</td>\n      <td>0.0</td>\n      <td>neutral</td>\n      <td>0.0</td>\n    </tr>\n    <tr>\n      <th>1</th>\n      <td>Man</td>\n      <td>surprise</td>\n      <td>Really? I've been dealing with Dr. Wells.</td>\n      <td>0.0</td>\n      <td>neutral</td>\n      <td>0.0</td>\n    </tr>\n    <tr>\n      <th>2</th>\n      <td>Joey</td>\n      <td>neutral</td>\n      <td>I know, but I'm a neurologist.</td>\n      <td>0.0</td>\n      <td>neutral</td>\n      <td>0.0</td>\n    </tr>\n    <tr>\n      <th>3</th>\n      <td>Joey</td>\n      <td>neutral</td>\n      <td>And just to be on the safe side, Dr. Wells wan...</td>\n      <td>0.0</td>\n      <td>neutral</td>\n      <td>0.0</td>\n    </tr>\n    <tr>\n      <th>4</th>\n      <td>Man</td>\n      <td>surprise</td>\n      <td>Dr. Wells is a woman.</td>\n      <td>0.0</td>\n      <td>neutral</td>\n      <td>0.0</td>\n    </tr>\n    <tr>\n      <th>5</th>\n      <td>Joey</td>\n      <td>neutral</td>\n      <td>That was a test. Good response. All right, ful...</td>\n      <td>0.0</td>\n      <td>neutral</td>\n      <td>0.0</td>\n    </tr>\n    <tr>\n      <th>6</th>\n      <td>Man</td>\n      <td>neutral</td>\n      <td>Clifford Burnett.</td>\n      <td>0.0</td>\n      <td>neutral</td>\n      <td>0.0</td>\n    </tr>\n    <tr>\n      <th>7</th>\n      <td>Joey</td>\n      <td>neutral</td>\n      <td>Date of birth?</td>\n      <td>0.0</td>\n      <td>neutral</td>\n      <td>0.0</td>\n    </tr>\n    <tr>\n      <th>8</th>\n      <td>Cliff</td>\n      <td>neutral</td>\n      <td>November 16</td>\n      <td>0.0</td>\n      <td>neutral</td>\n      <td>0.0</td>\n    </tr>\n    <tr>\n      <th>9</th>\n      <td>Joey</td>\n      <td>neutral</td>\n      <td>Age?</td>\n      <td>1.0</td>\n      <td>neutral</td>\n      <td>0.0</td>\n    </tr>\n    <tr>\n      <th>10</th>\n      <td>Cliff</td>\n      <td>anger</td>\n      <td>Can't you figure that out based on my date of ...</td>\n      <td>0.0</td>\n      <td>neutral</td>\n      <td>0.0</td>\n    </tr>\n  </tbody>\n</table>\n</div>"
     },
     "metadata": {},
     "output_type": "display_data"
    },
    {
     "name": "stdout",
     "output_type": "stream",
     "text": []
    }
   ],
   "source": [
    "# todo metrics computation\n",
    "\n",
    "majority_classifier = MajorityClassifier()\n",
    "\n",
    "majority_classifier.fit(train_df)\n",
    "pred_emotions, pred_triggers = majority_classifier.predict(test_df)\n",
    "\n",
    "# esempio di print per gli scettici che non crederanno che il classifier funziona\n",
    "new_test_df = test_df.copy()\n",
    "new_test_df['pred_emotions'] = pred_emotions\n",
    "new_test_df['pred_triggers'] = pred_triggers\n",
    "display_utterance(dataframe=new_test_df, utterance_id=0)\n",
    "\n"
   ],
   "metadata": {
    "collapsed": false,
    "ExecuteTime": {
     "end_time": "2024-02-21T21:54:25.444656400Z",
     "start_time": "2024-02-21T21:54:25.340930300Z"
    }
   },
   "id": "5962c4462099f5f5",
   "execution_count": 21
  },
  {
   "cell_type": "markdown",
   "source": [
    "## Bert Models"
   ],
   "metadata": {
    "collapsed": false
   },
   "id": "a65f1dc767977391"
  },
  {
   "cell_type": "code",
   "outputs": [],
   "source": [
    "EMOTIONS = np.unique([item for sublist in df[\"emotions\"] for item in sublist])\n",
    "EMOTIONS_TO_INT = {i: emotion for (emotion, i) in enumerate(EMOTIONS)}\n",
    "INT_TO_EMOTIONS = {emotion: i for (emotion, i) in enumerate(EMOTIONS)}\n",
    "\n",
    "print(\"Aaahhh le emozioni: \", EMOTIONS)"
   ],
   "metadata": {
    "collapsed": false,
    "ExecuteTime": {
     "start_time": "2024-02-21T21:51:45.789396500Z"
    }
   },
   "id": "11db464e396ec60f",
   "execution_count": null
  },
  {
   "cell_type": "code",
   "outputs": [],
   "source": [
    "# first execution it downloads bert model and tokenizer, from second execution it retrieves them from local folder\n",
    "if os.path.exists(BERT_DIRECTORY):\n",
    "    bert_model, bert_tokenizer = retrieve_bert_initializers(BERT_DIRECTORY) \n",
    "else:\n",
    "    bert_model, bert_tokenizer = download_bert_initializers(BERT_DIRECTORY) "
   ],
   "metadata": {
    "collapsed": false,
    "ExecuteTime": {
     "end_time": "2024-02-21T21:51:45.791831800Z",
     "start_time": "2024-02-21T21:51:45.790702100Z"
    }
   },
   "id": "9de65890f020ffb2",
   "execution_count": null
  },
  {
   "cell_type": "code",
   "execution_count": null,
   "outputs": [],
   "source": [
    "dialogo = [\n",
    "    \"also I was the point person on my company's transition from the KL-5 to GR-6 system.\",\n",
    "    \"You must've had your hands full.\",\n",
    "    \"That I did. That I did.\",\n",
    "    \"So let's talk a little bit about your duties.\",\n",
    "    \"My duties? All right.\"\n",
    "]\n",
    "\n",
    "# Preparazione dell'input\n",
    "tokens = [bert_tokenizer.cls_token]  # Inizia con [CLS]\n",
    "for frase in dialogo:\n",
    "    tokens += bert_tokenizer.tokenize(frase) + [bert_tokenizer.sep_token]  # Aggiungi frase e [SEP]\n",
    "\n",
    "# Converti in ID e tronca se necessario\n",
    "input_ids = bert_tokenizer.convert_tokens_to_ids(tokens)[:512]  # Assicurati di non superare il limite di 512 token\n",
    "\n",
    "input_ids_tensor = torch.tensor([input_ids])\n",
    "print(np.shape(input_ids_tensor))\n",
    "print(bert_tokenizer.sep_token)\n"
   ],
   "metadata": {
    "collapsed": false,
    "ExecuteTime": {
     "end_time": "2024-02-21T21:51:45.791831800Z",
     "start_time": "2024-02-21T21:51:45.791831800Z"
    }
   },
   "id": "c862ff55fe94521c"
  },
  {
   "cell_type": "code",
   "outputs": [],
   "source": [
    "from models.bertFreezed import BertFreezed\n",
    "\n",
    "pos = [idx for idx in range(len(input_ids_tensor[0])) if input_ids_tensor[0, idx] == 102]\n",
    "print(pos)\n",
    "bertino = BertFreezed(bert_model)\n",
    "bertino(input_ids_tensor, pos)\n"
   ],
   "metadata": {
    "collapsed": false,
    "ExecuteTime": {
     "start_time": "2024-02-21T21:51:45.793141200Z"
    }
   },
   "id": "5de049ef97eb178",
   "execution_count": null
  }
 ],
 "metadata": {
  "kernelspec": {
   "display_name": "Python 3",
   "language": "python",
   "name": "python3"
  },
  "language_info": {
   "codemirror_mode": {
    "name": "ipython",
    "version": 2
   },
   "file_extension": ".py",
   "mimetype": "text/x-python",
   "name": "python",
   "nbconvert_exporter": "python",
   "pygments_lexer": "ipython2",
   "version": "2.7.6"
  }
 },
 "nbformat": 4,
 "nbformat_minor": 5
}
