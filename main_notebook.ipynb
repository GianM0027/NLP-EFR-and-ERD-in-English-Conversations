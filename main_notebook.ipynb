{
 "cells": [
  {
   "cell_type": "markdown",
   "source": [
    "# NLP Project - EFR in English conversations\n",
    "\n",
    "You can find the ppt with details and requirements of the project <a href=\"https://docs.google.com/presentation/d/1TTN1H3GdnaswGXW63SuSvD4CsI7HB9lkYuwXRMQp2ks/edit?usp=sharing\"> here</a>. The ppt is equivalent to the <a href=\"https://virtuale.unibo.it/mod/page/view.php?id=1405067\"> FAQ page</a>\n",
    "\n",
    "You can find the official webpage of the challenge <a href=\"https://lcs2.in/SemEval2024-EDiReF/\"> here</a>"
   ],
   "metadata": {
    "collapsed": false
   },
   "id": "85bc3873332d289a"
  },
  {
   "cell_type": "markdown",
   "source": [
    "**EFR: Given a dialogue, EFR aims to identify the trigger utterance(s) for an emotion-flip in a multi-party conversation dialogue.** \n",
    "\n",
    "For example: \n",
    "<center>\n",
    "    <img src=\"images\\example_EFR.jpeg\" alt=\"EFR\" />\n",
    "</center>"
   ],
   "metadata": {
    "collapsed": false
   },
   "id": "8c1385f3bde50c1e"
  },
  {
   "cell_type": "code",
   "outputs": [],
   "source": [
    "%load_ext autoreload\n",
    "%autoreload 2\n",
    "\n",
    "import pandas as pd\n",
    "import numpy\n",
    "import os\n",
    "import torch\n",
    "from sys import platform\n",
    "from utilities import *\n",
    "\n",
    "# todo decidere che versione di drTorch importare"
   ],
   "metadata": {
    "collapsed": false
   },
   "id": "2ece32ffd62b0215",
   "execution_count": null
  },
  {
   "cell_type": "markdown",
   "source": [
    "## Setting the device"
   ],
   "metadata": {
    "collapsed": false
   },
   "id": "34d937b7e13fb772"
  },
  {
   "cell_type": "code",
   "outputs": [
    {
     "name": "stdout",
     "output_type": "stream",
     "text": [
      "PyTorch version: 2.2.0+cu121\n",
      "Using device: cuda\n"
     ]
    }
   ],
   "source": [
    "print(f\"PyTorch version: {torch.__version__}\")\n",
    "\n",
    "if platform == \"darwin\":    #Run on macOS\n",
    "    \n",
    "    print(f\"Is MPS (Metal Performance Shader) built? {torch.backends.mps.is_built()}\")\n",
    "    print(f\"Is MPS available? {torch.backends.mps.is_available()}\")\n",
    "    device = \"mps\" if torch.backends.mps.is_available() else \"cpu\"    \n",
    "else:\n",
    "    device = torch.device('cuda' if torch.cuda.is_available() else 'cpu') \n",
    "\n",
    "print(f\"Using device: {device}\")"
   ],
   "metadata": {
    "collapsed": false,
    "ExecuteTime": {
     "end_time": "2024-02-17T12:18:46.361982300Z",
     "start_time": "2024-02-17T12:18:46.283748100Z"
    }
   },
   "id": "78a08b1656d020fe",
   "execution_count": 2
  },
  {
   "cell_type": "code",
   "outputs": [
    {
     "name": "stdout",
     "output_type": "stream",
     "text": [
      "Sat Feb 17 13:18:46 2024       \n",
      "+---------------------------------------------------------------------------------------+\n",
      "| NVIDIA-SMI 536.23                 Driver Version: 536.23       CUDA Version: 12.2     |\n",
      "|-----------------------------------------+----------------------+----------------------+\n",
      "| GPU  Name                     TCC/WDDM  | Bus-Id        Disp.A | Volatile Uncorr. ECC |\n",
      "| Fan  Temp   Perf          Pwr:Usage/Cap |         Memory-Usage | GPU-Util  Compute M. |\n",
      "|                                         |                      |               MIG M. |\n",
      "|=========================================+======================+======================|\n",
      "|   0  NVIDIA GeForce RTX 4060 ...  WDDM  | 00000000:01:00.0  On |                  N/A |\n",
      "| N/A   42C    P8               4W /  75W |    220MiB /  8188MiB |      0%      Default |\n",
      "|                                         |                      |                  N/A |\n",
      "+-----------------------------------------+----------------------+----------------------+\n",
      "                                                                                         \n",
      "+---------------------------------------------------------------------------------------+\n",
      "| Processes:                                                                            |\n",
      "|  GPU   GI   CI        PID   Type   Process name                            GPU Memory |\n",
      "|        ID   ID                                                             Usage      |\n",
      "|=======================================================================================|\n",
      "|    0   N/A  N/A     17004    C+G   ...werToys\\PowerToys.PowerLauncher.exe    N/A      |\n",
      "|    0   N/A  N/A     54908    C+G   ...werToys\\PowerToys.ColorPickerUI.exe    N/A      |\n",
      "|    0   N/A  N/A     64988    C+G   ...inaries\\Win64\\EpicGamesLauncher.exe    N/A      |\n",
      "+---------------------------------------------------------------------------------------+\n"
     ]
    }
   ],
   "source": [
    "if device != 'mps':\n",
    "    !nvidia-smi"
   ],
   "metadata": {
    "collapsed": false,
    "ExecuteTime": {
     "end_time": "2024-02-17T12:18:46.656346200Z",
     "start_time": "2024-02-17T12:18:46.361982300Z"
    }
   },
   "id": "67a906779c9ec397",
   "execution_count": 3
  },
  {
   "cell_type": "markdown",
   "source": [
    "## Defining flags and variables"
   ],
   "metadata": {
    "collapsed": false
   },
   "id": "f5fa2f7278bc9000"
  },
  {
   "cell_type": "code",
   "outputs": [],
   "source": [
    "# Directories and File Paths\n",
    "DATA_DIRECTORY = 'Data'             # Directory containing the dataset\n",
    "DATASET = 'MELD_efr.json'   # Name of the dataset file\n",
    "\n",
    "DATASET_PATH = os.path.join(DATA_DIRECTORY, DATASET)    # Path of dataset in JSON format "
   ],
   "metadata": {
    "collapsed": false,
    "ExecuteTime": {
     "end_time": "2024-02-17T12:18:46.701675400Z",
     "start_time": "2024-02-17T12:18:46.656346200Z"
    }
   },
   "id": "335f829731d15ffd",
   "execution_count": 4
  },
  {
   "cell_type": "markdown",
   "source": [
    "## Datasets Creation"
   ],
   "metadata": {
    "collapsed": false
   },
   "id": "94ef05c4366b7e6a"
  },
  {
   "cell_type": "code",
   "outputs": [
    {
     "name": "stdout",
     "output_type": "stream",
     "text": [
      "Before: 9 NaN values\n",
      "After: 0 NaN values\n"
     ]
    }
   ],
   "source": [
    "df = pd.read_json(DATASET_PATH)\n",
    "\n",
    "#removing NaN values\n",
    "nan_count_before = df[\"triggers\"].apply(lambda lst: sum(pd.isnull(x) for x in lst)).sum()\n",
    "df['triggers'] = df['triggers'].apply(replace_nan_with_zero)\n",
    "nan_count_after = df[\"triggers\"].apply(lambda lst: sum(pd.isnull(x) for x in lst)).sum()\n",
    "\n",
    "print(f\"Before: {nan_count_before} NaN values\")\n",
    "print(f\"After: {nan_count_after} NaN values\")"
   ],
   "metadata": {
    "collapsed": false,
    "ExecuteTime": {
     "end_time": "2024-02-17T12:22:36.235864700Z",
     "start_time": "2024-02-17T12:22:35.966643Z"
    }
   },
   "id": "204c1960d2293b56",
   "execution_count": 8
  }
 ],
 "metadata": {
  "kernelspec": {
   "display_name": "Python 3",
   "language": "python",
   "name": "python3"
  },
  "language_info": {
   "codemirror_mode": {
    "name": "ipython",
    "version": 2
   },
   "file_extension": ".py",
   "mimetype": "text/x-python",
   "name": "python",
   "nbconvert_exporter": "python",
   "pygments_lexer": "ipython2",
   "version": "2.7.6"
  }
 },
 "nbformat": 4,
 "nbformat_minor": 5
}
