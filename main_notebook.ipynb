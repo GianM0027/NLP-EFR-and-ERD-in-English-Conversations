{
 "cells": [
  {
   "cell_type": "markdown",
   "source": [
    "# NLP Project - EFR in English conversations\n",
    "\n",
    "You can find the ppt with details and requirements of the project <a href=\"https://docs.google.com/presentation/d/1TTN1H3GdnaswGXW63SuSvD4CsI7HB9lkYuwXRMQp2ks/edit?usp=sharing\"> here</a>. The ppt is equivalent to the <a href=\"https://virtuale.unibo.it/mod/page/view.php?id=1405067\"> FAQ page</a>\n",
    "\n",
    "You can find the official webpage of the challenge <a href=\"https://lcs2.in/SemEval2024-EDiReF/\"> here</a>"
   ],
   "metadata": {
    "collapsed": false
   },
   "id": "85bc3873332d289a"
  },
  {
   "cell_type": "markdown",
   "source": [
    "**EFR: Given a dialogue, EFR aims to identify the trigger utterance(s) for an emotion-flip in a multi-party conversation dialogue.** \n",
    "\n",
    "For example: \n",
    "<center>\n",
    "    <img src=\"./images/example_EFR.jpeg\" alt=\"EFR\" />\n",
    "</center>"
   ],
   "metadata": {
    "collapsed": false
   },
   "id": "8c1385f3bde50c1e"
  },
  {
   "cell_type": "markdown",
   "source": [
    "## Imports"
   ],
   "metadata": {
    "collapsed": false
   },
   "id": "5aaa4c0b36d5deec"
  },
  {
   "cell_type": "code",
   "outputs": [
    {
     "name": "stdout",
     "output_type": "stream",
     "text": [
      "The autoreload extension is already loaded. To reload it, use:\n",
      "  %reload_ext autoreload\n"
     ]
    }
   ],
   "source": [
    "%load_ext autoreload\n",
    "%autoreload 2\n",
    "\n",
    "import pandas as pd\n",
    "import numpy as np \n",
    "import os\n",
    "import torch\n",
    "from sys import platform\n",
    "from utilities import *\n",
    "\n",
    "from models.randomClassifier import RandomClassifier\n",
    "from models.majorityClassifier import MajorityClassifier\n",
    "\n",
    "from models.bertFull import BertFull\n"
   ],
   "metadata": {
    "collapsed": false,
    "ExecuteTime": {
     "end_time": "2024-02-22T10:49:17.817627409Z",
     "start_time": "2024-02-22T10:49:17.775859300Z"
    }
   },
   "id": "2ece32ffd62b0215",
   "execution_count": 43
  },
  {
   "cell_type": "markdown",
   "source": [
    "## Setting the device"
   ],
   "metadata": {
    "collapsed": false
   },
   "id": "34d937b7e13fb772"
  },
  {
   "cell_type": "code",
   "outputs": [
    {
     "name": "stdout",
     "output_type": "stream",
     "text": [
      "PyTorch version: 2.2.0+cu121\n",
      "Using device: cuda\n"
     ]
    }
   ],
   "source": [
    "print(f\"PyTorch version: {torch.__version__}\")\n",
    "\n",
    "if platform == \"darwin\":    #Run on macOS\n",
    "    \n",
    "    print(f\"Is MPS (Metal Performance Shader) built? {torch.backends.mps.is_built()}\")\n",
    "    print(f\"Is MPS available? {torch.backends.mps.is_available()}\")\n",
    "    device = \"mps\" if torch.backends.mps.is_available() else \"cpu\"    \n",
    "else:\n",
    "    device = torch.device('cuda' if torch.cuda.is_available() else 'cpu') \n",
    "\n",
    "print(f\"Using device: {device}\")\n"
   ],
   "metadata": {
    "collapsed": false,
    "ExecuteTime": {
     "end_time": "2024-02-22T09:42:46.127467378Z",
     "start_time": "2024-02-22T09:42:46.076427249Z"
    }
   },
   "id": "78a08b1656d020fe",
   "execution_count": 2
  },
  {
   "cell_type": "code",
   "outputs": [
    {
     "name": "stdout",
     "output_type": "stream",
     "text": [
      "Thu Feb 22 10:42:47 2024       \r\n",
      "+---------------------------------------------------------------------------------------+\r\n",
      "| NVIDIA-SMI 545.29.06              Driver Version: 545.29.06    CUDA Version: 12.3     |\r\n",
      "|-----------------------------------------+----------------------+----------------------+\r\n",
      "| GPU  Name                 Persistence-M | Bus-Id        Disp.A | Volatile Uncorr. ECC |\r\n",
      "| Fan  Temp   Perf          Pwr:Usage/Cap |         Memory-Usage | GPU-Util  Compute M. |\r\n",
      "|                                         |                      |               MIG M. |\r\n",
      "|=========================================+======================+======================|\r\n",
      "|   0  NVIDIA GeForce RTX 4060 ...    Off | 00000000:01:00.0  On |                  N/A |\r\n",
      "| N/A   43C    P8               3W /  80W |     53MiB /  8188MiB |     26%      Default |\r\n",
      "|                                         |                      |                  N/A |\r\n",
      "+-----------------------------------------+----------------------+----------------------+\r\n",
      "                                                                                         \r\n",
      "+---------------------------------------------------------------------------------------+\r\n",
      "| Processes:                                                                            |\r\n",
      "|  GPU   GI   CI        PID   Type   Process name                            GPU Memory |\r\n",
      "|        ID   ID                                                             Usage      |\r\n",
      "|=======================================================================================|\r\n",
      "|    0   N/A  N/A       833      G   /usr/lib/Xorg                                45MiB |\r\n",
      "+---------------------------------------------------------------------------------------+\r\n"
     ]
    }
   ],
   "source": [
    "if device != 'mps':\n",
    "    !nvidia-smi\n"
   ],
   "metadata": {
    "collapsed": false,
    "ExecuteTime": {
     "end_time": "2024-02-22T09:42:47.418634827Z",
     "start_time": "2024-02-22T09:42:47.205887402Z"
    }
   },
   "id": "67a906779c9ec397",
   "execution_count": 3
  },
  {
   "cell_type": "markdown",
   "source": [
    "## Defining flags and variables"
   ],
   "metadata": {
    "collapsed": false
   },
   "id": "f5fa2f7278bc9000"
  },
  {
   "cell_type": "code",
   "outputs": [],
   "source": [
    "DATA_DIRECTORY = 'Data'             # Directory containing the dataset\n",
    "DATASET = 'MELD_efr.json'           # Name of dataset file\n",
    "\n",
    "BERT_DIRECTORY = \"bert-base-uncased\"\n",
    "\n",
    "DATASET_PATH = os.path.join(DATA_DIRECTORY, DATASET)    # Path of dataset in JSON format \n"
   ],
   "metadata": {
    "collapsed": false,
    "ExecuteTime": {
     "end_time": "2024-02-22T09:42:49.427761418Z",
     "start_time": "2024-02-22T09:42:49.409183008Z"
    }
   },
   "id": "335f829731d15ffd",
   "execution_count": 4
  },
  {
   "cell_type": "markdown",
   "source": [
    "## Dataset Creation and Exploration"
   ],
   "metadata": {
    "collapsed": false
   },
   "id": "94ef05c4366b7e6a"
  },
  {
   "cell_type": "markdown",
   "source": [
    "### Dataset Loading\n",
    " "
   ],
   "metadata": {
    "collapsed": false
   },
   "id": "5976232796ae1d65"
  },
  {
   "cell_type": "code",
   "outputs": [
    {
     "data": {
      "text/plain": "                                                         speakers  \\\nepisode                                                             \nutterance_0     [Chandler, The Interviewer, Chandler, The Inte...   \nutterance_1     [Chandler, The Interviewer, Chandler, The Inte...   \nutterance_2     [Chandler, The Interviewer, Chandler, The Inte...   \nutterance_3     [Chandler, The Interviewer, Chandler, The Inte...   \nutterance_4                          [Joey, Rachel, Joey, Rachel]   \n...                                                           ...   \nutterance_3995  [Chandler, All, Monica, Chandler, Ross, Chandl...   \nutterance_3996  [Chandler, All, Monica, Chandler, Ross, Chandl...   \nutterance_3997  [Chandler, All, Monica, Chandler, Ross, Chandl...   \nutterance_3998  [Chandler, All, Monica, Chandler, Ross, Chandl...   \nutterance_3999  [Chandler, All, Monica, Chandler, Ross, Chandl...   \n\n                                                         emotions  \\\nepisode                                                             \nutterance_0        [neutral, neutral, neutral, neutral, surprise]   \nutterance_1     [neutral, neutral, neutral, neutral, surprise,...   \nutterance_2     [neutral, neutral, neutral, neutral, surprise,...   \nutterance_3     [neutral, neutral, neutral, neutral, surprise,...   \nutterance_4                   [surprise, sadness, surprise, fear]   \n...                                                           ...   \nutterance_3995  [neutral, joy, neutral, neutral, surprise, dis...   \nutterance_3996  [neutral, joy, neutral, neutral, surprise, dis...   \nutterance_3997  [neutral, joy, neutral, neutral, surprise, dis...   \nutterance_3998  [neutral, joy, neutral, neutral, surprise, dis...   \nutterance_3999  [neutral, joy, neutral, neutral, surprise, dis...   \n\n                                                       utterances  \\\nepisode                                                             \nutterance_0     [also I was the point person on my company's t...   \nutterance_1     [also I was the point person on my company's t...   \nutterance_2     [also I was the point person on my company's t...   \nutterance_3     [also I was the point person on my company's t...   \nutterance_4     [But then who? The waitress I went out with la...   \n...                                                           ...   \nutterance_3995  [Hey., Hey!, So how was Joan?, I broke up with...   \nutterance_3996  [Hey., Hey!, So how was Joan?, I broke up with...   \nutterance_3997  [Hey., Hey!, So how was Joan?, I broke up with...   \nutterance_3998  [Hey., Hey!, So how was Joan?, I broke up with...   \nutterance_3999  [Hey., Hey!, So how was Joan?, I broke up with...   \n\n                                                         triggers  \nepisode                                                            \nutterance_0                             [0.0, 0.0, 0.0, 1.0, 0.0]  \nutterance_1                   [0.0, 0.0, 0.0, 0.0, 0.0, 1.0, 0.0]  \nutterance_2     [0.0, 0.0, 0.0, 0.0, 0.0, 0.0, 0.0, 1.0, 0.0, ...  \nutterance_3     [0.0, 0.0, 0.0, 0.0, 0.0, 0.0, 0.0, 0.0, 0.0, ...  \nutterance_4                                  [0.0, 0.0, 1.0, 0.0]  \n...                                                           ...  \nutterance_3995  [0.0, 0.0, 0.0, 0.0, 0.0, 0.0, 0.0, 0.0, 0.0, ...  \nutterance_3996  [0.0, 0.0, 0.0, 0.0, 0.0, 0.0, 0.0, 0.0, 0.0, ...  \nutterance_3997  [0.0, 0.0, 0.0, 0.0, 0.0, 0.0, 0.0, 0.0, 0.0, ...  \nutterance_3998  [0.0, 0.0, 0.0, 0.0, 0.0, 0.0, 0.0, 0.0, 0.0, ...  \nutterance_3999  [0.0, 0.0, 0.0, 0.0, 0.0, 0.0, 0.0, 0.0, 0.0, ...  \n\n[4000 rows x 4 columns]",
      "text/html": "<div>\n<style scoped>\n    .dataframe tbody tr th:only-of-type {\n        vertical-align: middle;\n    }\n\n    .dataframe tbody tr th {\n        vertical-align: top;\n    }\n\n    .dataframe thead th {\n        text-align: right;\n    }\n</style>\n<table border=\"1\" class=\"dataframe\">\n  <thead>\n    <tr style=\"text-align: right;\">\n      <th></th>\n      <th>speakers</th>\n      <th>emotions</th>\n      <th>utterances</th>\n      <th>triggers</th>\n    </tr>\n    <tr>\n      <th>episode</th>\n      <th></th>\n      <th></th>\n      <th></th>\n      <th></th>\n    </tr>\n  </thead>\n  <tbody>\n    <tr>\n      <th>utterance_0</th>\n      <td>[Chandler, The Interviewer, Chandler, The Inte...</td>\n      <td>[neutral, neutral, neutral, neutral, surprise]</td>\n      <td>[also I was the point person on my company's t...</td>\n      <td>[0.0, 0.0, 0.0, 1.0, 0.0]</td>\n    </tr>\n    <tr>\n      <th>utterance_1</th>\n      <td>[Chandler, The Interviewer, Chandler, The Inte...</td>\n      <td>[neutral, neutral, neutral, neutral, surprise,...</td>\n      <td>[also I was the point person on my company's t...</td>\n      <td>[0.0, 0.0, 0.0, 0.0, 0.0, 1.0, 0.0]</td>\n    </tr>\n    <tr>\n      <th>utterance_2</th>\n      <td>[Chandler, The Interviewer, Chandler, The Inte...</td>\n      <td>[neutral, neutral, neutral, neutral, surprise,...</td>\n      <td>[also I was the point person on my company's t...</td>\n      <td>[0.0, 0.0, 0.0, 0.0, 0.0, 0.0, 0.0, 1.0, 0.0, ...</td>\n    </tr>\n    <tr>\n      <th>utterance_3</th>\n      <td>[Chandler, The Interviewer, Chandler, The Inte...</td>\n      <td>[neutral, neutral, neutral, neutral, surprise,...</td>\n      <td>[also I was the point person on my company's t...</td>\n      <td>[0.0, 0.0, 0.0, 0.0, 0.0, 0.0, 0.0, 0.0, 0.0, ...</td>\n    </tr>\n    <tr>\n      <th>utterance_4</th>\n      <td>[Joey, Rachel, Joey, Rachel]</td>\n      <td>[surprise, sadness, surprise, fear]</td>\n      <td>[But then who? The waitress I went out with la...</td>\n      <td>[0.0, 0.0, 1.0, 0.0]</td>\n    </tr>\n    <tr>\n      <th>...</th>\n      <td>...</td>\n      <td>...</td>\n      <td>...</td>\n      <td>...</td>\n    </tr>\n    <tr>\n      <th>utterance_3995</th>\n      <td>[Chandler, All, Monica, Chandler, Ross, Chandl...</td>\n      <td>[neutral, joy, neutral, neutral, surprise, dis...</td>\n      <td>[Hey., Hey!, So how was Joan?, I broke up with...</td>\n      <td>[0.0, 0.0, 0.0, 0.0, 0.0, 0.0, 0.0, 0.0, 0.0, ...</td>\n    </tr>\n    <tr>\n      <th>utterance_3996</th>\n      <td>[Chandler, All, Monica, Chandler, Ross, Chandl...</td>\n      <td>[neutral, joy, neutral, neutral, surprise, dis...</td>\n      <td>[Hey., Hey!, So how was Joan?, I broke up with...</td>\n      <td>[0.0, 0.0, 0.0, 0.0, 0.0, 0.0, 0.0, 0.0, 0.0, ...</td>\n    </tr>\n    <tr>\n      <th>utterance_3997</th>\n      <td>[Chandler, All, Monica, Chandler, Ross, Chandl...</td>\n      <td>[neutral, joy, neutral, neutral, surprise, dis...</td>\n      <td>[Hey., Hey!, So how was Joan?, I broke up with...</td>\n      <td>[0.0, 0.0, 0.0, 0.0, 0.0, 0.0, 0.0, 0.0, 0.0, ...</td>\n    </tr>\n    <tr>\n      <th>utterance_3998</th>\n      <td>[Chandler, All, Monica, Chandler, Ross, Chandl...</td>\n      <td>[neutral, joy, neutral, neutral, surprise, dis...</td>\n      <td>[Hey., Hey!, So how was Joan?, I broke up with...</td>\n      <td>[0.0, 0.0, 0.0, 0.0, 0.0, 0.0, 0.0, 0.0, 0.0, ...</td>\n    </tr>\n    <tr>\n      <th>utterance_3999</th>\n      <td>[Chandler, All, Monica, Chandler, Ross, Chandl...</td>\n      <td>[neutral, joy, neutral, neutral, surprise, dis...</td>\n      <td>[Hey., Hey!, So how was Joan?, I broke up with...</td>\n      <td>[0.0, 0.0, 0.0, 0.0, 0.0, 0.0, 0.0, 0.0, 0.0, ...</td>\n    </tr>\n  </tbody>\n</table>\n<p>4000 rows × 4 columns</p>\n</div>"
     },
     "execution_count": 53,
     "metadata": {},
     "output_type": "execute_result"
    }
   ],
   "source": [
    "df = pd.read_json(DATASET_PATH)\n",
    "df.set_index(\"episode\", inplace=True)\n",
    "\n",
    "df\n"
   ],
   "metadata": {
    "collapsed": false,
    "ExecuteTime": {
     "end_time": "2024-02-22T13:05:42.167889084Z",
     "start_time": "2024-02-22T13:05:42.058454858Z"
    }
   },
   "id": "204c1960d2293b56",
   "execution_count": 53
  },
  {
   "cell_type": "markdown",
   "source": [
    "### Taking a look to same utterance examples"
   ],
   "metadata": {
    "collapsed": false
   },
   "id": "27e0c6c3c48c869"
  },
  {
   "cell_type": "code",
   "execution_count": 7,
   "outputs": [
    {
     "name": "stdout",
     "output_type": "stream",
     "text": [
      "Utterance 6\n"
     ]
    },
    {
     "data": {
      "text/plain": "  speakers  emotions                                         utterances  \\\n0     Joey  surprise  But then who? The waitress I went out with las...   \n1   Rachel   sadness                               You know? Forget it!   \n2     Joey  surprise  No-no-no-no, no! Who, who were you talking about?   \n3   Rachel      fear           No, I-I-I-I don't, I actually don't know   \n4     Joey   neutral                                                Ok!   \n5     Joey   neutral                                 All right, well...   \n6   Rachel   neutral                                        Yeah, sure!   \n\n  triggers  \n0      0.0  \n1      0.0  \n2      0.0  \n3      0.0  \n4      1.0  \n5      1.0  \n6      0.0  ",
      "text/html": "<div>\n<style scoped>\n    .dataframe tbody tr th:only-of-type {\n        vertical-align: middle;\n    }\n\n    .dataframe tbody tr th {\n        vertical-align: top;\n    }\n\n    .dataframe thead th {\n        text-align: right;\n    }\n</style>\n<table border=\"1\" class=\"dataframe\">\n  <thead>\n    <tr style=\"text-align: right;\">\n      <th></th>\n      <th>speakers</th>\n      <th>emotions</th>\n      <th>utterances</th>\n      <th>triggers</th>\n    </tr>\n  </thead>\n  <tbody>\n    <tr>\n      <th>0</th>\n      <td>Joey</td>\n      <td>surprise</td>\n      <td>But then who? The waitress I went out with las...</td>\n      <td>0.0</td>\n    </tr>\n    <tr>\n      <th>1</th>\n      <td>Rachel</td>\n      <td>sadness</td>\n      <td>You know? Forget it!</td>\n      <td>0.0</td>\n    </tr>\n    <tr>\n      <th>2</th>\n      <td>Joey</td>\n      <td>surprise</td>\n      <td>No-no-no-no, no! Who, who were you talking about?</td>\n      <td>0.0</td>\n    </tr>\n    <tr>\n      <th>3</th>\n      <td>Rachel</td>\n      <td>fear</td>\n      <td>No, I-I-I-I don't, I actually don't know</td>\n      <td>0.0</td>\n    </tr>\n    <tr>\n      <th>4</th>\n      <td>Joey</td>\n      <td>neutral</td>\n      <td>Ok!</td>\n      <td>1.0</td>\n    </tr>\n    <tr>\n      <th>5</th>\n      <td>Joey</td>\n      <td>neutral</td>\n      <td>All right, well...</td>\n      <td>1.0</td>\n    </tr>\n    <tr>\n      <th>6</th>\n      <td>Rachel</td>\n      <td>neutral</td>\n      <td>Yeah, sure!</td>\n      <td>0.0</td>\n    </tr>\n  </tbody>\n</table>\n</div>"
     },
     "metadata": {},
     "output_type": "display_data"
    },
    {
     "name": "stdout",
     "output_type": "stream",
     "text": [
      "\n",
      "Utterance 456\n"
     ]
    },
    {
     "data": {
      "text/plain": "       speakers  emotions                                         utterances  \\\n0          Kate       joy                             Become a drama critic!   \n1  The Director   sadness          I am hurt!  A plague on both your houses!   \n2          Kate   sadness  By the way, he dumped me tonight after he read...   \n3          Joey   disgust                                        Oh, classy.   \n4          Kate   sadness  Yep! I sure know how to pick em, huh? Y'know ...   \n5          Joey     anger               Wow! Yeah I ah, I gave up a job too.   \n6          Kate  surprise                                      Really. What?   \n7          Joey     anger                               Uh, de-clawing cats.   \n8          Joey   neutral                                 Hey, tell ya what.   \n\n  triggers  \n0      0.0  \n1      0.0  \n2      0.0  \n3      0.0  \n4      0.0  \n5      0.0  \n6      0.0  \n7      0.0  \n8      0.0  ",
      "text/html": "<div>\n<style scoped>\n    .dataframe tbody tr th:only-of-type {\n        vertical-align: middle;\n    }\n\n    .dataframe tbody tr th {\n        vertical-align: top;\n    }\n\n    .dataframe thead th {\n        text-align: right;\n    }\n</style>\n<table border=\"1\" class=\"dataframe\">\n  <thead>\n    <tr style=\"text-align: right;\">\n      <th></th>\n      <th>speakers</th>\n      <th>emotions</th>\n      <th>utterances</th>\n      <th>triggers</th>\n    </tr>\n  </thead>\n  <tbody>\n    <tr>\n      <th>0</th>\n      <td>Kate</td>\n      <td>joy</td>\n      <td>Become a drama critic!</td>\n      <td>0.0</td>\n    </tr>\n    <tr>\n      <th>1</th>\n      <td>The Director</td>\n      <td>sadness</td>\n      <td>I am hurt!  A plague on both your houses!</td>\n      <td>0.0</td>\n    </tr>\n    <tr>\n      <th>2</th>\n      <td>Kate</td>\n      <td>sadness</td>\n      <td>By the way, he dumped me tonight after he read...</td>\n      <td>0.0</td>\n    </tr>\n    <tr>\n      <th>3</th>\n      <td>Joey</td>\n      <td>disgust</td>\n      <td>Oh, classy.</td>\n      <td>0.0</td>\n    </tr>\n    <tr>\n      <th>4</th>\n      <td>Kate</td>\n      <td>sadness</td>\n      <td>Yep! I sure know how to pick em, huh? Y'know ...</td>\n      <td>0.0</td>\n    </tr>\n    <tr>\n      <th>5</th>\n      <td>Joey</td>\n      <td>anger</td>\n      <td>Wow! Yeah I ah, I gave up a job too.</td>\n      <td>0.0</td>\n    </tr>\n    <tr>\n      <th>6</th>\n      <td>Kate</td>\n      <td>surprise</td>\n      <td>Really. What?</td>\n      <td>0.0</td>\n    </tr>\n    <tr>\n      <th>7</th>\n      <td>Joey</td>\n      <td>anger</td>\n      <td>Uh, de-clawing cats.</td>\n      <td>0.0</td>\n    </tr>\n    <tr>\n      <th>8</th>\n      <td>Joey</td>\n      <td>neutral</td>\n      <td>Hey, tell ya what.</td>\n      <td>0.0</td>\n    </tr>\n  </tbody>\n</table>\n</div>"
     },
     "metadata": {},
     "output_type": "display_data"
    },
    {
     "name": "stdout",
     "output_type": "stream",
     "text": [
      "\n",
      "Utterance 2005\n"
     ]
    },
    {
     "data": {
      "text/plain": "   speakers  emotions                                         utterances  \\\n0  Chandler   neutral                              Where you going, Joe?   \n1      Joey   neutral                                        For a walk.   \n2  Chandler   neutral                        Oh. You mind if I join you?   \n3      Joey   neutral  Actually, that will be long. You know, I reall...   \n4  Chandler  surprise                             Your thoughts? Plural?   \n5      Joey       joy  Allright, fine, I only have one thought! It's ...   \n\n  triggers  \n0      0.0  \n1      0.0  \n2      0.0  \n3      0.0  \n4      1.0  \n5      1.0  ",
      "text/html": "<div>\n<style scoped>\n    .dataframe tbody tr th:only-of-type {\n        vertical-align: middle;\n    }\n\n    .dataframe tbody tr th {\n        vertical-align: top;\n    }\n\n    .dataframe thead th {\n        text-align: right;\n    }\n</style>\n<table border=\"1\" class=\"dataframe\">\n  <thead>\n    <tr style=\"text-align: right;\">\n      <th></th>\n      <th>speakers</th>\n      <th>emotions</th>\n      <th>utterances</th>\n      <th>triggers</th>\n    </tr>\n  </thead>\n  <tbody>\n    <tr>\n      <th>0</th>\n      <td>Chandler</td>\n      <td>neutral</td>\n      <td>Where you going, Joe?</td>\n      <td>0.0</td>\n    </tr>\n    <tr>\n      <th>1</th>\n      <td>Joey</td>\n      <td>neutral</td>\n      <td>For a walk.</td>\n      <td>0.0</td>\n    </tr>\n    <tr>\n      <th>2</th>\n      <td>Chandler</td>\n      <td>neutral</td>\n      <td>Oh. You mind if I join you?</td>\n      <td>0.0</td>\n    </tr>\n    <tr>\n      <th>3</th>\n      <td>Joey</td>\n      <td>neutral</td>\n      <td>Actually, that will be long. You know, I reall...</td>\n      <td>0.0</td>\n    </tr>\n    <tr>\n      <th>4</th>\n      <td>Chandler</td>\n      <td>surprise</td>\n      <td>Your thoughts? Plural?</td>\n      <td>1.0</td>\n    </tr>\n    <tr>\n      <th>5</th>\n      <td>Joey</td>\n      <td>joy</td>\n      <td>Allright, fine, I only have one thought! It's ...</td>\n      <td>1.0</td>\n    </tr>\n  </tbody>\n</table>\n</div>"
     },
     "metadata": {},
     "output_type": "display_data"
    },
    {
     "name": "stdout",
     "output_type": "stream",
     "text": []
    }
   ],
   "source": [
    "display_utterance(dataframe=df, utterance_id='utterance_6')\n",
    "display_utterance(dataframe=df, utterance_id='utterance_456')\n",
    "display_utterance(dataframe=df, utterance_id='utterance_2005')\n"
   ],
   "metadata": {
    "collapsed": false,
    "ExecuteTime": {
     "end_time": "2024-02-22T09:44:15.961964935Z",
     "start_time": "2024-02-22T09:44:15.919635563Z"
    }
   },
   "id": "621ea6ad4b24d43c"
  },
  {
   "cell_type": "markdown",
   "source": [
    "[START] frase1_dialogo1 [SEP] frase2_dialogo1 [SEP] ... [END]\n",
    "[START] frase1_dialogo2 [SEP] ...\n",
    "...\n",
    "\n",
    "Frase, speaker, id_dialogo"
   ],
   "metadata": {
    "collapsed": false
   },
   "id": "f240abc50e5599d4"
  },
  {
   "cell_type": "markdown",
   "source": [
    "### Removing NaN Values"
   ],
   "metadata": {
    "collapsed": false
   },
   "id": "4d423123f1890bb6"
  },
  {
   "cell_type": "code",
   "outputs": [
    {
     "name": "stdout",
     "output_type": "stream",
     "text": [
      "Before: 9 NaN values\n",
      "After: 0 NaN values\n"
     ]
    }
   ],
   "source": [
    "# removing NaN values\n",
    "nan_count_before = df[\"triggers\"].apply(lambda lst: sum(pd.isna(x) for x in lst)).sum()\n",
    "df['triggers'] = df['triggers'].apply(replace_nan_with_zero)\n",
    "nan_count_after = df[\"triggers\"].apply(lambda lst: sum(pd.isna(x) for x in lst)).sum()\n",
    "\n",
    "print(f\"Before: {nan_count_before} NaN values\")\n",
    "print(f\"After: {nan_count_after} NaN values\")\n"
   ],
   "metadata": {
    "collapsed": false,
    "ExecuteTime": {
     "end_time": "2024-02-22T09:33:23.728470939Z",
     "start_time": "2024-02-22T09:33:23.663553683Z"
    }
   },
   "id": "faa3e0927a81e07",
   "execution_count": 7
  },
  {
   "cell_type": "markdown",
   "source": [
    "### Analyzing the dataset"
   ],
   "metadata": {
    "collapsed": false
   },
   "id": "5af4d01b821c8f96"
  },
  {
   "cell_type": "markdown",
   "source": [
    "#### Utterances Analysis"
   ],
   "metadata": {
    "collapsed": false
   },
   "id": "474eaf8aef6257ee"
  },
  {
   "cell_type": "code",
   "execution_count": 8,
   "outputs": [
    {
     "name": "stdout",
     "output_type": "stream",
     "text": [
      "Number of unique speakers: 231\n",
      "\n",
      "Minimum number of speakers in an utterance: 1\n",
      "Maximum number of speakers in an utterance: 8\n",
      "\n",
      "Minimum number of sentences in an utterance: 2\n",
      "Maximum number of sentences in an utterance: 24\n"
     ]
    }
   ],
   "source": [
    "total_n_speakers = list(set(df['speakers'].explode()))\n",
    "speakers = {'min_speakers': 'inf', 'max_speakers': '-inf'}\n",
    "utterances = {'length_min': 'inf', 'length_max': '-inf'}\n",
    "\n",
    "num_unique_speakers = df['speakers'].apply(lambda x: len(set(x)))\n",
    "speakers['min_speakers'] = num_unique_speakers.min()\n",
    "speakers['max_speakers'] = num_unique_speakers.max()\n",
    "\n",
    "len_utterances = df['utterances'].str.len() \n",
    "utterances['length_min'] = len_utterances.min()\n",
    "utterances['length_max'] = len_utterances.max()\n",
    "    \n",
    "        \n",
    "print(f\"Number of unique speakers: {len(total_n_speakers)}\\n\")\n",
    "print(f\"Minimum number of speakers in an utterance: {speakers['min_speakers']}\")\n",
    "print(f\"Maximum number of speakers in an utterance: {speakers['max_speakers']}\\n\")\n",
    "print(f\"Minimum number of sentences in an utterance: {utterances['length_min']}\")\n",
    "print(f\"Maximum number of sentences in an utterance: {utterances['length_max']}\")\n"
   ],
   "metadata": {
    "collapsed": false,
    "ExecuteTime": {
     "end_time": "2024-02-22T09:33:23.800470853Z",
     "start_time": "2024-02-22T09:33:23.696507310Z"
    }
   },
   "id": "32ab77d01de505f2"
  },
  {
   "cell_type": "markdown",
   "source": [
    "#### Speaker Emotion distribution  "
   ],
   "metadata": {
    "collapsed": false
   },
   "id": "b85097330dd5826e"
  },
  {
   "cell_type": "code",
   "outputs": [
    {
     "data": {
      "text/plain": "emotions            anger  disgust  fear   joy  neutral  sadness  surprise\nspeakers                                                                  \nJoey                  661      149   143  1045     2418      309       841\nRoss                  541       72   180   967     2280      429       568\nChandler              553      193   203   715     2157      287       560\nRachel                539      146   178   929     1907      566       756\nPhoebe                612      117   104   770     1906      409       556\n...                   ...      ...   ...   ...      ...      ...       ...\nAnother Tour Guide      4        0     0     0        0        0         0\nBoy in the Cape         1        0     0     0        0        0         0\nMonica and Phoebe       1        0     0     0        0        0         0\nPeter                   1        0     0     0        0        0         0\nRaymond                 1        0     0     0        0        0         0\n\n[231 rows x 7 columns]",
      "text/html": "<div>\n<style scoped>\n    .dataframe tbody tr th:only-of-type {\n        vertical-align: middle;\n    }\n\n    .dataframe tbody tr th {\n        vertical-align: top;\n    }\n\n    .dataframe thead th {\n        text-align: right;\n    }\n</style>\n<table border=\"1\" class=\"dataframe\">\n  <thead>\n    <tr style=\"text-align: right;\">\n      <th>emotions</th>\n      <th>anger</th>\n      <th>disgust</th>\n      <th>fear</th>\n      <th>joy</th>\n      <th>neutral</th>\n      <th>sadness</th>\n      <th>surprise</th>\n    </tr>\n    <tr>\n      <th>speakers</th>\n      <th></th>\n      <th></th>\n      <th></th>\n      <th></th>\n      <th></th>\n      <th></th>\n      <th></th>\n    </tr>\n  </thead>\n  <tbody>\n    <tr>\n      <th>Joey</th>\n      <td>661</td>\n      <td>149</td>\n      <td>143</td>\n      <td>1045</td>\n      <td>2418</td>\n      <td>309</td>\n      <td>841</td>\n    </tr>\n    <tr>\n      <th>Ross</th>\n      <td>541</td>\n      <td>72</td>\n      <td>180</td>\n      <td>967</td>\n      <td>2280</td>\n      <td>429</td>\n      <td>568</td>\n    </tr>\n    <tr>\n      <th>Chandler</th>\n      <td>553</td>\n      <td>193</td>\n      <td>203</td>\n      <td>715</td>\n      <td>2157</td>\n      <td>287</td>\n      <td>560</td>\n    </tr>\n    <tr>\n      <th>Rachel</th>\n      <td>539</td>\n      <td>146</td>\n      <td>178</td>\n      <td>929</td>\n      <td>1907</td>\n      <td>566</td>\n      <td>756</td>\n    </tr>\n    <tr>\n      <th>Phoebe</th>\n      <td>612</td>\n      <td>117</td>\n      <td>104</td>\n      <td>770</td>\n      <td>1906</td>\n      <td>409</td>\n      <td>556</td>\n    </tr>\n    <tr>\n      <th>...</th>\n      <td>...</td>\n      <td>...</td>\n      <td>...</td>\n      <td>...</td>\n      <td>...</td>\n      <td>...</td>\n      <td>...</td>\n    </tr>\n    <tr>\n      <th>Another Tour Guide</th>\n      <td>4</td>\n      <td>0</td>\n      <td>0</td>\n      <td>0</td>\n      <td>0</td>\n      <td>0</td>\n      <td>0</td>\n    </tr>\n    <tr>\n      <th>Boy in the Cape</th>\n      <td>1</td>\n      <td>0</td>\n      <td>0</td>\n      <td>0</td>\n      <td>0</td>\n      <td>0</td>\n      <td>0</td>\n    </tr>\n    <tr>\n      <th>Monica and Phoebe</th>\n      <td>1</td>\n      <td>0</td>\n      <td>0</td>\n      <td>0</td>\n      <td>0</td>\n      <td>0</td>\n      <td>0</td>\n    </tr>\n    <tr>\n      <th>Peter</th>\n      <td>1</td>\n      <td>0</td>\n      <td>0</td>\n      <td>0</td>\n      <td>0</td>\n      <td>0</td>\n      <td>0</td>\n    </tr>\n    <tr>\n      <th>Raymond</th>\n      <td>1</td>\n      <td>0</td>\n      <td>0</td>\n      <td>0</td>\n      <td>0</td>\n      <td>0</td>\n      <td>0</td>\n    </tr>\n  </tbody>\n</table>\n<p>231 rows × 7 columns</p>\n</div>"
     },
     "execution_count": 52,
     "metadata": {},
     "output_type": "execute_result"
    }
   ],
   "source": [
    "produce_speaker_emotion_distribution(df)\n"
   ],
   "metadata": {
    "collapsed": false,
    "ExecuteTime": {
     "end_time": "2024-02-22T11:05:58.414426894Z",
     "start_time": "2024-02-22T11:05:58.370410806Z"
    }
   },
   "id": "cdc77ae02d19acfd",
   "execution_count": 52
  },
  {
   "cell_type": "code",
   "execution_count": 9,
   "outputs": [
    {
     "data": {
      "text/plain": "                                                         speakers  \\\nindex                                                               \nutterance_1943           [Phoebe, Rachel, Phoebe, Rachel, Phoebe]   \nutterance_3949  [Monica, Monica, Phoebe, Joey, Joey, Joey, Rac...   \nutterance_767             [Danny, Joey, Chandler, Joey, Chandler]   \nutterance_2319  [Kim, Nancy, Rachel, Kim, Rachel, Nancy, Kim, ...   \nutterance_2563       [Monica, Chandler, Monica, Chandler, Monica]   \n\n                                                         emotions  \\\nindex                                                               \nutterance_1943         [surprise, neutral, joy, neutral, neutral]   \nutterance_3949  [disgust, disgust, anger, sadness, surprise, a...   \nutterance_767      [disgust, neutral, surprise, neutral, disgust]   \nutterance_2319  [neutral, joy, joy, neutral, neutral, neutral,...   \nutterance_2563                  [joy, joy, sadness, neutral, joy]   \n\n                                                       utterances  \\\nindex                                                               \nutterance_1943  [Rach?, I'll be out in a second., Oh.  It's ju...   \nutterance_3949  [Dad, please don't pick your teeth out here!, ...   \nutterance_767   [so we finally get to the top of the mountain ...   \nutterance_2319  [So, we're decided, no on plaid, yes on pink?,...   \nutterance_2563  [You're so efficient. I love you!, Let's go!, ...   \n\n                                                         triggers  \nindex                                                              \nutterance_1943                          [0.0, 0.0, 0.0, 1.0, 1.0]  \nutterance_3949  [0.0, 0.0, 0.0, 0.0, 0.0, 0.0, 0.0, 0.0, 0.0, ...  \nutterance_767                           [0.0, 0.0, 0.0, 1.0, 1.0]  \nutterance_2319  [0.0, 0.0, 0.0, 0.0, 0.0, 0.0, 0.0, 0.0, 0.0, ...  \nutterance_2563                          [0.0, 0.0, 0.0, 1.0, 0.0]  ",
      "text/html": "<div>\n<style scoped>\n    .dataframe tbody tr th:only-of-type {\n        vertical-align: middle;\n    }\n\n    .dataframe tbody tr th {\n        vertical-align: top;\n    }\n\n    .dataframe thead th {\n        text-align: right;\n    }\n</style>\n<table border=\"1\" class=\"dataframe\">\n  <thead>\n    <tr style=\"text-align: right;\">\n      <th></th>\n      <th>speakers</th>\n      <th>emotions</th>\n      <th>utterances</th>\n      <th>triggers</th>\n    </tr>\n    <tr>\n      <th>index</th>\n      <th></th>\n      <th></th>\n      <th></th>\n      <th></th>\n    </tr>\n  </thead>\n  <tbody>\n    <tr>\n      <th>utterance_1943</th>\n      <td>[Phoebe, Rachel, Phoebe, Rachel, Phoebe]</td>\n      <td>[surprise, neutral, joy, neutral, neutral]</td>\n      <td>[Rach?, I'll be out in a second., Oh.  It's ju...</td>\n      <td>[0.0, 0.0, 0.0, 1.0, 1.0]</td>\n    </tr>\n    <tr>\n      <th>utterance_3949</th>\n      <td>[Monica, Monica, Phoebe, Joey, Joey, Joey, Rac...</td>\n      <td>[disgust, disgust, anger, sadness, surprise, a...</td>\n      <td>[Dad, please don't pick your teeth out here!, ...</td>\n      <td>[0.0, 0.0, 0.0, 0.0, 0.0, 0.0, 0.0, 0.0, 0.0, ...</td>\n    </tr>\n    <tr>\n      <th>utterance_767</th>\n      <td>[Danny, Joey, Chandler, Joey, Chandler]</td>\n      <td>[disgust, neutral, surprise, neutral, disgust]</td>\n      <td>[so we finally get to the top of the mountain ...</td>\n      <td>[0.0, 0.0, 0.0, 1.0, 1.0]</td>\n    </tr>\n    <tr>\n      <th>utterance_2319</th>\n      <td>[Kim, Nancy, Rachel, Kim, Rachel, Nancy, Kim, ...</td>\n      <td>[neutral, joy, joy, neutral, neutral, neutral,...</td>\n      <td>[So, we're decided, no on plaid, yes on pink?,...</td>\n      <td>[0.0, 0.0, 0.0, 0.0, 0.0, 0.0, 0.0, 0.0, 0.0, ...</td>\n    </tr>\n    <tr>\n      <th>utterance_2563</th>\n      <td>[Monica, Chandler, Monica, Chandler, Monica]</td>\n      <td>[joy, joy, sadness, neutral, joy]</td>\n      <td>[You're so efficient. I love you!, Let's go!, ...</td>\n      <td>[0.0, 0.0, 0.0, 1.0, 0.0]</td>\n    </tr>\n  </tbody>\n</table>\n</div>"
     },
     "metadata": {},
     "output_type": "display_data"
    },
    {
     "data": {
      "text/plain": "                                                         speakers  \\\nindex                                                               \nutterance_1618    [Frank, Phoebe, Phoebe, Phoebe, Phoebe, Phoebe]   \nutterance_3787                   [Phoebe, Rachel, Phoebe, Phoebe]   \nutterance_1983   [Rachel, Rachel, Monica, Rachel, Monica, Rachel]   \nutterance_2117          [Chandler, All, Chandler, Joey, Chandler]   \nutterance_626   [Joey, Monica, Rachel, Monica, Rachel, Rachel,...   \n\n                                                         emotions  \\\nindex                                                               \nutterance_1618    [neutral, disgust, neutral, joy, surprise, joy]   \nutterance_3787             [neutral, surprise, surprise, sadness]   \nutterance_1983  [surprise, neutral, neutral, surprise, neutral...   \nutterance_2117    [neutral, neutral, surprise, surprise, neutral]   \nutterance_626   [neutral, joy, joy, neutral, surprise, anger, ...   \n\n                                                       utterances  \\\nindex                                                               \nutterance_1618  [Well, I don't think this, y'know., No, no, no...   \nutterance_3787  [Y'know, you're friend's getting married, it's...   \nutterance_1983  [Oh Mon, listen I have to ask!, Okay, Joey Tri...   \nutterance_2117  [Alright, so I'm back in high school, I'm stan...   \nutterance_626   [We did?, You owe me 20 bucks., Thank you. Tha...   \n\n                                                         triggers  \nindex                                                              \nutterance_1618                     [0.0, 0.0, 0.0, 0.0, 0.0, 0.0]  \nutterance_3787                               [0.0, 0.0, 0.0, 1.0]  \nutterance_1983                     [0.0, 0.0, 0.0, 0.0, 1.0, 0.0]  \nutterance_2117                          [0.0, 0.0, 0.0, 1.0, 0.0]  \nutterance_626   [0.0, 0.0, 0.0, 0.0, 0.0, 0.0, 0.0, 0.0, 0.0, ...  ",
      "text/html": "<div>\n<style scoped>\n    .dataframe tbody tr th:only-of-type {\n        vertical-align: middle;\n    }\n\n    .dataframe tbody tr th {\n        vertical-align: top;\n    }\n\n    .dataframe thead th {\n        text-align: right;\n    }\n</style>\n<table border=\"1\" class=\"dataframe\">\n  <thead>\n    <tr style=\"text-align: right;\">\n      <th></th>\n      <th>speakers</th>\n      <th>emotions</th>\n      <th>utterances</th>\n      <th>triggers</th>\n    </tr>\n    <tr>\n      <th>index</th>\n      <th></th>\n      <th></th>\n      <th></th>\n      <th></th>\n    </tr>\n  </thead>\n  <tbody>\n    <tr>\n      <th>utterance_1618</th>\n      <td>[Frank, Phoebe, Phoebe, Phoebe, Phoebe, Phoebe]</td>\n      <td>[neutral, disgust, neutral, joy, surprise, joy]</td>\n      <td>[Well, I don't think this, y'know., No, no, no...</td>\n      <td>[0.0, 0.0, 0.0, 0.0, 0.0, 0.0]</td>\n    </tr>\n    <tr>\n      <th>utterance_3787</th>\n      <td>[Phoebe, Rachel, Phoebe, Phoebe]</td>\n      <td>[neutral, surprise, surprise, sadness]</td>\n      <td>[Y'know, you're friend's getting married, it's...</td>\n      <td>[0.0, 0.0, 0.0, 1.0]</td>\n    </tr>\n    <tr>\n      <th>utterance_1983</th>\n      <td>[Rachel, Rachel, Monica, Rachel, Monica, Rachel]</td>\n      <td>[surprise, neutral, neutral, surprise, neutral...</td>\n      <td>[Oh Mon, listen I have to ask!, Okay, Joey Tri...</td>\n      <td>[0.0, 0.0, 0.0, 0.0, 1.0, 0.0]</td>\n    </tr>\n    <tr>\n      <th>utterance_2117</th>\n      <td>[Chandler, All, Chandler, Joey, Chandler]</td>\n      <td>[neutral, neutral, surprise, surprise, neutral]</td>\n      <td>[Alright, so I'm back in high school, I'm stan...</td>\n      <td>[0.0, 0.0, 0.0, 1.0, 0.0]</td>\n    </tr>\n    <tr>\n      <th>utterance_626</th>\n      <td>[Joey, Monica, Rachel, Monica, Rachel, Rachel,...</td>\n      <td>[neutral, joy, joy, neutral, surprise, anger, ...</td>\n      <td>[We did?, You owe me 20 bucks., Thank you. Tha...</td>\n      <td>[0.0, 0.0, 0.0, 0.0, 0.0, 0.0, 0.0, 0.0, 0.0, ...</td>\n    </tr>\n  </tbody>\n</table>\n</div>"
     },
     "metadata": {},
     "output_type": "display_data"
    },
    {
     "data": {
      "text/plain": "                                                         speakers  \\\nindex                                                               \nutterance_109   [Monica, Chandler, Monica, Chandler, Monica, M...   \nutterance_2491  [Chandler, Monica, Chandler, Monica, Chandler,...   \nutterance_1914  [Rachel, Phoebe, Rachel, Phoebe, Rachel, Phoeb...   \nutterance_1376  [Ross, Rachel, Ross, Rachel, Ross, Chandler, R...   \nutterance_1667                       [Joey, Rachel, Joey, Rachel]   \n\n                                                         emotions  \\\nindex                                                               \nutterance_109      [surprise, joy, neutral, joy, surprise, anger]   \nutterance_2491  [sadness, disgust, fear, anger, sadness, neutr...   \nutterance_1914  [joy, joy, neutral, neutral, neutral, neutral,...   \nutterance_1376  [neutral, neutral, neutral, surprise, neutral,...   \nutterance_1667              [neutral, neutral, neutral, surprise]   \n\n                                                       utterances  \\\nindex                                                               \nutterance_109   [Wow! That Mike thing was interesting! I don't...   \nutterance_2491  [I am so, so, so, so sorry!, Uh-huh., And I wi...   \nutterance_1914  [Hi Pheebs!, Hi!, How are ya?, Good., Umm Phee...   \nutterance_1376  [Okay, I've got three of my five., Three of yo...   \nutterance_1667  [Oh yeah-yeah, the lobster., Yeah, I mean I wa...   \n\n                                                         triggers  \nindex                                                              \nutterance_109                      [0.0, 0.0, 0.0, 1.0, 1.0, 1.0]  \nutterance_2491      [0.0, 0.0, 0.0, 0.0, 0.0, 0.0, 0.0, 1.0, 0.0]  \nutterance_1914  [0.0, 0.0, 0.0, 0.0, 0.0, 0.0, 0.0, 0.0, 1.0, ...  \nutterance_1376  [0.0, 0.0, 0.0, 0.0, 0.0, 0.0, 1.0, 1.0, 1.0, ...  \nutterance_1667                               [0.0, 0.0, 1.0, 0.0]  ",
      "text/html": "<div>\n<style scoped>\n    .dataframe tbody tr th:only-of-type {\n        vertical-align: middle;\n    }\n\n    .dataframe tbody tr th {\n        vertical-align: top;\n    }\n\n    .dataframe thead th {\n        text-align: right;\n    }\n</style>\n<table border=\"1\" class=\"dataframe\">\n  <thead>\n    <tr style=\"text-align: right;\">\n      <th></th>\n      <th>speakers</th>\n      <th>emotions</th>\n      <th>utterances</th>\n      <th>triggers</th>\n    </tr>\n    <tr>\n      <th>index</th>\n      <th></th>\n      <th></th>\n      <th></th>\n      <th></th>\n    </tr>\n  </thead>\n  <tbody>\n    <tr>\n      <th>utterance_109</th>\n      <td>[Monica, Chandler, Monica, Chandler, Monica, M...</td>\n      <td>[surprise, joy, neutral, joy, surprise, anger]</td>\n      <td>[Wow! That Mike thing was interesting! I don't...</td>\n      <td>[0.0, 0.0, 0.0, 1.0, 1.0, 1.0]</td>\n    </tr>\n    <tr>\n      <th>utterance_2491</th>\n      <td>[Chandler, Monica, Chandler, Monica, Chandler,...</td>\n      <td>[sadness, disgust, fear, anger, sadness, neutr...</td>\n      <td>[I am so, so, so, so sorry!, Uh-huh., And I wi...</td>\n      <td>[0.0, 0.0, 0.0, 0.0, 0.0, 0.0, 0.0, 1.0, 0.0]</td>\n    </tr>\n    <tr>\n      <th>utterance_1914</th>\n      <td>[Rachel, Phoebe, Rachel, Phoebe, Rachel, Phoeb...</td>\n      <td>[joy, joy, neutral, neutral, neutral, neutral,...</td>\n      <td>[Hi Pheebs!, Hi!, How are ya?, Good., Umm Phee...</td>\n      <td>[0.0, 0.0, 0.0, 0.0, 0.0, 0.0, 0.0, 0.0, 1.0, ...</td>\n    </tr>\n    <tr>\n      <th>utterance_1376</th>\n      <td>[Ross, Rachel, Ross, Rachel, Ross, Chandler, R...</td>\n      <td>[neutral, neutral, neutral, surprise, neutral,...</td>\n      <td>[Okay, I've got three of my five., Three of yo...</td>\n      <td>[0.0, 0.0, 0.0, 0.0, 0.0, 0.0, 1.0, 1.0, 1.0, ...</td>\n    </tr>\n    <tr>\n      <th>utterance_1667</th>\n      <td>[Joey, Rachel, Joey, Rachel]</td>\n      <td>[neutral, neutral, neutral, surprise]</td>\n      <td>[Oh yeah-yeah, the lobster., Yeah, I mean I wa...</td>\n      <td>[0.0, 0.0, 1.0, 0.0]</td>\n    </tr>\n  </tbody>\n</table>\n</div>"
     },
     "metadata": {},
     "output_type": "display_data"
    }
   ],
   "source": [
    "train_df, val_df, test_df = split_dataset(df)\n",
    "\n",
    "display(train_df.head())\n",
    "display(val_df.head())\n",
    "display(test_df.head())\n"
   ],
   "metadata": {
    "collapsed": false,
    "ExecuteTime": {
     "start_time": "2024-02-22T09:33:23.741264801Z"
    }
   },
   "id": "f57ca9b8c431fc6"
  },
  {
   "cell_type": "code",
   "execution_count": 10,
   "outputs": [
    {
     "data": {
      "text/plain": "<Figure size 1800x600 with 3 Axes>",
      "image/png": "[encoded data removed]"
     },
     "metadata": {},
     "output_type": "display_data"
    }
   ],
   "source": [
    "plot_emotion_distribution(train_df, val_df, test_df)\n"
   ],
   "metadata": {
    "collapsed": false,
    "ExecuteTime": {
     "start_time": "2024-02-22T09:33:23.766821533Z"
    }
   },
   "id": "f4cd06df1b333247"
  },
  {
   "cell_type": "markdown",
   "source": [
    "## Models"
   ],
   "metadata": {
    "collapsed": false
   },
   "id": "ce590baf6799613b"
  },
  {
   "cell_type": "markdown",
   "source": [
    "\n",
    "### Random Classifier"
   ],
   "metadata": {
    "collapsed": false
   },
   "id": "b3f2fa7809bef912"
  },
  {
   "cell_type": "code",
   "outputs": [
    {
     "data": {
      "text/plain": "   speakers  emotions                                         utterances  \\\n0    Monica  surprise  Wow! That Mike thing was interesting! I don't ...   \n1  Chandler       joy            I do! Want a hint? huh? \"I do\"  \"I do\".   \n2    Monica   neutral  Ok, I'm sensing that this is some kind of word...   \n3  Chandler       joy               David is going to propose to Phoebe.   \n4    Monica  surprise                                        What?  Why?   \n5    Monica     anger               Chandler, we have talked about this.   \n\n  triggers pred_emotions pred_triggers  \n0      0.0      surprise             0  \n1      0.0          fear             1  \n2      0.0       neutral             0  \n3      1.0       neutral             0  \n4      1.0       disgust             0  \n5      1.0           joy             1  ",
      "text/html": "<div>\n<style scoped>\n    .dataframe tbody tr th:only-of-type {\n        vertical-align: middle;\n    }\n\n    .dataframe tbody tr th {\n        vertical-align: top;\n    }\n\n    .dataframe thead th {\n        text-align: right;\n    }\n</style>\n<table border=\"1\" class=\"dataframe\">\n  <thead>\n    <tr style=\"text-align: right;\">\n      <th></th>\n      <th>speakers</th>\n      <th>emotions</th>\n      <th>utterances</th>\n      <th>triggers</th>\n      <th>pred_emotions</th>\n      <th>pred_triggers</th>\n    </tr>\n  </thead>\n  <tbody>\n    <tr>\n      <th>0</th>\n      <td>Monica</td>\n      <td>surprise</td>\n      <td>Wow! That Mike thing was interesting! I don't ...</td>\n      <td>0.0</td>\n      <td>surprise</td>\n      <td>0</td>\n    </tr>\n    <tr>\n      <th>1</th>\n      <td>Chandler</td>\n      <td>joy</td>\n      <td>I do! Want a hint? huh? \"I do\"  \"I do\".</td>\n      <td>0.0</td>\n      <td>fear</td>\n      <td>1</td>\n    </tr>\n    <tr>\n      <th>2</th>\n      <td>Monica</td>\n      <td>neutral</td>\n      <td>Ok, I'm sensing that this is some kind of word...</td>\n      <td>0.0</td>\n      <td>neutral</td>\n      <td>0</td>\n    </tr>\n    <tr>\n      <th>3</th>\n      <td>Chandler</td>\n      <td>joy</td>\n      <td>David is going to propose to Phoebe.</td>\n      <td>1.0</td>\n      <td>neutral</td>\n      <td>0</td>\n    </tr>\n    <tr>\n      <th>4</th>\n      <td>Monica</td>\n      <td>surprise</td>\n      <td>What?  Why?</td>\n      <td>1.0</td>\n      <td>disgust</td>\n      <td>0</td>\n    </tr>\n    <tr>\n      <th>5</th>\n      <td>Monica</td>\n      <td>anger</td>\n      <td>Chandler, we have talked about this.</td>\n      <td>1.0</td>\n      <td>joy</td>\n      <td>1</td>\n    </tr>\n  </tbody>\n</table>\n</div>"
     },
     "metadata": {},
     "output_type": "display_data"
    },
    {
     "name": "stdout",
     "output_type": "stream",
     "text": []
    }
   ],
   "source": [
    "# todo metric computation\n",
    "\n",
    "emotions = np.unique([item for sublist in df[\"emotions\"] for item in sublist]) # flattening and taking unique emotions\n",
    "random_classifier = RandomClassifier(emotions)\n",
    "\n",
    "pred_emotions, pred_triggers = random_classifier.predict(test_df)\n",
    "\n",
    "# esempio di print per gli scettici che non crederanno che il classifier funziona\n",
    "\n",
    "new_test_df = test_df.copy()\n",
    "new_test_df['pred_emotions'] = pred_emotions\n",
    "new_test_df['pred_triggers'] = pred_triggers\n",
    "display_utterance(dataframe=new_test_df, utterance_id=0)    "
   ],
   "metadata": {
    "collapsed": false,
    "ExecuteTime": {
     "end_time": "2024-02-22T09:33:24.209959022Z",
     "start_time": "2024-02-22T09:33:24.141034834Z"
    }
   },
   "id": "3804e348d3bb097a",
   "execution_count": 12
  },
  {
   "cell_type": "markdown",
   "source": [
    "### Majority Classifier"
   ],
   "metadata": {
    "collapsed": false
   },
   "id": "214a06bffbbf6b8d"
  },
  {
   "cell_type": "code",
   "outputs": [
    {
     "data": {
      "text/plain": "   speakers  emotions                                         utterances  \\\n0      Joey   neutral  Hi! I'm Dr. Drake Remoray and I have a few rou...   \n1       Man  surprise          Really? I've been dealing with Dr. Wells.   \n2      Joey   neutral                     I know, but I'm a neurologist.   \n3      Joey   neutral  And just to be on the safe side, Dr. Wells wan...   \n4       Man  surprise                              Dr. Wells is a woman.   \n5      Joey   neutral  That was a test. Good response. All right, ful...   \n6       Man   neutral                                  Clifford Burnett.   \n7      Joey   neutral                                     Date of birth?   \n8     Cliff   neutral                                        November 16   \n9      Joey   neutral                                               Age?   \n10    Cliff     anger  Can't you figure that out based on my date of ...   \n\n   triggers pred_emotions pred_triggers  \n0       0.0       neutral           0.0  \n1       0.0       neutral           0.0  \n2       0.0       neutral           0.0  \n3       0.0       neutral           0.0  \n4       0.0       neutral           0.0  \n5       0.0       neutral           0.0  \n6       0.0       neutral           0.0  \n7       0.0       neutral           0.0  \n8       0.0       neutral           0.0  \n9       1.0       neutral           0.0  \n10      0.0       neutral           0.0  ",
      "text/html": "<div>\n<style scoped>\n    .dataframe tbody tr th:only-of-type {\n        vertical-align: middle;\n    }\n\n    .dataframe tbody tr th {\n        vertical-align: top;\n    }\n\n    .dataframe thead th {\n        text-align: right;\n    }\n</style>\n<table border=\"1\" class=\"dataframe\">\n  <thead>\n    <tr style=\"text-align: right;\">\n      <th></th>\n      <th>speakers</th>\n      <th>emotions</th>\n      <th>utterances</th>\n      <th>triggers</th>\n      <th>pred_emotions</th>\n      <th>pred_triggers</th>\n    </tr>\n  </thead>\n  <tbody>\n    <tr>\n      <th>0</th>\n      <td>Joey</td>\n      <td>neutral</td>\n      <td>Hi! I'm Dr. Drake Remoray and I have a few rou...</td>\n      <td>0.0</td>\n      <td>neutral</td>\n      <td>0.0</td>\n    </tr>\n    <tr>\n      <th>1</th>\n      <td>Man</td>\n      <td>surprise</td>\n      <td>Really? I've been dealing with Dr. Wells.</td>\n      <td>0.0</td>\n      <td>neutral</td>\n      <td>0.0</td>\n    </tr>\n    <tr>\n      <th>2</th>\n      <td>Joey</td>\n      <td>neutral</td>\n      <td>I know, but I'm a neurologist.</td>\n      <td>0.0</td>\n      <td>neutral</td>\n      <td>0.0</td>\n    </tr>\n    <tr>\n      <th>3</th>\n      <td>Joey</td>\n      <td>neutral</td>\n      <td>And just to be on the safe side, Dr. Wells wan...</td>\n      <td>0.0</td>\n      <td>neutral</td>\n      <td>0.0</td>\n    </tr>\n    <tr>\n      <th>4</th>\n      <td>Man</td>\n      <td>surprise</td>\n      <td>Dr. Wells is a woman.</td>\n      <td>0.0</td>\n      <td>neutral</td>\n      <td>0.0</td>\n    </tr>\n    <tr>\n      <th>5</th>\n      <td>Joey</td>\n      <td>neutral</td>\n      <td>That was a test. Good response. All right, ful...</td>\n      <td>0.0</td>\n      <td>neutral</td>\n      <td>0.0</td>\n    </tr>\n    <tr>\n      <th>6</th>\n      <td>Man</td>\n      <td>neutral</td>\n      <td>Clifford Burnett.</td>\n      <td>0.0</td>\n      <td>neutral</td>\n      <td>0.0</td>\n    </tr>\n    <tr>\n      <th>7</th>\n      <td>Joey</td>\n      <td>neutral</td>\n      <td>Date of birth?</td>\n      <td>0.0</td>\n      <td>neutral</td>\n      <td>0.0</td>\n    </tr>\n    <tr>\n      <th>8</th>\n      <td>Cliff</td>\n      <td>neutral</td>\n      <td>November 16</td>\n      <td>0.0</td>\n      <td>neutral</td>\n      <td>0.0</td>\n    </tr>\n    <tr>\n      <th>9</th>\n      <td>Joey</td>\n      <td>neutral</td>\n      <td>Age?</td>\n      <td>1.0</td>\n      <td>neutral</td>\n      <td>0.0</td>\n    </tr>\n    <tr>\n      <th>10</th>\n      <td>Cliff</td>\n      <td>anger</td>\n      <td>Can't you figure that out based on my date of ...</td>\n      <td>0.0</td>\n      <td>neutral</td>\n      <td>0.0</td>\n    </tr>\n  </tbody>\n</table>\n</div>"
     },
     "metadata": {},
     "output_type": "display_data"
    },
    {
     "name": "stdout",
     "output_type": "stream",
     "text": []
    }
   ],
   "source": [
    "# todo metrics computation\n",
    "\n",
    "majority_classifier = MajorityClassifier()\n",
    "\n",
    "majority_classifier.fit(train_df)\n",
    "pred_emotions, pred_triggers = majority_classifier.predict(test_df)\n",
    "\n",
    "# esempio di print per gli scettici che non crederanno che il classifier funziona\n",
    "new_test_df = test_df.copy()\n",
    "new_test_df['pred_emotions'] = pred_emotions\n",
    "new_test_df['pred_triggers'] = pred_triggers\n",
    "display_utterance(dataframe=new_test_df, utterance_id=0)\n",
    "\n"
   ],
   "metadata": {
    "collapsed": false,
    "ExecuteTime": {
     "end_time": "2024-02-21T21:54:25.444656400Z",
     "start_time": "2024-02-21T21:54:25.340930300Z"
    }
   },
   "id": "5962c4462099f5f5",
   "execution_count": 21
  },
  {
   "cell_type": "markdown",
   "source": [
    "### Bert Models"
   ],
   "metadata": {
    "collapsed": false
   },
   "id": "a65f1dc767977391"
  },
  {
   "cell_type": "code",
   "outputs": [
    {
     "name": "stdout",
     "output_type": "stream",
     "text": [
      "Aaahhh le emozioni:  ['anger' 'disgust' 'fear' 'joy' 'neutral' 'sadness' 'surprise']\n"
     ]
    }
   ],
   "source": [
    "EMOTIONS = np.unique([item for sublist in df[\"emotions\"] for item in sublist])\n",
    "EMOTIONS_TO_INT = {i: emotion for (emotion, i) in enumerate(EMOTIONS)}\n",
    "INT_TO_EMOTIONS = {emotion: i for (emotion, i) in enumerate(EMOTIONS)}\n",
    "\n",
    "print(\"Aaahhh le emozioni: \", EMOTIONS)"
   ],
   "metadata": {
    "collapsed": false,
    "ExecuteTime": {
     "end_time": "2024-02-22T13:21:23.113282052Z",
     "start_time": "2024-02-22T13:21:23.066759641Z"
    }
   },
   "id": "11db464e396ec60f",
   "execution_count": 54
  },
  {
   "cell_type": "code",
   "outputs": [],
   "source": [
    "# first execution it downloads bert model and tokenizer, from second execution it retrieves them from local folder\n",
    "if os.path.exists(BERT_DIRECTORY):\n",
    "    bert_model, bert_tokenizer = retrieve_bert_initializers(BERT_DIRECTORY) \n",
    "else:\n",
    "    bert_model, bert_tokenizer = download_bert_initializers(BERT_DIRECTORY) "
   ],
   "metadata": {
    "collapsed": false,
    "ExecuteTime": {
     "end_time": "2024-02-21T21:51:45.791831800Z",
     "start_time": "2024-02-21T21:51:45.790702100Z"
    }
   },
   "id": "9de65890f020ffb2",
   "execution_count": null
  },
  {
   "cell_type": "code",
   "execution_count": null,
   "outputs": [],
   "source": [
    "dialogo = [\n",
    "    \"also I was the point person on my company's transition from the KL-5 to GR-6 system.\",\n",
    "    \"You must've had your hands full.\",\n",
    "    \"That I did. That I did.\",\n",
    "    \"So let's talk a little bit about your duties.\",\n",
    "    \"My duties? All right.\"\n",
    "]\n",
    "\n",
    "# Preparazione dell'input\n",
    "tokens = [bert_tokenizer.cls_token]  # Inizia con [CLS]\n",
    "for frase in dialogo:\n",
    "    tokens += bert_tokenizer.tokenize(frase) + [bert_tokenizer.sep_token]  # Aggiungi frase e [SEP]\n",
    "\n",
    "# Converti in ID e tronca se necessario\n",
    "input_ids = bert_tokenizer.convert_tokens_to_ids(tokens)[:512]  # Assicurati di non superare il limite di 512 token\n",
    "\n",
    "input_ids_tensor = torch.tensor([input_ids])\n",
    "print(np.shape(input_ids_tensor))\n",
    "print(bert_tokenizer.sep_token)\n"
   ],
   "metadata": {
    "collapsed": false,
    "ExecuteTime": {
     "end_time": "2024-02-21T21:51:45.791831800Z",
     "start_time": "2024-02-21T21:51:45.791831800Z"
    }
   },
   "id": "c862ff55fe94521c"
  },
  {
   "cell_type": "code",
   "outputs": [],
   "source": [
    "from models.bertFreezed import BertFreezed\n",
    "\n",
    "pos = [idx for idx in range(len(input_ids_tensor[0])) if input_ids_tensor[0, idx] == 102]\n",
    "print(pos)\n",
    "bertino = BertFreezed(bert_model)\n",
    "bertino(input_ids_tensor, pos)\n"
   ],
   "metadata": {
    "collapsed": false,
    "ExecuteTime": {
     "start_time": "2024-02-21T21:51:45.793141200Z"
    }
   },
   "id": "5de049ef97eb178",
   "execution_count": null
  }
 ],
 "metadata": {
  "kernelspec": {
   "display_name": "Python 3",
   "language": "python",
   "name": "python3"
  },
  "language_info": {
   "codemirror_mode": {
    "name": "ipython",
    "version": 2
   },
   "file_extension": ".py",
   "mimetype": "text/x-python",
   "name": "python",
   "nbconvert_exporter": "python",
   "pygments_lexer": "ipython2",
   "version": "2.7.6"
  }
 },
 "nbformat": 4,
 "nbformat_minor": 5
}
